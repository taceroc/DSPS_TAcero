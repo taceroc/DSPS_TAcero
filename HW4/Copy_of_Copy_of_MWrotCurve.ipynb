{
  "nbformat": 4,
  "nbformat_minor": 0,
  "metadata": {
    "colab": {
      "name": "Copy of Copy of MWrotCurve.ipynb",
      "provenance": [],
      "collapsed_sections": [],
      "include_colab_link": true
    },
    "kernelspec": {
      "display_name": "Python 3",
      "language": "python",
      "name": "python3"
    },
    "language_info": {
      "codemirror_mode": {
        "name": "ipython",
        "version": 3
      },
      "file_extension": ".py",
      "mimetype": "text/x-python",
      "name": "python",
      "nbconvert_exporter": "python",
      "pygments_lexer": "ipython3",
      "version": "3.6.7"
    },
    "nbTranslate": {
      "displayLangs": [
        "*"
      ],
      "hotkey": "alt-t",
      "langInMainMenu": true,
      "sourceLang": "en",
      "targetLang": "fr",
      "useGoogleTranslate": true
    },
    "toc": {
      "base_numbering": 1,
      "colors": {
        "hover_highlight": "#DAA520",
        "running_highlight": "#FF0000",
        "selected_highlight": "#FFD700"
      },
      "moveMenuLeft": true,
      "nav_menu": {},
      "navigate_menu": true,
      "number_sections": true,
      "sideBar": true,
      "skip_h1_title": false,
      "threshold": 4,
      "title_cell": "Table of Contents",
      "title_sidebar": "Contents",
      "toc_cell": false,
      "toc_position": {
        "height": "calc(100% - 180px)",
        "left": "10px",
        "top": "150px",
        "width": "165px"
      },
      "toc_section_display": true,
      "toc_window_display": true
    }
  },
  "cells": [
    {
      "cell_type": "markdown",
      "metadata": {
        "id": "view-in-github",
        "colab_type": "text"
      },
      "source": [
        "<a href=\"https://colab.research.google.com/github/taceroc/DSPS_TAcero/blob/main/HW4/Copy_of_Copy_of_MWrotCurve.ipynb\" target=\"_parent\"><img src=\"https://colab.research.google.com/assets/colab-badge.svg\" alt=\"Open In Colab\"/></a>"
      ]
    },
    {
      "cell_type": "markdown",
      "metadata": {
        "id": "rxa6Xa3jOdCI",
        "run_control": {
          "frozen": false,
          "read_only": false
        }
      },
      "source": [
        "prepared by federica b bianco @fedhere\n",
        "for UDel DSPS PHYS 467/667\n",
        "\n",
        "# testing the significance of Dark Matter"
      ]
    },
    {
      "cell_type": "code",
      "metadata": {
        "ExecuteTime": {
          "end_time": "2019-09-16T17:54:57.244596Z",
          "start_time": "2019-09-16T17:54:57.231090Z"
        },
        "colab": {
          "base_uri": "https://localhost:8080/"
        },
        "id": "Ya2RaOGbOdCJ",
        "run_control": {
          "frozen": false,
          "read_only": false
        },
        "outputId": "5031053f-c397-4c68-a8b7-0d55be4ce653"
      },
      "source": [
        "import pandas as pd\n",
        "import numpy as np\n",
        "import pylab as pl\n",
        "import matplotlib.pyplot as plt\n",
        "\n",
        "\n",
        "#package I will use for constants and units conversion \n",
        "import astropy\n",
        "from astropy import units as u\n",
        "\n",
        "%pylab inline"
      ],
      "execution_count": 1,
      "outputs": [
        {
          "output_type": "stream",
          "name": "stdout",
          "text": [
            "Populating the interactive namespace from numpy and matplotlib\n"
          ]
        }
      ]
    },
    {
      "cell_type": "markdown",
      "metadata": {
        "id": "4qp8A2TG1Gwb",
        "run_control": {
          "frozen": false,
          "read_only": false
        }
      },
      "source": [
        "In 1970 Vera Rubin published a seminal paper: she measured the rotational speed of HII regions in several galaxies and how it changed as a function of distance to the center of the galaxy. If we believe Newtonian gravity (or GR) we expect that _once all of the mass is included_, i.e. at a radius distance from the center of the galaxy larger than the radius of the galaxy itself, the rotational speed will be proportional to $v\\propto\\frac{1}/{r}$"
      ]
    },
    {
      "cell_type": "markdown",
      "metadata": {
        "id": "j-BDrNseOdCR",
        "run_control": {
          "frozen": false,
          "read_only": false
        }
      },
      "source": [
        "## Propagation of  uncertainties rules\n",
        "\n",
        "below are the basic rules for propagation of uncertainties - use [this as reference](https://github.com/fedhere/DSPS/blob/master/resources/Managing%20Errors%20and%20Uncertainty.pdf)"
      ]
    },
    {
      "cell_type": "markdown",
      "metadata": {
        "id": "iCrFipBzOzqp",
        "run_control": {
          "frozen": false,
          "read_only": false
        }
      },
      "source": [
        "\n",
        "\n",
        "\n",
        "$$\n",
        "\\begin{eqnarray}\n",
        "z = x  \\pm y  ~| & ~  &dz = \\sqrt{dx^2 + dy^2} \n",
        "\\\\\n",
        "z = x * y  ~| & ~& dz = |xy|  \\sqrt{\\left(\\frac{dx}{x}\\right)^2 + \n",
        "                                \\left(\\frac{dy}{y}\\right)^2} \\\\\n",
        "z = x / y  ~| & ~& dz = \\left|\\frac{x}{y}\\right| \\sqrt{\\left(\\frac{dx}{x}\\right)^2 + \n",
        "                                                   \\left(\\frac{dy}{y}\\right)^2} \\\\\n",
        "z = x^n ~| & ~& dz = |n| ~ x^{n-1}  dx \\\\\n",
        "z = \\mathrm{c}x ~| & ~& dz = |\\mathrm{c}| ~dx \\\\\n",
        "z = f(x, y) ~| & ~& dz = \\sqrt{\\left(\\frac{\\partial f}{\\partial x}\\right)^2 dx^2 +\\left(\\frac{\\partial f}{\\partial y}\\right)^2 dy^2} \\\\\n",
        "\\end{eqnarray}\n",
        "$$\n"
      ]
    },
    {
      "cell_type": "markdown",
      "metadata": {
        "id": "WcF0zlWCOdCX",
        "run_control": {
          "frozen": false,
          "read_only": false
        }
      },
      "source": [
        "# let's assume a Newtonian framework: \n",
        "the velocity of a body in orbit depends only on the gravitational field of the mass that attracts it, and we can assume that mass is concentrated in the center of mass of (the center for simplicity) the system\n",
        "\n",
        "with G the gravitational constant, $r$ the radius, and $m(r)$ the mass contained within that radius we have the orbital velocity $v$:\n"
      ]
    },
    {
      "cell_type": "markdown",
      "metadata": {
        "id": "ZON0DKl5Qm2S",
        "run_control": {
          "frozen": false,
          "read_only": false
        }
      },
      "source": [
        "\n",
        "$v^2 = \\frac{G \\cdot m(r)}{r}$\n"
      ]
    },
    {
      "cell_type": "markdown",
      "metadata": {
        "id": "lVfy9lJ21xMT",
        "run_control": {
          "frozen": false,
          "read_only": false
        }
      },
      "source": [
        "Derive this $v^2\\propto\\frac{1}{r}$ from Newton's law $F~=~\\frac{GMm}{r^2}$. Write each formula and describe each step. You can use latex (you really just need to know ```\\frac{}``` and ```^```) and this reference\n",
        "https://www.physicsclassroom.com/calcpad/circgrav"
      ]
    },
    {
      "cell_type": "markdown",
      "metadata": {
        "id": "HEB7hQojuAQt",
        "run_control": {
          "frozen": false,
          "read_only": false
        }
      },
      "source": [
        "For bodies in orbit around a central source (like the Sun or the Earth), there is a equilibrium between the gravitational force (push the body to the central source) and the centrifugal force (due to the velocity of the body).\n",
        "\n",
        "\\begin{align}\n",
        "  |F_N| &= |F_c|\\\\\n",
        "  \\frac{GMm}{r^2} &= \\frac{mv^2}{r}\\\\\n",
        "  \\frac{GM}{r} &= v^2\n",
        "\\end{align}"
      ]
    },
    {
      "cell_type": "markdown",
      "metadata": {
        "id": "KQAEJtWuOdCb",
        "run_control": {
          "frozen": false,
          "read_only": false
        }
      },
      "source": [
        "\n",
        "## M31 rotational curve"
      ]
    },
    {
      "cell_type": "markdown",
      "metadata": {
        "ExecuteTime": {
          "end_time": "2019-08-02T01:34:15.029084Z",
          "start_time": "2019-08-02T01:34:15.026604Z"
        },
        "id": "BTaXzFYeOdCc",
        "run_control": {
          "frozen": false,
          "read_only": false
        }
      },
      "source": [
        "# Galaxy Rotational Curves\n",
        "The data comes from [SOFUE 2015](http://www.ioa.s.u-tokyo.ac.jp/~sofue/htdocs/2015m31/2015-pasj-M31MW-DH.pdf)\n",
        "The data are plotted in Figure 3 and 4 for M31 and the Milky Way respectively, and hosted on [this website](http://www.ioa.s.u-tokyo.ac.jp/~sofue/htdocs/2015m31/)\n",
        "As described in the paper: \n",
        "Long and short bars represent modified standard deviations and errors, respectively\n",
        "\n",
        "#### Please read the last paragraphs of Section 2.1 of the paper to understand the meaning of these uncertainties:\n",
        "\n",
        "![figures](https://github.com/fedhere/DSPS_FBianco/blob/master/HW4/figures.png?raw=1)\n",
        "\n"
      ]
    },
    {
      "cell_type": "markdown",
      "metadata": {
        "ExecuteTime": {
          "end_time": "2019-09-22T00:10:02.465470Z",
          "start_time": "2019-09-22T00:10:02.455255Z"
        },
        "run_control": {
          "frozen": false,
          "read_only": false
        },
        "id": "9lhiXe8Oyj37"
      },
      "source": [
        "\n",
        "\n",
        "![text](https://github.com/fedhere/DSPS_FBianco/blob/master/HW4/text.png?raw=1)\n",
        "\n",
        "### data ingestion\n",
        "Get the data from the github repository https://github.com/fedhere/DSPS/tree/master/HW4 : there are 2 files: mw.csv and m31.csv. Start with M31, the Andromeda galaxy, Vera Rubin's original target."
      ]
    },
    {
      "cell_type": "markdown",
      "metadata": {
        "id": "_iFrkUYEV1SS",
        "run_control": {
          "frozen": false,
          "read_only": false
        }
      },
      "source": [
        "Note that the data contains 2 types of uncertainties: one significantly smaller than the other. The ```dv``` uncertainty is the propagation of the uncertainty in the location of the HII line. The uncertainty called ```err``` if the full error budget:  including _all_ sources of uncertainty and not just the uncertainty in measuring the location of the line. Retain both, you will test your hypothesis with each one to see if it matters which uncertainty you choose"
      ]
    },
    {
      "cell_type": "code",
      "metadata": {
        "colab": {
          "base_uri": "https://localhost:8080/",
          "height": 206
        },
        "id": "luL5UrsNQ1M1",
        "run_control": {
          "frozen": false,
          "read_only": false
        },
        "outputId": "5b75674b-c5f9-4c67-b613-bd4b14c6cb4f"
      },
      "source": [
        "m31 = pd.read_csv(\"https://github.com/fedhere/DSPS_FBianco/raw/master/HW4/m31.csv\", header = 1)\n",
        "m31.rename(columns = {\"#R(kpc\":\"r(kpc)\",\"V(km/s)\": \"v(km/s)\", \"St.dev.\": \"dv\", \"St.error\": \"err\"}, inplace = True)\n",
        "m31.head()"
      ],
      "execution_count": 2,
      "outputs": [
        {
          "output_type": "execute_result",
          "data": {
            "text/html": [
              "<div>\n",
              "<style scoped>\n",
              "    .dataframe tbody tr th:only-of-type {\n",
              "        vertical-align: middle;\n",
              "    }\n",
              "\n",
              "    .dataframe tbody tr th {\n",
              "        vertical-align: top;\n",
              "    }\n",
              "\n",
              "    .dataframe thead th {\n",
              "        text-align: right;\n",
              "    }\n",
              "</style>\n",
              "<table border=\"1\" class=\"dataframe\">\n",
              "  <thead>\n",
              "    <tr style=\"text-align: right;\">\n",
              "      <th></th>\n",
              "      <th>r(kpc)</th>\n",
              "      <th>v(km/s)</th>\n",
              "      <th>dv</th>\n",
              "      <th>err</th>\n",
              "    </tr>\n",
              "  </thead>\n",
              "  <tbody>\n",
              "    <tr>\n",
              "      <th>0</th>\n",
              "      <td>0.100</td>\n",
              "      <td>183.939</td>\n",
              "      <td>0.000</td>\n",
              "      <td>0.000</td>\n",
              "    </tr>\n",
              "    <tr>\n",
              "      <th>1</th>\n",
              "      <td>0.120</td>\n",
              "      <td>190.710</td>\n",
              "      <td>10.265</td>\n",
              "      <td>12.191</td>\n",
              "    </tr>\n",
              "    <tr>\n",
              "      <th>2</th>\n",
              "      <td>0.144</td>\n",
              "      <td>204.141</td>\n",
              "      <td>22.634</td>\n",
              "      <td>21.808</td>\n",
              "    </tr>\n",
              "    <tr>\n",
              "      <th>3</th>\n",
              "      <td>0.173</td>\n",
              "      <td>207.601</td>\n",
              "      <td>4.573</td>\n",
              "      <td>4.200</td>\n",
              "    </tr>\n",
              "    <tr>\n",
              "      <th>4</th>\n",
              "      <td>0.207</td>\n",
              "      <td>210.188</td>\n",
              "      <td>3.943</td>\n",
              "      <td>3.258</td>\n",
              "    </tr>\n",
              "  </tbody>\n",
              "</table>\n",
              "</div>"
            ],
            "text/plain": [
              "   r(kpc)  v(km/s)      dv     err\n",
              "0   0.100  183.939   0.000   0.000\n",
              "1   0.120  190.710  10.265  12.191\n",
              "2   0.144  204.141  22.634  21.808\n",
              "3   0.173  207.601   4.573   4.200\n",
              "4   0.207  210.188   3.943   3.258"
            ]
          },
          "metadata": {},
          "execution_count": 2
        }
      ]
    },
    {
      "cell_type": "code",
      "metadata": {
        "colab": {
          "base_uri": "https://localhost:8080/",
          "height": 300
        },
        "id": "mOgeMfh_6yZl",
        "outputId": "f10d76c3-6cd9-482d-bf2c-7008ad458bbc"
      },
      "source": [
        "m31.describe()"
      ],
      "execution_count": 3,
      "outputs": [
        {
          "output_type": "execute_result",
          "data": {
            "text/html": [
              "<div>\n",
              "<style scoped>\n",
              "    .dataframe tbody tr th:only-of-type {\n",
              "        vertical-align: middle;\n",
              "    }\n",
              "\n",
              "    .dataframe tbody tr th {\n",
              "        vertical-align: top;\n",
              "    }\n",
              "\n",
              "    .dataframe thead th {\n",
              "        text-align: right;\n",
              "    }\n",
              "</style>\n",
              "<table border=\"1\" class=\"dataframe\">\n",
              "  <thead>\n",
              "    <tr style=\"text-align: right;\">\n",
              "      <th></th>\n",
              "      <th>r(kpc)</th>\n",
              "      <th>v(km/s)</th>\n",
              "      <th>dv</th>\n",
              "      <th>err</th>\n",
              "    </tr>\n",
              "  </thead>\n",
              "  <tbody>\n",
              "    <tr>\n",
              "      <th>count</th>\n",
              "      <td>55.000000</td>\n",
              "      <td>55.000000</td>\n",
              "      <td>55.000000</td>\n",
              "      <td>55.000000</td>\n",
              "    </tr>\n",
              "    <tr>\n",
              "      <th>mean</th>\n",
              "      <td>205.853182</td>\n",
              "      <td>226.079255</td>\n",
              "      <td>55.034818</td>\n",
              "      <td>16.165855</td>\n",
              "    </tr>\n",
              "    <tr>\n",
              "      <th>std</th>\n",
              "      <td>415.523904</td>\n",
              "      <td>42.799892</td>\n",
              "      <td>49.254792</td>\n",
              "      <td>14.876951</td>\n",
              "    </tr>\n",
              "    <tr>\n",
              "      <th>min</th>\n",
              "      <td>0.100000</td>\n",
              "      <td>121.974000</td>\n",
              "      <td>0.000000</td>\n",
              "      <td>0.000000</td>\n",
              "    </tr>\n",
              "    <tr>\n",
              "      <th>25%</th>\n",
              "      <td>1.177000</td>\n",
              "      <td>208.894500</td>\n",
              "      <td>11.945500</td>\n",
              "      <td>3.224000</td>\n",
              "    </tr>\n",
              "    <tr>\n",
              "      <th>50%</th>\n",
              "      <td>13.737000</td>\n",
              "      <td>229.124000</td>\n",
              "      <td>30.697000</td>\n",
              "      <td>12.065000</td>\n",
              "    </tr>\n",
              "    <tr>\n",
              "      <th>75%</th>\n",
              "      <td>161.675000</td>\n",
              "      <td>244.102500</td>\n",
              "      <td>99.980000</td>\n",
              "      <td>23.641000</td>\n",
              "    </tr>\n",
              "    <tr>\n",
              "      <th>max</th>\n",
              "      <td>1887.071000</td>\n",
              "      <td>414.942000</td>\n",
              "      <td>147.835000</td>\n",
              "      <td>54.110000</td>\n",
              "    </tr>\n",
              "  </tbody>\n",
              "</table>\n",
              "</div>"
            ],
            "text/plain": [
              "            r(kpc)     v(km/s)          dv        err\n",
              "count    55.000000   55.000000   55.000000  55.000000\n",
              "mean    205.853182  226.079255   55.034818  16.165855\n",
              "std     415.523904   42.799892   49.254792  14.876951\n",
              "min       0.100000  121.974000    0.000000   0.000000\n",
              "25%       1.177000  208.894500   11.945500   3.224000\n",
              "50%      13.737000  229.124000   30.697000  12.065000\n",
              "75%     161.675000  244.102500   99.980000  23.641000\n",
              "max    1887.071000  414.942000  147.835000  54.110000"
            ]
          },
          "metadata": {},
          "execution_count": 3
        }
      ]
    },
    {
      "cell_type": "markdown",
      "metadata": {
        "id": "Vv0Ut6vOOdCk",
        "run_control": {
          "frozen": false,
          "read_only": false
        }
      },
      "source": [
        "from https://en.wikipedia.org/wiki/Andromeda_Galaxy get the extent of the luminous component of M31 (Andromeda). The distance of the Galaxy multiplied by the angular size will give you this information from basic trigonometry (make sure you convert the units properly, using astropy). Make sure you include the uncertainties! uncertainties in the distance will give you the uncertainty in the size\n",
        "   \n",
        " "
      ]
    },
    {
      "cell_type": "code",
      "metadata": {
        "colab": {
          "base_uri": "https://localhost:8080/"
        },
        "id": "_bd2zDuT9jpr",
        "outputId": "4afcd44a-d5dd-4468-960e-356a50a5a304"
      },
      "source": [
        "# apparentSizeM31 = 67450  / 1000 #kpc\n",
        "# dapparentSizeM31 = 920 / 1000 #kpc\n",
        "apparentSizeM31 = ((3.167 * 1) * u.degree)\n",
        "print(\"Angular Size of the visible component of Andromeda: {:.5f}\".format(apparentSizeM31.to(u.rad)  ))"
      ],
      "execution_count": 4,
      "outputs": [
        {
          "output_type": "stream",
          "name": "stdout",
          "text": [
            "Angular Size of the visible component of Andromeda: 0.05527 rad\n"
          ]
        }
      ]
    },
    {
      "cell_type": "markdown",
      "metadata": {
        "id": "cOw0Y4KNWTOZ",
        "run_control": {
          "frozen": false,
          "read_only": false
        }
      },
      "source": [
        "Please make sure you print a sensible number of decimal digits! you have a  number of significant digits set by the number of digit in the info you get from wikipedia"
      ]
    },
    {
      "cell_type": "markdown",
      "metadata": {
        "id": "hF2wXZ988QgS",
        "run_control": {
          "frozen": false,
          "read_only": false
        }
      },
      "source": [
        "The distance, from Wikipedia, will have an uncertainty. Convert both to kiloparsecs Kpc"
      ]
    },
    {
      "cell_type": "code",
      "metadata": {
        "ExecuteTime": {
          "end_time": "2019-08-02T01:35:42.257553Z",
          "start_time": "2019-08-02T01:35:42.254539Z"
        },
        "id": "7-nEP6KrOdCo",
        "run_control": {
          "frozen": false,
          "read_only": false
        }
      },
      "source": [
        "# -- diameter\n",
        "distanceM31 = (1.606E11 * u.au).to(u.pc).value / 1000 #kpc\n",
        "ddistanceM31 = (1.0E9 * u.au).to(u.pc).value  /1000 #kpc"
      ],
      "execution_count": 5,
      "outputs": []
    },
    {
      "cell_type": "code",
      "metadata": {
        "ExecuteTime": {
          "end_time": "2019-08-02T01:35:42.815232Z",
          "start_time": "2019-08-02T01:35:42.810316Z"
        },
        "colab": {
          "base_uri": "https://localhost:8080/"
        },
        "id": "0y_V9AuFOdCv",
        "run_control": {
          "frozen": false,
          "read_only": false
        },
        "outputId": "c908cfee-7545-4cda-ced5-4db630abc77c"
      },
      "source": [
        "print('Size of the visible component of Andromeda: {:.2f} \\pm {:.2f} kpc'.format(distanceM31,ddistanceM31 ) )"
      ],
      "execution_count": 6,
      "outputs": [
        {
          "output_type": "stream",
          "name": "stdout",
          "text": [
            "Size of the visible component of Andromeda: 778.61 \\pm 4.85 kpc\n"
          ]
        }
      ]
    },
    {
      "cell_type": "markdown",
      "metadata": {
        "id": "_pTXgdTL8jv6",
        "run_control": {
          "frozen": false,
          "read_only": false
        }
      },
      "source": [
        "Print the distance like I printed the angular size. \n",
        "\n",
        "To get the physical size of the visible component of andtomeda you can use simple trigonometry: $y = r * sin(\\alpha) ~ \\sim ~ r \\alpha $ for small angles \n",
        "\n",
        "\n",
        "Print the physical size of the Andromeda galaxy (remember decimal digits, proper formatting etc etc). \n"
      ]
    },
    {
      "cell_type": "code",
      "metadata": {
        "colab": {
          "base_uri": "https://localhost:8080/"
        },
        "id": "u9hU-judAddr",
        "outputId": "3f5adfaf-8594-4c47-88fa-ce084d8eebbf"
      },
      "source": [
        "physicalsize = distanceM31 * np.sin(apparentSizeM31.to(u.rad))\n",
        "dphysicalsize = ddistanceM31 * np.sin(apparentSizeM31.to(u.rad))\n",
        "\n",
        "print(r\"Physical size of the visible component of Andromeda: {:.2f} \\pm {:.2f} kpc\".format(physicalsize,dphysicalsize ) )"
      ],
      "execution_count": 7,
      "outputs": [
        {
          "output_type": "stream",
          "name": "stdout",
          "text": [
            "Physical size of the visible component of Andromeda: 43.02 \\pm 0.27 kpc\n"
          ]
        }
      ]
    },
    {
      "cell_type": "markdown",
      "metadata": {
        "id": "97o52hRhOdCy",
        "run_control": {
          "frozen": false,
          "read_only": false
        }
      },
      "source": [
        "### find the first measurement  in your data table that includes all the luminous mass. \n",
        "\n",
        "What is the smallest radius in your data where the luminous mass is completely included and what is the veolcity at that radius?\n",
        "You can do it by broadcasting (see homework 3)"
      ]
    },
    {
      "cell_type": "markdown",
      "metadata": {
        "id": "TVWiU84XOdDA",
        "run_control": {
          "frozen": false,
          "read_only": false
        }
      },
      "source": [
        "We expect the velocity to decrease as 1/r if all mass is included: the velocity at a radius twice as far as the radius that includes all the mass should be a factor 2 slower, three times as far a factor 3 slower. "
      ]
    },
    {
      "cell_type": "markdown",
      "metadata": {
        "id": "b096Ax33SiXl",
        "run_control": {
          "frozen": false,
          "read_only": false
        }
      },
      "source": [
        "write a function that \n",
        "\n",
        "1. finds the smallest radius in the dataset that is at least N times the radius of the visible galaxy, \n",
        "\n",
        "2. takes as arguments:\n",
        "    - the data and \n",
        "    - N \n",
        "    - the size of the luminous component of the galaxy\n",
        " \n",
        "2. Returns the value of the radius and its uncertainty and the velocity and its uncertainty"
      ]
    },
    {
      "cell_type": "code",
      "metadata": {
        "ExecuteTime": {
          "end_time": "2019-08-02T02:07:26.053511Z",
          "start_time": "2019-08-02T02:07:26.046677Z"
        },
        "id": "-_O34Bb7OdC2",
        "run_control": {
          "frozen": false,
          "read_only": false
        }
      },
      "source": [
        "def getradii(gal, gsize, n):\n",
        "  '''\n",
        "    gal: dataframe with 4 columns with the data of velocity and radii of the galaxy\n",
        "    gsize: the diameter\n",
        "    n: number of radius\n",
        "\n",
        "    return:\n",
        "      radii in kpc, uncertainity of r, velocity in km/s, err and dv\n",
        "  '''\n",
        "  # -- two times the radii\n",
        "  rx2 = gal[(gal[\"r(kpc)\"] >= gsize[0])].iloc[0]\n",
        "  # -- the radii\n",
        "  r = gal[(gal[\"r(kpc)\"] <= rx2[\"r(kpc)\"]/2)].iloc[-1]\n",
        "  # -- n times the radii\n",
        "  rx3 = gal[(gal[\"r(kpc)\"] <= n*rx2[\"r(kpc)\"]/2)].iloc[-1]\n",
        "\n",
        "  if n == 1:\n",
        "    return r[\"r(kpc)\"], gsize[1]/2, r[\"v(km/s)\"], r[\"err\"], r[\"dv\"]\n",
        "  if n == 2:\n",
        "    return rx2[\"r(kpc)\"], gsize[1], rx2[\"v(km/s)\"], rx2[\"err\"], rx2[\"dv\"]\n",
        "  else:\n",
        "    return rx3[\"r(kpc)\"], gsize[1]*n/2, rx3[\"v(km/s)\"], rx3[\"err\"], rx3[\"dv\"]\n",
        "\n",
        "  #   index = np.argmin(gal[\"r(kpc)\"].to_numpy())\n",
        "  # return gal[\"r(kpc)\"].min(), gal.iloc[index][\"err\"], gal.iloc[index][\"v(km/s)\"], gal.iloc[index][\"dv\"]\n",
        "# -- uncertainity of the radius ?"
      ],
      "execution_count": 8,
      "outputs": []
    },
    {
      "cell_type": "code",
      "metadata": {
        "id": "NQSTrZZOTUWx"
      },
      "source": [
        "results_ = getradii(m31, [physicalsize, dphysicalsize], 3)"
      ],
      "execution_count": 9,
      "outputs": []
    },
    {
      "cell_type": "code",
      "metadata": {
        "colab": {
          "base_uri": "https://localhost:8080/"
        },
        "id": "W-PvPRfnHsqW",
        "outputId": "4bff5f93-f8b6-4b83-db6f-2fe52462cc7b"
      },
      "source": [
        "print(\"r = {:.3f}  \\pm {:.3f} kpc \\nv = {:.3f} \\pm dv = {:.3f} err = {:.3f} km/s\".format(results_[0],results_[1], results_[2],results_[3],results_[4]))"
      ],
      "execution_count": 10,
      "outputs": [
        {
          "output_type": "stream",
          "name": "stdout",
          "text": [
            "r = 70.880  \\pm 0.402 kpc \n",
            "v = 218.489 \\pm dv = 24.657 err = 132.355 km/s\n"
          ]
        }
      ]
    },
    {
      "cell_type": "markdown",
      "metadata": {
        "ExecuteTime": {
          "end_time": "2019-08-01T18:13:58.231637Z",
          "start_time": "2019-08-01T18:13:58.229447Z"
        },
        "id": "ogu_iquzOdC5",
        "run_control": {
          "frozen": false,
          "read_only": false
        }
      },
      "source": [
        "### data visualization"
      ]
    },
    {
      "cell_type": "markdown",
      "metadata": {
        "id": "kJ6MujVJUyel",
        "run_control": {
          "frozen": false,
          "read_only": false
        }
      },
      "source": [
        "make a plot that shows\n",
        "\n",
        "1. the rotational curve of the galaxy (as a line)\n",
        "\n",
        "2. each velocity as an errorbar with error equal to err in the same color as the line in 1\n",
        "\n",
        "3. each velocity as an errorbar with error equal to dv in  the same color but a different line thickness\n",
        "\n",
        "\n",
        "4. the datapoint corresponding to N=1, 2, 3 each in a different color. \n",
        "\n",
        "5. add a legend that indicates the meaning of each color (```pl.legend()```)\n",
        "\n",
        "6. add a text that indicates the velocity and its uncertainty (dv and err) just below the largest errorbar (```pl.text()```)\n",
        "\n",
        "7. limit the x axis to the \"relevant\" portion of the data"
      ]
    },
    {
      "cell_type": "code",
      "metadata": {
        "id": "iRESUa2EW-sp"
      },
      "source": [
        "def plotGal(gal, rds):\n",
        "  '''\n",
        "    gal: dataframe with 4 columns with the data of velocity and radii of the galaxy\n",
        "    rds: radii, take into account that function getradii has the diameter parameter and not radii\n",
        "\n",
        "    return:\n",
        "      A plot of v vs r with error bars, marking the respective radii for N =1,2,3\n",
        "  '''\n",
        "  plt.errorbar(gal[\"r(kpc)\"], gal[\"v(km/s)\"], gal[\"dv\"], label = \"v\", color = \"blue\", alpha = 0.5)\n",
        "  plt.errorbar(gal[\"r(kpc)\"], gal[\"v(km/s)\"], gal[\"err\"], elinewidth=4, color = \"blue\", alpha = 0.5)\n",
        "  plt.errorbar(getradii(gal, rds*2, 1)[0], getradii(gal, rds*2, 1)[2], getradii(gal, rds*2, 1)[4], \n",
        "              color=\"red\", label = \"r\")\n",
        "  plt.errorbar(getradii(gal, rds*2, 2)[0], getradii(gal, rds*2, 2)[2], getradii(gal, rds*2, 2)[4], \n",
        "              color=\"purple\", label = \"2xr\")\n",
        "  plt.errorbar(getradii(gal, rds*2, 3)[0], getradii(gal, rds*2, 3)[2], getradii(gal, rds*2, 3)[4], \n",
        "              color=\"green\", label = \"3xr\")\n",
        "  plt.text(getradii(gal, rds*2, 1)[0], getradii(gal, rds*2, 1)[2] - 4*getradii(gal, rds*2, 1)[4], \"{:.1f}\\n({:.1f}, {:.1f})\".format(getradii(gal, rds*2, 1)[2],\n",
        "                                                                                          getradii(gal, rds*2, 1)[4],getradii(gal, rds*2, 1)[3]),horizontalalignment='center',verticalalignment='center')\n",
        "  plt.text(getradii(gal, rds*2, 2)[0], getradii(gal, rds*2, 2)[2] - 1.3*getradii(gal, rds*2, 2)[4], \"{:.1f}\\n({:.1f}, {:.1f})\".format(getradii(gal, rds*2, 2)[2],\n",
        "                                                                                          getradii(gal, rds*2, 2)[4],getradii(gal, rds*2, 2)[3]),horizontalalignment='center',verticalalignment='center')\n",
        "\n",
        "  plt.text(getradii(gal, rds*2, 3)[0], getradii(gal, rds*2, 3)[2] - 1.2*getradii(gal, rds*2, 3)[4], \"{:.1f}\\n({:.1f}, {:.1f})\".format(getradii(gal, rds*2, 3)[2],\n",
        "                                                                                          getradii(gal, rds*2, 3)[4],getradii(gal, rds*2, 3)[3]),horizontalalignment='center',verticalalignment='center')\n",
        "\n",
        "  plt.xlim(0,85)\n",
        "  plt.xlabel(\"r(kpc)\")\n",
        "  plt.ylabel(\"v(km/s)\")\n",
        "  plt.legend()"
      ],
      "execution_count": 11,
      "outputs": []
    },
    {
      "cell_type": "code",
      "metadata": {
        "ExecuteTime": {
          "end_time": "2019-08-02T03:01:27.556063Z",
          "start_time": "2019-08-02T03:01:27.302184Z"
        },
        "colab": {
          "base_uri": "https://localhost:8080/",
          "height": 280
        },
        "id": "7IMXYY8BOdC6",
        "run_control": {
          "frozen": false,
          "read_only": false
        },
        "outputId": "b7b13443-d2c6-418e-9cbc-0c0dff0663cd"
      },
      "source": [
        "plotGal(m31, np.array([physicalsize/2,dphysicalsize/2]) )"
      ],
      "execution_count": 12,
      "outputs": [
        {
          "output_type": "display_data",
          "data": {
            "image/png": "[encoded data removed]",
            "text/plain": [
              "<Figure size 432x288 with 1 Axes>"
            ]
          },
          "metadata": {
            "needs_background": "light"
          }
        }
      ]
    },
    {
      "cell_type": "markdown",
      "metadata": {
        "id": "2jPYbOYbV2hC"
      },
      "source": [
        "### **Figure**: Velocity of the galaxy in km/s vs the distance from the center of the galaxy. With their respective error bars. The red vertical line indicates the radius of the visible galaxy, purple is 2 times that radius and green 3 times. Below every line is the velocity and the errors."
      ]
    },
    {
      "cell_type": "markdown",
      "metadata": {
        "id": "bIbv3YrhTo0X",
        "run_control": {
          "frozen": false,
          "read_only": false
        }
      },
      "source": [
        "Write a function that for a given dataset and a given luminous radius and a given N \n",
        "  \n",
        "  1) uses the function above to find the radius at least as large as needed and the velocity at that radius, \n",
        "  \n",
        "  2) states the expected drop in rotational velocities according to Newton's law $v^2\\propto 1/r$\n",
        "  \n",
        "  3) calculates the ratio of radii and the ratio of velocities at N radii from the center N=1 and N=N (input, e.g. 2, 3 etc) with uncertainties, \n",
        "  \n",
        "  4) and stated whether that ratio is consistent within the uncertainties with Newton's law $v^2 \\propto 1/r$\n",
        "  \n",
        "Your function should print \n",
        "\n",
        "     - the expected ratio based on the radii, \n",
        "     - the calculated ratio using ```dv```, and its uncertainty, - \n",
        "     - the 2-$\\sigma$ upper and lower limits of the calculated ratio\n",
        "     - whether the expected ratio is within the $2-\\sigma$ of the calculated ratio, \n",
        "  5) and the same using ```err```  instead of ```dv```"
      ]
    },
    {
      "cell_type": "markdown",
      "metadata": {
        "id": "RoIgoLmBKRGx"
      },
      "source": [
        "\\begin{align}\n",
        "&v^2 \\propto \\frac{1}{r}\\\\\n",
        "&v^2 = \\frac{A}{r}, \\text{A is a constant}.\n",
        "\\end{align}\n",
        "The ratio between a system denoted as 1 and another denoted 2:\n",
        "\\begin{align}\n",
        "&v_1^2 = \\frac{A}{r_1}; v_2^2 = \\frac{A}{r_2}\\\\\n",
        "&\\frac{r_1}{r_2} = \\frac{v_2^2}{v_1^2}\n",
        "\\end{align}"
      ]
    },
    {
      "cell_type": "markdown",
      "metadata": {
        "id": "EAurMDLehrmZ"
      },
      "source": [
        "The uncertainity for the ratio of the velocities square:\n",
        "\n",
        "\\begin{align}\n",
        "  dV = \\frac{v_1^2}{v_2^2} \\sqrt{\\left(\\frac{2v_1dv_1}{v_1^2}\\right) ^ 2 + \\left(\\frac{2v_2dv_2}{v_2^2}\\right) ^ 2} = \\frac{v_1^2}{v_2^2} \\sqrt{\\left(\\frac{2dv_1}{v_1}\\right) ^ 2 + \\left(\\frac{2dv_2}{v_2}\\right) ^ 2}\n",
        "\\end{align}"
      ]
    },
    {
      "cell_type": "code",
      "metadata": {
        "ExecuteTime": {
          "end_time": "2019-08-02T02:22:18.485172Z",
          "start_time": "2019-08-02T02:22:18.477807Z"
        },
        "id": "1hhTw8N4OdDB",
        "run_control": {
          "frozen": false,
          "read_only": false
        }
      },
      "source": [
        "def vratios(gal, rds, n, err='dv'):\n",
        "  '''\n",
        "    \n",
        "  '''\n",
        "  # -- dv corresponds to std\n",
        "  values_ = getradii(gal, rds*2, n)\n",
        "  # -- expected ratio using the radii\n",
        "  expected_r = getradii(gal, rds*2, 1)[0] / values_[0]\n",
        "  expected_dr = abs(getradii(gal, rds*2, 1)[0] / values_[0]) * np.sqrt( (getradii(gal, rds*2, 1)[1] / getradii(gal, rds*2, 1)[0])**2 + \n",
        "                                                                    (values_[1] / values_[0])**2 )\n",
        "  # -- observed ratio using the velocities\n",
        "  obs_v =  values_[2]**2 / getradii(gal, rds*2, 1)[2]**2\n",
        "  if err == 'dv':\n",
        "    err_n = 4\n",
        "    obs_dv = (values_[2]**2 / getradii(gal, rds*2, 1)[2]**2 ) * np.sqrt( ( 2*getradii(gal, rds*2, 1)[err_n] / getradii(gal, rds*2, 1)[2])**2 + \n",
        "                                                                    (2 * values_[err_n] / values_[2])**2 )\n",
        "  if err == 'err':\n",
        "    err_n = 3\n",
        "    obs_dv = (values_[2]**2 / getradii(gal, rds*2, 1)[2]**2 ) * np.sqrt( ( 2* getradii(gal, rds*2, 1)[err_n] / getradii(gal, rds*2, 1)[2])**2 + \n",
        "                                                                    (2 * values_[err_n] / values_[2])**2 )\n",
        "  twosigmaplus = obs_v + 2*obs_dv\n",
        "  twosigmaminu = obs_v - 2*obs_dv\n",
        "\n",
        "  if ((expected_r + expected_dr >=  twosigmaminu) & (expected_r + expected_dr <=  twosigmaplus)):\n",
        "    print(\"yes, the expected ratio is within the 2 sigma calculated ratio\")\n",
        "  else:\n",
        "    print(\"no, the expected ratio is not within the 2 sigma calculated ratio\")\n",
        "\n",
        "  return expected_r, expected_dr, obs_v, obs_dv, twosigmaplus, twosigmaminu\n",
        "\n"
      ],
      "execution_count": 32,
      "outputs": []
    },
    {
      "cell_type": "code",
      "metadata": {
        "colab": {
          "base_uri": "https://localhost:8080/"
        },
        "id": "M8dnTC_ZFAzb",
        "outputId": "07dc62c5-fbf0-4e29-9e3f-4178cd350ea3"
      },
      "source": [
        "m31_res = vratios(m31, np.array([physicalsize, dphysicalsize])/2, 3, err='dv')\n",
        "print(\"Expected ratio using radii = {:.3f} \\pm {:.3f}\\nCalculted ratio using velocities = {:.3f} \\pm {:.3f}\\n\\\n",
        "velo + 2sigma = {:.3f}\\nvelo - 2sigma = {:.3f}\\n\".format(m31_res[0], m31_res[1], m31_res[2], m31_res[3], m31_res[4], m31_res[5]))"
      ],
      "execution_count": 38,
      "outputs": [
        {
          "output_type": "stream",
          "name": "stdout",
          "text": [
            "yes, the expected ratio is within the 2 sigma calculated ratio\n",
            "Expected ratio using radii = 0.335 \\pm 0.003\n",
            "Calculted ratio using velocities = 0.853 \\pm 1.037\n",
            "velo + 2sigma = 2.928\n",
            "velo - 2sigma = -1.221\n",
            "\n"
          ]
        }
      ]
    },
    {
      "cell_type": "code",
      "metadata": {
        "colab": {
          "base_uri": "https://localhost:8080/"
        },
        "id": "w0HbUqYCYiEq",
        "outputId": "d2422647-8eb4-4d2a-9971-bd14aaf33951"
      },
      "source": [
        "m31_res = vratios(m31, np.array([physicalsize, dphysicalsize])/2, 3, err='err')\n",
        "print(\"Expected ratio using radii = {:.3f} \\pm {:.3f}\\nCalculted ratio using velocities = {:.3f} \\pm {:.3f}\\n\\\n",
        "velo + 2sigma = {:.3f}\\nvelo - 2sigma = {:.3f}\\n\".format(m31_res[0], m31_res[1], m31_res[2], m31_res[3], m31_res[4], m31_res[5]))"
      ],
      "execution_count": 36,
      "outputs": [
        {
          "output_type": "stream",
          "name": "stdout",
          "text": [
            "no, the expected ratio is not within the 2 sigma calculated ratio\n",
            "Expected ratio using radii = 0.335 \\pm 0.003\n",
            "Calculted ratio using velocities = 0.853 \\pm 0.193\n",
            "velo + 2sigma = 1.239\n",
            "velo - 2sigma = 0.467\n",
            "\n"
          ]
        }
      ]
    },
    {
      "cell_type": "markdown",
      "metadata": {
        "ExecuteTime": {
          "end_time": "2019-08-02T00:36:41.637045Z",
          "start_time": "2019-08-02T00:36:41.634825Z"
        },
        "id": "6me5k4c1OdDY",
        "run_control": {
          "frozen": false,
          "read_only": false
        }
      },
      "source": [
        "### Discuss!"
      ]
    },
    {
      "cell_type": "markdown",
      "metadata": {
        "id": "ZFYnRO0WhDw8"
      },
      "source": [
        "Something is off because the uncertainity for 'dv' is greater than the value itself! for greater Ns, but I not sure because 'dv' is very a large uncertainity and the propagation due to the mathematical operations (the ratio) increaze even more the number."
      ]
    },
    {
      "cell_type": "markdown",
      "metadata": {
        "id": "QIHRn8UlOdDZ",
        "run_control": {
          "frozen": false,
          "read_only": false
        }
      },
      "source": [
        "## do the same for the Milky Way. If your functions were create properly you should be able to reuse them seamlessly"
      ]
    },
    {
      "cell_type": "markdown",
      "metadata": {
        "id": "F-dgCTHlNQLu"
      },
      "source": [
        "# Milky way"
      ]
    },
    {
      "cell_type": "code",
      "metadata": {
        "id": "NVp9cJzv-Dic",
        "run_control": {
          "frozen": false,
          "read_only": false
        },
        "colab": {
          "base_uri": "https://localhost:8080/",
          "height": 206
        },
        "outputId": "39c73dc7-e531-4c1e-ded7-cc3214bf4a42"
      },
      "source": [
        "mw = pd.read_csv(\"https://github.com/fedhere/DSPS_FBianco/raw/master/HW4/mw.csv\", header = 1)\n",
        "mw.rename(columns = {\"R(kpc)\":\"r(kpc)\",\"V(km/s)\": \"v(km/s)\", \"St.dev.\": \"dv\", \"St.error\": \"err\"}, inplace = True)\n",
        "mw.head()"
      ],
      "execution_count": 39,
      "outputs": [
        {
          "output_type": "execute_result",
          "data": {
            "text/html": [
              "<div>\n",
              "<style scoped>\n",
              "    .dataframe tbody tr th:only-of-type {\n",
              "        vertical-align: middle;\n",
              "    }\n",
              "\n",
              "    .dataframe tbody tr th {\n",
              "        vertical-align: top;\n",
              "    }\n",
              "\n",
              "    .dataframe thead th {\n",
              "        text-align: right;\n",
              "    }\n",
              "</style>\n",
              "<table border=\"1\" class=\"dataframe\">\n",
              "  <thead>\n",
              "    <tr style=\"text-align: right;\">\n",
              "      <th></th>\n",
              "      <th>r(kpc)</th>\n",
              "      <th>v(km/s)</th>\n",
              "      <th>dv</th>\n",
              "      <th>err</th>\n",
              "    </tr>\n",
              "  </thead>\n",
              "  <tbody>\n",
              "    <tr>\n",
              "      <th>0</th>\n",
              "      <td>0.010</td>\n",
              "      <td>119.061</td>\n",
              "      <td>41.832</td>\n",
              "      <td>32.714</td>\n",
              "    </tr>\n",
              "    <tr>\n",
              "      <th>1</th>\n",
              "      <td>0.012</td>\n",
              "      <td>115.268</td>\n",
              "      <td>35.199</td>\n",
              "      <td>17.100</td>\n",
              "    </tr>\n",
              "    <tr>\n",
              "      <th>2</th>\n",
              "      <td>0.014</td>\n",
              "      <td>117.392</td>\n",
              "      <td>35.152</td>\n",
              "      <td>14.429</td>\n",
              "    </tr>\n",
              "    <tr>\n",
              "      <th>3</th>\n",
              "      <td>0.017</td>\n",
              "      <td>118.475</td>\n",
              "      <td>35.252</td>\n",
              "      <td>14.870</td>\n",
              "    </tr>\n",
              "    <tr>\n",
              "      <th>4</th>\n",
              "      <td>0.021</td>\n",
              "      <td>110.386</td>\n",
              "      <td>33.817</td>\n",
              "      <td>14.427</td>\n",
              "    </tr>\n",
              "  </tbody>\n",
              "</table>\n",
              "</div>"
            ],
            "text/plain": [
              "   r(kpc)  v(km/s)      dv     err\n",
              "0   0.010  119.061  41.832  32.714\n",
              "1   0.012  115.268  35.199  17.100\n",
              "2   0.014  117.392  35.152  14.429\n",
              "3   0.017  118.475  35.252  14.870\n",
              "4   0.021  110.386  33.817  14.427"
            ]
          },
          "metadata": {},
          "execution_count": 39
        }
      ]
    },
    {
      "cell_type": "code",
      "metadata": {
        "colab": {
          "base_uri": "https://localhost:8080/",
          "height": 38
        },
        "id": "9UjVXuWwPn1g",
        "outputId": "781f71f2-6e88-456f-fb60-f6aa257e75fc"
      },
      "source": [
        "distancemw1 = 7.86 #kpc\n",
        "distancemw2 = 8.32 #kpc\n",
        "\n",
        "distancemw = np.mean((distancemw1,distancemw2))\n",
        "ddistancemw = np.std((distancemw1,distancemw2))\n",
        "\n",
        "sizemw = 57 #+ 580  #kpc\n",
        "dsizemw = 5 #+ 120  #kpc\n",
        "\n",
        "angularsizemw = 2*np.arctan(sizemw/2*distancemw)\n",
        "\n",
        "angularsizemw = angularsizemw * u.rad\n",
        "angularsizemw"
      ],
      "execution_count": 72,
      "outputs": [
        {
          "output_type": "execute_result",
          "data": {
            "text/latex": "$3.1329184 \\; \\mathrm{rad}$",
            "text/plain": [
              "<Quantity 3.13291836 rad>"
            ]
          },
          "metadata": {},
          "execution_count": 72
        }
      ]
    },
    {
      "cell_type": "code",
      "metadata": {
        "id": "cnFoj704AcDQ",
        "colab": {
          "base_uri": "https://localhost:8080/"
        },
        "outputId": "84f88256-eeae-48ea-8e32-b82670bab527"
      },
      "source": [
        "print(\"Angular Size of the visible component of the Milky Way: {:.5f}\".format(angularsizemw ))"
      ],
      "execution_count": 89,
      "outputs": [
        {
          "output_type": "stream",
          "name": "stdout",
          "text": [
            "Angular Size of the visible component of the Milky Way: 3.13292 rad\n"
          ]
        }
      ]
    },
    {
      "cell_type": "code",
      "metadata": {
        "colab": {
          "base_uri": "https://localhost:8080/"
        },
        "id": "5aaNX2whR0yW",
        "outputId": "b5db5c56-dee5-40aa-a274-5c6a0024c431"
      },
      "source": [
        "print('Size of the visible component of the Milky Way: {:.2f} \\pm {:.2f} kpc'.format(sizemw,dsizemw ) )"
      ],
      "execution_count": 90,
      "outputs": [
        {
          "output_type": "stream",
          "name": "stdout",
          "text": [
            "Size of the visible component of the Milky Way: 57.00 \\pm 5.00 kpc\n"
          ]
        }
      ]
    },
    {
      "cell_type": "code",
      "metadata": {
        "colab": {
          "base_uri": "https://localhost:8080/"
        },
        "id": "v3YnoLELSCay",
        "outputId": "d5107a55-562f-4fd3-8994-bb1c00f56bce"
      },
      "source": [
        "physicalsizemw = distancemw * np.sin(angularsizemw)\n",
        "dphysicalsizemw = ddistancemw * np.sin(angularsizemw)\n",
        "\n",
        "print(r\"Physical size of the visible component of the Milky Way: {:.2f} \\pm {:.2f} kpc\".format(physicalsizemw,dphysicalsizemw ) )"
      ],
      "execution_count": 91,
      "outputs": [
        {
          "output_type": "stream",
          "name": "stdout",
          "text": [
            "Physical size of the visible component of the Milky Way: 0.07 \\pm 0.00 kpc\n"
          ]
        }
      ]
    },
    {
      "cell_type": "code",
      "metadata": {
        "id": "NhIu04sLSIb0"
      },
      "source": [
        "results_ = getradii(mw, [physicalsizemw, dphysicalsizemw], 3)"
      ],
      "execution_count": 92,
      "outputs": []
    },
    {
      "cell_type": "code",
      "metadata": {
        "colab": {
          "base_uri": "https://localhost:8080/"
        },
        "id": "DEIPjSeVTEkK",
        "outputId": "1ff1252c-919d-4143-f806-10dd8becb997"
      },
      "source": [
        "print(\"r = {:.3f}  \\pm {:.3f} kpc \\nv = {:.3f} \\pm dv = {:.3f} err = {:.3f} km/s\".format(results_[0],results_[1], results_[2],results_[3],results_[4]))"
      ],
      "execution_count": 93,
      "outputs": [
        {
          "output_type": "stream",
          "name": "stdout",
          "text": [
            "r = 0.107  \\pm 0.003 kpc \n",
            "v = 146.964 \\pm dv = 11.834 err = 41.677 km/s\n"
          ]
        }
      ]
    },
    {
      "cell_type": "code",
      "metadata": {
        "id": "kLR4E45NTroY"
      },
      "source": [
        "def plotGalmw(gal, rds):\n",
        "  plt.errorbar(gal[\"r(kpc)\"], gal[\"v(km/s)\"], gal[\"dv\"], label = \"v\", color = \"blue\", alpha = 0.5)\n",
        "  plt.errorbar(gal[\"r(kpc)\"], gal[\"v(km/s)\"], gal[\"err\"], elinewidth=4, color = \"blue\", alpha = 0.5)\n",
        "  plt.errorbar(getradii(gal, rds*2, 1)[0], getradii(gal, rds*2, 1)[2], getradii(gal, rds*2, 1)[4], \n",
        "              color=\"red\", label = \"r\")\n",
        "  plt.errorbar(getradii(gal, rds*2, 2)[0], getradii(gal, rds*2, 2)[2], getradii(gal, rds*2, 2)[4], \n",
        "              color=\"purple\", label = \"2xr\")\n",
        "  plt.errorbar(getradii(gal, rds*2, 3)[0], getradii(gal, rds*2, 3)[2], getradii(gal, rds*2, 3)[4], \n",
        "              color=\"green\", label = \"3xr\")\n",
        "  plt.text(getradii(gal, rds*2, 1)[0], getradii(gal, rds*2, 1)[2] - 2*getradii(gal, rds*2, 1)[4], \"{:.1f}\\n({:.1f}, {:.1f})\".format(getradii(gal, rds*2, 1)[2],\n",
        "                                                                                          getradii(gal, rds*2, 1)[4],getradii(gal, rds*2, 1)[3]),horizontalalignment='center',verticalalignment='center')\n",
        "  plt.text(getradii(gal, rds*2, 2)[0], getradii(gal, rds*2, 2)[2] - 1.8*getradii(gal, rds*2, 2)[4], \"{:.1f}\\n({:.1f}, {:.1f})\".format(getradii(gal, rds*2, 2)[2],\n",
        "                                                                                          getradii(gal, rds*2, 2)[4],getradii(gal, rds*2, 2)[3]),horizontalalignment='center',verticalalignment='center')\n",
        "\n",
        "  plt.text(getradii(gal, rds*2, 3)[0], getradii(gal, rds*2, 3)[2] - 1.5*getradii(gal, rds*2, 3)[4], \"{:.1f}\\n({:.1f}, {:.1f})\".format(getradii(gal, rds*2, 3)[2],\n",
        "                                                                                          getradii(gal, rds*2, 3)[4],getradii(gal, rds*2, 3)[3]),horizontalalignment='center',verticalalignment='center')\n",
        "\n",
        "  plt.xlim(0,0.2)\n",
        "  plt.xlabel(\"r(kpc)\")\n",
        "  plt.ylabel(\"v(km/s)\")\n",
        "  plt.legend()"
      ],
      "execution_count": 84,
      "outputs": []
    },
    {
      "cell_type": "code",
      "metadata": {
        "colab": {
          "base_uri": "https://localhost:8080/",
          "height": 279
        },
        "id": "60tqK6eRTdWd",
        "outputId": "1f22ebc5-fd06-4b48-ca44-1de96b374b4c"
      },
      "source": [
        "plotGalmw(mw, np.array([physicalsizemw/2,dphysicalsizemw/2]) )"
      ],
      "execution_count": 85,
      "outputs": [
        {
          "output_type": "display_data",
          "data": {
            "image/png": "[encoded data removed]",
            "text/plain": [
              "<Figure size 432x288 with 1 Axes>"
            ]
          },
          "metadata": {
            "needs_background": "light"
          }
        }
      ]
    },
    {
      "cell_type": "markdown",
      "metadata": {
        "id": "C6aPAC6MUfLA"
      },
      "source": [
        "### **Figure**: Velocity of the galaxy in km/s vs the distance from the center of the galaxy. With their respective error bars. The red vertical line indicates the radius of the visible galaxy, purple is 2 times that radius and green 3 times. Below every line is the velocity and the errors."
      ]
    },
    {
      "cell_type": "code",
      "metadata": {
        "colab": {
          "base_uri": "https://localhost:8080/"
        },
        "id": "5tB_-1IKThff",
        "outputId": "b9747801-95c9-46dc-b88d-efb7188ad15e"
      },
      "source": [
        "mw_res = vratios(mw, np.array([physicalsizemw, dphysicalsizemw])/2, 2, err='dv')\n",
        "print(\"Expected ratio using radii = {:.3f} \\pm {:.3f}\\nCalculted ratio using velocities = {:.3f} \\pm {:.3f}\\n\\\n",
        "velo + 2sigma = {:.3f}\\nvelo - 2sigma = {:.3f}\\n\".format(mw_res[0], mw_res[1], mw_res[2], mw_res[3], mw_res[4], mw_res[5]))"
      ],
      "execution_count": 96,
      "outputs": [
        {
          "output_type": "stream",
          "name": "stdout",
          "text": [
            "yes, the expected ratio is within the 2 sigma calculated ratio\n",
            "Expected ratio using radii = 0.486 \\pm 0.019\n",
            "Calculted ratio using velocities = 2.051 \\pm 0.937\n",
            "velo + 2sigma = 3.925\n",
            "velo - 2sigma = 0.177\n",
            "\n"
          ]
        }
      ]
    },
    {
      "cell_type": "code",
      "metadata": {
        "colab": {
          "base_uri": "https://localhost:8080/"
        },
        "id": "Pj5N9V4RUGNl",
        "outputId": "74154082-ff0f-4ea4-e03c-9cd33f4fd5d7"
      },
      "source": [
        "mw_res = vratios(mw, np.array([physicalsizemw, dphysicalsizemw])/2, 2, err='err')\n",
        "print(\"Expected ratio using radii = {:.3f} \\pm {:.3f}\\nCalculted ratio using velocities = {:.3f} \\pm {:.3f}\\n\\\n",
        "velo + 2sigma = {:.3f}\\nvelo - 2sigma = {:.3f}\\n\".format(mw_res[0], mw_res[1], mw_res[2], mw_res[3], mw_res[4], mw_res[5]))"
      ],
      "execution_count": 97,
      "outputs": [
        {
          "output_type": "stream",
          "name": "stdout",
          "text": [
            "no, the expected ratio is not within the 2 sigma calculated ratio\n",
            "Expected ratio using radii = 0.486 \\pm 0.019\n",
            "Calculted ratio using velocities = 2.051 \\pm 0.327\n",
            "velo + 2sigma = 2.705\n",
            "velo - 2sigma = 1.397\n",
            "\n"
          ]
        }
      ]
    },
    {
      "cell_type": "markdown",
      "metadata": {
        "id": "lant9zDEnUH2"
      },
      "source": [
        "As for Andromeda, the ratio is not in agreement with newton considering the error 'err', that is the one including all the erros."
      ]
    },
    {
      "cell_type": "code",
      "metadata": {
        "id": "onNSiz0jaggl"
      },
      "source": [
        ""
      ],
      "execution_count": 26,
      "outputs": []
    }
  ]
}