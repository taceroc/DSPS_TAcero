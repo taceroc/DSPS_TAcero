{
  "nbformat": 4,
  "nbformat_minor": 0,
  "metadata": {
    "colab": {
      "name": "Copy of lab3_PI_fbb.ipynb",
      "provenance": [],
      "collapsed_sections": [],
      "include_colab_link": true
    },
    "kernelspec": {
      "name": "python3",
      "display_name": "Python 3"
    }
  },
  "cells": [
    {
      "cell_type": "markdown",
      "metadata": {
        "id": "view-in-github",
        "colab_type": "text"
      },
      "source": [
        "<a href=\"https://colab.research.google.com/github/taceroc/DSPS_TAcero/blob/main/labs/Copy_of_lab3_PI_fbb.ipynb\" target=\"_parent\"><img src=\"https://colab.research.google.com/assets/colab-badge.svg\" alt=\"Open In Colab\"/></a>"
      ]
    },
    {
      "cell_type": "code",
      "metadata": {
        "id": "48HNFOn1xKVX",
        "colab": {
          "base_uri": "https://localhost:8080/"
        },
        "outputId": "27b84226-a7c7-4bc7-ab27-b3be5b74c322"
      },
      "source": [
        "import numpy as np\n",
        "import pylab as pl\n",
        "#!pip install astropy\n",
        "import astropy\n",
        "from astropy import units as u\n",
        "\n",
        "\n",
        "%pylab inline\n"
      ],
      "execution_count": 1,
      "outputs": [
        {
          "output_type": "stream",
          "name": "stdout",
          "text": [
            "Populating the interactive namespace from numpy and matplotlib\n"
          ]
        }
      ]
    },
    {
      "cell_type": "markdown",
      "metadata": {
        "id": "_3wBMf6fiA5l"
      },
      "source": [
        "What you know: The ratio of the area of the circle to the area of the square is π / 4."
      ]
    },
    {
      "cell_type": "code",
      "metadata": {
        "id": "0ZofSIqBFVcC"
      },
      "source": [
        "def square(l, ax):\n",
        "  ax.plot([-l, l], [-l, -l], 'k-')\n",
        "  ax.plot([-l, l], [l, l], 'k-')\n",
        "  ax.plot([-l, -l], [-l, l], 'k-')\n",
        "  ax.plot([l, l], [-l, l], 'k-')\n",
        "  "
      ],
      "execution_count": 2,
      "outputs": []
    },
    {
      "cell_type": "code",
      "metadata": {
        "id": "gebTwteLGY5C"
      },
      "source": [
        "def circle(l, ax):\n",
        "  theta = np.linspace(0, 360, 100)\n",
        "  theta *= u.degree\n",
        "  x = l * np.cos(theta.to(u.rad))\n",
        "  y = l * np.sin(theta.to(u.rad))\n",
        "  ax.plot(x, y, 'k-')\n",
        "  "
      ],
      "execution_count": 3,
      "outputs": []
    },
    {
      "cell_type": "code",
      "metadata": {
        "id": "jmujRXm-xW_O",
        "colab": {
          "base_uri": "https://localhost:8080/",
          "height": 320
        },
        "outputId": "f82c49ac-9808-48e5-a1ae-a69aa2c9498c"
      },
      "source": [
        "fig, ax = pl.subplots(figsize=(5, 5))\n",
        "square(1, ax=ax)\n",
        "circle(1, ax=ax)"
      ],
      "execution_count": 4,
      "outputs": [
        {
          "output_type": "display_data",
          "data": {
            "image/png": "[encoded data removed]",
            "text/plain": [
              "<Figure size 360x360 with 1 Axes>"
            ]
          },
          "metadata": {
            "needs_background": "light"
          }
        }
      ]
    },
    {
      "cell_type": "markdown",
      "metadata": {
        "id": "mhDDNrTyVMRS"
      },
      "source": [
        "\n",
        "\\begin{equation}\n",
        "\\frac{A_{circle}}{A_{square}} \\sim \\frac{\\text{number of points inside circle}}{\\text{numer of points inside the square}} = \\frac{\\pi r^2}{(2r)^2} = \\frac{\\pi}{4} \n",
        "\\end{equation}\n",
        "\n",
        "Using only one quarter of the square and the circle\n",
        "\\begin{equation}\n",
        "\\frac{A_{1/4circle}}{A_{1/4square}} \\sim \\frac{\\text{number of points inside 1/4circle}}{\\text{numer of points inside the 1/4square}} = \\frac{\\pi / 4}{1} = \\frac{\\pi}{4}\n",
        "\\end{equation}\n",
        "\n",
        "Is enough to only use $1/4$."
      ]
    },
    {
      "cell_type": "code",
      "metadata": {
        "id": "dzUf8KLOKH30"
      },
      "source": [
        "N = 1000\n",
        "x = np.zeros(N)\n",
        "y = np.zeros(N)\n",
        "np.random.seed(123)\n",
        "for ii in range(N):\n",
        "  # -- only positive random numbers between 0 and 1\n",
        "  x[ii] = np.random.random()\n",
        "  y[ii] = np.random.random()\n",
        "\n",
        "def isin(x, y, l, n = N): \n",
        "  count = 0\n",
        "  for ii in range(N):\n",
        "    r = np.sqrt((l*x[ii])**2+(l*y[ii])**2)\n",
        "    if r <= l:\n",
        "      count = count + 1\n",
        "\n",
        "  return 4.0*count / n"
      ],
      "execution_count": 73,
      "outputs": []
    },
    {
      "cell_type": "code",
      "metadata": {
        "colab": {
          "base_uri": "https://localhost:8080/"
        },
        "id": "nxKrWMHDMhAZ",
        "outputId": "d763797d-9724-44bf-ca67-23037ec45132"
      },
      "source": [
        "isin(x, y, 3)"
      ],
      "execution_count": 75,
      "outputs": [
        {
          "output_type": "execute_result",
          "data": {
            "text/plain": [
              "3.14"
            ]
          },
          "metadata": {},
          "execution_count": 75
        }
      ]
    },
    {
      "cell_type": "code",
      "metadata": {
        "id": "rnGd0eVXLF1V",
        "colab": {
          "base_uri": "https://localhost:8080/",
          "height": 338
        },
        "outputId": "ada5def4-87c6-4cae-c335-dc8731d6d248"
      },
      "source": [
        "fig, ax = pl.subplots(figsize=(5, 5))\n",
        "square(2, ax=ax)\n",
        "circle(2, ax=ax)\n",
        "plt.scatter(x,y)"
      ],
      "execution_count": 44,
      "outputs": [
        {
          "output_type": "execute_result",
          "data": {
            "text/plain": [
              "<matplotlib.collections.PathCollection at 0x7f01155e7910>"
            ]
          },
          "metadata": {},
          "execution_count": 44
        },
        {
          "output_type": "display_data",
          "data": {
            "image/png": "[encoded data removed]",
            "text/plain": [
              "<Figure size 360x360 with 1 Axes>"
            ]
          },
          "metadata": {
            "needs_background": "light"
          }
        }
      ]
    },
    {
      "cell_type": "code",
      "metadata": {
        "id": "MfGTm-GbVEW8"
      },
      "source": [
        ""
      ],
      "execution_count": null,
      "outputs": []
    },
    {
      "cell_type": "code",
      "metadata": {
        "id": "6lBzW1sQFv5W"
      },
      "source": [
        "np.random.seed(123)\n",
        "count = 0\n",
        "N = 1000\n",
        "l = 2\n",
        "x = np.zeros(N)\n",
        "y = np.zeros(N)\n",
        "for ii in range(N):\n",
        "  # -- only positive random numbers between 0 and 1, times l, the radii of the circle\n",
        "  x[ii] = l*np.random.random()\n",
        "  y[ii] = l*np.random.random()\n",
        "  r = np.sqrt(x[ii]**2+y[ii]**2)\n",
        "  if r <= l:\n",
        "    count = count + 1"
      ],
      "execution_count": 42,
      "outputs": []
    },
    {
      "cell_type": "code",
      "metadata": {
        "id": "AzKnnKWkL6XE",
        "colab": {
          "base_uri": "https://localhost:8080/"
        },
        "outputId": "21294a69-0937-41b2-bd60-9bd3be5467b6"
      },
      "source": [
        "4.0*count/N"
      ],
      "execution_count": 45,
      "outputs": [
        {
          "output_type": "execute_result",
          "data": {
            "text/plain": [
              "3.14"
            ]
          },
          "metadata": {},
          "execution_count": 45
        }
      ]
    }
  ]
}