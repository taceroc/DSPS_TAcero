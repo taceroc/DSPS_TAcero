{
  "nbformat": 4,
  "nbformat_minor": 0,
  "metadata": {
    "colab": {
      "name": "Copy of MLNPS_Ztestpandas.ipynb",
      "provenance": [],
      "include_colab_link": true
    },
    "kernelspec": {
      "name": "python3",
      "display_name": "Python 3"
    },
    "language_info": {
      "name": "python"
    }
  },
  "cells": [
    {
      "cell_type": "markdown",
      "metadata": {
        "id": "view-in-github",
        "colab_type": "text"
      },
      "source": [
        "<a href=\"https://colab.research.google.com/github/taceroc/DSPS_TAcero/blob/main/labs/Copy_of_MLNPS_Ztestpandas.ipynb\" target=\"_parent\"><img src=\"https://colab.research.google.com/assets/colab-badge.svg\" alt=\"Open In Colab\"/></a>"
      ]
    },
    {
      "cell_type": "code",
      "metadata": {
        "colab": {
          "base_uri": "https://localhost:8080/"
        },
        "id": "zYeYaORLJz2M",
        "outputId": "86e32a91-7170-4cad-ef0c-9d38602dae1e"
      },
      "source": [
        "import pandas as pd\n",
        "import numpy as np\n",
        "%pylab inline"
      ],
      "execution_count": 25,
      "outputs": [
        {
          "output_type": "stream",
          "name": "stdout",
          "text": [
            "Populating the interactive namespace from numpy and matplotlib\n"
          ]
        }
      ]
    },
    {
      "cell_type": "markdown",
      "metadata": {
        "id": "SQd2HLsUJ5N-"
      },
      "source": [
        "I extracted precipitations records for Willmington from 2000/01/01 through today. \n",
        "The goal is to extract from these data the daily precipitation starting on 2018/01/01 and assess if these data are different from a population with mean $\\mu = 0.14$ standard deviation $\\sigma= 0.38$. \n",
        "\n",
        "Set a p-value at $2\\sigma$:  $p=0.05 \\rightarrow 2\\sigma$\n",
        "\n",
        "$p = 0.007 \\rightarrow 3\\sigma$"
      ]
    },
    {
      "cell_type": "code",
      "metadata": {
        "id": "Q0hV8dDFJ6BW"
      },
      "source": [
        "rain = pd.read_csv(\"https://raw.githubusercontent.com/fedhere/DSPS/master/labs/1865331.csv\")"
      ],
      "execution_count": 16,
      "outputs": []
    },
    {
      "cell_type": "markdown",
      "metadata": {
        "id": "wLnSJ7lZJ7oB"
      },
      "source": [
        "\n",
        "The $Z$ statistics is : $Z = \\frac{\\bar{X} - \\mu }{s}$ and $s = \\sigma / \\sqrt(N)$ (you should know what all those symbols mean)\n",
        "\n",
        "1. Extract from the dataframe above the columns \"DATE\" and \"PRCP\" (precipitation)\n",
        "\n",
        "2. Convert the dataframe DATE from ```string``` to ```datetime``` type\n",
        " using pd.datetime() \n",
        "    \n",
        "3. Select the data rows with date later than 2018/01/01. \n",
        "    If your data type conversion worked well you should be able to set the condition as ```rain[<newcolumnname>]> pd.to_datetime(\"2018/01/01\")```\n",
        "    use the technique called \"broadcasting\" to select the rows: \n",
        "    \n",
        "    ```rain[ rain[<newcolumnname>]> pd.to_datetime(\"2018/01/01\")]``` which you can save as a new dataframe\n",
        "    \n",
        "4. Calculate the mean of the sample you created $\\bar{X}$ and plug it in  the numerator of the $Z$ statistics: $\\bar{X}- \\mu$\n",
        "\n",
        "5. Calculate the size of the sample and plug it in the formula. Now you have $Z$\n",
        "\n",
        "6. Knowing the distribution of $Z\\sim N(\\mu=0, \\sigma=1)$ and with a confidence $p=0.05$, did you find that the time period 2018/01/01---today has a statistically significant different amount of rain?  \n",
        "    "
      ]
    },
    {
      "cell_type": "code",
      "metadata": {
        "id": "l1lRuA72J90k"
      },
      "source": [
        "rain = rain[[\"DATE\", \"PRCP\"]]\n",
        "rain[\"DATE\"] = pd.to_datetime(rain[\"DATE\"])"
      ],
      "execution_count": 28,
      "outputs": []
    },
    {
      "cell_type": "code",
      "metadata": {
        "colab": {
          "base_uri": "https://localhost:8080/",
          "height": 424
        },
        "id": "KYuIXBB-qp0P",
        "outputId": "e27f382f-6c42-4fef-979e-801b67fff367"
      },
      "source": [
        "rain"
      ],
      "execution_count": 29,
      "outputs": [
        {
          "output_type": "execute_result",
          "data": {
            "text/html": [
              "<div>\n",
              "<style scoped>\n",
              "    .dataframe tbody tr th:only-of-type {\n",
              "        vertical-align: middle;\n",
              "    }\n",
              "\n",
              "    .dataframe tbody tr th {\n",
              "        vertical-align: top;\n",
              "    }\n",
              "\n",
              "    .dataframe thead th {\n",
              "        text-align: right;\n",
              "    }\n",
              "</style>\n",
              "<table border=\"1\" class=\"dataframe\">\n",
              "  <thead>\n",
              "    <tr style=\"text-align: right;\">\n",
              "      <th></th>\n",
              "      <th>DATE</th>\n",
              "      <th>PRCP</th>\n",
              "    </tr>\n",
              "  </thead>\n",
              "  <tbody>\n",
              "    <tr>\n",
              "      <th>0</th>\n",
              "      <td>2010-01-01</td>\n",
              "      <td>0.28</td>\n",
              "    </tr>\n",
              "    <tr>\n",
              "      <th>1</th>\n",
              "      <td>2010-01-02</td>\n",
              "      <td>0.00</td>\n",
              "    </tr>\n",
              "    <tr>\n",
              "      <th>2</th>\n",
              "      <td>2010-01-03</td>\n",
              "      <td>0.00</td>\n",
              "    </tr>\n",
              "    <tr>\n",
              "      <th>3</th>\n",
              "      <td>2010-01-04</td>\n",
              "      <td>0.00</td>\n",
              "    </tr>\n",
              "    <tr>\n",
              "      <th>4</th>\n",
              "      <td>2010-01-05</td>\n",
              "      <td>0.00</td>\n",
              "    </tr>\n",
              "    <tr>\n",
              "      <th>...</th>\n",
              "      <td>...</td>\n",
              "      <td>...</td>\n",
              "    </tr>\n",
              "    <tr>\n",
              "      <th>3533</th>\n",
              "      <td>2019-09-04</td>\n",
              "      <td>0.00</td>\n",
              "    </tr>\n",
              "    <tr>\n",
              "      <th>3534</th>\n",
              "      <td>2019-09-05</td>\n",
              "      <td>0.00</td>\n",
              "    </tr>\n",
              "    <tr>\n",
              "      <th>3535</th>\n",
              "      <td>2019-09-06</td>\n",
              "      <td>0.00</td>\n",
              "    </tr>\n",
              "    <tr>\n",
              "      <th>3536</th>\n",
              "      <td>2019-09-07</td>\n",
              "      <td>0.02</td>\n",
              "    </tr>\n",
              "    <tr>\n",
              "      <th>3537</th>\n",
              "      <td>2019-09-08</td>\n",
              "      <td>0.00</td>\n",
              "    </tr>\n",
              "  </tbody>\n",
              "</table>\n",
              "<p>3538 rows × 2 columns</p>\n",
              "</div>"
            ],
            "text/plain": [
              "           DATE  PRCP\n",
              "0    2010-01-01  0.28\n",
              "1    2010-01-02  0.00\n",
              "2    2010-01-03  0.00\n",
              "3    2010-01-04  0.00\n",
              "4    2010-01-05  0.00\n",
              "...         ...   ...\n",
              "3533 2019-09-04  0.00\n",
              "3534 2019-09-05  0.00\n",
              "3535 2019-09-06  0.00\n",
              "3536 2019-09-07  0.02\n",
              "3537 2019-09-08  0.00\n",
              "\n",
              "[3538 rows x 2 columns]"
            ]
          },
          "metadata": {},
          "execution_count": 29
        }
      ]
    },
    {
      "cell_type": "code",
      "metadata": {
        "colab": {
          "base_uri": "https://localhost:8080/"
        },
        "id": "ydXBRmURrEAf",
        "outputId": "304d4611-7d12-457b-a808-d13ab82f6694"
      },
      "source": [
        "rain.dtypes"
      ],
      "execution_count": 30,
      "outputs": [
        {
          "output_type": "execute_result",
          "data": {
            "text/plain": [
              "DATE    datetime64[ns]\n",
              "PRCP           float64\n",
              "dtype: object"
            ]
          },
          "metadata": {},
          "execution_count": 30
        }
      ]
    },
    {
      "cell_type": "code",
      "metadata": {
        "colab": {
          "base_uri": "https://localhost:8080/",
          "height": 424
        },
        "id": "04xIITi6q6dU",
        "outputId": "c34c86fa-5f1c-4693-df1a-bb4a4bd5ea5c"
      },
      "source": [
        "rain_new = rain[rain[\"DATE\"]>pd.to_datetime(\"2018/01/01\")]\n",
        "rain_new"
      ],
      "execution_count": 31,
      "outputs": [
        {
          "output_type": "execute_result",
          "data": {
            "text/html": [
              "<div>\n",
              "<style scoped>\n",
              "    .dataframe tbody tr th:only-of-type {\n",
              "        vertical-align: middle;\n",
              "    }\n",
              "\n",
              "    .dataframe tbody tr th {\n",
              "        vertical-align: top;\n",
              "    }\n",
              "\n",
              "    .dataframe thead th {\n",
              "        text-align: right;\n",
              "    }\n",
              "</style>\n",
              "<table border=\"1\" class=\"dataframe\">\n",
              "  <thead>\n",
              "    <tr style=\"text-align: right;\">\n",
              "      <th></th>\n",
              "      <th>DATE</th>\n",
              "      <th>PRCP</th>\n",
              "    </tr>\n",
              "  </thead>\n",
              "  <tbody>\n",
              "    <tr>\n",
              "      <th>2923</th>\n",
              "      <td>2018-01-02</td>\n",
              "      <td>0.00</td>\n",
              "    </tr>\n",
              "    <tr>\n",
              "      <th>2924</th>\n",
              "      <td>2018-01-03</td>\n",
              "      <td>0.00</td>\n",
              "    </tr>\n",
              "    <tr>\n",
              "      <th>2925</th>\n",
              "      <td>2018-01-04</td>\n",
              "      <td>0.07</td>\n",
              "    </tr>\n",
              "    <tr>\n",
              "      <th>2926</th>\n",
              "      <td>2018-01-05</td>\n",
              "      <td>0.20</td>\n",
              "    </tr>\n",
              "    <tr>\n",
              "      <th>2927</th>\n",
              "      <td>2018-01-06</td>\n",
              "      <td>0.00</td>\n",
              "    </tr>\n",
              "    <tr>\n",
              "      <th>...</th>\n",
              "      <td>...</td>\n",
              "      <td>...</td>\n",
              "    </tr>\n",
              "    <tr>\n",
              "      <th>3533</th>\n",
              "      <td>2019-09-04</td>\n",
              "      <td>0.00</td>\n",
              "    </tr>\n",
              "    <tr>\n",
              "      <th>3534</th>\n",
              "      <td>2019-09-05</td>\n",
              "      <td>0.00</td>\n",
              "    </tr>\n",
              "    <tr>\n",
              "      <th>3535</th>\n",
              "      <td>2019-09-06</td>\n",
              "      <td>0.00</td>\n",
              "    </tr>\n",
              "    <tr>\n",
              "      <th>3536</th>\n",
              "      <td>2019-09-07</td>\n",
              "      <td>0.02</td>\n",
              "    </tr>\n",
              "    <tr>\n",
              "      <th>3537</th>\n",
              "      <td>2019-09-08</td>\n",
              "      <td>0.00</td>\n",
              "    </tr>\n",
              "  </tbody>\n",
              "</table>\n",
              "<p>615 rows × 2 columns</p>\n",
              "</div>"
            ],
            "text/plain": [
              "           DATE  PRCP\n",
              "2923 2018-01-02  0.00\n",
              "2924 2018-01-03  0.00\n",
              "2925 2018-01-04  0.07\n",
              "2926 2018-01-05  0.20\n",
              "2927 2018-01-06  0.00\n",
              "...         ...   ...\n",
              "3533 2019-09-04  0.00\n",
              "3534 2019-09-05  0.00\n",
              "3535 2019-09-06  0.00\n",
              "3536 2019-09-07  0.02\n",
              "3537 2019-09-08  0.00\n",
              "\n",
              "[615 rows x 2 columns]"
            ]
          },
          "metadata": {},
          "execution_count": 31
        }
      ]
    },
    {
      "cell_type": "code",
      "metadata": {
        "colab": {
          "base_uri": "https://localhost:8080/"
        },
        "id": "eInGt1_orPE-",
        "outputId": "924b2c44-c8cc-4a48-8612-be305de2cc8a"
      },
      "source": [
        "rain_18_mean = rain_new['PRCP'].mean()\n",
        "rain_18_std = rain_new['PRCP'].std()\n",
        "n = len(rain_new)\n",
        "print(\"mean: {}, std: {}, len: {}\".format(rain_18_mean,rain_18_std,n))"
      ],
      "execution_count": 32,
      "outputs": [
        {
          "output_type": "stream",
          "name": "stdout",
          "text": [
            "mean: 0.16250406504065049, std: 0.3650071253149441, len: 615\n"
          ]
        }
      ]
    },
    {
      "cell_type": "code",
      "metadata": {
        "colab": {
          "base_uri": "https://localhost:8080/"
        },
        "id": "9AKWo3o2rhkB",
        "outputId": "9c9d0f28-c007-4350-8ee2-16c8ebeb0bd1"
      },
      "source": [
        "mu = 0.14\n",
        "stds = 0.38\n",
        "z = (rain_18_mean - mu) / (stds/np.sqrt(n)) \n",
        "z"
      ],
      "execution_count": 33,
      "outputs": [
        {
          "output_type": "execute_result",
          "data": {
            "text/plain": [
              "1.4686385901934103"
            ]
          },
          "metadata": {},
          "execution_count": 33
        }
      ]
    },
    {
      "cell_type": "markdown",
      "metadata": {
        "id": "zf3FnjS5t_BH"
      },
      "source": [
        "z = 1.4686385901934103 sigmas"
      ]
    },
    {
      "cell_type": "markdown",
      "metadata": {
        "id": "q_46w6hxsT2b"
      },
      "source": [
        "H$_0$: These data are from a distribution of $\\mu = 0.14$ and $\\sigma = 0.38$\n",
        "\n",
        "H$_1$: These data are from a distribution with NOT $\\mu = 0.14$ and $\\sigma = 0.38$\n",
        "\n",
        "Prob = 1.47$\\sigma$\n",
        "\n",
        "p = 0.007 $\\rightarrow 3\\sigma$\n",
        "\n",
        "Our threshold was 3$\\sigma$, then Prob < p. I can reject the null hypothesis *** CHECK"
      ]
    },
    {
      "cell_type": "code",
      "metadata": {
        "id": "kNs4vTpfsBG7"
      },
      "source": [
        ""
      ],
      "execution_count": null,
      "outputs": []
    }
  ]
}