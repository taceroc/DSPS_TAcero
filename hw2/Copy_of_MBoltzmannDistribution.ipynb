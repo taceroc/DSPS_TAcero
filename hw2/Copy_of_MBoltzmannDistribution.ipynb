{
  "nbformat": 4,
  "nbformat_minor": 0,
  "metadata": {
    "colab": {
      "name": "Copy of MBoltzmannDistribution.ipynb",
      "provenance": [],
      "collapsed_sections": [],
      "include_colab_link": true
    },
    "kernelspec": {
      "display_name": "Python 3",
      "language": "python",
      "name": "python3"
    },
    "language_info": {
      "codemirror_mode": {
        "name": "ipython",
        "version": 3
      },
      "file_extension": ".py",
      "mimetype": "text/x-python",
      "name": "python",
      "nbconvert_exporter": "python",
      "pygments_lexer": "ipython3",
      "version": "3.7.3"
    },
    "latex_envs": {
      "LaTeX_envs_menu_present": true,
      "autoclose": false,
      "autocomplete": true,
      "bibliofile": "biblio.bib",
      "cite_by": "apalike",
      "current_citInitial": 1,
      "eqLabelWithNumbers": true,
      "eqNumInitial": 1,
      "hotkeys": {
        "equation": "Ctrl-E",
        "itemize": "Ctrl-I"
      },
      "labels_anchors": false,
      "latex_user_defs": false,
      "report_style_numbering": false,
      "user_envs_cfg": false
    },
    "nbTranslate": {
      "displayLangs": [
        "*"
      ],
      "hotkey": "alt-t",
      "langInMainMenu": true,
      "sourceLang": "en",
      "targetLang": "fr",
      "useGoogleTranslate": true
    },
    "toc": {
      "base_numbering": 1,
      "nav_menu": {},
      "number_sections": true,
      "sideBar": true,
      "skip_h1_title": false,
      "title_cell": "Table of Contents",
      "title_sidebar": "Contents",
      "toc_cell": false,
      "toc_position": {},
      "toc_section_display": true,
      "toc_window_display": false
    }
  },
  "cells": [
    {
      "cell_type": "markdown",
      "metadata": {
        "id": "view-in-github",
        "colab_type": "text"
      },
      "source": [
        "<a href=\"https://colab.research.google.com/github/taceroc/DSPS_TAcero/blob/main/hw2/Copy_of_MBoltzmannDistribution.ipynb\" target=\"_parent\"><img src=\"https://colab.research.google.com/assets/colab-badge.svg\" alt=\"Open In Colab\"/></a>"
      ]
    },
    {
      "cell_type": "markdown",
      "metadata": {
        "ExecuteTime": {
          "end_time": "2019-09-04T04:50:01.872913Z",
          "start_time": "2019-09-04T04:50:01.869703Z"
        },
        "id": "dk3tkh__KvAc"
      },
      "source": [
        " Written by Federica B. Bianco @fedhere\n",
        "UDel DSPS"
      ]
    },
    {
      "cell_type": "code",
      "metadata": {
        "ExecuteTime": {
          "end_time": "2019-09-07T17:36:53.625807Z",
          "start_time": "2019-09-07T17:36:53.393906Z"
        },
        "colab": {
          "base_uri": "https://localhost:8080/"
        },
        "id": "iQaonMUBqtX2",
        "outputId": "53c699ff-228b-4d65-a817-c3bebc91be7e"
      },
      "source": [
        "from __future__ import print_function, division\n",
        "import numpy as np\n",
        "import scipy as sp\n",
        "from scipy import stats\n",
        "import pylab as pl\n",
        "\n",
        "import matplotlib.pyplot as plt\n",
        "\n",
        "%pylab inline\n",
        "pl.style.use(\"https://raw.githubusercontent.com/fedhere/DSPS/master/fbb.mplstyle\")\n"
      ],
      "execution_count": null,
      "outputs": [
        {
          "output_type": "stream",
          "name": "stdout",
          "text": [
            "Populating the interactive namespace from numpy and matplotlib\n"
          ]
        }
      ]
    },
    {
      "cell_type": "markdown",
      "metadata": {
        "id": "zu5QKDi5b7vW"
      },
      "source": [
        "# Homework 1: Maxwell Boltzmann distribution"
      ]
    },
    {
      "cell_type": "markdown",
      "metadata": {
        "id": "ueaB0mHCO_iM"
      },
      "source": [
        "In Physics, statistics can help us describe the macroscopic behavior of a system if we know its microscopic properties in a statistical sense. We cannot know the motion of each molecule in a gas, but we can know the distribution of their velocities and positions.   In the mid to late 1800s, James Clerk Maxwell and Ludwig Boltzmann modeled the *distribution of speed of molecules in a gas*. As you probably know, and can intuitive realize, the speed of the molecules depends on the temperature of the gas, which is a macroscopic property, the velocity of the molecules is different for different gas temperatures. **This distribution of velocities is called the Maxwell-Boltzmann distribution.**\n"
      ]
    },
    {
      "cell_type": "markdown",
      "metadata": {
        "id": "7LpR51uQSvN9"
      },
      "source": [
        "It turns out that the Maxwel-Boltzmann distribution is a special case of the [*Chi distribution*](https://en.wikipedia.org/wiki/Chi_distribution) with 3 degrees of freedom, and with a scale parameter corresponding to the temperature in some way. \n"
      ]
    },
    {
      "cell_type": "markdown",
      "metadata": {
        "id": "Pc25lN9SUxQL"
      },
      "source": [
        "Below I have created 3 distributions. Based on the description above\n",
        "\n",
        "\n",
        "# 1) label the axes in the plot"
      ]
    },
    {
      "cell_type": "code",
      "metadata": {
        "ExecuteTime": {
          "end_time": "2019-09-07T17:36:56.493299Z",
          "start_time": "2019-09-07T17:36:56.021862Z"
        },
        "colab": {
          "base_uri": "https://localhost:8080/",
          "height": 297
        },
        "id": "LZm2afzhUwuG",
        "outputId": "300f393b-1d57-47eb-c240-b7ef38c5ff1b"
      },
      "source": [
        "np.random.randn(123)\n",
        "fig, ax = pl.subplots()\n",
        "for a in [0.2, 0.6, 1.0]:\n",
        "    ax.hist(sp.stats.chi.rvs(df=3, scale=a, size=1000), # could as well be sp.stats.maxwell.rvs(scale=a, size=1000)\n",
        "          bins=np.arange(0,5,0.1), alpha=0.7,\n",
        "       label=\"a = %.1f\"%a);\n",
        "\n",
        "pl.legend();\n",
        "\n",
        "# your code to add labels here\n",
        "plt.xlabel(\"Speed (speed units)\")\n",
        "plt.ylabel(\"Number of particles\")"
      ],
      "execution_count": null,
      "outputs": [
        {
          "output_type": "execute_result",
          "data": {
            "text/plain": [
              "Text(0, 0.5, 'Number of particles')"
            ]
          },
          "metadata": {},
          "execution_count": 3
        },
        {
          "output_type": "display_data",
          "data": {
            "image/png": "[encoded data removed]",
            "text/plain": [
              "<Figure size 432x288 with 1 Axes>"
            ]
          },
          "metadata": {
            "needs_background": "light"
          }
        }
      ]
    },
    {
      "cell_type": "markdown",
      "metadata": {
        "id": "MGdILsLAaopl"
      },
      "source": [
        "# 2) knowing that the *scale* parameter $a$  is a function of the temperature  *T*, and that the dependency is to a power 1/2, which is correct:\n",
        "   **$a \\propto \\sqrt{T}$**  or **$a \\propto \\sqrt{1/T}$**? \n",
        "\n",
        "   (in other words, is the dependency on the root of the temperature or on the inverse root of the temperature ?)\n",
        " "
      ]
    },
    {
      "cell_type": "markdown",
      "metadata": {
        "id": "vMGhorbvcrFM"
      },
      "source": [
        "Your answer here: less speed --> less temperature. The depency is direct, then **$a \\propto \\sqrt{T}$**."
      ]
    },
    {
      "cell_type": "markdown",
      "metadata": {
        "id": "hGeeXYttXLO1"
      },
      "source": [
        "\n",
        "# 3) What is the mean of all three distributions. How does it compare to the most probable molecular speed? \n",
        "From the wikipedia page of the Chi distribution find the formula of the mean of the Chi distribution. The distribution we are using has a scale parameter *a* in addition to the number of degrees of freedom. The mean scales linearly with this parameter:\n",
        "\n",
        "$\\mu_{\\mathrm{MB}, k, a} = a \\cdot \\mu_{\\mathrm{chi}, k}$\n",
        "\n",
        "Using the scipy function ```sp.special.gamma()```  calculate the gamma $\\Gamma$ function,\n",
        "\n",
        "**calculate the mean of all three distributions. Compare it with the mean of the empirical distributions I generated in step 1. How does this mean compare to the most probable molecular speed.**"
      ]
    },
    {
      "cell_type": "code",
      "metadata": {
        "ExecuteTime": {
          "end_time": "2019-09-07T17:36:59.245480Z",
          "start_time": "2019-09-07T17:36:59.243338Z"
        },
        "id": "-8htAA4mRAVa",
        "colab": {
          "base_uri": "https://localhost:8080/"
        },
        "outputId": "475faaa1-39be-4166-e499-3ae9517b42ae"
      },
      "source": [
        "# your code here\n",
        "# -- mean of the chi distribution\n",
        "# -- 3 degrees of freedom k = 3\n",
        "mean_chia1 = 0.1*np.sqrt(2) * sp.special.gamma((3+1)/2) / sp.special.gamma((3)/2)\n",
        "mean_chia2 = 0.6*np.sqrt(2) * sp.special.gamma((3+1)/2) / sp.special.gamma((3)/2)\n",
        "mean_chia3 = 1.0*np.sqrt(2) * sp.special.gamma((3+1)/2) / sp.special.gamma((3)/2)\n",
        "print(\"For a = 0.1 the chi mean is: {} \\nFor a = 0.6 the chi mean is: {} \\nFor a = 1.0 the chi mean is: {}\".format(mean_chia1,mean_chia2,chimean_a3))"
      ],
      "execution_count": null,
      "outputs": [
        {
          "output_type": "stream",
          "name": "stdout",
          "text": [
            "For a = 0.1 the chi mean is: 0.15957691216057313 \n",
            "For a = 0.6 the chi mean is: 0.9574614729634385 \n",
            "For a = 1.0 the chi mean is: 1.595769121605731\n"
          ]
        }
      ]
    },
    {
      "cell_type": "code",
      "metadata": {
        "colab": {
          "base_uri": "https://localhost:8080/"
        },
        "id": "uM_-oNDkOA-N",
        "outputId": "1aad01fd-dd3b-4244-e340-272459118866"
      },
      "source": [
        "# -- most probable molecular speed (mean of the data)\n",
        "for i in [0.1, 0.6, 1.0]:\n",
        "  means = sp.stats.chi.rvs(df=3, scale=i, size=1000).mean()\n",
        "  print(\"For a = {} th mean is: {}\".format(i,means))"
      ],
      "execution_count": null,
      "outputs": [
        {
          "output_type": "stream",
          "name": "stdout",
          "text": [
            "For a = 0.1 th mean is: 0.16084897642965174\n",
            "For a = 0.6 th mean is: 0.9652770300168936\n",
            "For a = 1.0 th mean is: 1.5702523298620104\n"
          ]
        }
      ]
    },
    {
      "cell_type": "markdown",
      "metadata": {
        "id": "q3i54UWBPYqt"
      },
      "source": [
        "The mean of the chi distribution for the parameter a < 1 are smaller than the mean of the most probable molecular speed. The mean for a = 1.0 is greater for the mean of the distribution."
      ]
    },
    {
      "cell_type": "markdown",
      "metadata": {
        "id": "r7oes80EQER-"
      },
      "source": [
        "This really only holds for perfect gasses, which means under 4 assumptions: \n",
        "- the diameter of the molecules is much smaller than the distance between them\n",
        "- the collisions between molecules conserve energy\n",
        "- the molecules do not interact between collisions and are not subject to any other forces (move at constant speed in a straight line)\n",
        "- the initial position and velocity are random."
      ]
    },
    {
      "cell_type": "markdown",
      "metadata": {
        "id": "3PJ9hjLzQjyA"
      },
      "source": [
        "# Extra Credit:\n",
        "\n",
        "can you create a python (2D) simulation where the molecules behave as describe and calculate their speed evolution from an initial speed that is gaussian distributed? (rather hard!!)\n"
      ]
    },
    {
      "cell_type": "code",
      "metadata": {
        "ExecuteTime": {
          "end_time": "2019-09-07T17:37:01.623460Z",
          "start_time": "2019-09-07T17:37:01.621218Z"
        },
        "id": "6LJU9GPVRO7B"
      },
      "source": [
        "# your code here"
      ],
      "execution_count": null,
      "outputs": []
    },
    {
      "cell_type": "code",
      "metadata": {
        "id": "WN8ljqmZPCBT"
      },
      "source": [
        ""
      ],
      "execution_count": null,
      "outputs": []
    }
  ]
}