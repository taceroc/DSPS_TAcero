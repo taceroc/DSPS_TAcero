{
  "nbformat": 4,
  "nbformat_minor": 0,
  "metadata": {
    "colab": {
      "name": "hw5.ipynb",
      "provenance": [],
      "collapsed_sections": [],
      "authorship_tag": "ABX9TyNmlt+eTIst9ii1PAtL3CMT",
      "include_colab_link": true
    },
    "kernelspec": {
      "name": "python3",
      "display_name": "Python 3"
    },
    "language_info": {
      "name": "python"
    }
  },
  "cells": [
    {
      "cell_type": "markdown",
      "metadata": {
        "id": "view-in-github",
        "colab_type": "text"
      },
      "source": [
        "<a href=\"https://colab.research.google.com/github/taceroc/DSPS_TAcero/blob/main/hw5/hw5.ipynb\" target=\"_parent\"><img src=\"https://colab.research.google.com/assets/colab-badge.svg\" alt=\"Open In Colab\"/></a>"
      ]
    },
    {
      "cell_type": "code",
      "metadata": {
        "id": "fXB-VimMHKJr"
      },
      "source": [
        "import pandas as pd\n",
        "import numpy as np\n",
        "import matplotlib.pyplot as plt"
      ],
      "execution_count": 1,
      "outputs": []
    },
    {
      "cell_type": "code",
      "metadata": {
        "id": "LkhiB4NbHPTt"
      },
      "source": [
        "data = pd.read_csv(\"https://raw.githubusercontent.com/fedhere/DSPS_FBianco/master/HW5/hbl2017.csv\")"
      ],
      "execution_count": 2,
      "outputs": []
    },
    {
      "cell_type": "code",
      "metadata": {
        "colab": {
          "base_uri": "https://localhost:8080/",
          "height": 206
        },
        "id": "s-yDDtPUHZAD",
        "outputId": "b5698ec6-7c51-48e3-a2bb-c0567adf4efc"
      },
      "source": [
        "data.head()"
      ],
      "execution_count": 3,
      "outputs": [
        {
          "output_type": "execute_result",
          "data": {
            "text/html": [
              "<div>\n",
              "<style scoped>\n",
              "    .dataframe tbody tr th:only-of-type {\n",
              "        vertical-align: middle;\n",
              "    }\n",
              "\n",
              "    .dataframe tbody tr th {\n",
              "        vertical-align: top;\n",
              "    }\n",
              "\n",
              "    .dataframe thead th {\n",
              "        text-align: right;\n",
              "    }\n",
              "</style>\n",
              "<table border=\"1\" class=\"dataframe\">\n",
              "  <thead>\n",
              "    <tr style=\"text-align: right;\">\n",
              "      <th></th>\n",
              "      <th>#ID</th>\n",
              "      <th>x</th>\n",
              "      <th>y</th>\n",
              "      <th>σy</th>\n",
              "      <th>σx</th>\n",
              "      <th>ρxy</th>\n",
              "    </tr>\n",
              "  </thead>\n",
              "  <tbody>\n",
              "    <tr>\n",
              "      <th>0</th>\n",
              "      <td>1</td>\n",
              "      <td>201</td>\n",
              "      <td>592</td>\n",
              "      <td>61</td>\n",
              "      <td>9</td>\n",
              "      <td>-0.84</td>\n",
              "    </tr>\n",
              "    <tr>\n",
              "      <th>1</th>\n",
              "      <td>2</td>\n",
              "      <td>244</td>\n",
              "      <td>401</td>\n",
              "      <td>25</td>\n",
              "      <td>4</td>\n",
              "      <td>0.31</td>\n",
              "    </tr>\n",
              "    <tr>\n",
              "      <th>2</th>\n",
              "      <td>3</td>\n",
              "      <td>47</td>\n",
              "      <td>583</td>\n",
              "      <td>38</td>\n",
              "      <td>11</td>\n",
              "      <td>0.64</td>\n",
              "    </tr>\n",
              "    <tr>\n",
              "      <th>3</th>\n",
              "      <td>4</td>\n",
              "      <td>287</td>\n",
              "      <td>402</td>\n",
              "      <td>15</td>\n",
              "      <td>7</td>\n",
              "      <td>-0.27</td>\n",
              "    </tr>\n",
              "    <tr>\n",
              "      <th>4</th>\n",
              "      <td>5</td>\n",
              "      <td>203</td>\n",
              "      <td>495</td>\n",
              "      <td>21</td>\n",
              "      <td>5</td>\n",
              "      <td>-0.33</td>\n",
              "    </tr>\n",
              "  </tbody>\n",
              "</table>\n",
              "</div>"
            ],
            "text/plain": [
              "   #ID    x    y  σy  σx   ρxy\n",
              "0    1  201  592  61   9 -0.84\n",
              "1    2  244  401  25   4  0.31\n",
              "2    3   47  583  38  11  0.64\n",
              "3    4  287  402  15   7 -0.27\n",
              "4    5  203  495  21   5 -0.33"
            ]
          },
          "metadata": {},
          "execution_count": 3
        }
      ]
    },
    {
      "cell_type": "code",
      "metadata": {
        "id": "0NPlsF3CHZlW"
      },
      "source": [
        "# -- select columns that I need\n",
        "data_new = data.copy()[4:][[\"#ID\", \"x\", \"y\", \"σy\"]]"
      ],
      "execution_count": 4,
      "outputs": []
    },
    {
      "cell_type": "code",
      "metadata": {
        "colab": {
          "base_uri": "https://localhost:8080/",
          "height": 206
        },
        "id": "ztusIY_EHiLU",
        "outputId": "ae6d6ce9-ecd9-49dd-f6ff-28db498c4a2f"
      },
      "source": [
        "data_new.head()"
      ],
      "execution_count": 5,
      "outputs": [
        {
          "output_type": "execute_result",
          "data": {
            "text/html": [
              "<div>\n",
              "<style scoped>\n",
              "    .dataframe tbody tr th:only-of-type {\n",
              "        vertical-align: middle;\n",
              "    }\n",
              "\n",
              "    .dataframe tbody tr th {\n",
              "        vertical-align: top;\n",
              "    }\n",
              "\n",
              "    .dataframe thead th {\n",
              "        text-align: right;\n",
              "    }\n",
              "</style>\n",
              "<table border=\"1\" class=\"dataframe\">\n",
              "  <thead>\n",
              "    <tr style=\"text-align: right;\">\n",
              "      <th></th>\n",
              "      <th>#ID</th>\n",
              "      <th>x</th>\n",
              "      <th>y</th>\n",
              "      <th>σy</th>\n",
              "    </tr>\n",
              "  </thead>\n",
              "  <tbody>\n",
              "    <tr>\n",
              "      <th>4</th>\n",
              "      <td>5</td>\n",
              "      <td>203</td>\n",
              "      <td>495</td>\n",
              "      <td>21</td>\n",
              "    </tr>\n",
              "    <tr>\n",
              "      <th>5</th>\n",
              "      <td>6</td>\n",
              "      <td>58</td>\n",
              "      <td>173</td>\n",
              "      <td>15</td>\n",
              "    </tr>\n",
              "    <tr>\n",
              "      <th>6</th>\n",
              "      <td>7</td>\n",
              "      <td>210</td>\n",
              "      <td>479</td>\n",
              "      <td>27</td>\n",
              "    </tr>\n",
              "    <tr>\n",
              "      <th>7</th>\n",
              "      <td>8</td>\n",
              "      <td>202</td>\n",
              "      <td>504</td>\n",
              "      <td>14</td>\n",
              "    </tr>\n",
              "    <tr>\n",
              "      <th>8</th>\n",
              "      <td>9</td>\n",
              "      <td>198</td>\n",
              "      <td>510</td>\n",
              "      <td>30</td>\n",
              "    </tr>\n",
              "  </tbody>\n",
              "</table>\n",
              "</div>"
            ],
            "text/plain": [
              "   #ID    x    y  σy\n",
              "4    5  203  495  21\n",
              "5    6   58  173  15\n",
              "6    7  210  479  27\n",
              "7    8  202  504  14\n",
              "8    9  198  510  30"
            ]
          },
          "metadata": {},
          "execution_count": 5
        }
      ]
    },
    {
      "cell_type": "code",
      "metadata": {
        "colab": {
          "base_uri": "https://localhost:8080/",
          "height": 297
        },
        "id": "zJ8VlqW1HwfU",
        "outputId": "a7fcf371-39f8-416a-bccd-ff7f82e0e90f"
      },
      "source": [
        "# -- plot to see\n",
        "plt.errorbar(data_new[\"x\"], data_new[\"y\"], yerr = data_new[\"σy\"], fmt = \"o\")\n",
        "plt.xlabel(\"x\")\n",
        "plt.ylabel(\"y\")"
      ],
      "execution_count": 6,
      "outputs": [
        {
          "output_type": "execute_result",
          "data": {
            "text/plain": [
              "Text(0, 0.5, 'y')"
            ]
          },
          "metadata": {},
          "execution_count": 6
        },
        {
          "output_type": "display_data",
          "data": {
            "image/png": "[encoded data removed]",
            "text/plain": [
              "<Figure size 432x288 with 1 Axes>"
            ]
          },
          "metadata": {
            "needs_background": "light"
          }
        }
      ]
    },
    {
      "cell_type": "code",
      "metadata": {
        "colab": {
          "base_uri": "https://localhost:8080/"
        },
        "id": "dCIry4ZnH8MB",
        "outputId": "cf6205fb-404c-431e-fe76-4fe15797f310"
      },
      "source": [
        "# -- extract the data as np arrays\n",
        "xx = data_new[\"x\"].to_numpy()\n",
        "yy = data_new[\"y\"].to_numpy()\n",
        "xx"
      ],
      "execution_count": 7,
      "outputs": [
        {
          "output_type": "execute_result",
          "data": {
            "text/plain": [
              "array([203,  58, 210, 202, 198, 158, 165, 201, 157, 131, 166, 160, 186,\n",
              "       125, 218, 146])"
            ]
          },
          "metadata": {},
          "execution_count": 7
        }
      ]
    },
    {
      "cell_type": "code",
      "metadata": {
        "colab": {
          "base_uri": "https://localhost:8080/"
        },
        "id": "9CAzGjcCI63a",
        "outputId": "9a6b373f-060c-439e-d0e8-9a09f5cbfe09"
      },
      "source": [
        "# -- define matrix A that is one column full of 1s and another corresponding to the x values\n",
        "AA = np.array([[1,i] for i in xx])\n",
        "AA"
      ],
      "execution_count": 8,
      "outputs": [
        {
          "output_type": "execute_result",
          "data": {
            "text/plain": [
              "array([[  1, 203],\n",
              "       [  1,  58],\n",
              "       [  1, 210],\n",
              "       [  1, 202],\n",
              "       [  1, 198],\n",
              "       [  1, 158],\n",
              "       [  1, 165],\n",
              "       [  1, 201],\n",
              "       [  1, 157],\n",
              "       [  1, 131],\n",
              "       [  1, 166],\n",
              "       [  1, 160],\n",
              "       [  1, 186],\n",
              "       [  1, 125],\n",
              "       [  1, 218],\n",
              "       [  1, 146]])"
            ]
          },
          "metadata": {},
          "execution_count": 8
        }
      ]
    },
    {
      "cell_type": "code",
      "metadata": {
        "colab": {
          "base_uri": "https://localhost:8080/"
        },
        "id": "h3GqCF9aJI9I",
        "outputId": "e5cacfb3-5c94-4222-8925-7602fae0db44"
      },
      "source": [
        "# -- define matrix Y that is one column of the y values\n",
        "YY = np.array([[i] for i in yy])\n",
        "YY"
      ],
      "execution_count": 9,
      "outputs": [
        {
          "output_type": "execute_result",
          "data": {
            "text/plain": [
              "array([[495],\n",
              "       [173],\n",
              "       [479],\n",
              "       [504],\n",
              "       [510],\n",
              "       [416],\n",
              "       [393],\n",
              "       [442],\n",
              "       [317],\n",
              "       [311],\n",
              "       [400],\n",
              "       [337],\n",
              "       [423],\n",
              "       [334],\n",
              "       [533],\n",
              "       [344]])"
            ]
          },
          "metadata": {},
          "execution_count": 9
        }
      ]
    },
    {
      "cell_type": "code",
      "metadata": {
        "id": "wC86xhpfJaQc"
      },
      "source": [
        "# -- define C that is a diagaonal matrix of the square of the sigmay\n",
        "CC = np.zeros((len(data_new),len(data_new)))\n",
        "np.fill_diagonal(CC, data_new[\"σy\"]**2)"
      ],
      "execution_count": 10,
      "outputs": []
    },
    {
      "cell_type": "code",
      "metadata": {
        "id": "ailXB_w1KrXB"
      },
      "source": [
        "# -- [A^T C^-1 A]^-1\n",
        "one_part = AA.transpose().dot(np.linalg.inv(CC).dot(AA))"
      ],
      "execution_count": 11,
      "outputs": []
    },
    {
      "cell_type": "code",
      "metadata": {
        "id": "wbqkNIgtLLIS"
      },
      "source": [
        "# -- [A^T C^-1 Y]\n",
        "second_part = AA.transpose().dot(np.linalg.inv(CC).dot(YY))"
      ],
      "execution_count": 12,
      "outputs": []
    },
    {
      "cell_type": "code",
      "metadata": {
        "id": "IUFLEsKaLcC0"
      },
      "source": [
        "rr = np.linalg.inv(one_part).dot(second_part)"
      ],
      "execution_count": 13,
      "outputs": []
    },
    {
      "cell_type": "code",
      "metadata": {
        "colab": {
          "base_uri": "https://localhost:8080/",
          "height": 297
        },
        "id": "71-hnYe8Lg9U",
        "outputId": "292c372d-0121-452a-ec4b-14bb6dc3c838"
      },
      "source": [
        "x = np.linspace(min(xx) - 20,max(xx) + 20,10)\n",
        "# -- square root of the diagonal of the [A^TC^-1A]^-1 that is the covariance matrix\n",
        "sigmas = np.sqrt(np.diag(np.linalg.inv(one_part)))\n",
        "plt.errorbar(data_new[\"x\"], data_new[\"y\"], yerr = data_new[\"σy\"], fmt = \"o\")\n",
        "plt.plot(x, rr[1]*x+rr[0])\n",
        "plt.text(120, 200, \"y = ({:.2f} $\\pm$ {:.2f})x + ({:.0f} $\\pm$ {:.0f})\".format(rr[1][0], sigmas[1], rr[0][0], sigmas[0]))\n",
        "plt.xlabel(\"x\")\n",
        "plt.ylabel(\"y\")"
      ],
      "execution_count": 14,
      "outputs": [
        {
          "output_type": "execute_result",
          "data": {
            "text/plain": [
              "Text(0, 0.5, 'y')"
            ]
          },
          "metadata": {},
          "execution_count": 14
        },
        {
          "output_type": "display_data",
          "data": {
            "image/png": "[encoded data removed]",
            "text/plain": [
              "<Figure size 432x288 with 1 Axes>"
            ]
          },
          "metadata": {
            "needs_background": "light"
          }
        }
      ]
    },
    {
      "cell_type": "markdown",
      "metadata": {
        "id": "i8L5vJdw8hts"
      },
      "source": [
        "### Figure: Partial data from file with the respetive error bar for each point. In orange is the line fitted follwing the algebraic procediment. The uncertainity of the slop and for the intersection point came from the covariance matrix, that is $[\\mathbf{A}^T\\mathbf{C}^{-1}\\mathbf{A}]^{-1}$. \n",
        "### The values are the square root of the diagonal."
      ]
    },
    {
      "cell_type": "code",
      "metadata": {
        "id": "dkHyyjUJM3FP"
      },
      "source": [
        "# -- put all the line above in a function\n",
        "def line_fit(df):\n",
        "  xx = df[\"x\"].to_numpy()\n",
        "  yy = df[\"y\"].to_numpy()\n",
        "  AA = np.array([[1,i] for i in xx])\n",
        "  YY = np.array([[i] for i in yy])\n",
        "  CC = np.zeros((len(df),len(df)))\n",
        "  np.fill_diagonal(CC, df[\"σy\"]**2)\n",
        "  one_part = AA.transpose().dot(np.linalg.inv(CC).dot(AA))\n",
        "  sigmas = np.sqrt(np.diag(np.linalg.inv(one_part)))\n",
        "  second_part = AA.transpose().dot(np.linalg.inv(CC).dot(YY))\n",
        "  rr = np.linalg.inv(one_part).dot(second_part)\n",
        "\n",
        "  return rr, sigmas"
      ],
      "execution_count": 15,
      "outputs": []
    },
    {
      "cell_type": "markdown",
      "metadata": {
        "id": "1Y1w9h4mOCMd"
      },
      "source": [
        "## Exercise 2:"
      ]
    },
    {
      "cell_type": "code",
      "metadata": {
        "id": "ll-mE4DfOFrl"
      },
      "source": [
        "data = data[[\"#ID\", \"x\", \"y\", \"σy\"]]\n",
        "rr_full, sigmas_full = line_fit(data)"
      ],
      "execution_count": 16,
      "outputs": []
    },
    {
      "cell_type": "code",
      "metadata": {
        "colab": {
          "base_uri": "https://localhost:8080/",
          "height": 297
        },
        "id": "arCpktQEOqO4",
        "outputId": "279b4932-410f-4ec6-d0e6-d9ffe8bb4b07"
      },
      "source": [
        "x = np.linspace(min(data[\"x\"]) - 20,max(data[\"x\"]) + 20,10)\n",
        "# -- square root of the diagonal of the [A^TC^-1A]^-1 that is the covariance matrix\n",
        "plt.errorbar(data[\"x\"], data[\"y\"], yerr = data[\"σy\"], fmt = \"o\")\n",
        "plt.plot(x, rr_full[1]*x+rr_full[0])\n",
        "plt.text(120, 200, r\"y = ({:.2f} $\\pm$ {:.2f})x + ({:.0f} $\\pm$ {:.0f})\".format(rr_full[1][0], sigmas_full[1], \n",
        "                                                                                rr_full[0][0], sigmas_full[0]))\n",
        "plt.xlabel(\"x\")\n",
        "plt.ylabel(\"y\")"
      ],
      "execution_count": 17,
      "outputs": [
        {
          "output_type": "execute_result",
          "data": {
            "text/plain": [
              "Text(0, 0.5, 'y')"
            ]
          },
          "metadata": {},
          "execution_count": 17
        },
        {
          "output_type": "display_data",
          "data": {
            "image/png": "[encoded data removed]",
            "text/plain": [
              "<Figure size 432x288 with 1 Axes>"
            ]
          },
          "metadata": {
            "needs_background": "light"
          }
        }
      ]
    },
    {
      "cell_type": "markdown",
      "metadata": {
        "id": "erzl_yu78Kpj"
      },
      "source": [
        "### Figure: All data from file with the respetive error bar for each point. In orange is the line fitted follwing the algebraic procediment. "
      ]
    },
    {
      "cell_type": "markdown",
      "metadata": {
        "id": "xY6GLH9hREgh"
      },
      "source": [
        "## Exercise 3:"
      ]
    },
    {
      "cell_type": "code",
      "metadata": {
        "id": "0je9IIi_O6H5"
      },
      "source": [
        "# -- add the quadratic term\n",
        "def line_fitqq(df):\n",
        "  xx = df[\"x\"].to_numpy()\n",
        "  yy = df[\"y\"].to_numpy()\n",
        "  xxx = df[\"x\"].to_numpy()**2\n",
        "  AA = np.array([[1,xx[i],xxx[i]] for i in range(len(xx))])\n",
        "  YY = np.array([[i] for i in yy])\n",
        "  CC = np.zeros((len(df),len(df)))\n",
        "  np.fill_diagonal(CC, df[\"σy\"]**2)\n",
        "  one_part = AA.transpose().dot(np.linalg.inv(CC).dot(AA))\n",
        "  sigmas = np.sqrt(np.diag(np.linalg.inv(one_part)))\n",
        "  second_part = AA.transpose().dot(np.linalg.inv(CC).dot(YY))\n",
        "  rr = np.linalg.inv(one_part).dot(second_part)\n",
        "\n",
        "  return rr, sigmas"
      ],
      "execution_count": 18,
      "outputs": []
    },
    {
      "cell_type": "code",
      "metadata": {
        "colab": {
          "base_uri": "https://localhost:8080/"
        },
        "id": "gKXjqXBPPwWZ",
        "outputId": "55e30bee-769f-4eb8-932d-05ebdee4e897"
      },
      "source": [
        "rr_fullqq, sigmas_fullqq = line_fitqq(data_new)\n",
        "rr_fullqq[2]"
      ],
      "execution_count": 19,
      "outputs": [
        {
          "output_type": "execute_result",
          "data": {
            "text/plain": [
              "array([0.00229889])"
            ]
          },
          "metadata": {},
          "execution_count": 19
        }
      ]
    },
    {
      "cell_type": "code",
      "metadata": {
        "colab": {
          "base_uri": "https://localhost:8080/",
          "height": 299
        },
        "id": "M-s30whpP9Ta",
        "outputId": "32b7f92f-91b7-4bb3-cf8c-3db56d506de8"
      },
      "source": [
        "x = np.linspace(min(data_new[\"x\"]) - 20,max(data_new[\"x\"]) + 20,10)\n",
        "# -- square root of the diagonal of the [A^TC^-1A]^-1 that is the covariance matrix\n",
        "plt.errorbar(data_new[\"x\"], data_new[\"y\"], yerr = data_new[\"σy\"], fmt = \"o\")\n",
        "plt.plot(x, rr_fullqq[2]*x**2 + rr_fullqq[1]*x+rr_fullqq[0])\n",
        "plt.text(65, 160, r\"y = ({:.4f} $\\pm$ {:.4f})x$^2$ + ({:.2f} $\\pm$ {:.2f})x + ({:.0f} $\\pm$ {:.0f})\".format(rr_fullqq[2][0], sigmas_fullqq[2],\n",
        "                                                                                                           rr_fullqq[1][0], sigmas_fullqq[1], \n",
        "                                                                                rr_fullqq[0][0], sigmas_fullqq[0]))\n",
        "plt.xlabel(\"x\")\n",
        "plt.ylabel(\"y\")"
      ],
      "execution_count": 20,
      "outputs": [
        {
          "output_type": "execute_result",
          "data": {
            "text/plain": [
              "Text(0, 0.5, 'y')"
            ]
          },
          "metadata": {},
          "execution_count": 20
        },
        {
          "output_type": "display_data",
          "data": {
            "image/png": "[encoded data removed]",
            "text/plain": [
              "<Figure size 432x288 with 1 Axes>"
            ]
          },
          "metadata": {
            "needs_background": "light"
          }
        }
      ]
    },
    {
      "cell_type": "markdown",
      "metadata": {
        "id": "TClNSDSr9lzM"
      },
      "source": [
        "### Figure: Partial data from file with the respetive error bar for each point. In orange is the polynom fitted follwing the algebraic procediment. The fit was done the same as for the linear fit, but, in this case, a quadratic term was added."
      ]
    },
    {
      "cell_type": "markdown",
      "metadata": {
        "id": "KGEEopljRMi0"
      },
      "source": [
        "## Exercise 4:\n",
        "Imagine a set of $N$ measurements $t_i$, with uncertainty variances $\\sigma^2_{t_i}$, all of the same (unknown) quantity $T$ . Assuming the generative model that each $t_i$ differs from $T$ by a Gaussian-distributed offset, taken from a Gaussian with zero mean and variance $\\sigma^2_{t_i}$, write down an expression for the log likelihood $\\ln L$ for the data given the model parameter $T$ . Take a derivative and show that the maximum likelihood value for $T$ is the usual weighted mean.\n",
        "\n",
        "\n",
        "\\begin{align}\n",
        "  &\\sigma_{t_i}^2 = T\\\\\n",
        "  &\\text{The likelihood function is the product of the distribution that describe each data point, in this case, the product of gaussians distributions:}\\\\\n",
        "  &L = p({t_i}| \\mu, T) = \\prod_{i=1}^N \\frac{1}{\\sqrt{2\\pi T}}\\exp\\left(-\\frac{(t_i - \\mu)^2}{2T}\\right).\\\\\n",
        "  &\\text{Take the log to both sides, and use properties of the log}\\\\\n",
        "  &\\ln(L(\\mu, T)) = \\sum_{i=1}^N \\ln\\left(\\frac{1}{\\sqrt{2\\pi T}}\\right) - \\sum_{i=1}^N \\frac{(t_i - \\mu)^2}{2T},\\\\\n",
        "  &\\ln(L(\\mu, T)) = -\\frac{N}{2}\\ln(2\\pi T) - \\frac{1}{2T}\\sum_{i=1}^N (t_i - \\mu)^2,\\\\\n",
        "  &\\text{The maximum of the likelihood is the derivative with respect to T and equal to zero}\\\\\n",
        "  &\\frac{d\\ln(L(\\mu, T))}{dT} = 0\\\\\n",
        "  &\\frac{d\\ln(L(\\mu, T))}{dT} =-\\frac{N}{2T}+  \\frac{1}{2T^2}\\sum_{i=1}^N (t_i - \\mu)^2 = 0\\\\\n",
        "  &\\frac{1}{T}\\sum_{i=1}^N (t_i-\\mu)^2 = N\\\\\n",
        "  &T = \\frac{1}{N}\\sum_{i=1}^N(t_i-\\mu)^2 \n",
        "\\end{align}\n",
        "\n"
      ]
    },
    {
      "cell_type": "code",
      "metadata": {
        "id": "dBT2eylOQSVV"
      },
      "source": [
        ""
      ],
      "execution_count": null,
      "outputs": []
    }
  ]
}