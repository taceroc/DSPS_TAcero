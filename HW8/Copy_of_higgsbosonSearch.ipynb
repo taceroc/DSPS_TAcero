{
  "nbformat": 4,
  "nbformat_minor": 0,
  "metadata": {
    "accelerator": "GPU",
    "colab": {
      "name": "Copy of higgsbosonSearch.ipynb",
      "provenance": [],
      "collapsed_sections": [],
      "include_colab_link": true
    },
    "kernelspec": {
      "display_name": "Python 3",
      "name": "python3"
    }
  },
  "cells": [
    {
      "cell_type": "markdown",
      "metadata": {
        "id": "view-in-github",
        "colab_type": "text"
      },
      "source": [
        "<a href=\"https://colab.research.google.com/github/taceroc/DSPS_TAcero/blob/main/HW8/Copy_of_higgsbosonSearch.ipynb\" target=\"_parent\"><img src=\"https://colab.research.google.com/assets/colab-badge.svg\" alt=\"Open In Colab\"/></a>"
      ]
    },
    {
      "cell_type": "code",
      "metadata": {
        "colab": {
          "base_uri": "https://localhost:8080/"
        },
        "id": "-xpw06PzTsU6",
        "outputId": "57fc4d22-5dbc-47a3-8eb9-7576a0ef1101"
      },
      "source": [
        "from google.colab import drive\n",
        "drive.mount('/content/drive')"
      ],
      "execution_count": null,
      "outputs": [
        {
          "output_type": "stream",
          "name": "stdout",
          "text": [
            "Mounted at /content/drive\n"
          ]
        }
      ]
    },
    {
      "cell_type": "markdown",
      "metadata": {
        "id": "nS4S7msAPK_R"
      },
      "source": [
        "- Download the Higgs boson data from Kaggle (programmatically within the notebook)\n",
        "see how I did it in the Titanic Trees notebook https://github.com/fedhere/DSPS/blob/master/lab9/titanictree.ipynb\n",
        "\n",
        "find the correct API link here https://www.kaggle.com/c/higgs-boson/data\n"
      ]
    },
    {
      "cell_type": "code",
      "metadata": {
        "colab": {
          "base_uri": "https://localhost:8080/"
        },
        "id": "8g1fxFhwtMMS",
        "outputId": "05cae0c5-84ba-460e-aa5d-238967be05be"
      },
      "source": [
        "cd /content/drive/MyDrive/DSPS_2021/HW8/"
      ],
      "execution_count": null,
      "outputs": [
        {
          "output_type": "stream",
          "name": "stdout",
          "text": [
            "/content/drive/MyDrive/DSPS_2021/HW8\n"
          ]
        }
      ]
    },
    {
      "cell_type": "code",
      "metadata": {
        "id": "_ffBvG0yugmH"
      },
      "source": [
        "# !mkdir .kaggle/"
      ],
      "execution_count": null,
      "outputs": []
    },
    {
      "cell_type": "code",
      "metadata": {
        "id": "s3ZPd4p5uhd-"
      },
      "source": [
        "# !mv kaggle.json .kaggle"
      ],
      "execution_count": null,
      "outputs": []
    },
    {
      "cell_type": "code",
      "metadata": {
        "colab": {
          "base_uri": "https://localhost:8080/"
        },
        "id": "Y70EvcQfukOz",
        "outputId": "7cbd4f35-dcb4-4b78-f6c3-b5fe859c5e11"
      },
      "source": [
        "ls -a"
      ],
      "execution_count": null,
      "outputs": [
        {
          "output_type": "stream",
          "name": "stdout",
          "text": [
            "'Copy of higgsbosonSearch.ipynb'           random_submission.zip   training.zip\n",
            " HiggsBosonCompetition_AMSMetric_rev1.py   test.zip\n",
            " \u001b[0m\u001b[01;34m.kaggle\u001b[0m/                                  training.csv\n"
          ]
        }
      ]
    },
    {
      "cell_type": "code",
      "metadata": {
        "id": "wzVneJeZuntb"
      },
      "source": [
        "# !chmod 600 .kaggle/kaggle.json"
      ],
      "execution_count": null,
      "outputs": []
    },
    {
      "cell_type": "code",
      "metadata": {
        "id": "qKTsq79buyNC"
      },
      "source": [
        "# import json\n",
        "# import os\n",
        "# envs = json.load(open(\".kaggle/kaggle.json\", \"r\"))"
      ],
      "execution_count": null,
      "outputs": []
    },
    {
      "cell_type": "code",
      "metadata": {
        "id": "kfOzbJO9u1JP"
      },
      "source": [
        "# os.environ[\"KAGGLE_USERNAME\"] = envs[\"username\"]\n",
        "# os.environ[\"KAGGLE_KEY\"] = envs[\"key\"]"
      ],
      "execution_count": null,
      "outputs": []
    },
    {
      "cell_type": "code",
      "metadata": {
        "id": "aNy9zCEis8Ti"
      },
      "source": [
        "# ! kaggle competitions download -c higgs-boson"
      ],
      "execution_count": null,
      "outputs": []
    },
    {
      "cell_type": "markdown",
      "metadata": {
        "id": "KMuvMJgOnlYo"
      },
      "source": [
        "\n",
        "- Read in the trainind data. Split the provided training data into a training and a test set. \n",
        "The last 2 columns are what you want to predict: \"weight\" and \"label\".\n",
        "Remove them from the input data and create a separate variable label and a separate variable weight, which will be your target variables for, respectively, classification and regression.\n",
        "\n"
      ]
    },
    {
      "cell_type": "code",
      "metadata": {
        "id": "sq2TPpg3v1rG"
      },
      "source": [
        "# ! unzip training.zip"
      ],
      "execution_count": null,
      "outputs": []
    },
    {
      "cell_type": "code",
      "metadata": {
        "colab": {
          "base_uri": "https://localhost:8080/"
        },
        "id": "QncFXxr7xogC",
        "outputId": "6dd59eeb-ea17-40a2-a102-e1970f926f7b"
      },
      "source": [
        "import pandas as pd\n",
        "import json\n",
        "import os\n",
        "import pylab as pl\n",
        "import matplotlib.pyplot as plt\n",
        "import numpy as np\n",
        "%pylab inline\n",
        "\n"
      ],
      "execution_count": null,
      "outputs": [
        {
          "output_type": "stream",
          "name": "stdout",
          "text": [
            "Populating the interactive namespace from numpy and matplotlib\n"
          ]
        }
      ]
    },
    {
      "cell_type": "code",
      "metadata": {
        "id": "7Q7k0Ha_xkeO"
      },
      "source": [
        "higgsdata = pd.read_csv(\"training.csv\")"
      ],
      "execution_count": null,
      "outputs": []
    },
    {
      "cell_type": "code",
      "metadata": {
        "colab": {
          "base_uri": "https://localhost:8080/",
          "height": 226
        },
        "id": "96IhQwDsxqkx",
        "outputId": "d0eb77f3-5826-41d3-9722-07627920235a"
      },
      "source": [
        "higgsdata.head()"
      ],
      "execution_count": null,
      "outputs": [
        {
          "output_type": "execute_result",
          "data": {
            "text/html": [
              "<div>\n",
              "<style scoped>\n",
              "    .dataframe tbody tr th:only-of-type {\n",
              "        vertical-align: middle;\n",
              "    }\n",
              "\n",
              "    .dataframe tbody tr th {\n",
              "        vertical-align: top;\n",
              "    }\n",
              "\n",
              "    .dataframe thead th {\n",
              "        text-align: right;\n",
              "    }\n",
              "</style>\n",
              "<table border=\"1\" class=\"dataframe\">\n",
              "  <thead>\n",
              "    <tr style=\"text-align: right;\">\n",
              "      <th></th>\n",
              "      <th>EventId</th>\n",
              "      <th>DER_mass_MMC</th>\n",
              "      <th>DER_mass_transverse_met_lep</th>\n",
              "      <th>DER_mass_vis</th>\n",
              "      <th>DER_pt_h</th>\n",
              "      <th>DER_deltaeta_jet_jet</th>\n",
              "      <th>DER_mass_jet_jet</th>\n",
              "      <th>DER_prodeta_jet_jet</th>\n",
              "      <th>DER_deltar_tau_lep</th>\n",
              "      <th>DER_pt_tot</th>\n",
              "      <th>DER_sum_pt</th>\n",
              "      <th>DER_pt_ratio_lep_tau</th>\n",
              "      <th>DER_met_phi_centrality</th>\n",
              "      <th>DER_lep_eta_centrality</th>\n",
              "      <th>PRI_tau_pt</th>\n",
              "      <th>PRI_tau_eta</th>\n",
              "      <th>PRI_tau_phi</th>\n",
              "      <th>PRI_lep_pt</th>\n",
              "      <th>PRI_lep_eta</th>\n",
              "      <th>PRI_lep_phi</th>\n",
              "      <th>PRI_met</th>\n",
              "      <th>PRI_met_phi</th>\n",
              "      <th>PRI_met_sumet</th>\n",
              "      <th>PRI_jet_num</th>\n",
              "      <th>PRI_jet_leading_pt</th>\n",
              "      <th>PRI_jet_leading_eta</th>\n",
              "      <th>PRI_jet_leading_phi</th>\n",
              "      <th>PRI_jet_subleading_pt</th>\n",
              "      <th>PRI_jet_subleading_eta</th>\n",
              "      <th>PRI_jet_subleading_phi</th>\n",
              "      <th>PRI_jet_all_pt</th>\n",
              "      <th>Weight</th>\n",
              "      <th>Label</th>\n",
              "    </tr>\n",
              "  </thead>\n",
              "  <tbody>\n",
              "    <tr>\n",
              "      <th>0</th>\n",
              "      <td>100000</td>\n",
              "      <td>138.470</td>\n",
              "      <td>51.655</td>\n",
              "      <td>97.827</td>\n",
              "      <td>27.980</td>\n",
              "      <td>0.91</td>\n",
              "      <td>124.711</td>\n",
              "      <td>2.666</td>\n",
              "      <td>3.064</td>\n",
              "      <td>41.928</td>\n",
              "      <td>197.760</td>\n",
              "      <td>1.582</td>\n",
              "      <td>1.396</td>\n",
              "      <td>0.2</td>\n",
              "      <td>32.638</td>\n",
              "      <td>1.017</td>\n",
              "      <td>0.381</td>\n",
              "      <td>51.626</td>\n",
              "      <td>2.273</td>\n",
              "      <td>-2.414</td>\n",
              "      <td>16.824</td>\n",
              "      <td>-0.277</td>\n",
              "      <td>258.733</td>\n",
              "      <td>2</td>\n",
              "      <td>67.435</td>\n",
              "      <td>2.150</td>\n",
              "      <td>0.444</td>\n",
              "      <td>46.062</td>\n",
              "      <td>1.24</td>\n",
              "      <td>-2.475</td>\n",
              "      <td>113.497</td>\n",
              "      <td>0.002653</td>\n",
              "      <td>s</td>\n",
              "    </tr>\n",
              "    <tr>\n",
              "      <th>1</th>\n",
              "      <td>100001</td>\n",
              "      <td>160.937</td>\n",
              "      <td>68.768</td>\n",
              "      <td>103.235</td>\n",
              "      <td>48.146</td>\n",
              "      <td>-999.00</td>\n",
              "      <td>-999.000</td>\n",
              "      <td>-999.000</td>\n",
              "      <td>3.473</td>\n",
              "      <td>2.078</td>\n",
              "      <td>125.157</td>\n",
              "      <td>0.879</td>\n",
              "      <td>1.414</td>\n",
              "      <td>-999.0</td>\n",
              "      <td>42.014</td>\n",
              "      <td>2.039</td>\n",
              "      <td>-3.011</td>\n",
              "      <td>36.918</td>\n",
              "      <td>0.501</td>\n",
              "      <td>0.103</td>\n",
              "      <td>44.704</td>\n",
              "      <td>-1.916</td>\n",
              "      <td>164.546</td>\n",
              "      <td>1</td>\n",
              "      <td>46.226</td>\n",
              "      <td>0.725</td>\n",
              "      <td>1.158</td>\n",
              "      <td>-999.000</td>\n",
              "      <td>-999.00</td>\n",
              "      <td>-999.000</td>\n",
              "      <td>46.226</td>\n",
              "      <td>2.233584</td>\n",
              "      <td>b</td>\n",
              "    </tr>\n",
              "    <tr>\n",
              "      <th>2</th>\n",
              "      <td>100002</td>\n",
              "      <td>-999.000</td>\n",
              "      <td>162.172</td>\n",
              "      <td>125.953</td>\n",
              "      <td>35.635</td>\n",
              "      <td>-999.00</td>\n",
              "      <td>-999.000</td>\n",
              "      <td>-999.000</td>\n",
              "      <td>3.148</td>\n",
              "      <td>9.336</td>\n",
              "      <td>197.814</td>\n",
              "      <td>3.776</td>\n",
              "      <td>1.414</td>\n",
              "      <td>-999.0</td>\n",
              "      <td>32.154</td>\n",
              "      <td>-0.705</td>\n",
              "      <td>-2.093</td>\n",
              "      <td>121.409</td>\n",
              "      <td>-0.953</td>\n",
              "      <td>1.052</td>\n",
              "      <td>54.283</td>\n",
              "      <td>-2.186</td>\n",
              "      <td>260.414</td>\n",
              "      <td>1</td>\n",
              "      <td>44.251</td>\n",
              "      <td>2.053</td>\n",
              "      <td>-2.028</td>\n",
              "      <td>-999.000</td>\n",
              "      <td>-999.00</td>\n",
              "      <td>-999.000</td>\n",
              "      <td>44.251</td>\n",
              "      <td>2.347389</td>\n",
              "      <td>b</td>\n",
              "    </tr>\n",
              "    <tr>\n",
              "      <th>3</th>\n",
              "      <td>100003</td>\n",
              "      <td>143.905</td>\n",
              "      <td>81.417</td>\n",
              "      <td>80.943</td>\n",
              "      <td>0.414</td>\n",
              "      <td>-999.00</td>\n",
              "      <td>-999.000</td>\n",
              "      <td>-999.000</td>\n",
              "      <td>3.310</td>\n",
              "      <td>0.414</td>\n",
              "      <td>75.968</td>\n",
              "      <td>2.354</td>\n",
              "      <td>-1.285</td>\n",
              "      <td>-999.0</td>\n",
              "      <td>22.647</td>\n",
              "      <td>-1.655</td>\n",
              "      <td>0.010</td>\n",
              "      <td>53.321</td>\n",
              "      <td>-0.522</td>\n",
              "      <td>-3.100</td>\n",
              "      <td>31.082</td>\n",
              "      <td>0.060</td>\n",
              "      <td>86.062</td>\n",
              "      <td>0</td>\n",
              "      <td>-999.000</td>\n",
              "      <td>-999.000</td>\n",
              "      <td>-999.000</td>\n",
              "      <td>-999.000</td>\n",
              "      <td>-999.00</td>\n",
              "      <td>-999.000</td>\n",
              "      <td>-0.000</td>\n",
              "      <td>5.446378</td>\n",
              "      <td>b</td>\n",
              "    </tr>\n",
              "    <tr>\n",
              "      <th>4</th>\n",
              "      <td>100004</td>\n",
              "      <td>175.864</td>\n",
              "      <td>16.915</td>\n",
              "      <td>134.805</td>\n",
              "      <td>16.405</td>\n",
              "      <td>-999.00</td>\n",
              "      <td>-999.000</td>\n",
              "      <td>-999.000</td>\n",
              "      <td>3.891</td>\n",
              "      <td>16.405</td>\n",
              "      <td>57.983</td>\n",
              "      <td>1.056</td>\n",
              "      <td>-1.385</td>\n",
              "      <td>-999.0</td>\n",
              "      <td>28.209</td>\n",
              "      <td>-2.197</td>\n",
              "      <td>-2.231</td>\n",
              "      <td>29.774</td>\n",
              "      <td>0.798</td>\n",
              "      <td>1.569</td>\n",
              "      <td>2.723</td>\n",
              "      <td>-0.871</td>\n",
              "      <td>53.131</td>\n",
              "      <td>0</td>\n",
              "      <td>-999.000</td>\n",
              "      <td>-999.000</td>\n",
              "      <td>-999.000</td>\n",
              "      <td>-999.000</td>\n",
              "      <td>-999.00</td>\n",
              "      <td>-999.000</td>\n",
              "      <td>0.000</td>\n",
              "      <td>6.245333</td>\n",
              "      <td>b</td>\n",
              "    </tr>\n",
              "  </tbody>\n",
              "</table>\n",
              "</div>"
            ],
            "text/plain": [
              "   EventId  DER_mass_MMC  ...    Weight  Label\n",
              "0   100000       138.470  ...  0.002653      s\n",
              "1   100001       160.937  ...  2.233584      b\n",
              "2   100002      -999.000  ...  2.347389      b\n",
              "3   100003       143.905  ...  5.446378      b\n",
              "4   100004       175.864  ...  6.245333      b\n",
              "\n",
              "[5 rows x 33 columns]"
            ]
          },
          "metadata": {},
          "execution_count": 5
        }
      ]
    },
    {
      "cell_type": "code",
      "metadata": {
        "id": "muWGBHN90IPN"
      },
      "source": [
        "# higgsdata.head()"
      ],
      "execution_count": null,
      "outputs": []
    },
    {
      "cell_type": "code",
      "metadata": {
        "colab": {
          "base_uri": "https://localhost:8080/",
          "height": 320
        },
        "id": "ICZ6kwv1x1_G",
        "outputId": "7c4dcf4f-7574-4b3d-947a-7e82d637af05"
      },
      "source": [
        "higgsdata.describe()"
      ],
      "execution_count": null,
      "outputs": [
        {
          "output_type": "execute_result",
          "data": {
            "text/html": [
              "<div>\n",
              "<style scoped>\n",
              "    .dataframe tbody tr th:only-of-type {\n",
              "        vertical-align: middle;\n",
              "    }\n",
              "\n",
              "    .dataframe tbody tr th {\n",
              "        vertical-align: top;\n",
              "    }\n",
              "\n",
              "    .dataframe thead th {\n",
              "        text-align: right;\n",
              "    }\n",
              "</style>\n",
              "<table border=\"1\" class=\"dataframe\">\n",
              "  <thead>\n",
              "    <tr style=\"text-align: right;\">\n",
              "      <th></th>\n",
              "      <th>EventId</th>\n",
              "      <th>DER_mass_MMC</th>\n",
              "      <th>DER_mass_transverse_met_lep</th>\n",
              "      <th>DER_mass_vis</th>\n",
              "      <th>DER_pt_h</th>\n",
              "      <th>DER_deltaeta_jet_jet</th>\n",
              "      <th>DER_mass_jet_jet</th>\n",
              "      <th>DER_prodeta_jet_jet</th>\n",
              "      <th>DER_deltar_tau_lep</th>\n",
              "      <th>DER_pt_tot</th>\n",
              "      <th>DER_sum_pt</th>\n",
              "      <th>DER_pt_ratio_lep_tau</th>\n",
              "      <th>DER_met_phi_centrality</th>\n",
              "      <th>DER_lep_eta_centrality</th>\n",
              "      <th>PRI_tau_pt</th>\n",
              "      <th>PRI_tau_eta</th>\n",
              "      <th>PRI_tau_phi</th>\n",
              "      <th>PRI_lep_pt</th>\n",
              "      <th>PRI_lep_eta</th>\n",
              "      <th>PRI_lep_phi</th>\n",
              "      <th>PRI_met</th>\n",
              "      <th>PRI_met_phi</th>\n",
              "      <th>PRI_met_sumet</th>\n",
              "      <th>PRI_jet_num</th>\n",
              "      <th>PRI_jet_leading_pt</th>\n",
              "      <th>PRI_jet_leading_eta</th>\n",
              "      <th>PRI_jet_leading_phi</th>\n",
              "      <th>PRI_jet_subleading_pt</th>\n",
              "      <th>PRI_jet_subleading_eta</th>\n",
              "      <th>PRI_jet_subleading_phi</th>\n",
              "      <th>PRI_jet_all_pt</th>\n",
              "      <th>Weight</th>\n",
              "    </tr>\n",
              "  </thead>\n",
              "  <tbody>\n",
              "    <tr>\n",
              "      <th>count</th>\n",
              "      <td>250000.000000</td>\n",
              "      <td>250000.000000</td>\n",
              "      <td>250000.000000</td>\n",
              "      <td>250000.000000</td>\n",
              "      <td>250000.000000</td>\n",
              "      <td>250000.000000</td>\n",
              "      <td>250000.000000</td>\n",
              "      <td>250000.000000</td>\n",
              "      <td>250000.000000</td>\n",
              "      <td>250000.000000</td>\n",
              "      <td>250000.000000</td>\n",
              "      <td>250000.000000</td>\n",
              "      <td>250000.000000</td>\n",
              "      <td>250000.000000</td>\n",
              "      <td>250000.000000</td>\n",
              "      <td>250000.000000</td>\n",
              "      <td>250000.000000</td>\n",
              "      <td>250000.000000</td>\n",
              "      <td>250000.000000</td>\n",
              "      <td>250000.000000</td>\n",
              "      <td>250000.000000</td>\n",
              "      <td>250000.000000</td>\n",
              "      <td>250000.000000</td>\n",
              "      <td>250000.000000</td>\n",
              "      <td>250000.000000</td>\n",
              "      <td>250000.000000</td>\n",
              "      <td>250000.000000</td>\n",
              "      <td>250000.000000</td>\n",
              "      <td>250000.000000</td>\n",
              "      <td>250000.000000</td>\n",
              "      <td>250000.000000</td>\n",
              "      <td>250000.000000</td>\n",
              "    </tr>\n",
              "    <tr>\n",
              "      <th>mean</th>\n",
              "      <td>224999.500000</td>\n",
              "      <td>-49.023079</td>\n",
              "      <td>49.239819</td>\n",
              "      <td>81.181982</td>\n",
              "      <td>57.895962</td>\n",
              "      <td>-708.420675</td>\n",
              "      <td>-601.237051</td>\n",
              "      <td>-709.356603</td>\n",
              "      <td>2.373100</td>\n",
              "      <td>18.917332</td>\n",
              "      <td>158.432217</td>\n",
              "      <td>1.437609</td>\n",
              "      <td>-0.128305</td>\n",
              "      <td>-708.985189</td>\n",
              "      <td>38.707419</td>\n",
              "      <td>-0.010973</td>\n",
              "      <td>-0.008171</td>\n",
              "      <td>46.660207</td>\n",
              "      <td>-0.019507</td>\n",
              "      <td>0.043543</td>\n",
              "      <td>41.717235</td>\n",
              "      <td>-0.010119</td>\n",
              "      <td>209.797178</td>\n",
              "      <td>0.979176</td>\n",
              "      <td>-348.329567</td>\n",
              "      <td>-399.254314</td>\n",
              "      <td>-399.259788</td>\n",
              "      <td>-692.381204</td>\n",
              "      <td>-709.121609</td>\n",
              "      <td>-709.118631</td>\n",
              "      <td>73.064591</td>\n",
              "      <td>1.646767</td>\n",
              "    </tr>\n",
              "    <tr>\n",
              "      <th>std</th>\n",
              "      <td>72168.927986</td>\n",
              "      <td>406.345647</td>\n",
              "      <td>35.344886</td>\n",
              "      <td>40.828691</td>\n",
              "      <td>63.655682</td>\n",
              "      <td>454.480565</td>\n",
              "      <td>657.972302</td>\n",
              "      <td>453.019877</td>\n",
              "      <td>0.782911</td>\n",
              "      <td>22.273494</td>\n",
              "      <td>115.706115</td>\n",
              "      <td>0.844743</td>\n",
              "      <td>1.193585</td>\n",
              "      <td>453.596721</td>\n",
              "      <td>22.412081</td>\n",
              "      <td>1.214079</td>\n",
              "      <td>1.816763</td>\n",
              "      <td>22.064922</td>\n",
              "      <td>1.264982</td>\n",
              "      <td>1.816611</td>\n",
              "      <td>32.894693</td>\n",
              "      <td>1.812223</td>\n",
              "      <td>126.499506</td>\n",
              "      <td>0.977426</td>\n",
              "      <td>532.962789</td>\n",
              "      <td>489.338286</td>\n",
              "      <td>489.333883</td>\n",
              "      <td>479.875496</td>\n",
              "      <td>453.384624</td>\n",
              "      <td>453.389017</td>\n",
              "      <td>98.015662</td>\n",
              "      <td>1.875103</td>\n",
              "    </tr>\n",
              "    <tr>\n",
              "      <th>min</th>\n",
              "      <td>100000.000000</td>\n",
              "      <td>-999.000000</td>\n",
              "      <td>0.000000</td>\n",
              "      <td>6.329000</td>\n",
              "      <td>0.000000</td>\n",
              "      <td>-999.000000</td>\n",
              "      <td>-999.000000</td>\n",
              "      <td>-999.000000</td>\n",
              "      <td>0.208000</td>\n",
              "      <td>0.000000</td>\n",
              "      <td>46.104000</td>\n",
              "      <td>0.047000</td>\n",
              "      <td>-1.414000</td>\n",
              "      <td>-999.000000</td>\n",
              "      <td>20.000000</td>\n",
              "      <td>-2.499000</td>\n",
              "      <td>-3.142000</td>\n",
              "      <td>26.000000</td>\n",
              "      <td>-2.505000</td>\n",
              "      <td>-3.142000</td>\n",
              "      <td>0.109000</td>\n",
              "      <td>-3.142000</td>\n",
              "      <td>13.678000</td>\n",
              "      <td>0.000000</td>\n",
              "      <td>-999.000000</td>\n",
              "      <td>-999.000000</td>\n",
              "      <td>-999.000000</td>\n",
              "      <td>-999.000000</td>\n",
              "      <td>-999.000000</td>\n",
              "      <td>-999.000000</td>\n",
              "      <td>0.000000</td>\n",
              "      <td>0.001502</td>\n",
              "    </tr>\n",
              "    <tr>\n",
              "      <th>25%</th>\n",
              "      <td>162499.750000</td>\n",
              "      <td>78.100750</td>\n",
              "      <td>19.241000</td>\n",
              "      <td>59.388750</td>\n",
              "      <td>14.068750</td>\n",
              "      <td>-999.000000</td>\n",
              "      <td>-999.000000</td>\n",
              "      <td>-999.000000</td>\n",
              "      <td>1.810000</td>\n",
              "      <td>2.841000</td>\n",
              "      <td>77.550000</td>\n",
              "      <td>0.883000</td>\n",
              "      <td>-1.371000</td>\n",
              "      <td>-999.000000</td>\n",
              "      <td>24.591750</td>\n",
              "      <td>-0.925000</td>\n",
              "      <td>-1.575000</td>\n",
              "      <td>32.375000</td>\n",
              "      <td>-1.014000</td>\n",
              "      <td>-1.522000</td>\n",
              "      <td>21.398000</td>\n",
              "      <td>-1.575000</td>\n",
              "      <td>123.017500</td>\n",
              "      <td>0.000000</td>\n",
              "      <td>-999.000000</td>\n",
              "      <td>-999.000000</td>\n",
              "      <td>-999.000000</td>\n",
              "      <td>-999.000000</td>\n",
              "      <td>-999.000000</td>\n",
              "      <td>-999.000000</td>\n",
              "      <td>0.000000</td>\n",
              "      <td>0.018636</td>\n",
              "    </tr>\n",
              "    <tr>\n",
              "      <th>50%</th>\n",
              "      <td>224999.500000</td>\n",
              "      <td>105.012000</td>\n",
              "      <td>46.524000</td>\n",
              "      <td>73.752000</td>\n",
              "      <td>38.467500</td>\n",
              "      <td>-999.000000</td>\n",
              "      <td>-999.000000</td>\n",
              "      <td>-999.000000</td>\n",
              "      <td>2.491500</td>\n",
              "      <td>12.315500</td>\n",
              "      <td>120.664500</td>\n",
              "      <td>1.280000</td>\n",
              "      <td>-0.356000</td>\n",
              "      <td>-999.000000</td>\n",
              "      <td>31.804000</td>\n",
              "      <td>-0.023000</td>\n",
              "      <td>-0.033000</td>\n",
              "      <td>40.516000</td>\n",
              "      <td>-0.045000</td>\n",
              "      <td>0.086000</td>\n",
              "      <td>34.802000</td>\n",
              "      <td>-0.024000</td>\n",
              "      <td>179.739000</td>\n",
              "      <td>1.000000</td>\n",
              "      <td>38.960000</td>\n",
              "      <td>-1.872000</td>\n",
              "      <td>-2.093000</td>\n",
              "      <td>-999.000000</td>\n",
              "      <td>-999.000000</td>\n",
              "      <td>-999.000000</td>\n",
              "      <td>40.512500</td>\n",
              "      <td>1.156188</td>\n",
              "    </tr>\n",
              "    <tr>\n",
              "      <th>75%</th>\n",
              "      <td>287499.250000</td>\n",
              "      <td>130.606250</td>\n",
              "      <td>73.598000</td>\n",
              "      <td>92.259000</td>\n",
              "      <td>79.169000</td>\n",
              "      <td>0.490000</td>\n",
              "      <td>83.446000</td>\n",
              "      <td>-4.593000</td>\n",
              "      <td>2.961000</td>\n",
              "      <td>27.591000</td>\n",
              "      <td>200.478250</td>\n",
              "      <td>1.777000</td>\n",
              "      <td>1.225000</td>\n",
              "      <td>0.000000</td>\n",
              "      <td>45.017000</td>\n",
              "      <td>0.898000</td>\n",
              "      <td>1.565000</td>\n",
              "      <td>53.390000</td>\n",
              "      <td>0.959000</td>\n",
              "      <td>1.618000</td>\n",
              "      <td>51.895000</td>\n",
              "      <td>1.561000</td>\n",
              "      <td>263.379250</td>\n",
              "      <td>2.000000</td>\n",
              "      <td>75.349000</td>\n",
              "      <td>0.433000</td>\n",
              "      <td>0.503000</td>\n",
              "      <td>33.703000</td>\n",
              "      <td>-2.457000</td>\n",
              "      <td>-2.275000</td>\n",
              "      <td>109.933750</td>\n",
              "      <td>2.404128</td>\n",
              "    </tr>\n",
              "    <tr>\n",
              "      <th>max</th>\n",
              "      <td>349999.000000</td>\n",
              "      <td>1192.026000</td>\n",
              "      <td>690.075000</td>\n",
              "      <td>1349.351000</td>\n",
              "      <td>2834.999000</td>\n",
              "      <td>8.503000</td>\n",
              "      <td>4974.979000</td>\n",
              "      <td>16.690000</td>\n",
              "      <td>5.684000</td>\n",
              "      <td>2834.999000</td>\n",
              "      <td>1852.462000</td>\n",
              "      <td>19.773000</td>\n",
              "      <td>1.414000</td>\n",
              "      <td>1.000000</td>\n",
              "      <td>764.408000</td>\n",
              "      <td>2.497000</td>\n",
              "      <td>3.142000</td>\n",
              "      <td>560.271000</td>\n",
              "      <td>2.503000</td>\n",
              "      <td>3.142000</td>\n",
              "      <td>2842.617000</td>\n",
              "      <td>3.142000</td>\n",
              "      <td>2003.976000</td>\n",
              "      <td>3.000000</td>\n",
              "      <td>1120.573000</td>\n",
              "      <td>4.499000</td>\n",
              "      <td>3.141000</td>\n",
              "      <td>721.456000</td>\n",
              "      <td>4.500000</td>\n",
              "      <td>3.142000</td>\n",
              "      <td>1633.433000</td>\n",
              "      <td>7.822543</td>\n",
              "    </tr>\n",
              "  </tbody>\n",
              "</table>\n",
              "</div>"
            ],
            "text/plain": [
              "             EventId   DER_mass_MMC  ...  PRI_jet_all_pt         Weight\n",
              "count  250000.000000  250000.000000  ...   250000.000000  250000.000000\n",
              "mean   224999.500000     -49.023079  ...       73.064591       1.646767\n",
              "std     72168.927986     406.345647  ...       98.015662       1.875103\n",
              "min    100000.000000    -999.000000  ...        0.000000       0.001502\n",
              "25%    162499.750000      78.100750  ...        0.000000       0.018636\n",
              "50%    224999.500000     105.012000  ...       40.512500       1.156188\n",
              "75%    287499.250000     130.606250  ...      109.933750       2.404128\n",
              "max    349999.000000    1192.026000  ...     1633.433000       7.822543\n",
              "\n",
              "[8 rows x 32 columns]"
            ]
          },
          "metadata": {},
          "execution_count": 7
        }
      ]
    },
    {
      "cell_type": "markdown",
      "metadata": {
        "id": "llo-wzoZ2Sl1"
      },
      "source": [
        "I'm looking for the columns that the min, the 25$\\%$ and the  50$\\%$ values are the same."
      ]
    },
    {
      "cell_type": "code",
      "metadata": {
        "id": "jxWQF3e2xpp-"
      },
      "source": [
        "cols = [i for i in higgsdata.describe().columns if \n",
        " (higgsdata.describe().loc[\"min\"][i] == higgsdata.describe().loc[\"25%\"][i]== higgsdata.describe().loc[\"50%\"][i])]"
      ],
      "execution_count": null,
      "outputs": []
    },
    {
      "cell_type": "code",
      "metadata": {
        "colab": {
          "base_uri": "https://localhost:8080/"
        },
        "id": "oxAAdYXUzdw-",
        "outputId": "a6c4e86a-6134-4b37-e92e-68aedbae2df6"
      },
      "source": [
        "len(cols)"
      ],
      "execution_count": null,
      "outputs": [
        {
          "output_type": "execute_result",
          "data": {
            "text/plain": [
              "7"
            ]
          },
          "metadata": {},
          "execution_count": 9
        }
      ]
    },
    {
      "cell_type": "code",
      "metadata": {
        "colab": {
          "base_uri": "https://localhost:8080/",
          "height": 716
        },
        "id": "2Tzc5bPczYUR",
        "outputId": "35120983-6ea2-40bd-e023-d9ca305ff724"
      },
      "source": [
        "fig, ax = plt.subplots(4,2, figsize = (16,12))\n",
        "kk = 0\n",
        "for i in range(4):\n",
        "  for j in range(2):\n",
        "    if kk != 7:\n",
        "      # print(i, j, kk)\n",
        "      ax[i, j].hist(higgsdata[cols[kk]].to_numpy())\n",
        "      ax[i, j].set_title(cols[kk])\n",
        "      ax[i, j].set_ylim(0, len(higgsdata))\n",
        "      kk = kk+1\n",
        "    "
      ],
      "execution_count": null,
      "outputs": [
        {
          "output_type": "display_data",
          "data": {
            "image/png": "[encoded data removed]",
            "text/plain": [
              "<Figure size 1152x864 with 8 Axes>"
            ]
          },
          "metadata": {
            "needs_background": "light"
          }
        }
      ]
    },
    {
      "cell_type": "markdown",
      "metadata": {
        "id": "RGFOhwFa2iwU"
      },
      "source": [
        "I'm going to drop this columns"
      ]
    },
    {
      "cell_type": "code",
      "metadata": {
        "id": "JaiBXXIz2oe3"
      },
      "source": [
        "higgsdata = higgsdata.drop(cols, axis = 1)"
      ],
      "execution_count": null,
      "outputs": []
    },
    {
      "cell_type": "code",
      "metadata": {
        "id": "HCPS73k0ytqj",
        "colab": {
          "base_uri": "https://localhost:8080/",
          "height": 320
        },
        "outputId": "54592830-4fda-4057-d436-2abbda50efec"
      },
      "source": [
        "higgsdata.describe()"
      ],
      "execution_count": null,
      "outputs": [
        {
          "output_type": "execute_result",
          "data": {
            "text/html": [
              "<div>\n",
              "<style scoped>\n",
              "    .dataframe tbody tr th:only-of-type {\n",
              "        vertical-align: middle;\n",
              "    }\n",
              "\n",
              "    .dataframe tbody tr th {\n",
              "        vertical-align: top;\n",
              "    }\n",
              "\n",
              "    .dataframe thead th {\n",
              "        text-align: right;\n",
              "    }\n",
              "</style>\n",
              "<table border=\"1\" class=\"dataframe\">\n",
              "  <thead>\n",
              "    <tr style=\"text-align: right;\">\n",
              "      <th></th>\n",
              "      <th>EventId</th>\n",
              "      <th>DER_mass_MMC</th>\n",
              "      <th>DER_mass_transverse_met_lep</th>\n",
              "      <th>DER_mass_vis</th>\n",
              "      <th>DER_pt_h</th>\n",
              "      <th>DER_deltar_tau_lep</th>\n",
              "      <th>DER_pt_tot</th>\n",
              "      <th>DER_sum_pt</th>\n",
              "      <th>DER_pt_ratio_lep_tau</th>\n",
              "      <th>DER_met_phi_centrality</th>\n",
              "      <th>PRI_tau_pt</th>\n",
              "      <th>PRI_tau_eta</th>\n",
              "      <th>PRI_tau_phi</th>\n",
              "      <th>PRI_lep_pt</th>\n",
              "      <th>PRI_lep_eta</th>\n",
              "      <th>PRI_lep_phi</th>\n",
              "      <th>PRI_met</th>\n",
              "      <th>PRI_met_phi</th>\n",
              "      <th>PRI_met_sumet</th>\n",
              "      <th>PRI_jet_num</th>\n",
              "      <th>PRI_jet_leading_pt</th>\n",
              "      <th>PRI_jet_leading_eta</th>\n",
              "      <th>PRI_jet_leading_phi</th>\n",
              "      <th>PRI_jet_all_pt</th>\n",
              "      <th>Weight</th>\n",
              "    </tr>\n",
              "  </thead>\n",
              "  <tbody>\n",
              "    <tr>\n",
              "      <th>count</th>\n",
              "      <td>250000.000000</td>\n",
              "      <td>250000.000000</td>\n",
              "      <td>250000.000000</td>\n",
              "      <td>250000.000000</td>\n",
              "      <td>250000.000000</td>\n",
              "      <td>250000.000000</td>\n",
              "      <td>250000.000000</td>\n",
              "      <td>250000.000000</td>\n",
              "      <td>250000.000000</td>\n",
              "      <td>250000.000000</td>\n",
              "      <td>250000.000000</td>\n",
              "      <td>250000.000000</td>\n",
              "      <td>250000.000000</td>\n",
              "      <td>250000.000000</td>\n",
              "      <td>250000.000000</td>\n",
              "      <td>250000.000000</td>\n",
              "      <td>250000.000000</td>\n",
              "      <td>250000.000000</td>\n",
              "      <td>250000.000000</td>\n",
              "      <td>250000.000000</td>\n",
              "      <td>250000.000000</td>\n",
              "      <td>250000.000000</td>\n",
              "      <td>250000.000000</td>\n",
              "      <td>250000.000000</td>\n",
              "      <td>250000.000000</td>\n",
              "    </tr>\n",
              "    <tr>\n",
              "      <th>mean</th>\n",
              "      <td>224999.500000</td>\n",
              "      <td>-49.023079</td>\n",
              "      <td>49.239819</td>\n",
              "      <td>81.181982</td>\n",
              "      <td>57.895962</td>\n",
              "      <td>2.373100</td>\n",
              "      <td>18.917332</td>\n",
              "      <td>158.432217</td>\n",
              "      <td>1.437609</td>\n",
              "      <td>-0.128305</td>\n",
              "      <td>38.707419</td>\n",
              "      <td>-0.010973</td>\n",
              "      <td>-0.008171</td>\n",
              "      <td>46.660207</td>\n",
              "      <td>-0.019507</td>\n",
              "      <td>0.043543</td>\n",
              "      <td>41.717235</td>\n",
              "      <td>-0.010119</td>\n",
              "      <td>209.797178</td>\n",
              "      <td>0.979176</td>\n",
              "      <td>-348.329567</td>\n",
              "      <td>-399.254314</td>\n",
              "      <td>-399.259788</td>\n",
              "      <td>73.064591</td>\n",
              "      <td>1.646767</td>\n",
              "    </tr>\n",
              "    <tr>\n",
              "      <th>std</th>\n",
              "      <td>72168.927986</td>\n",
              "      <td>406.345647</td>\n",
              "      <td>35.344886</td>\n",
              "      <td>40.828691</td>\n",
              "      <td>63.655682</td>\n",
              "      <td>0.782911</td>\n",
              "      <td>22.273494</td>\n",
              "      <td>115.706115</td>\n",
              "      <td>0.844743</td>\n",
              "      <td>1.193585</td>\n",
              "      <td>22.412081</td>\n",
              "      <td>1.214079</td>\n",
              "      <td>1.816763</td>\n",
              "      <td>22.064922</td>\n",
              "      <td>1.264982</td>\n",
              "      <td>1.816611</td>\n",
              "      <td>32.894693</td>\n",
              "      <td>1.812223</td>\n",
              "      <td>126.499506</td>\n",
              "      <td>0.977426</td>\n",
              "      <td>532.962789</td>\n",
              "      <td>489.338286</td>\n",
              "      <td>489.333883</td>\n",
              "      <td>98.015662</td>\n",
              "      <td>1.875103</td>\n",
              "    </tr>\n",
              "    <tr>\n",
              "      <th>min</th>\n",
              "      <td>100000.000000</td>\n",
              "      <td>-999.000000</td>\n",
              "      <td>0.000000</td>\n",
              "      <td>6.329000</td>\n",
              "      <td>0.000000</td>\n",
              "      <td>0.208000</td>\n",
              "      <td>0.000000</td>\n",
              "      <td>46.104000</td>\n",
              "      <td>0.047000</td>\n",
              "      <td>-1.414000</td>\n",
              "      <td>20.000000</td>\n",
              "      <td>-2.499000</td>\n",
              "      <td>-3.142000</td>\n",
              "      <td>26.000000</td>\n",
              "      <td>-2.505000</td>\n",
              "      <td>-3.142000</td>\n",
              "      <td>0.109000</td>\n",
              "      <td>-3.142000</td>\n",
              "      <td>13.678000</td>\n",
              "      <td>0.000000</td>\n",
              "      <td>-999.000000</td>\n",
              "      <td>-999.000000</td>\n",
              "      <td>-999.000000</td>\n",
              "      <td>0.000000</td>\n",
              "      <td>0.001502</td>\n",
              "    </tr>\n",
              "    <tr>\n",
              "      <th>25%</th>\n",
              "      <td>162499.750000</td>\n",
              "      <td>78.100750</td>\n",
              "      <td>19.241000</td>\n",
              "      <td>59.388750</td>\n",
              "      <td>14.068750</td>\n",
              "      <td>1.810000</td>\n",
              "      <td>2.841000</td>\n",
              "      <td>77.550000</td>\n",
              "      <td>0.883000</td>\n",
              "      <td>-1.371000</td>\n",
              "      <td>24.591750</td>\n",
              "      <td>-0.925000</td>\n",
              "      <td>-1.575000</td>\n",
              "      <td>32.375000</td>\n",
              "      <td>-1.014000</td>\n",
              "      <td>-1.522000</td>\n",
              "      <td>21.398000</td>\n",
              "      <td>-1.575000</td>\n",
              "      <td>123.017500</td>\n",
              "      <td>0.000000</td>\n",
              "      <td>-999.000000</td>\n",
              "      <td>-999.000000</td>\n",
              "      <td>-999.000000</td>\n",
              "      <td>0.000000</td>\n",
              "      <td>0.018636</td>\n",
              "    </tr>\n",
              "    <tr>\n",
              "      <th>50%</th>\n",
              "      <td>224999.500000</td>\n",
              "      <td>105.012000</td>\n",
              "      <td>46.524000</td>\n",
              "      <td>73.752000</td>\n",
              "      <td>38.467500</td>\n",
              "      <td>2.491500</td>\n",
              "      <td>12.315500</td>\n",
              "      <td>120.664500</td>\n",
              "      <td>1.280000</td>\n",
              "      <td>-0.356000</td>\n",
              "      <td>31.804000</td>\n",
              "      <td>-0.023000</td>\n",
              "      <td>-0.033000</td>\n",
              "      <td>40.516000</td>\n",
              "      <td>-0.045000</td>\n",
              "      <td>0.086000</td>\n",
              "      <td>34.802000</td>\n",
              "      <td>-0.024000</td>\n",
              "      <td>179.739000</td>\n",
              "      <td>1.000000</td>\n",
              "      <td>38.960000</td>\n",
              "      <td>-1.872000</td>\n",
              "      <td>-2.093000</td>\n",
              "      <td>40.512500</td>\n",
              "      <td>1.156188</td>\n",
              "    </tr>\n",
              "    <tr>\n",
              "      <th>75%</th>\n",
              "      <td>287499.250000</td>\n",
              "      <td>130.606250</td>\n",
              "      <td>73.598000</td>\n",
              "      <td>92.259000</td>\n",
              "      <td>79.169000</td>\n",
              "      <td>2.961000</td>\n",
              "      <td>27.591000</td>\n",
              "      <td>200.478250</td>\n",
              "      <td>1.777000</td>\n",
              "      <td>1.225000</td>\n",
              "      <td>45.017000</td>\n",
              "      <td>0.898000</td>\n",
              "      <td>1.565000</td>\n",
              "      <td>53.390000</td>\n",
              "      <td>0.959000</td>\n",
              "      <td>1.618000</td>\n",
              "      <td>51.895000</td>\n",
              "      <td>1.561000</td>\n",
              "      <td>263.379250</td>\n",
              "      <td>2.000000</td>\n",
              "      <td>75.349000</td>\n",
              "      <td>0.433000</td>\n",
              "      <td>0.503000</td>\n",
              "      <td>109.933750</td>\n",
              "      <td>2.404128</td>\n",
              "    </tr>\n",
              "    <tr>\n",
              "      <th>max</th>\n",
              "      <td>349999.000000</td>\n",
              "      <td>1192.026000</td>\n",
              "      <td>690.075000</td>\n",
              "      <td>1349.351000</td>\n",
              "      <td>2834.999000</td>\n",
              "      <td>5.684000</td>\n",
              "      <td>2834.999000</td>\n",
              "      <td>1852.462000</td>\n",
              "      <td>19.773000</td>\n",
              "      <td>1.414000</td>\n",
              "      <td>764.408000</td>\n",
              "      <td>2.497000</td>\n",
              "      <td>3.142000</td>\n",
              "      <td>560.271000</td>\n",
              "      <td>2.503000</td>\n",
              "      <td>3.142000</td>\n",
              "      <td>2842.617000</td>\n",
              "      <td>3.142000</td>\n",
              "      <td>2003.976000</td>\n",
              "      <td>3.000000</td>\n",
              "      <td>1120.573000</td>\n",
              "      <td>4.499000</td>\n",
              "      <td>3.141000</td>\n",
              "      <td>1633.433000</td>\n",
              "      <td>7.822543</td>\n",
              "    </tr>\n",
              "  </tbody>\n",
              "</table>\n",
              "</div>"
            ],
            "text/plain": [
              "             EventId   DER_mass_MMC  ...  PRI_jet_all_pt         Weight\n",
              "count  250000.000000  250000.000000  ...   250000.000000  250000.000000\n",
              "mean   224999.500000     -49.023079  ...       73.064591       1.646767\n",
              "std     72168.927986     406.345647  ...       98.015662       1.875103\n",
              "min    100000.000000    -999.000000  ...        0.000000       0.001502\n",
              "25%    162499.750000      78.100750  ...        0.000000       0.018636\n",
              "50%    224999.500000     105.012000  ...       40.512500       1.156188\n",
              "75%    287499.250000     130.606250  ...      109.933750       2.404128\n",
              "max    349999.000000    1192.026000  ...     1633.433000       7.822543\n",
              "\n",
              "[8 rows x 25 columns]"
            ]
          },
          "metadata": {},
          "execution_count": 12
        }
      ]
    },
    {
      "cell_type": "code",
      "metadata": {
        "colab": {
          "base_uri": "https://localhost:8080/"
        },
        "id": "3mDObiaI459u",
        "outputId": "c15e6112-f55d-4646-9ef0-ff2dc18c0629"
      },
      "source": [
        "len(higgsdata)"
      ],
      "execution_count": null,
      "outputs": [
        {
          "output_type": "execute_result",
          "data": {
            "text/plain": [
              "250000"
            ]
          },
          "metadata": {},
          "execution_count": 13
        }
      ]
    },
    {
      "cell_type": "markdown",
      "metadata": {
        "id": "Cl9em3Lf4n4s"
      },
      "source": [
        "Now I'm looking the columns that only min and 25$\\%$ values are equal to -999"
      ]
    },
    {
      "cell_type": "code",
      "metadata": {
        "id": "_RV7HhKS3UG6"
      },
      "source": [
        "cols = [i for i in higgsdata.describe().columns if \n",
        " (higgsdata.describe().loc[\"min\"][i] == higgsdata.describe().loc[\"25%\"][i]==-999)]"
      ],
      "execution_count": null,
      "outputs": []
    },
    {
      "cell_type": "code",
      "metadata": {
        "colab": {
          "base_uri": "https://localhost:8080/"
        },
        "id": "ZLx4w3SR5Q1e",
        "outputId": "c7c0266e-eedc-4cd6-f855-6e49f9e4a80e"
      },
      "source": [
        "cols"
      ],
      "execution_count": null,
      "outputs": [
        {
          "output_type": "execute_result",
          "data": {
            "text/plain": [
              "['PRI_jet_leading_pt', 'PRI_jet_leading_eta', 'PRI_jet_leading_phi']"
            ]
          },
          "metadata": {},
          "execution_count": 15
        }
      ]
    },
    {
      "cell_type": "code",
      "metadata": {
        "colab": {
          "base_uri": "https://localhost:8080/",
          "height": 716
        },
        "id": "Wv-wwAYR3lqb",
        "outputId": "529e23e6-07d3-45ac-9769-b015b00a7f3c"
      },
      "source": [
        "fig, ax = plt.subplots(2,2, figsize = (16,12))\n",
        "kk = 0\n",
        "for i in range(2):\n",
        "  for j in range(2):\n",
        "    if kk != 3:\n",
        "      # print(i, j, kk)\n",
        "      ax[i, j].hist(higgsdata[cols[kk]].to_numpy())\n",
        "      ax[i, j].set_title(cols[kk])\n",
        "      ax[i, j].set_ylim(0, len(higgsdata))\n",
        "      kk = kk+1\n",
        "    "
      ],
      "execution_count": null,
      "outputs": [
        {
          "output_type": "display_data",
          "data": {
            "image/png": "[encoded data removed]",
            "text/plain": [
              "<Figure size 1152x864 with 4 Axes>"
            ]
          },
          "metadata": {
            "needs_background": "light"
          }
        }
      ]
    },
    {
      "cell_type": "markdown",
      "metadata": {
        "id": "LNVEpHHG4wGo"
      },
      "source": [
        "I'm not going to drop the rows where these three columns are equal to -999"
      ]
    },
    {
      "cell_type": "code",
      "metadata": {
        "id": "yh5UNnzf4u1p"
      },
      "source": [
        "indexes = higgsdata.loc[(higgsdata['PRI_jet_leading_pt'] == -999) & (higgsdata['PRI_jet_leading_eta']== -999) \\\n",
        "              & (higgsdata['PRI_jet_leading_phi']== -999)].index"
      ],
      "execution_count": null,
      "outputs": []
    },
    {
      "cell_type": "code",
      "metadata": {
        "colab": {
          "base_uri": "https://localhost:8080/",
          "height": 444
        },
        "id": "RpxKh09I6iEo",
        "outputId": "059237af-15cf-4bb2-c103-7486fbaeae69"
      },
      "source": [
        "higgsdata = higgsdata.drop(indexes)\n",
        "higgsdata"
      ],
      "execution_count": null,
      "outputs": [
        {
          "output_type": "execute_result",
          "data": {
            "text/html": [
              "<div>\n",
              "<style scoped>\n",
              "    .dataframe tbody tr th:only-of-type {\n",
              "        vertical-align: middle;\n",
              "    }\n",
              "\n",
              "    .dataframe tbody tr th {\n",
              "        vertical-align: top;\n",
              "    }\n",
              "\n",
              "    .dataframe thead th {\n",
              "        text-align: right;\n",
              "    }\n",
              "</style>\n",
              "<table border=\"1\" class=\"dataframe\">\n",
              "  <thead>\n",
              "    <tr style=\"text-align: right;\">\n",
              "      <th></th>\n",
              "      <th>EventId</th>\n",
              "      <th>DER_mass_MMC</th>\n",
              "      <th>DER_mass_transverse_met_lep</th>\n",
              "      <th>DER_mass_vis</th>\n",
              "      <th>DER_pt_h</th>\n",
              "      <th>DER_deltar_tau_lep</th>\n",
              "      <th>DER_pt_tot</th>\n",
              "      <th>DER_sum_pt</th>\n",
              "      <th>DER_pt_ratio_lep_tau</th>\n",
              "      <th>DER_met_phi_centrality</th>\n",
              "      <th>PRI_tau_pt</th>\n",
              "      <th>PRI_tau_eta</th>\n",
              "      <th>PRI_tau_phi</th>\n",
              "      <th>PRI_lep_pt</th>\n",
              "      <th>PRI_lep_eta</th>\n",
              "      <th>PRI_lep_phi</th>\n",
              "      <th>PRI_met</th>\n",
              "      <th>PRI_met_phi</th>\n",
              "      <th>PRI_met_sumet</th>\n",
              "      <th>PRI_jet_num</th>\n",
              "      <th>PRI_jet_leading_pt</th>\n",
              "      <th>PRI_jet_leading_eta</th>\n",
              "      <th>PRI_jet_leading_phi</th>\n",
              "      <th>PRI_jet_all_pt</th>\n",
              "      <th>Weight</th>\n",
              "      <th>Label</th>\n",
              "    </tr>\n",
              "  </thead>\n",
              "  <tbody>\n",
              "    <tr>\n",
              "      <th>0</th>\n",
              "      <td>100000</td>\n",
              "      <td>138.470</td>\n",
              "      <td>51.655</td>\n",
              "      <td>97.827</td>\n",
              "      <td>27.980</td>\n",
              "      <td>3.064</td>\n",
              "      <td>41.928</td>\n",
              "      <td>197.760</td>\n",
              "      <td>1.582</td>\n",
              "      <td>1.396</td>\n",
              "      <td>32.638</td>\n",
              "      <td>1.017</td>\n",
              "      <td>0.381</td>\n",
              "      <td>51.626</td>\n",
              "      <td>2.273</td>\n",
              "      <td>-2.414</td>\n",
              "      <td>16.824</td>\n",
              "      <td>-0.277</td>\n",
              "      <td>258.733</td>\n",
              "      <td>2</td>\n",
              "      <td>67.435</td>\n",
              "      <td>2.150</td>\n",
              "      <td>0.444</td>\n",
              "      <td>113.497</td>\n",
              "      <td>0.002653</td>\n",
              "      <td>s</td>\n",
              "    </tr>\n",
              "    <tr>\n",
              "      <th>1</th>\n",
              "      <td>100001</td>\n",
              "      <td>160.937</td>\n",
              "      <td>68.768</td>\n",
              "      <td>103.235</td>\n",
              "      <td>48.146</td>\n",
              "      <td>3.473</td>\n",
              "      <td>2.078</td>\n",
              "      <td>125.157</td>\n",
              "      <td>0.879</td>\n",
              "      <td>1.414</td>\n",
              "      <td>42.014</td>\n",
              "      <td>2.039</td>\n",
              "      <td>-3.011</td>\n",
              "      <td>36.918</td>\n",
              "      <td>0.501</td>\n",
              "      <td>0.103</td>\n",
              "      <td>44.704</td>\n",
              "      <td>-1.916</td>\n",
              "      <td>164.546</td>\n",
              "      <td>1</td>\n",
              "      <td>46.226</td>\n",
              "      <td>0.725</td>\n",
              "      <td>1.158</td>\n",
              "      <td>46.226</td>\n",
              "      <td>2.233584</td>\n",
              "      <td>b</td>\n",
              "    </tr>\n",
              "    <tr>\n",
              "      <th>2</th>\n",
              "      <td>100002</td>\n",
              "      <td>-999.000</td>\n",
              "      <td>162.172</td>\n",
              "      <td>125.953</td>\n",
              "      <td>35.635</td>\n",
              "      <td>3.148</td>\n",
              "      <td>9.336</td>\n",
              "      <td>197.814</td>\n",
              "      <td>3.776</td>\n",
              "      <td>1.414</td>\n",
              "      <td>32.154</td>\n",
              "      <td>-0.705</td>\n",
              "      <td>-2.093</td>\n",
              "      <td>121.409</td>\n",
              "      <td>-0.953</td>\n",
              "      <td>1.052</td>\n",
              "      <td>54.283</td>\n",
              "      <td>-2.186</td>\n",
              "      <td>260.414</td>\n",
              "      <td>1</td>\n",
              "      <td>44.251</td>\n",
              "      <td>2.053</td>\n",
              "      <td>-2.028</td>\n",
              "      <td>44.251</td>\n",
              "      <td>2.347389</td>\n",
              "      <td>b</td>\n",
              "    </tr>\n",
              "    <tr>\n",
              "      <th>5</th>\n",
              "      <td>100005</td>\n",
              "      <td>89.744</td>\n",
              "      <td>13.550</td>\n",
              "      <td>59.149</td>\n",
              "      <td>116.344</td>\n",
              "      <td>1.362</td>\n",
              "      <td>61.619</td>\n",
              "      <td>278.876</td>\n",
              "      <td>0.588</td>\n",
              "      <td>0.479</td>\n",
              "      <td>53.651</td>\n",
              "      <td>0.371</td>\n",
              "      <td>1.329</td>\n",
              "      <td>31.565</td>\n",
              "      <td>-0.884</td>\n",
              "      <td>1.857</td>\n",
              "      <td>40.735</td>\n",
              "      <td>2.237</td>\n",
              "      <td>282.849</td>\n",
              "      <td>3</td>\n",
              "      <td>90.547</td>\n",
              "      <td>-2.412</td>\n",
              "      <td>-0.653</td>\n",
              "      <td>193.660</td>\n",
              "      <td>0.083414</td>\n",
              "      <td>b</td>\n",
              "    </tr>\n",
              "    <tr>\n",
              "      <th>6</th>\n",
              "      <td>100006</td>\n",
              "      <td>148.754</td>\n",
              "      <td>28.862</td>\n",
              "      <td>107.782</td>\n",
              "      <td>106.130</td>\n",
              "      <td>2.941</td>\n",
              "      <td>2.545</td>\n",
              "      <td>305.967</td>\n",
              "      <td>3.371</td>\n",
              "      <td>1.393</td>\n",
              "      <td>28.850</td>\n",
              "      <td>1.113</td>\n",
              "      <td>2.409</td>\n",
              "      <td>97.240</td>\n",
              "      <td>0.675</td>\n",
              "      <td>-0.966</td>\n",
              "      <td>38.421</td>\n",
              "      <td>-1.443</td>\n",
              "      <td>294.074</td>\n",
              "      <td>2</td>\n",
              "      <td>123.010</td>\n",
              "      <td>0.864</td>\n",
              "      <td>1.450</td>\n",
              "      <td>179.877</td>\n",
              "      <td>0.002653</td>\n",
              "      <td>s</td>\n",
              "    </tr>\n",
              "    <tr>\n",
              "      <th>...</th>\n",
              "      <td>...</td>\n",
              "      <td>...</td>\n",
              "      <td>...</td>\n",
              "      <td>...</td>\n",
              "      <td>...</td>\n",
              "      <td>...</td>\n",
              "      <td>...</td>\n",
              "      <td>...</td>\n",
              "      <td>...</td>\n",
              "      <td>...</td>\n",
              "      <td>...</td>\n",
              "      <td>...</td>\n",
              "      <td>...</td>\n",
              "      <td>...</td>\n",
              "      <td>...</td>\n",
              "      <td>...</td>\n",
              "      <td>...</td>\n",
              "      <td>...</td>\n",
              "      <td>...</td>\n",
              "      <td>...</td>\n",
              "      <td>...</td>\n",
              "      <td>...</td>\n",
              "      <td>...</td>\n",
              "      <td>...</td>\n",
              "      <td>...</td>\n",
              "      <td>...</td>\n",
              "    </tr>\n",
              "    <tr>\n",
              "      <th>249991</th>\n",
              "      <td>349991</td>\n",
              "      <td>133.457</td>\n",
              "      <td>77.540</td>\n",
              "      <td>88.989</td>\n",
              "      <td>69.650</td>\n",
              "      <td>2.484</td>\n",
              "      <td>2.490</td>\n",
              "      <td>166.396</td>\n",
              "      <td>0.629</td>\n",
              "      <td>-0.084</td>\n",
              "      <td>58.596</td>\n",
              "      <td>-0.834</td>\n",
              "      <td>-0.711</td>\n",
              "      <td>36.831</td>\n",
              "      <td>-1.172</td>\n",
              "      <td>1.749</td>\n",
              "      <td>41.870</td>\n",
              "      <td>-1.073</td>\n",
              "      <td>203.174</td>\n",
              "      <td>1</td>\n",
              "      <td>70.969</td>\n",
              "      <td>-1.234</td>\n",
              "      <td>2.521</td>\n",
              "      <td>70.969</td>\n",
              "      <td>0.001502</td>\n",
              "      <td>s</td>\n",
              "    </tr>\n",
              "    <tr>\n",
              "      <th>249992</th>\n",
              "      <td>349992</td>\n",
              "      <td>-999.000</td>\n",
              "      <td>38.083</td>\n",
              "      <td>749.970</td>\n",
              "      <td>77.877</td>\n",
              "      <td>4.351</td>\n",
              "      <td>44.689</td>\n",
              "      <td>583.680</td>\n",
              "      <td>0.275</td>\n",
              "      <td>-1.413</td>\n",
              "      <td>298.035</td>\n",
              "      <td>1.110</td>\n",
              "      <td>-0.023</td>\n",
              "      <td>82.076</td>\n",
              "      <td>-1.932</td>\n",
              "      <td>3.088</td>\n",
              "      <td>159.927</td>\n",
              "      <td>-2.861</td>\n",
              "      <td>652.616</td>\n",
              "      <td>3</td>\n",
              "      <td>91.581</td>\n",
              "      <td>-0.996</td>\n",
              "      <td>-3.109</td>\n",
              "      <td>203.569</td>\n",
              "      <td>0.744056</td>\n",
              "      <td>b</td>\n",
              "    </tr>\n",
              "    <tr>\n",
              "      <th>249993</th>\n",
              "      <td>349993</td>\n",
              "      <td>130.075</td>\n",
              "      <td>3.918</td>\n",
              "      <td>66.781</td>\n",
              "      <td>77.369</td>\n",
              "      <td>3.102</td>\n",
              "      <td>49.937</td>\n",
              "      <td>610.482</td>\n",
              "      <td>1.354</td>\n",
              "      <td>-0.634</td>\n",
              "      <td>27.364</td>\n",
              "      <td>2.403</td>\n",
              "      <td>1.348</td>\n",
              "      <td>37.052</td>\n",
              "      <td>1.775</td>\n",
              "      <td>-1.689</td>\n",
              "      <td>67.702</td>\n",
              "      <td>-1.768</td>\n",
              "      <td>694.010</td>\n",
              "      <td>3</td>\n",
              "      <td>155.864</td>\n",
              "      <td>-0.358</td>\n",
              "      <td>1.093</td>\n",
              "      <td>546.066</td>\n",
              "      <td>0.001503</td>\n",
              "      <td>s</td>\n",
              "    </tr>\n",
              "    <tr>\n",
              "      <th>249994</th>\n",
              "      <td>349994</td>\n",
              "      <td>217.020</td>\n",
              "      <td>47.156</td>\n",
              "      <td>62.824</td>\n",
              "      <td>127.953</td>\n",
              "      <td>2.318</td>\n",
              "      <td>3.628</td>\n",
              "      <td>242.586</td>\n",
              "      <td>1.393</td>\n",
              "      <td>1.393</td>\n",
              "      <td>28.586</td>\n",
              "      <td>1.094</td>\n",
              "      <td>1.729</td>\n",
              "      <td>39.824</td>\n",
              "      <td>0.700</td>\n",
              "      <td>-0.555</td>\n",
              "      <td>97.737</td>\n",
              "      <td>0.220</td>\n",
              "      <td>271.082</td>\n",
              "      <td>2</td>\n",
              "      <td>141.752</td>\n",
              "      <td>0.237</td>\n",
              "      <td>3.126</td>\n",
              "      <td>174.176</td>\n",
              "      <td>0.064061</td>\n",
              "      <td>b</td>\n",
              "    </tr>\n",
              "    <tr>\n",
              "      <th>249997</th>\n",
              "      <td>349997</td>\n",
              "      <td>105.457</td>\n",
              "      <td>60.526</td>\n",
              "      <td>75.839</td>\n",
              "      <td>39.757</td>\n",
              "      <td>2.390</td>\n",
              "      <td>22.183</td>\n",
              "      <td>120.462</td>\n",
              "      <td>1.202</td>\n",
              "      <td>0.529</td>\n",
              "      <td>35.636</td>\n",
              "      <td>-0.266</td>\n",
              "      <td>-3.132</td>\n",
              "      <td>42.834</td>\n",
              "      <td>0.381</td>\n",
              "      <td>0.851</td>\n",
              "      <td>23.419</td>\n",
              "      <td>-2.890</td>\n",
              "      <td>198.907</td>\n",
              "      <td>1</td>\n",
              "      <td>41.992</td>\n",
              "      <td>1.800</td>\n",
              "      <td>-0.166</td>\n",
              "      <td>41.992</td>\n",
              "      <td>0.018636</td>\n",
              "      <td>s</td>\n",
              "    </tr>\n",
              "  </tbody>\n",
              "</table>\n",
              "<p>150087 rows × 26 columns</p>\n",
              "</div>"
            ],
            "text/plain": [
              "        EventId  DER_mass_MMC  ...    Weight  Label\n",
              "0        100000       138.470  ...  0.002653      s\n",
              "1        100001       160.937  ...  2.233584      b\n",
              "2        100002      -999.000  ...  2.347389      b\n",
              "5        100005        89.744  ...  0.083414      b\n",
              "6        100006       148.754  ...  0.002653      s\n",
              "...         ...           ...  ...       ...    ...\n",
              "249991   349991       133.457  ...  0.001502      s\n",
              "249992   349992      -999.000  ...  0.744056      b\n",
              "249993   349993       130.075  ...  0.001503      s\n",
              "249994   349994       217.020  ...  0.064061      b\n",
              "249997   349997       105.457  ...  0.018636      s\n",
              "\n",
              "[150087 rows x 26 columns]"
            ]
          },
          "metadata": {},
          "execution_count": 18
        }
      ]
    },
    {
      "cell_type": "markdown",
      "metadata": {
        "id": "Tv6kZSkK7pwg"
      },
      "source": [
        "Drop rows where \"DER_mass_MMC\" is -999"
      ]
    },
    {
      "cell_type": "code",
      "metadata": {
        "colab": {
          "base_uri": "https://localhost:8080/",
          "height": 357
        },
        "id": "Il6lIjVB7JgQ",
        "outputId": "765d987a-5284-4437-8b9d-3ccbdc3daf38"
      },
      "source": [
        "plt.hist(higgsdata[\"DER_mass_MMC\"].to_numpy())"
      ],
      "execution_count": null,
      "outputs": [
        {
          "output_type": "execute_result",
          "data": {
            "text/plain": [
              "(array([1.1991e+04, 0.0000e+00, 0.0000e+00, 0.0000e+00, 4.0806e+04,\n",
              "        9.4841e+04, 2.0840e+03, 2.8700e+02, 7.1000e+01, 7.0000e+00]),\n",
              " array([-999.    , -779.8974, -560.7948, -341.6922, -122.5896,   96.513 ,\n",
              "         315.6156,  534.7182,  753.8208,  972.9234, 1192.026 ]),\n",
              " <a list of 10 Patch objects>)"
            ]
          },
          "metadata": {},
          "execution_count": 19
        },
        {
          "output_type": "display_data",
          "data": {
            "image/png": "[encoded data removed]",
            "text/plain": [
              "<Figure size 432x288 with 1 Axes>"
            ]
          },
          "metadata": {
            "needs_background": "light"
          }
        }
      ]
    },
    {
      "cell_type": "code",
      "metadata": {
        "id": "_kI6WUIZ7YjD"
      },
      "source": [
        "higgsdata = higgsdata[(higgsdata[\"DER_mass_MMC\"] != -999)]"
      ],
      "execution_count": null,
      "outputs": []
    },
    {
      "cell_type": "code",
      "metadata": {
        "colab": {
          "base_uri": "https://localhost:8080/",
          "height": 320
        },
        "id": "nOob8yg770px",
        "outputId": "00ffc3c8-16a2-48e3-e640-7adedc491a89"
      },
      "source": [
        "higgsdata.describe()"
      ],
      "execution_count": null,
      "outputs": [
        {
          "output_type": "execute_result",
          "data": {
            "text/html": [
              "<div>\n",
              "<style scoped>\n",
              "    .dataframe tbody tr th:only-of-type {\n",
              "        vertical-align: middle;\n",
              "    }\n",
              "\n",
              "    .dataframe tbody tr th {\n",
              "        vertical-align: top;\n",
              "    }\n",
              "\n",
              "    .dataframe thead th {\n",
              "        text-align: right;\n",
              "    }\n",
              "</style>\n",
              "<table border=\"1\" class=\"dataframe\">\n",
              "  <thead>\n",
              "    <tr style=\"text-align: right;\">\n",
              "      <th></th>\n",
              "      <th>EventId</th>\n",
              "      <th>DER_mass_MMC</th>\n",
              "      <th>DER_mass_transverse_met_lep</th>\n",
              "      <th>DER_mass_vis</th>\n",
              "      <th>DER_pt_h</th>\n",
              "      <th>DER_deltar_tau_lep</th>\n",
              "      <th>DER_pt_tot</th>\n",
              "      <th>DER_sum_pt</th>\n",
              "      <th>DER_pt_ratio_lep_tau</th>\n",
              "      <th>DER_met_phi_centrality</th>\n",
              "      <th>PRI_tau_pt</th>\n",
              "      <th>PRI_tau_eta</th>\n",
              "      <th>PRI_tau_phi</th>\n",
              "      <th>PRI_lep_pt</th>\n",
              "      <th>PRI_lep_eta</th>\n",
              "      <th>PRI_lep_phi</th>\n",
              "      <th>PRI_met</th>\n",
              "      <th>PRI_met_phi</th>\n",
              "      <th>PRI_met_sumet</th>\n",
              "      <th>PRI_jet_num</th>\n",
              "      <th>PRI_jet_leading_pt</th>\n",
              "      <th>PRI_jet_leading_eta</th>\n",
              "      <th>PRI_jet_leading_phi</th>\n",
              "      <th>PRI_jet_all_pt</th>\n",
              "      <th>Weight</th>\n",
              "    </tr>\n",
              "  </thead>\n",
              "  <tbody>\n",
              "    <tr>\n",
              "      <th>count</th>\n",
              "      <td>138096.000000</td>\n",
              "      <td>138096.000000</td>\n",
              "      <td>138096.000000</td>\n",
              "      <td>138096.000000</td>\n",
              "      <td>138096.000000</td>\n",
              "      <td>138096.000000</td>\n",
              "      <td>138096.000000</td>\n",
              "      <td>138096.000000</td>\n",
              "      <td>138096.000000</td>\n",
              "      <td>138096.000000</td>\n",
              "      <td>138096.00000</td>\n",
              "      <td>138096.000000</td>\n",
              "      <td>138096.000000</td>\n",
              "      <td>138096.000000</td>\n",
              "      <td>138096.000000</td>\n",
              "      <td>138096.00000</td>\n",
              "      <td>138096.000000</td>\n",
              "      <td>138096.000000</td>\n",
              "      <td>138096.000000</td>\n",
              "      <td>138096.000000</td>\n",
              "      <td>138096.000000</td>\n",
              "      <td>138096.000000</td>\n",
              "      <td>138096.000000</td>\n",
              "      <td>138096.000000</td>\n",
              "      <td>138096.000000</td>\n",
              "    </tr>\n",
              "    <tr>\n",
              "      <th>mean</th>\n",
              "      <td>225142.435284</td>\n",
              "      <td>122.494858</td>\n",
              "      <td>38.011279</td>\n",
              "      <td>80.331503</td>\n",
              "      <td>89.092456</td>\n",
              "      <td>2.179998</td>\n",
              "      <td>21.751239</td>\n",
              "      <td>215.740221</td>\n",
              "      <td>1.457068</td>\n",
              "      <td>0.496388</td>\n",
              "      <td>42.25014</td>\n",
              "      <td>-0.004524</td>\n",
              "      <td>-0.004522</td>\n",
              "      <td>49.547634</td>\n",
              "      <td>0.001049</td>\n",
              "      <td>0.04427</td>\n",
              "      <td>45.741170</td>\n",
              "      <td>0.002623</td>\n",
              "      <td>269.360979</td>\n",
              "      <td>1.643038</td>\n",
              "      <td>86.212482</td>\n",
              "      <td>-0.003105</td>\n",
              "      <td>-0.014277</td>\n",
              "      <td>123.942448</td>\n",
              "      <td>0.803422</td>\n",
              "    </tr>\n",
              "    <tr>\n",
              "      <th>std</th>\n",
              "      <td>72177.724354</td>\n",
              "      <td>60.043466</td>\n",
              "      <td>30.933414</td>\n",
              "      <td>40.827064</td>\n",
              "      <td>67.428692</td>\n",
              "      <td>0.767418</td>\n",
              "      <td>23.474133</td>\n",
              "      <td>121.702819</td>\n",
              "      <td>0.976873</td>\n",
              "      <td>1.013750</td>\n",
              "      <td>25.87531</td>\n",
              "      <td>1.196147</td>\n",
              "      <td>1.816185</td>\n",
              "      <td>25.364150</td>\n",
              "      <td>1.226318</td>\n",
              "      <td>1.81549</td>\n",
              "      <td>36.523426</td>\n",
              "      <td>1.813343</td>\n",
              "      <td>131.407661</td>\n",
              "      <td>0.727425</td>\n",
              "      <td>61.552110</td>\n",
              "      <td>1.785636</td>\n",
              "      <td>1.813084</td>\n",
              "      <td>101.515661</td>\n",
              "      <td>1.086433</td>\n",
              "    </tr>\n",
              "    <tr>\n",
              "      <th>min</th>\n",
              "      <td>100000.000000</td>\n",
              "      <td>9.806000</td>\n",
              "      <td>0.000000</td>\n",
              "      <td>7.202000</td>\n",
              "      <td>0.000000</td>\n",
              "      <td>0.224000</td>\n",
              "      <td>0.000000</td>\n",
              "      <td>77.017000</td>\n",
              "      <td>0.047000</td>\n",
              "      <td>-1.414000</td>\n",
              "      <td>20.00000</td>\n",
              "      <td>-2.498000</td>\n",
              "      <td>-3.141000</td>\n",
              "      <td>26.000000</td>\n",
              "      <td>-2.489000</td>\n",
              "      <td>-3.14200</td>\n",
              "      <td>0.200000</td>\n",
              "      <td>-3.142000</td>\n",
              "      <td>21.066000</td>\n",
              "      <td>1.000000</td>\n",
              "      <td>30.000000</td>\n",
              "      <td>-4.499000</td>\n",
              "      <td>-3.142000</td>\n",
              "      <td>30.000000</td>\n",
              "      <td>0.001502</td>\n",
              "    </tr>\n",
              "    <tr>\n",
              "      <th>25%</th>\n",
              "      <td>162680.750000</td>\n",
              "      <td>92.743000</td>\n",
              "      <td>12.675750</td>\n",
              "      <td>58.884750</td>\n",
              "      <td>42.958750</td>\n",
              "      <td>1.604000</td>\n",
              "      <td>3.396000</td>\n",
              "      <td>131.398750</td>\n",
              "      <td>0.812000</td>\n",
              "      <td>-0.263000</td>\n",
              "      <td>25.74900</td>\n",
              "      <td>-0.902000</td>\n",
              "      <td>-1.568000</td>\n",
              "      <td>32.793000</td>\n",
              "      <td>-0.934000</td>\n",
              "      <td>-1.51800</td>\n",
              "      <td>23.114500</td>\n",
              "      <td>-1.564000</td>\n",
              "      <td>179.689500</td>\n",
              "      <td>1.000000</td>\n",
              "      <td>45.115000</td>\n",
              "      <td>-1.343000</td>\n",
              "      <td>-1.584000</td>\n",
              "      <td>50.261000</td>\n",
              "      <td>0.001503</td>\n",
              "    </tr>\n",
              "    <tr>\n",
              "      <th>50%</th>\n",
              "      <td>225242.000000</td>\n",
              "      <td>112.831000</td>\n",
              "      <td>30.803000</td>\n",
              "      <td>72.571500</td>\n",
              "      <td>69.304500</td>\n",
              "      <td>2.212000</td>\n",
              "      <td>17.917000</td>\n",
              "      <td>181.144000</td>\n",
              "      <td>1.233000</td>\n",
              "      <td>1.002000</td>\n",
              "      <td>34.32800</td>\n",
              "      <td>-0.014000</td>\n",
              "      <td>-0.024000</td>\n",
              "      <td>41.901000</td>\n",
              "      <td>0.001000</td>\n",
              "      <td>0.08700</td>\n",
              "      <td>36.967500</td>\n",
              "      <td>0.001000</td>\n",
              "      <td>240.135500</td>\n",
              "      <td>1.000000</td>\n",
              "      <td>66.765000</td>\n",
              "      <td>-0.003000</td>\n",
              "      <td>-0.037000</td>\n",
              "      <td>94.176500</td>\n",
              "      <td>0.073899</td>\n",
              "    </tr>\n",
              "    <tr>\n",
              "      <th>75%</th>\n",
              "      <td>287643.250000</td>\n",
              "      <td>134.684000</td>\n",
              "      <td>57.707000</td>\n",
              "      <td>90.318250</td>\n",
              "      <td>114.179000</td>\n",
              "      <td>2.754000</td>\n",
              "      <td>30.619000</td>\n",
              "      <td>260.816500</td>\n",
              "      <td>1.817000</td>\n",
              "      <td>1.343000</td>\n",
              "      <td>49.47425</td>\n",
              "      <td>0.892000</td>\n",
              "      <td>1.570000</td>\n",
              "      <td>57.577000</td>\n",
              "      <td>0.935000</td>\n",
              "      <td>1.61500</td>\n",
              "      <td>55.901250</td>\n",
              "      <td>1.573000</td>\n",
              "      <td>325.372250</td>\n",
              "      <td>2.000000</td>\n",
              "      <td>105.292250</td>\n",
              "      <td>1.339000</td>\n",
              "      <td>1.559000</td>\n",
              "      <td>162.056500</td>\n",
              "      <td>1.681611</td>\n",
              "    </tr>\n",
              "    <tr>\n",
              "      <th>max</th>\n",
              "      <td>349997.000000</td>\n",
              "      <td>1192.026000</td>\n",
              "      <td>594.287000</td>\n",
              "      <td>959.601000</td>\n",
              "      <td>1053.807000</td>\n",
              "      <td>5.655000</td>\n",
              "      <td>466.525000</td>\n",
              "      <td>1852.462000</td>\n",
              "      <td>19.773000</td>\n",
              "      <td>1.414000</td>\n",
              "      <td>622.86200</td>\n",
              "      <td>2.497000</td>\n",
              "      <td>3.142000</td>\n",
              "      <td>461.896000</td>\n",
              "      <td>2.502000</td>\n",
              "      <td>3.14200</td>\n",
              "      <td>951.363000</td>\n",
              "      <td>3.142000</td>\n",
              "      <td>2003.976000</td>\n",
              "      <td>3.000000</td>\n",
              "      <td>1120.573000</td>\n",
              "      <td>4.499000</td>\n",
              "      <td>3.141000</td>\n",
              "      <td>1633.433000</td>\n",
              "      <td>7.822543</td>\n",
              "    </tr>\n",
              "  </tbody>\n",
              "</table>\n",
              "</div>"
            ],
            "text/plain": [
              "             EventId   DER_mass_MMC  ...  PRI_jet_all_pt         Weight\n",
              "count  138096.000000  138096.000000  ...   138096.000000  138096.000000\n",
              "mean   225142.435284     122.494858  ...      123.942448       0.803422\n",
              "std     72177.724354      60.043466  ...      101.515661       1.086433\n",
              "min    100000.000000       9.806000  ...       30.000000       0.001502\n",
              "25%    162680.750000      92.743000  ...       50.261000       0.001503\n",
              "50%    225242.000000     112.831000  ...       94.176500       0.073899\n",
              "75%    287643.250000     134.684000  ...      162.056500       1.681611\n",
              "max    349997.000000    1192.026000  ...     1633.433000       7.822543\n",
              "\n",
              "[8 rows x 25 columns]"
            ]
          },
          "metadata": {},
          "execution_count": 21
        }
      ]
    },
    {
      "cell_type": "code",
      "metadata": {
        "id": "W10KqlR4x4WA"
      },
      "source": [
        "labels = higgsdata[\"Label\"].to_numpy()"
      ],
      "execution_count": null,
      "outputs": []
    },
    {
      "cell_type": "code",
      "metadata": {
        "colab": {
          "base_uri": "https://localhost:8080/"
        },
        "id": "ignKEOPIx_0t",
        "outputId": "75921341-826b-401b-bb2f-6a0d09c362e0"
      },
      "source": [
        "# -- classification\n",
        "labels"
      ],
      "execution_count": null,
      "outputs": [
        {
          "output_type": "execute_result",
          "data": {
            "text/plain": [
              "array(['s', 'b', 'b', ..., 's', 'b', 's'], dtype=object)"
            ]
          },
          "metadata": {},
          "execution_count": 23
        }
      ]
    },
    {
      "cell_type": "code",
      "metadata": {
        "id": "O8eUWMdVx983"
      },
      "source": [
        "weights = higgsdata[\"Weight\"].to_numpy()"
      ],
      "execution_count": null,
      "outputs": []
    },
    {
      "cell_type": "code",
      "metadata": {
        "colab": {
          "base_uri": "https://localhost:8080/"
        },
        "id": "KR5KbAU2yFOm",
        "outputId": "e62c2c01-155c-4698-dd20-a69ea6c0b34a"
      },
      "source": [
        "# -- regression\n",
        "weights"
      ],
      "execution_count": null,
      "outputs": [
        {
          "output_type": "execute_result",
          "data": {
            "text/plain": [
              "array([2.65331134e-03, 2.23358449e+00, 8.34140313e-02, ...,\n",
              "       1.50270483e-03, 6.40607773e-02, 1.86361167e-02])"
            ]
          },
          "metadata": {},
          "execution_count": 25
        }
      ]
    },
    {
      "cell_type": "code",
      "metadata": {
        "id": "Tv1otxd5yB-X"
      },
      "source": [
        "# weights"
      ],
      "execution_count": null,
      "outputs": []
    },
    {
      "cell_type": "code",
      "metadata": {
        "id": "7_pC_3biq_xU"
      },
      "source": [
        "# leave\n",
        "from sklearn.model_selection import train_test_split "
      ],
      "execution_count": null,
      "outputs": []
    },
    {
      "cell_type": "code",
      "metadata": {
        "id": "8jPiE8SVyH7Q"
      },
      "source": [
        "# train_test_split?"
      ],
      "execution_count": null,
      "outputs": []
    },
    {
      "cell_type": "code",
      "metadata": {
        "id": "-_oL_KqsyJ0b"
      },
      "source": [
        "data_train, data_test, ll_train, ll_test = train_test_split(\n",
        "    higgsdata, labels, test_size=0.33, random_state=17)"
      ],
      "execution_count": null,
      "outputs": []
    },
    {
      "cell_type": "code",
      "metadata": {
        "colab": {
          "base_uri": "https://localhost:8080/"
        },
        "id": "LP3Xz3d9yjxc",
        "outputId": "b65b2076-315a-45ba-a4f2-b2d288247d11"
      },
      "source": [
        "data_train.shape, ll_train.shape"
      ],
      "execution_count": null,
      "outputs": [
        {
          "output_type": "execute_result",
          "data": {
            "text/plain": [
              "((92524, 26), (92524,))"
            ]
          },
          "metadata": {},
          "execution_count": 30
        }
      ]
    },
    {
      "cell_type": "code",
      "metadata": {
        "colab": {
          "base_uri": "https://localhost:8080/"
        },
        "id": "ljmuIWKt39Br",
        "outputId": "375cd58e-672d-49e0-ff34-9e41cce7d73a"
      },
      "source": [
        "data_test.shape, ll_test.shape"
      ],
      "execution_count": null,
      "outputs": [
        {
          "output_type": "execute_result",
          "data": {
            "text/plain": [
              "((45572, 26), (45572,))"
            ]
          },
          "metadata": {},
          "execution_count": 31
        }
      ]
    },
    {
      "cell_type": "markdown",
      "metadata": {
        "id": "sLK2qoS_oW_j"
      },
      "source": [
        "- Use a Random Forest and a Gradiend Boosted Tree Classifier model to predict the label of the particles. get the score of the model on the training and test set and comment on the result for each model.\n"
      ]
    },
    {
      "cell_type": "code",
      "metadata": {
        "id": "tbOLp56sy0tz"
      },
      "source": [
        "#leave \n",
        "from sklearn.ensemble import RandomForestClassifier\n",
        "from sklearn.ensemble import GradientBoostingClassifier\n",
        "from sklearn.datasets import make_classification\n",
        "\n",
        "# Look at parameters used by our current forest\n",
        "# rf = RandomForestClassifier(random_state = 0)\n",
        "# print('Parameters currently in use:\\n')\n",
        "# print(rf.get_params())"
      ],
      "execution_count": null,
      "outputs": []
    },
    {
      "cell_type": "code",
      "metadata": {
        "id": "aetSNP5n8lgP"
      },
      "source": [
        "# data_train.columns[:-2]"
      ],
      "execution_count": null,
      "outputs": []
    },
    {
      "cell_type": "code",
      "metadata": {
        "id": "AIBvDHhjzYfg"
      },
      "source": [
        "data_train_short = data_train[['EventId', 'DER_mass_MMC', 'DER_mass_transverse_met_lep',\n",
        "       'DER_mass_vis', 'DER_pt_h', 'DER_deltar_tau_lep', 'DER_pt_tot',\n",
        "       'DER_sum_pt', 'DER_pt_ratio_lep_tau', 'DER_met_phi_centrality',\n",
        "       'PRI_tau_pt', 'PRI_tau_eta', 'PRI_tau_phi', 'PRI_lep_pt', 'PRI_lep_eta',\n",
        "       'PRI_lep_phi', 'PRI_met', 'PRI_met_phi', 'PRI_met_sumet', 'PRI_jet_num',\n",
        "       'PRI_jet_leading_pt', 'PRI_jet_leading_eta', 'PRI_jet_leading_phi',\n",
        "       'PRI_jet_all_pt']]\n",
        "\n",
        "data_test_short = data_test[['EventId', 'DER_mass_MMC', 'DER_mass_transverse_met_lep',\n",
        "       'DER_mass_vis', 'DER_pt_h', 'DER_deltar_tau_lep', 'DER_pt_tot',\n",
        "       'DER_sum_pt', 'DER_pt_ratio_lep_tau', 'DER_met_phi_centrality',\n",
        "       'PRI_tau_pt', 'PRI_tau_eta', 'PRI_tau_phi', 'PRI_lep_pt', 'PRI_lep_eta',\n",
        "       'PRI_lep_phi', 'PRI_met', 'PRI_met_phi', 'PRI_met_sumet', 'PRI_jet_num',\n",
        "       'PRI_jet_leading_pt', 'PRI_jet_leading_eta', 'PRI_jet_leading_phi',\n",
        "       'PRI_jet_all_pt']]     "
      ],
      "execution_count": null,
      "outputs": []
    },
    {
      "cell_type": "code",
      "metadata": {
        "id": "1dvztghMzISh"
      },
      "source": [
        "rf = RandomForestClassifier(max_depth=23, criterion=\"gini\", random_state=222)"
      ],
      "execution_count": null,
      "outputs": []
    },
    {
      "cell_type": "code",
      "metadata": {
        "id": "2eNZHaTYy89c"
      },
      "source": [
        "# gbt = GradientBoostingClassifier(max_depth=13, random_state=222) # score higher for training 0.9765 but testing 0.8376\n",
        "\n",
        "gbt = GradientBoostingClassifier(max_depth=10, random_state=222)"
      ],
      "execution_count": null,
      "outputs": []
    },
    {
      "cell_type": "code",
      "metadata": {
        "colab": {
          "base_uri": "https://localhost:8080/"
        },
        "id": "PhVKkJCM0Iqj",
        "outputId": "e6bc30dd-c5ad-459f-96d0-8d71af7d7f4d"
      },
      "source": [
        "rf.fit(data_train_short.values, ll_train)"
      ],
      "execution_count": null,
      "outputs": [
        {
          "output_type": "execute_result",
          "data": {
            "text/plain": [
              "RandomForestClassifier(max_depth=23, random_state=222)"
            ]
          },
          "metadata": {},
          "execution_count": 37
        }
      ]
    },
    {
      "cell_type": "code",
      "metadata": {
        "colab": {
          "base_uri": "https://localhost:8080/"
        },
        "id": "f4Mub5WOzDYU",
        "outputId": "325b9961-8edf-4c2d-a729-6e08bc8fd0da"
      },
      "source": [
        "gbt.fit(data_train_short.values, ll_train)"
      ],
      "execution_count": null,
      "outputs": [
        {
          "output_type": "execute_result",
          "data": {
            "text/plain": [
              "GradientBoostingClassifier(max_depth=10, random_state=222)"
            ]
          },
          "metadata": {},
          "execution_count": 38
        }
      ]
    },
    {
      "cell_type": "markdown",
      "metadata": {
        "id": "3C_3_nhoPhQY"
      },
      "source": [
        "calculate the  scores for the training and test sets and evaluate  overtraining etc"
      ]
    },
    {
      "cell_type": "code",
      "metadata": {
        "colab": {
          "base_uri": "https://localhost:8080/"
        },
        "id": "pjgo84TJ0OvZ",
        "outputId": "312f830d-cd57-47dc-9755-76f81464d694"
      },
      "source": [
        "print (\"score train data RF %.4f\"%rf.score(data_train_short.values, ll_train))"
      ],
      "execution_count": null,
      "outputs": [
        {
          "output_type": "stream",
          "name": "stdout",
          "text": [
            "score train data RF 0.9932\n"
          ]
        }
      ]
    },
    {
      "cell_type": "code",
      "metadata": {
        "colab": {
          "base_uri": "https://localhost:8080/"
        },
        "id": "iyKpwNhW0qBy",
        "outputId": "5b7dbcce-49b5-46dd-ccb1-3b7458eea6e1"
      },
      "source": [
        "print (\"score test data RF %.4f\"%rf.score(data_test_short.values, ll_test))"
      ],
      "execution_count": null,
      "outputs": [
        {
          "output_type": "stream",
          "name": "stdout",
          "text": [
            "score test data RF 0.8151\n"
          ]
        }
      ]
    },
    {
      "cell_type": "code",
      "metadata": {
        "id": "yz3A54YTqXw1"
      },
      "source": [
        "# rf.score(..."
      ],
      "execution_count": null,
      "outputs": []
    },
    {
      "cell_type": "code",
      "metadata": {
        "colab": {
          "base_uri": "https://localhost:8080/"
        },
        "id": "Wz2GpDpP8xdf",
        "outputId": "910c3396-a437-4b5b-ac8e-658be78e2d27"
      },
      "source": [
        "print (\"score train data GBT %.4f\"%gbt.score(data_train_short.values, ll_train))"
      ],
      "execution_count": null,
      "outputs": [
        {
          "output_type": "stream",
          "name": "stdout",
          "text": [
            "score train data GBT 0.9282\n"
          ]
        }
      ]
    },
    {
      "cell_type": "code",
      "metadata": {
        "colab": {
          "base_uri": "https://localhost:8080/"
        },
        "id": "nBue74mC81yO",
        "outputId": "0eb0b0d7-d5b0-4aad-88a1-839015a83b50"
      },
      "source": [
        "print (\"score test data GBT %.4f\"%gbt.score(data_test_short.values, ll_test))"
      ],
      "execution_count": null,
      "outputs": [
        {
          "output_type": "stream",
          "name": "stdout",
          "text": [
            "score test data GBT 0.8175\n"
          ]
        }
      ]
    },
    {
      "cell_type": "markdown",
      "metadata": {
        "id": "6aiULt4TP8kn"
      },
      "source": [
        "- Produce a confusion matrix for each model and compare them\n",
        "\n",
        "\n",
        " \n",
        "\n"
      ]
    },
    {
      "cell_type": "code",
      "metadata": {
        "id": "ak3gnF6duviH"
      },
      "source": [
        "\n",
        "# I creaded this function (mostly copied from sklearn examples). \n",
        "# You can use it to create the confusion matrix\n",
        "from mpl_toolkits.axes_grid1.axes_divider import make_axes_locatable\n",
        "from sklearn.metrics import confusion_matrix\n",
        "def plot_confusion_matrix(y_true, y_pred,\n",
        "                          normalize=False,\n",
        "                          title='',\n",
        "                          cmap=plt.cm.bone):\n",
        "    \"\"\"\n",
        "    This function prints and plots the confusion matrix.\n",
        "    Normalization can be applied by setting `normalize=True`.\n",
        "    \"\"\"         \n",
        "    if normalize:\n",
        "          title = title + ' Normalized confusion matrix'\n",
        "    else:\n",
        "          title = title + ' Confusion matrix, without normalization'\n",
        "\n",
        "    # Compute confusion matrix\n",
        "    cm = confusion_matrix(y_true, y_pred)\n",
        "    # plot it\n",
        "    # fig, ax = plt.subplots(1, 1)\n",
        "    # fig.subplots_adjust()\n",
        "    im = plt.imshow(cm, cmap=cmap)\n",
        "    # ax_divider = make_axes_locatable(ax)\n",
        "    # add an axes to the right of the main axes.\n",
        "    plt.xticks([0, 1], labels=[\"b\", \"s\"])\n",
        "    # plt.ylim(-0.5,1.5)\n",
        "    plt.yticks([0, 1], labels=[\"b\", \"s\"])    \n",
        "    # plt.title(title)\n",
        "    plt.text(0,0,cm[0][0], verticalalignment='center', horizontalalignment='center', color='k')\n",
        "    plt.text(1,0,cm[0][1], verticalalignment='center', horizontalalignment='center', color='white')\n",
        "    plt.text(0,1,cm[1][0], verticalalignment='center', horizontalalignment='center', color='white')\n",
        "    plt.text(1,1,cm[1][1], verticalalignment='center', horizontalalignment='center', color='k')\n",
        "\n",
        "\n",
        "    plt.text(0,0-0.1,str(np.round(((cm[0][0] / cm[0].sum())*100),1))+\"%\", verticalalignment='center', horizontalalignment='center', color='k')\n",
        "    plt.text(1,0-0.1,str(np.round(((cm[0][1] / cm[0].sum())*100),1))+\"%\", verticalalignment='center', horizontalalignment='center', color='white')\n",
        "    plt.text(0,1-0.1,str(np.round(((cm[1][0] / cm[1].sum())*100),1))+\"%\", verticalalignment='center', horizontalalignment='center', color='white')\n",
        "    plt.text(1,1-0.1,str(np.round(((cm[1][1] / cm[1].sum())*100),1))+\"%\", verticalalignment='center', horizontalalignment='center', color='k')\n",
        "    plt.ylabel('True label')\n",
        "    plt.xlabel('Predicted label') \n",
        "\n",
        "    # cax = ax_divider.append_axes(\"right\", size=\"10%\", pad=\"2%\")\n",
        "    plt.colorbar(im)\n",
        "    plt.show()\n",
        "    "
      ],
      "execution_count": null,
      "outputs": []
    },
    {
      "cell_type": "code",
      "metadata": {
        "id": "m4YU2WTF5AwE"
      },
      "source": [
        "# plt.text?"
      ],
      "execution_count": null,
      "outputs": []
    },
    {
      "cell_type": "code",
      "metadata": {
        "colab": {
          "base_uri": "https://localhost:8080/",
          "height": 336
        },
        "id": "KpHIE9xP2rPZ",
        "outputId": "508d2198-12c1-4c1e-98b4-ab72b596c5db"
      },
      "source": [
        "y_test_pred_rf  = rf.predict(data_test_short)\n",
        "plot_confusion_matrix(ll_test, y_test_pred_rf, title=\"RF testing data\")"
      ],
      "execution_count": null,
      "outputs": [
        {
          "output_type": "stream",
          "name": "stderr",
          "text": [
            "/usr/local/lib/python3.7/dist-packages/sklearn/base.py:439: UserWarning: X has feature names, but RandomForestClassifier was fitted without feature names\n",
            "  f\"X has feature names, but {self.__class__.__name__} was fitted without\"\n"
          ]
        },
        {
          "output_type": "display_data",
          "data": {
            "image/png": "[encoded data removed]",
            "text/plain": [
              "<Figure size 432x288 with 2 Axes>"
            ]
          },
          "metadata": {
            "needs_background": "light"
          }
        }
      ]
    },
    {
      "cell_type": "code",
      "metadata": {
        "colab": {
          "base_uri": "https://localhost:8080/",
          "height": 336
        },
        "id": "ajxY46vc3CtO",
        "outputId": "68d84e03-668b-46cb-e067-b85b29f18eac"
      },
      "source": [
        "y_test_pred_gbt  = gbt.predict(data_test_short)\n",
        "plot_confusion_matrix(ll_test, y_test_pred_gbt, title=\"GBT testing data\")"
      ],
      "execution_count": null,
      "outputs": [
        {
          "output_type": "stream",
          "name": "stderr",
          "text": [
            "/usr/local/lib/python3.7/dist-packages/sklearn/base.py:439: UserWarning: X has feature names, but GradientBoostingClassifier was fitted without feature names\n",
            "  f\"X has feature names, but {self.__class__.__name__} was fitted without\"\n"
          ]
        },
        {
          "output_type": "display_data",
          "data": {
            "image/png": "[encoded data removed]",
            "text/plain": [
              "<Figure size 432x288 with 2 Axes>"
            ]
          },
          "metadata": {
            "needs_background": "light"
          }
        }
      ]
    },
    {
      "cell_type": "markdown",
      "metadata": {
        "id": "TbZQ3kMSQFK6"
      },
      "source": [
        "\n",
        "- Use a Random Forest and a Gradiend Boosted Tree Regressor model to predict the weight of the particles. Compare the model performance on training and test setsm\n"
      ]
    },
    {
      "cell_type": "code",
      "metadata": {
        "id": "p_6uYj243Be_"
      },
      "source": [
        "traindata_weights, testdata_weights, train_weights, test_weights = train_test_split(\n",
        "    higgsdata, weights, random_state=17)"
      ],
      "execution_count": null,
      "outputs": []
    },
    {
      "cell_type": "code",
      "metadata": {
        "colab": {
          "base_uri": "https://localhost:8080/"
        },
        "id": "uHfnwIheIZes",
        "outputId": "d93dc50f-6495-4133-b520-fc645415d2f9"
      },
      "source": [
        "traindata_weights.columns"
      ],
      "execution_count": null,
      "outputs": [
        {
          "output_type": "execute_result",
          "data": {
            "text/plain": [
              "Index(['EventId', 'DER_mass_MMC', 'DER_mass_transverse_met_lep',\n",
              "       'DER_mass_vis', 'DER_pt_h', 'DER_deltar_tau_lep', 'DER_pt_tot',\n",
              "       'DER_sum_pt', 'DER_pt_ratio_lep_tau', 'DER_met_phi_centrality',\n",
              "       'PRI_tau_pt', 'PRI_tau_eta', 'PRI_tau_phi', 'PRI_lep_pt', 'PRI_lep_eta',\n",
              "       'PRI_lep_phi', 'PRI_met', 'PRI_met_phi', 'PRI_met_sumet', 'PRI_jet_num',\n",
              "       'PRI_jet_leading_pt', 'PRI_jet_leading_eta', 'PRI_jet_leading_phi',\n",
              "       'PRI_jet_all_pt', 'Weight', 'Label'],\n",
              "      dtype='object')"
            ]
          },
          "metadata": {},
          "execution_count": 49
        }
      ]
    },
    {
      "cell_type": "code",
      "metadata": {
        "id": "mlxwAj49IXoI"
      },
      "source": [
        "traindata_weights = traindata_weights[['EventId', 'DER_mass_MMC', 'DER_mass_transverse_met_lep',\n",
        "       'DER_mass_vis', 'DER_pt_h', 'DER_deltar_tau_lep', 'DER_pt_tot',\n",
        "       'DER_sum_pt', 'DER_pt_ratio_lep_tau', 'DER_met_phi_centrality',\n",
        "       'PRI_tau_pt', 'PRI_tau_eta', 'PRI_tau_phi', 'PRI_lep_pt', 'PRI_lep_eta',\n",
        "       'PRI_lep_phi', 'PRI_met', 'PRI_met_phi', 'PRI_met_sumet', 'PRI_jet_num',\n",
        "       'PRI_jet_leading_pt', 'PRI_jet_leading_eta', 'PRI_jet_leading_phi',\n",
        "       'PRI_jet_all_pt']]\n",
        "\n",
        "testdata_weights = testdata_weights[['EventId', 'DER_mass_MMC', 'DER_mass_transverse_met_lep',\n",
        "       'DER_mass_vis', 'DER_pt_h', 'DER_deltar_tau_lep', 'DER_pt_tot',\n",
        "       'DER_sum_pt', 'DER_pt_ratio_lep_tau', 'DER_met_phi_centrality',\n",
        "       'PRI_tau_pt', 'PRI_tau_eta', 'PRI_tau_phi', 'PRI_lep_pt', 'PRI_lep_eta',\n",
        "       'PRI_lep_phi', 'PRI_met', 'PRI_met_phi', 'PRI_met_sumet', 'PRI_jet_num',\n",
        "       'PRI_jet_leading_pt', 'PRI_jet_leading_eta', 'PRI_jet_leading_phi',\n",
        "       'PRI_jet_all_pt']]"
      ],
      "execution_count": null,
      "outputs": []
    },
    {
      "cell_type": "code",
      "metadata": {
        "colab": {
          "base_uri": "https://localhost:8080/"
        },
        "id": "UkanVFfO3HBe",
        "outputId": "ce9bcbab-1e9e-4986-f800-4895d7b7efa2"
      },
      "source": [
        "from sklearn.ensemble import RandomForestRegressor\n",
        "from sklearn.ensemble import GradientBoostingRegressor\n",
        "rfR = RandomForestRegressor(n_estimators=50, max_depth=23,\n",
        "                                  random_state=0)\n",
        "rfR.fit(traindata_weights.values, train_weights)"
      ],
      "execution_count": null,
      "outputs": [
        {
          "output_type": "execute_result",
          "data": {
            "text/plain": [
              "RandomForestRegressor(max_depth=23, n_estimators=50, random_state=0)"
            ]
          },
          "metadata": {},
          "execution_count": 51
        }
      ]
    },
    {
      "cell_type": "code",
      "metadata": {
        "colab": {
          "base_uri": "https://localhost:8080/"
        },
        "id": "URE9ks4eIOce",
        "outputId": "dc272c2b-4520-4f97-8a64-e31891817d69"
      },
      "source": [
        "gbtR = GradientBoostingRegressor(max_depth=15, random_state=0)\n",
        "gbtR.fit(traindata_weights.values, train_weights)"
      ],
      "execution_count": null,
      "outputs": [
        {
          "output_type": "execute_result",
          "data": {
            "text/plain": [
              "GradientBoostingRegressor(max_depth=15, random_state=0)"
            ]
          },
          "metadata": {},
          "execution_count": 52
        }
      ]
    },
    {
      "cell_type": "code",
      "metadata": {
        "id": "3jO3vSp6KsyU"
      },
      "source": [
        "wegths_train_pred_rfr = rfR.predict(traindata_weights.values)"
      ],
      "execution_count": null,
      "outputs": []
    },
    {
      "cell_type": "code",
      "metadata": {
        "colab": {
          "base_uri": "https://localhost:8080/"
        },
        "id": "fhYFdaBeLhif",
        "outputId": "88d38018-1957-47cd-cd59-ea13b948b557"
      },
      "source": [
        "print (\"score test data rfR %.4f\"%rfR.score(traindata_weights.values, train_weights))"
      ],
      "execution_count": null,
      "outputs": [
        {
          "output_type": "stream",
          "name": "stdout",
          "text": [
            "score test data rfR 0.9012\n"
          ]
        }
      ]
    },
    {
      "cell_type": "code",
      "metadata": {
        "id": "3r95kQtlK6oU"
      },
      "source": [
        "wegths_test_pred_rfr = rfR.predict(testdata_weights.values)"
      ],
      "execution_count": null,
      "outputs": []
    },
    {
      "cell_type": "code",
      "metadata": {
        "colab": {
          "base_uri": "https://localhost:8080/"
        },
        "id": "Z0YW3rEiLqA2",
        "outputId": "1c00abbb-3342-4f26-e662-3cd59d5dddb4"
      },
      "source": [
        "print (\"score test data rfR %.4f\"%rfR.score(testdata_weights.values, test_weights))"
      ],
      "execution_count": null,
      "outputs": [
        {
          "output_type": "stream",
          "name": "stdout",
          "text": [
            "score test data rfR 0.4860\n"
          ]
        }
      ]
    },
    {
      "cell_type": "code",
      "metadata": {
        "id": "aYwpBiy4K2aW"
      },
      "source": [
        "wegths_train_pred_gbtr = gbtR.predict(traindata_weights.values)"
      ],
      "execution_count": null,
      "outputs": []
    },
    {
      "cell_type": "code",
      "metadata": {
        "colab": {
          "base_uri": "https://localhost:8080/"
        },
        "id": "vczD8r_3Ltyv",
        "outputId": "a0d74ef3-2a90-4bca-eed5-2e4b164aeadc"
      },
      "source": [
        "print (\"score test data gbtR %.4f\"%gbtR.score(traindata_weights.values, train_weights))"
      ],
      "execution_count": null,
      "outputs": [
        {
          "output_type": "stream",
          "name": "stdout",
          "text": [
            "score test data gbtR 0.9777\n"
          ]
        }
      ]
    },
    {
      "cell_type": "code",
      "metadata": {
        "id": "byCgVc4ZLCr6"
      },
      "source": [
        "wegths_test_pred_gbtr = gbtR.predict(testdata_weights.values)"
      ],
      "execution_count": null,
      "outputs": []
    },
    {
      "cell_type": "code",
      "metadata": {
        "colab": {
          "base_uri": "https://localhost:8080/"
        },
        "id": "_ppWgkIpLwNN",
        "outputId": "ce929038-161d-4ec3-a9bf-71a258a4cde4"
      },
      "source": [
        "print (\"score test data gbtR %.4f\"%gbtR.score(testdata_weights.values, test_weights))"
      ],
      "execution_count": null,
      "outputs": [
        {
          "output_type": "stream",
          "name": "stdout",
          "text": [
            "score test data gbtR 0.4657\n"
          ]
        }
      ]
    },
    {
      "cell_type": "markdown",
      "metadata": {
        "id": "CKvyqcFr3Z3d"
      },
      "source": [
        " Calculate the L2 and L1 loss functions for the fitted regression models (see slides for the definition) and discuss the results"
      ]
    },
    {
      "cell_type": "code",
      "metadata": {
        "id": "Flv4eLOFFyFC"
      },
      "source": [
        "def L1(y_pred,y_true):\n",
        "  return np.abs((y_pred-y_true)).sum()\n",
        "def L2(y_pred,y_true):\n",
        "  return ((y_pred-y_true)**2).sum()"
      ],
      "execution_count": null,
      "outputs": []
    },
    {
      "cell_type": "code",
      "metadata": {
        "colab": {
          "base_uri": "https://localhost:8080/"
        },
        "id": "CAMTAgRTIeHq",
        "outputId": "03686115-57b5-48d5-e8c8-54f2973c691b"
      },
      "source": [
        "print(\"L1 RF {}\".format(L1(wegths_test_pred_rfr,test_weights)))"
      ],
      "execution_count": null,
      "outputs": [
        {
          "output_type": "stream",
          "name": "stdout",
          "text": [
            "L1 RF 17917.77115927974\n"
          ]
        }
      ]
    },
    {
      "cell_type": "code",
      "metadata": {
        "colab": {
          "base_uri": "https://localhost:8080/"
        },
        "id": "ayxhxYqfG6SY",
        "outputId": "1d6d6ba8-31c8-45e2-daa1-348a6b56770b"
      },
      "source": [
        "print(\"L2 RF {}\".format(L2(wegths_test_pred_rfr,test_weights)))"
      ],
      "execution_count": null,
      "outputs": [
        {
          "output_type": "stream",
          "name": "stdout",
          "text": [
            "L2 RF 20962.54331854927\n"
          ]
        }
      ]
    },
    {
      "cell_type": "markdown",
      "metadata": {
        "id": "c38At7ayYd_5"
      },
      "source": [
        "- For the Random Forest classifier, find the 4 most important features based on the simple unoptimized model you created earlier on. Use the documentation to find out what they are. We have not talked abotu the physics of this problem at all but the Kaggle challenge description should provide enogh information for you to comment on this result is somewhat superficially.\n",
        "\n",
        "    You can use ```rf.feature_importance_``` on the trained model to extract the relative importance of each feature (a number from 0 to 1) and then choose the features that have the 4 highest numbers (the numpy function ```argsort()``` is helpful here!)\n",
        "\n",
        "- Explore the parameter space with the sklearn module ```sklearn.model_selection.RandomizedSearchCV``` *fitting only those 4 features*\n",
        "\n",
        "    Follow this example to set up the parameter search. Set the estimators to 10 and 100, (the number of trees) and the max depth to 3, and 10, and None (let it be unconstrained). Set bootstrap to both True and False. Set the number of features to consider at every split to both \"autp\" and \"sqrt\". Use ```pprint``` like I did earlier in this notebook to print the parameters set\n",
        "\n",
        "**this takes some computational time! so do not start this at the last minute!!**\n",
        "\n",
        " \n",
        "\n"
      ]
    },
    {
      "cell_type": "code",
      "metadata": {
        "id": "eW34SOOEK_R1"
      },
      "source": [
        "im_features_score = rf.feature_importances_"
      ],
      "execution_count": null,
      "outputs": []
    },
    {
      "cell_type": "code",
      "metadata": {
        "colab": {
          "base_uri": "https://localhost:8080/"
        },
        "id": "wrloUCKqLIY_",
        "outputId": "d0062722-baac-4181-9ec7-f53f2c3dab46"
      },
      "source": [
        "ind_features = np.argsort(im_features_score)[:4]\n",
        "ind_features"
      ],
      "execution_count": null,
      "outputs": [
        {
          "output_type": "execute_result",
          "data": {
            "text/plain": [
              "array([19, 17, 15, 12])"
            ]
          },
          "metadata": {},
          "execution_count": 65
        }
      ]
    },
    {
      "cell_type": "code",
      "metadata": {
        "colab": {
          "base_uri": "https://localhost:8080/"
        },
        "id": "39LnirZRLP-p",
        "outputId": "3b53f22b-4d79-48a9-de4b-ab13e5af4d24"
      },
      "source": [
        "data_train.columns[ind_features]"
      ],
      "execution_count": null,
      "outputs": [
        {
          "output_type": "execute_result",
          "data": {
            "text/plain": [
              "Index(['PRI_jet_num', 'PRI_met_phi', 'PRI_lep_phi', 'PRI_tau_phi'], dtype='object')"
            ]
          },
          "metadata": {},
          "execution_count": 66
        }
      ]
    },
    {
      "cell_type": "code",
      "metadata": {
        "id": "Dgnpe8IKLyY7"
      },
      "source": [
        "data_search = data_train[['PRI_jet_num', 'PRI_met_phi', 'PRI_lep_phi', 'PRI_tau_phi']]"
      ],
      "execution_count": null,
      "outputs": []
    },
    {
      "cell_type": "code",
      "metadata": {
        "id": "LDWQKXfBLn3P"
      },
      "source": [
        "from sklearn.model_selection import RandomizedSearchCV"
      ],
      "execution_count": null,
      "outputs": []
    },
    {
      "cell_type": "code",
      "metadata": {
        "id": "uYIPZywSWrPV"
      },
      "source": [
        "random_grid = {\"n_estimators\": [10,100,1000], \"max_depth\": [3, 10, None],\n",
        "               \"bootstrap\":[False, True], \"max_features\" : [\"auto\", \"sqrt\"]}"
      ],
      "execution_count": null,
      "outputs": []
    },
    {
      "cell_type": "code",
      "metadata": {
        "id": "HiXsUWSqXBfC"
      },
      "source": [
        "#  RandomForestClassifier?"
      ],
      "execution_count": null,
      "outputs": []
    },
    {
      "cell_type": "code",
      "metadata": {
        "id": "rTSMAT6wLuN4"
      },
      "source": [
        "# RandomizedSearchCV(rf, param_distributions=random_grid, random_state=35)"
      ],
      "execution_count": null,
      "outputs": []
    },
    {
      "cell_type": "code",
      "metadata": {
        "id": "w2_0KUFfUwW8"
      },
      "source": [
        "# RandomizedSearchCV?"
      ],
      "execution_count": null,
      "outputs": []
    },
    {
      "cell_type": "code",
      "metadata": {
        "colab": {
          "base_uri": "https://localhost:8080/"
        },
        "id": "t-QQqGlp5ty3",
        "outputId": "29e8cfad-32ce-4077-a677-72cc7cc02e41"
      },
      "source": [
        "print(random_grid)\n"
      ],
      "execution_count": null,
      "outputs": [
        {
          "output_type": "stream",
          "name": "stdout",
          "text": [
            "{'n_estimators': [10, 100, 1000], 'max_depth': [3, 10, None], 'bootstrap': [False, True], 'max_features': ['auto', 'sqrt']}\n"
          ]
        }
      ]
    },
    {
      "cell_type": "markdown",
      "metadata": {
        "id": "SfdKk4Pk7tTz"
      },
      "source": [
        " mine and your best features do not necessarily have to be the same because our models may be different (different parameters, different random seed etc)"
      ]
    },
    {
      "cell_type": "code",
      "metadata": {
        "colab": {
          "base_uri": "https://localhost:8080/",
          "height": 424
        },
        "id": "5Q6LD8eBYVdl",
        "outputId": "0005927c-784a-4ee7-f58d-a16e33fa8bc3"
      },
      "source": [
        "higgsdata.iloc[:, ind_features]"
      ],
      "execution_count": null,
      "outputs": [
        {
          "output_type": "execute_result",
          "data": {
            "text/html": [
              "<div>\n",
              "<style scoped>\n",
              "    .dataframe tbody tr th:only-of-type {\n",
              "        vertical-align: middle;\n",
              "    }\n",
              "\n",
              "    .dataframe tbody tr th {\n",
              "        vertical-align: top;\n",
              "    }\n",
              "\n",
              "    .dataframe thead th {\n",
              "        text-align: right;\n",
              "    }\n",
              "</style>\n",
              "<table border=\"1\" class=\"dataframe\">\n",
              "  <thead>\n",
              "    <tr style=\"text-align: right;\">\n",
              "      <th></th>\n",
              "      <th>PRI_jet_num</th>\n",
              "      <th>PRI_met_phi</th>\n",
              "      <th>PRI_lep_phi</th>\n",
              "      <th>PRI_tau_phi</th>\n",
              "    </tr>\n",
              "  </thead>\n",
              "  <tbody>\n",
              "    <tr>\n",
              "      <th>0</th>\n",
              "      <td>2</td>\n",
              "      <td>-0.277</td>\n",
              "      <td>-2.414</td>\n",
              "      <td>0.381</td>\n",
              "    </tr>\n",
              "    <tr>\n",
              "      <th>1</th>\n",
              "      <td>1</td>\n",
              "      <td>-1.916</td>\n",
              "      <td>0.103</td>\n",
              "      <td>-3.011</td>\n",
              "    </tr>\n",
              "    <tr>\n",
              "      <th>5</th>\n",
              "      <td>3</td>\n",
              "      <td>2.237</td>\n",
              "      <td>1.857</td>\n",
              "      <td>1.329</td>\n",
              "    </tr>\n",
              "    <tr>\n",
              "      <th>6</th>\n",
              "      <td>2</td>\n",
              "      <td>-1.443</td>\n",
              "      <td>-0.966</td>\n",
              "      <td>2.409</td>\n",
              "    </tr>\n",
              "    <tr>\n",
              "      <th>7</th>\n",
              "      <td>1</td>\n",
              "      <td>-1.761</td>\n",
              "      <td>-1.347</td>\n",
              "      <td>1.547</td>\n",
              "    </tr>\n",
              "    <tr>\n",
              "      <th>...</th>\n",
              "      <td>...</td>\n",
              "      <td>...</td>\n",
              "      <td>...</td>\n",
              "      <td>...</td>\n",
              "    </tr>\n",
              "    <tr>\n",
              "      <th>249988</th>\n",
              "      <td>1</td>\n",
              "      <td>1.944</td>\n",
              "      <td>-1.016</td>\n",
              "      <td>0.142</td>\n",
              "    </tr>\n",
              "    <tr>\n",
              "      <th>249991</th>\n",
              "      <td>1</td>\n",
              "      <td>-1.073</td>\n",
              "      <td>1.749</td>\n",
              "      <td>-0.711</td>\n",
              "    </tr>\n",
              "    <tr>\n",
              "      <th>249993</th>\n",
              "      <td>3</td>\n",
              "      <td>-1.768</td>\n",
              "      <td>-1.689</td>\n",
              "      <td>1.348</td>\n",
              "    </tr>\n",
              "    <tr>\n",
              "      <th>249994</th>\n",
              "      <td>2</td>\n",
              "      <td>0.220</td>\n",
              "      <td>-0.555</td>\n",
              "      <td>1.729</td>\n",
              "    </tr>\n",
              "    <tr>\n",
              "      <th>249997</th>\n",
              "      <td>1</td>\n",
              "      <td>-2.890</td>\n",
              "      <td>0.851</td>\n",
              "      <td>-3.132</td>\n",
              "    </tr>\n",
              "  </tbody>\n",
              "</table>\n",
              "<p>138096 rows × 4 columns</p>\n",
              "</div>"
            ],
            "text/plain": [
              "        PRI_jet_num  PRI_met_phi  PRI_lep_phi  PRI_tau_phi\n",
              "0                 2       -0.277       -2.414        0.381\n",
              "1                 1       -1.916        0.103       -3.011\n",
              "5                 3        2.237        1.857        1.329\n",
              "6                 2       -1.443       -0.966        2.409\n",
              "7                 1       -1.761       -1.347        1.547\n",
              "...             ...          ...          ...          ...\n",
              "249988            1        1.944       -1.016        0.142\n",
              "249991            1       -1.073        1.749       -0.711\n",
              "249993            3       -1.768       -1.689        1.348\n",
              "249994            2        0.220       -0.555        1.729\n",
              "249997            1       -2.890        0.851       -3.132\n",
              "\n",
              "[138096 rows x 4 columns]"
            ]
          },
          "metadata": {},
          "execution_count": 74
        }
      ]
    },
    {
      "cell_type": "code",
      "metadata": {
        "id": "Wgh8TOENZn6p"
      },
      "source": [
        "# higgsdata.iloc[:, best_features_index]"
      ],
      "execution_count": null,
      "outputs": []
    },
    {
      "cell_type": "code",
      "metadata": {
        "id": "1AJ70oqZPvL_"
      },
      "source": [
        "# Use the random grid to search for best hyperparameters\n",
        "# First create the base model to tune\n",
        "# Random search of parameters, using 3 fold cross validation, \n",
        "# search across 18 different combinations\n",
        "random_search = RandomizedSearchCV(estimator = rf, param_distributions=random_grid,\n",
        "                                   n_iter=18, cv=3, random_state=48)\n"
      ],
      "execution_count": null,
      "outputs": []
    },
    {
      "cell_type": "markdown",
      "metadata": {
        "id": "T3W60KM1Jb5r"
      },
      "source": [
        "Note that this may take a long time! It took 1 hour for me to run this. Dont start at the last minute!!"
      ]
    },
    {
      "cell_type": "code",
      "metadata": {
        "id": "vWxvRJzyZJKo"
      },
      "source": [
        "# RandomForestClassifier?"
      ],
      "execution_count": null,
      "outputs": []
    },
    {
      "cell_type": "code",
      "metadata": {
        "id": "nCzypqyrtsEg"
      },
      "source": [
        "result = random_search.fit(higgsdata.iloc[:, ind_features].values, higgsdata[\"Label\"].values)\n",
        "                  "
      ],
      "execution_count": null,
      "outputs": []
    },
    {
      "cell_type": "code",
      "metadata": {
        "id": "4GfLrtvPBVT7",
        "colab": {
          "base_uri": "https://localhost:8080/"
        },
        "outputId": "5793b60d-56fc-495a-d67a-67730860f8e1"
      },
      "source": [
        "print(\"Tuned RF  Parameters: {}\".format(result.best_params_))\n",
        "print(\"Best score is {}\".format(result.score(higgsdata.iloc[:, ind_features].values, higgsdata[\"Label\"].values)))\n"
      ],
      "execution_count": null,
      "outputs": [
        {
          "output_type": "stream",
          "name": "stdout",
          "text": [
            "Tuned RF  Parameters: {'n_estimators': 100, 'max_features': 'sqrt', 'max_depth': 10, 'bootstrap': False}\n",
            "Best score is 0.6669345962229174\n"
          ]
        }
      ]
    },
    {
      "cell_type": "code",
      "metadata": {
        "id": "WaHvlFa27EV4"
      },
      "source": [
        "df = pd.DataFrame(random_search.cv_results_)\n"
      ],
      "execution_count": null,
      "outputs": []
    },
    {
      "cell_type": "code",
      "metadata": {
        "id": "6pcXfIzb7eEw",
        "colab": {
          "base_uri": "https://localhost:8080/",
          "height": 1000
        },
        "outputId": "b38297c1-a018-45fd-ca68-4cfedaf5bc61"
      },
      "source": [
        "df"
      ],
      "execution_count": null,
      "outputs": [
        {
          "output_type": "execute_result",
          "data": {
            "text/html": [
              "<div>\n",
              "<style scoped>\n",
              "    .dataframe tbody tr th:only-of-type {\n",
              "        vertical-align: middle;\n",
              "    }\n",
              "\n",
              "    .dataframe tbody tr th {\n",
              "        vertical-align: top;\n",
              "    }\n",
              "\n",
              "    .dataframe thead th {\n",
              "        text-align: right;\n",
              "    }\n",
              "</style>\n",
              "<table border=\"1\" class=\"dataframe\">\n",
              "  <thead>\n",
              "    <tr style=\"text-align: right;\">\n",
              "      <th></th>\n",
              "      <th>mean_fit_time</th>\n",
              "      <th>std_fit_time</th>\n",
              "      <th>mean_score_time</th>\n",
              "      <th>std_score_time</th>\n",
              "      <th>param_n_estimators</th>\n",
              "      <th>param_max_features</th>\n",
              "      <th>param_max_depth</th>\n",
              "      <th>param_bootstrap</th>\n",
              "      <th>params</th>\n",
              "      <th>split0_test_score</th>\n",
              "      <th>split1_test_score</th>\n",
              "      <th>split2_test_score</th>\n",
              "      <th>mean_test_score</th>\n",
              "      <th>std_test_score</th>\n",
              "      <th>rank_test_score</th>\n",
              "    </tr>\n",
              "  </thead>\n",
              "  <tbody>\n",
              "    <tr>\n",
              "      <th>0</th>\n",
              "      <td>0.605787</td>\n",
              "      <td>0.016151</td>\n",
              "      <td>0.126167</td>\n",
              "      <td>0.002491</td>\n",
              "      <td>10</td>\n",
              "      <td>sqrt</td>\n",
              "      <td>3</td>\n",
              "      <td>False</td>\n",
              "      <td>{'n_estimators': 10, 'max_features': 'sqrt', '...</td>\n",
              "      <td>0.585745</td>\n",
              "      <td>0.608533</td>\n",
              "      <td>0.573558</td>\n",
              "      <td>0.589278</td>\n",
              "      <td>0.014496</td>\n",
              "      <td>15</td>\n",
              "    </tr>\n",
              "    <tr>\n",
              "      <th>1</th>\n",
              "      <td>37.360187</td>\n",
              "      <td>0.088183</td>\n",
              "      <td>2.502750</td>\n",
              "      <td>0.026152</td>\n",
              "      <td>1000</td>\n",
              "      <td>auto</td>\n",
              "      <td>3</td>\n",
              "      <td>True</td>\n",
              "      <td>{'n_estimators': 1000, 'max_features': 'auto',...</td>\n",
              "      <td>0.609967</td>\n",
              "      <td>0.610445</td>\n",
              "      <td>0.576642</td>\n",
              "      <td>0.599018</td>\n",
              "      <td>0.015823</td>\n",
              "      <td>11</td>\n",
              "    </tr>\n",
              "    <tr>\n",
              "      <th>2</th>\n",
              "      <td>0.470104</td>\n",
              "      <td>0.008292</td>\n",
              "      <td>0.124412</td>\n",
              "      <td>0.002097</td>\n",
              "      <td>10</td>\n",
              "      <td>sqrt</td>\n",
              "      <td>3</td>\n",
              "      <td>True</td>\n",
              "      <td>{'n_estimators': 10, 'max_features': 'sqrt', '...</td>\n",
              "      <td>0.585462</td>\n",
              "      <td>0.596129</td>\n",
              "      <td>0.575491</td>\n",
              "      <td>0.585694</td>\n",
              "      <td>0.008427</td>\n",
              "      <td>17</td>\n",
              "    </tr>\n",
              "    <tr>\n",
              "      <th>3</th>\n",
              "      <td>37.267242</td>\n",
              "      <td>0.095892</td>\n",
              "      <td>2.495859</td>\n",
              "      <td>0.044187</td>\n",
              "      <td>1000</td>\n",
              "      <td>sqrt</td>\n",
              "      <td>3</td>\n",
              "      <td>True</td>\n",
              "      <td>{'n_estimators': 1000, 'max_features': 'sqrt',...</td>\n",
              "      <td>0.609967</td>\n",
              "      <td>0.610445</td>\n",
              "      <td>0.576642</td>\n",
              "      <td>0.599018</td>\n",
              "      <td>0.015823</td>\n",
              "      <td>11</td>\n",
              "    </tr>\n",
              "    <tr>\n",
              "      <th>4</th>\n",
              "      <td>2.202456</td>\n",
              "      <td>0.083538</td>\n",
              "      <td>0.246830</td>\n",
              "      <td>0.007090</td>\n",
              "      <td>10</td>\n",
              "      <td>sqrt</td>\n",
              "      <td>None</td>\n",
              "      <td>True</td>\n",
              "      <td>{'n_estimators': 10, 'max_features': 'sqrt', '...</td>\n",
              "      <td>0.614290</td>\n",
              "      <td>0.614616</td>\n",
              "      <td>0.610749</td>\n",
              "      <td>0.613218</td>\n",
              "      <td>0.001751</td>\n",
              "      <td>8</td>\n",
              "    </tr>\n",
              "    <tr>\n",
              "      <th>5</th>\n",
              "      <td>3.836807</td>\n",
              "      <td>0.020354</td>\n",
              "      <td>0.343604</td>\n",
              "      <td>0.002513</td>\n",
              "      <td>100</td>\n",
              "      <td>auto</td>\n",
              "      <td>3</td>\n",
              "      <td>True</td>\n",
              "      <td>{'n_estimators': 100, 'max_features': 'auto', ...</td>\n",
              "      <td>0.584637</td>\n",
              "      <td>0.605796</td>\n",
              "      <td>0.573623</td>\n",
              "      <td>0.588018</td>\n",
              "      <td>0.013351</td>\n",
              "      <td>16</td>\n",
              "    </tr>\n",
              "    <tr>\n",
              "      <th>6</th>\n",
              "      <td>2.182063</td>\n",
              "      <td>0.049379</td>\n",
              "      <td>0.234017</td>\n",
              "      <td>0.001620</td>\n",
              "      <td>10</td>\n",
              "      <td>auto</td>\n",
              "      <td>None</td>\n",
              "      <td>True</td>\n",
              "      <td>{'n_estimators': 10, 'max_features': 'auto', '...</td>\n",
              "      <td>0.614290</td>\n",
              "      <td>0.614616</td>\n",
              "      <td>0.610749</td>\n",
              "      <td>0.613218</td>\n",
              "      <td>0.001751</td>\n",
              "      <td>8</td>\n",
              "    </tr>\n",
              "    <tr>\n",
              "      <th>7</th>\n",
              "      <td>146.845900</td>\n",
              "      <td>0.554065</td>\n",
              "      <td>4.839252</td>\n",
              "      <td>0.065072</td>\n",
              "      <td>1000</td>\n",
              "      <td>sqrt</td>\n",
              "      <td>10</td>\n",
              "      <td>False</td>\n",
              "      <td>{'n_estimators': 1000, 'max_features': 'sqrt',...</td>\n",
              "      <td>0.641380</td>\n",
              "      <td>0.641315</td>\n",
              "      <td>0.634819</td>\n",
              "      <td>0.639171</td>\n",
              "      <td>0.003077</td>\n",
              "      <td>2</td>\n",
              "    </tr>\n",
              "    <tr>\n",
              "      <th>8</th>\n",
              "      <td>0.479290</td>\n",
              "      <td>0.018105</td>\n",
              "      <td>0.122494</td>\n",
              "      <td>0.001688</td>\n",
              "      <td>10</td>\n",
              "      <td>auto</td>\n",
              "      <td>3</td>\n",
              "      <td>True</td>\n",
              "      <td>{'n_estimators': 10, 'max_features': 'auto', '...</td>\n",
              "      <td>0.585462</td>\n",
              "      <td>0.596129</td>\n",
              "      <td>0.575491</td>\n",
              "      <td>0.585694</td>\n",
              "      <td>0.008427</td>\n",
              "      <td>17</td>\n",
              "    </tr>\n",
              "    <tr>\n",
              "      <th>9</th>\n",
              "      <td>4.991474</td>\n",
              "      <td>0.033816</td>\n",
              "      <td>0.340844</td>\n",
              "      <td>0.004852</td>\n",
              "      <td>100</td>\n",
              "      <td>auto</td>\n",
              "      <td>3</td>\n",
              "      <td>False</td>\n",
              "      <td>{'n_estimators': 100, 'max_features': 'auto', ...</td>\n",
              "      <td>0.593783</td>\n",
              "      <td>0.602928</td>\n",
              "      <td>0.573536</td>\n",
              "      <td>0.590082</td>\n",
              "      <td>0.012281</td>\n",
              "      <td>14</td>\n",
              "    </tr>\n",
              "    <tr>\n",
              "      <th>10</th>\n",
              "      <td>31.682224</td>\n",
              "      <td>0.548864</td>\n",
              "      <td>1.600275</td>\n",
              "      <td>0.006303</td>\n",
              "      <td>100</td>\n",
              "      <td>auto</td>\n",
              "      <td>None</td>\n",
              "      <td>False</td>\n",
              "      <td>{'n_estimators': 100, 'max_features': 'auto', ...</td>\n",
              "      <td>0.614268</td>\n",
              "      <td>0.610423</td>\n",
              "      <td>0.609532</td>\n",
              "      <td>0.611408</td>\n",
              "      <td>0.002055</td>\n",
              "      <td>10</td>\n",
              "    </tr>\n",
              "    <tr>\n",
              "      <th>11</th>\n",
              "      <td>1.107065</td>\n",
              "      <td>0.013502</td>\n",
              "      <td>0.145077</td>\n",
              "      <td>0.001488</td>\n",
              "      <td>10</td>\n",
              "      <td>auto</td>\n",
              "      <td>10</td>\n",
              "      <td>True</td>\n",
              "      <td>{'n_estimators': 10, 'max_features': 'auto', '...</td>\n",
              "      <td>0.630062</td>\n",
              "      <td>0.636470</td>\n",
              "      <td>0.628650</td>\n",
              "      <td>0.631727</td>\n",
              "      <td>0.003403</td>\n",
              "      <td>5</td>\n",
              "    </tr>\n",
              "    <tr>\n",
              "      <th>12</th>\n",
              "      <td>20.687156</td>\n",
              "      <td>0.325314</td>\n",
              "      <td>1.433397</td>\n",
              "      <td>0.008371</td>\n",
              "      <td>100</td>\n",
              "      <td>sqrt</td>\n",
              "      <td>None</td>\n",
              "      <td>True</td>\n",
              "      <td>{'n_estimators': 100, 'max_features': 'sqrt', ...</td>\n",
              "      <td>0.624826</td>\n",
              "      <td>0.624587</td>\n",
              "      <td>0.622762</td>\n",
              "      <td>0.624059</td>\n",
              "      <td>0.000922</td>\n",
              "      <td>7</td>\n",
              "    </tr>\n",
              "    <tr>\n",
              "      <th>13</th>\n",
              "      <td>10.231691</td>\n",
              "      <td>0.026038</td>\n",
              "      <td>0.552316</td>\n",
              "      <td>0.011068</td>\n",
              "      <td>100</td>\n",
              "      <td>auto</td>\n",
              "      <td>10</td>\n",
              "      <td>True</td>\n",
              "      <td>{'n_estimators': 100, 'max_features': 'auto', ...</td>\n",
              "      <td>0.633733</td>\n",
              "      <td>0.642314</td>\n",
              "      <td>0.633820</td>\n",
              "      <td>0.636622</td>\n",
              "      <td>0.004025</td>\n",
              "      <td>4</td>\n",
              "    </tr>\n",
              "    <tr>\n",
              "      <th>14</th>\n",
              "      <td>1.562054</td>\n",
              "      <td>0.010706</td>\n",
              "      <td>0.146750</td>\n",
              "      <td>0.002147</td>\n",
              "      <td>10</td>\n",
              "      <td>sqrt</td>\n",
              "      <td>10</td>\n",
              "      <td>False</td>\n",
              "      <td>{'n_estimators': 10, 'max_features': 'sqrt', '...</td>\n",
              "      <td>0.639077</td>\n",
              "      <td>0.639446</td>\n",
              "      <td>0.634841</td>\n",
              "      <td>0.637788</td>\n",
              "      <td>0.002089</td>\n",
              "      <td>3</td>\n",
              "    </tr>\n",
              "    <tr>\n",
              "      <th>15</th>\n",
              "      <td>48.428465</td>\n",
              "      <td>0.272325</td>\n",
              "      <td>2.538961</td>\n",
              "      <td>0.032161</td>\n",
              "      <td>1000</td>\n",
              "      <td>sqrt</td>\n",
              "      <td>3</td>\n",
              "      <td>False</td>\n",
              "      <td>{'n_estimators': 1000, 'max_features': 'sqrt',...</td>\n",
              "      <td>0.611205</td>\n",
              "      <td>0.610749</td>\n",
              "      <td>0.573514</td>\n",
              "      <td>0.598489</td>\n",
              "      <td>0.017661</td>\n",
              "      <td>13</td>\n",
              "    </tr>\n",
              "    <tr>\n",
              "      <th>16</th>\n",
              "      <td>14.854132</td>\n",
              "      <td>0.109860</td>\n",
              "      <td>0.572624</td>\n",
              "      <td>0.009603</td>\n",
              "      <td>100</td>\n",
              "      <td>sqrt</td>\n",
              "      <td>10</td>\n",
              "      <td>False</td>\n",
              "      <td>{'n_estimators': 100, 'max_features': 'sqrt', ...</td>\n",
              "      <td>0.642683</td>\n",
              "      <td>0.640598</td>\n",
              "      <td>0.634385</td>\n",
              "      <td>0.639222</td>\n",
              "      <td>0.003525</td>\n",
              "      <td>1</td>\n",
              "    </tr>\n",
              "    <tr>\n",
              "      <th>17</th>\n",
              "      <td>206.171223</td>\n",
              "      <td>3.381628</td>\n",
              "      <td>13.459981</td>\n",
              "      <td>0.060035</td>\n",
              "      <td>1000</td>\n",
              "      <td>auto</td>\n",
              "      <td>None</td>\n",
              "      <td>True</td>\n",
              "      <td>{'n_estimators': 1000, 'max_features': 'auto',...</td>\n",
              "      <td>0.627477</td>\n",
              "      <td>0.625065</td>\n",
              "      <td>0.624609</td>\n",
              "      <td>0.625717</td>\n",
              "      <td>0.001258</td>\n",
              "      <td>6</td>\n",
              "    </tr>\n",
              "  </tbody>\n",
              "</table>\n",
              "</div>"
            ],
            "text/plain": [
              "    mean_fit_time  std_fit_time  ...  std_test_score  rank_test_score\n",
              "0        0.605787      0.016151  ...        0.014496               15\n",
              "1       37.360187      0.088183  ...        0.015823               11\n",
              "2        0.470104      0.008292  ...        0.008427               17\n",
              "3       37.267242      0.095892  ...        0.015823               11\n",
              "4        2.202456      0.083538  ...        0.001751                8\n",
              "5        3.836807      0.020354  ...        0.013351               16\n",
              "6        2.182063      0.049379  ...        0.001751                8\n",
              "7      146.845900      0.554065  ...        0.003077                2\n",
              "8        0.479290      0.018105  ...        0.008427               17\n",
              "9        4.991474      0.033816  ...        0.012281               14\n",
              "10      31.682224      0.548864  ...        0.002055               10\n",
              "11       1.107065      0.013502  ...        0.003403                5\n",
              "12      20.687156      0.325314  ...        0.000922                7\n",
              "13      10.231691      0.026038  ...        0.004025                4\n",
              "14       1.562054      0.010706  ...        0.002089                3\n",
              "15      48.428465      0.272325  ...        0.017661               13\n",
              "16      14.854132      0.109860  ...        0.003525                1\n",
              "17     206.171223      3.381628  ...        0.001258                6\n",
              "\n",
              "[18 rows x 15 columns]"
            ]
          },
          "metadata": {},
          "execution_count": 81
        }
      ]
    },
    {
      "cell_type": "markdown",
      "metadata": {
        "id": "e1r9zN9yI-at"
      },
      "source": [
        "# Extra Credit: Plot a simple 3-point ROC curve for the model with the best parameters found in the previous step. Describe it. "
      ]
    },
    {
      "cell_type": "code",
      "metadata": {
        "id": "NgfG-jwiEDWz"
      },
      "source": [
        "rf = RandomForestClassifier(n_estimators= 1000, max_features= 'sqrt', max_depth= 10, bootstrap= False, \n",
        "                            criterion=\"gini\", random_state=222)"
      ],
      "execution_count": null,
      "outputs": []
    },
    {
      "cell_type": "code",
      "metadata": {
        "id": "Wl2NKYAy9LYt",
        "colab": {
          "base_uri": "https://localhost:8080/"
        },
        "outputId": "203f15f3-ac42-4ab0-f774-04a3a4abfebb"
      },
      "source": [
        "rf.fit(data_train_short.values, ll_train)"
      ],
      "execution_count": null,
      "outputs": [
        {
          "output_type": "execute_result",
          "data": {
            "text/plain": [
              "RandomForestClassifier(bootstrap=False, max_depth=10, max_features='sqrt',\n",
              "                       n_estimators=1000, random_state=222)"
            ]
          },
          "metadata": {},
          "execution_count": 83
        }
      ]
    },
    {
      "cell_type": "code",
      "metadata": {
        "id": "Ap4ZcVFm7zyD",
        "colab": {
          "base_uri": "https://localhost:8080/",
          "height": 388
        },
        "outputId": "2f4b7c63-f364-4541-e986-06a4d2e671a2"
      },
      "source": [
        "# The random forest model by itself\n",
        "from sklearn.metrics import roc_curve\n",
        "# y_pred_grd_rfcat = rf.predict_proba(data_test_short)[:, 1]\n",
        "\n",
        "fpr_rf, tpr_rf, _ = roc_curve(ll_test, rf.predict(data_test_short)==\"s\", pos_label = \"s\")\n",
        "\n",
        "plt.figure(1)\n",
        "plt.plot([0, 1], [0, 1], 'k--')\n",
        "plt.plot(fpr_rf, tpr_rf, label='RF')\n",
        "plt.xlabel('False positive rate')\n",
        "plt.ylabel('True positive rate')\n",
        "plt.title('ROC curve')\n",
        "plt.legend(loc='best')\n",
        "plt.show()\n"
      ],
      "execution_count": null,
      "outputs": [
        {
          "output_type": "stream",
          "name": "stderr",
          "text": [
            "/usr/local/lib/python3.7/dist-packages/sklearn/base.py:439: UserWarning: X has feature names, but RandomForestClassifier was fitted without feature names\n",
            "  f\"X has feature names, but {self.__class__.__name__} was fitted without\"\n",
            "/usr/local/lib/python3.7/dist-packages/sklearn/base.py:439: UserWarning: X has feature names, but RandomForestClassifier was fitted without feature names\n",
            "  f\"X has feature names, but {self.__class__.__name__} was fitted without\"\n"
          ]
        },
        {
          "output_type": "display_data",
          "data": {
            "image/png": "[encoded data removed]",
            "text/plain": [
              "<Figure size 432x288 with 1 Axes>"
            ]
          },
          "metadata": {
            "needs_background": "light"
          }
        }
      ]
    },
    {
      "cell_type": "code",
      "metadata": {
        "id": "0jiROnM7-E0n"
      },
      "source": [
        ""
      ],
      "execution_count": null,
      "outputs": []
    }
  ]
}