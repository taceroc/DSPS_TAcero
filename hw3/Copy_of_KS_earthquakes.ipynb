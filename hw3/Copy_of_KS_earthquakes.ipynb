{
  "nbformat": 4,
  "nbformat_minor": 0,
  "metadata": {
    "kernelspec": {
      "display_name": "Python 3",
      "language": "python",
      "name": "python3"
    },
    "language_info": {
      "codemirror_mode": {
        "name": "ipython",
        "version": 3
      },
      "file_extension": ".py",
      "mimetype": "text/x-python",
      "name": "python",
      "nbconvert_exporter": "python",
      "pygments_lexer": "ipython3",
      "version": "3.7.3"
    },
    "latex_envs": {
      "LaTeX_envs_menu_present": true,
      "autoclose": false,
      "autocomplete": true,
      "bibliofile": "biblio.bib",
      "cite_by": "apalike",
      "current_citInitial": 1,
      "eqLabelWithNumbers": true,
      "eqNumInitial": 1,
      "hotkeys": {
        "equation": "Ctrl-E",
        "itemize": "Ctrl-I"
      },
      "labels_anchors": false,
      "latex_user_defs": false,
      "report_style_numbering": false,
      "user_envs_cfg": false
    },
    "nbTranslate": {
      "displayLangs": [
        "*"
      ],
      "hotkey": "alt-t",
      "langInMainMenu": true,
      "sourceLang": "en",
      "targetLang": "fr",
      "useGoogleTranslate": true
    },
    "toc": {
      "base_numbering": 1,
      "nav_menu": {},
      "number_sections": true,
      "sideBar": true,
      "skip_h1_title": false,
      "title_cell": "Table of Contents",
      "title_sidebar": "Contents",
      "toc_cell": false,
      "toc_position": {},
      "toc_section_display": true,
      "toc_window_display": false
    },
    "colab": {
      "name": "Copy of KS_earthquakes.ipynb",
      "provenance": [],
      "collapsed_sections": [],
      "include_colab_link": true
    }
  },
  "cells": [
    {
      "cell_type": "markdown",
      "metadata": {
        "id": "view-in-github",
        "colab_type": "text"
      },
      "source": [
        "<a href=\"https://colab.research.google.com/github/taceroc/DSPS_TAcero/blob/main/hw3/Copy_of_KS_earthquakes.ipynb\" target=\"_parent\"><img src=\"https://colab.research.google.com/assets/colab-badge.svg\" alt=\"Open In Colab\"/></a>"
      ]
    },
    {
      "cell_type": "markdown",
      "metadata": {
        "id": "Uk3iBT7phXry"
      },
      "source": [
        "Created by FedericaBBianco @fedhere for DSPS/MLNPS\n",
        "# Kolmogorov Smirnoff test, application to earthquake data"
      ]
    },
    {
      "cell_type": "code",
      "metadata": {
        "ExecuteTime": {
          "end_time": "2019-09-09T01:40:01.895798Z",
          "start_time": "2019-09-09T01:40:01.890474Z"
        },
        "id": "LS78mdVthXrz",
        "colab": {
          "base_uri": "https://localhost:8080/"
        },
        "outputId": "e4ba4cfb-6492-49d2-bafc-387a6d36059b"
      },
      "source": [
        "#all the imports I needed\n",
        "from __future__ import print_function, division\n",
        "import pandas as pd\n",
        "import pylab as pl\n",
        "import scipy as sp\n",
        "from scipy import stats\n",
        "%pylab inline\n",
        "pl.style.use(\"https://raw.githubusercontent.com/fedhere/DSPS/master/fbb.mplstyle\")"
      ],
      "execution_count": 1,
      "outputs": [
        {
          "output_type": "stream",
          "name": "stdout",
          "text": [
            "Populating the interactive namespace from numpy and matplotlib\n"
          ]
        }
      ]
    },
    {
      "cell_type": "markdown",
      "metadata": {
        "id": "SvIJHRyuhXr2"
      },
      "source": [
        "This homework asks you to reproduce the work in [Corral 2018](https://arxiv.org/pdf/0910.0055.pdf) which is well described, but not \"reproducible\". \n",
        "Corral 2018 uses a K-S test to show that at different magnitude scales the time gaps between earthquakes follows the same distribution. If true, this indicates that there is a consistent scaling law. \n",
        "\n",
        "The argument is a little convoluted, but it is a somewhat innovative use of the test. Corall compares the time gap between earthquakes  greater than a certain magnitude threshold with the time gaps between earthquakes above a different threshold, and finds no differences.\n",
        "\n",
        "Remind yourself exactly what the K-S test is about :\n",
        "\n",
        "    1 What is the test's Null Hypothsis that the K-S test tests?\n",
        "    \n",
        "    \n"
      ]
    },
    {
      "cell_type": "markdown",
      "metadata": {
        "id": "y8DJjYrthXr3"
      },
      "source": [
        "The data that you have came from the same distribution\n",
        "\n",
        "\n"
      ]
    },
    {
      "cell_type": "markdown",
      "metadata": {
        "id": "V8T9XH7nhXr3"
      },
      "source": [
        "    2 What is the \"statistic\" or \"pivotal quantity\" that the test uses?\n",
        "    \n"
      ]
    },
    {
      "cell_type": "markdown",
      "metadata": {
        "ExecuteTime": {
          "end_time": "2019-09-08T21:14:09.757045Z",
          "start_time": "2019-09-08T21:14:09.753882Z"
        },
        "id": "jSSktfhAhXr4"
      },
      "source": [
        "Maximum difference or distance between the cumulative distributions:\n",
        "\\begin{equation}\n",
        "    D = max|F_2(x_2)-F_1(x_1)|\n",
        "\\end{equation}\n",
        "\n",
        "where F$_2$ and F$_1$ are the cumulative distributions and x$_2$ and x$_1$ are the data or the two samples.\n"
      ]
    },
    {
      "cell_type": "markdown",
      "metadata": {
        "ExecuteTime": {
          "end_time": "2019-09-08T21:14:43.709157Z",
          "start_time": "2019-09-08T21:14:43.704734Z"
        },
        "id": "IYoQgG1BhXr4"
      },
      "source": [
        "    3 What does the probability distribution of this statistic depend on? \n",
        "    \n",
        "   \n"
      ]
    },
    {
      "cell_type": "markdown",
      "metadata": {
        "id": "ak74uTIrhXr5"
      },
      "source": [
        "On the number of data points and the distance between the cumulative distributions.\n",
        "\n",
        "\n",
        "    "
      ]
    },
    {
      "cell_type": "markdown",
      "metadata": {
        "id": "M-h5uhgfhXr6"
      },
      "source": [
        "# Data Retrival"
      ]
    },
    {
      "cell_type": "markdown",
      "metadata": {
        "id": "7TW_8XaNhXr6"
      },
      "source": [
        "The first reason why the paper is not techincally _reproducible_ is that, while a link is provided to retrieve the data, the link is dead. This happens often. Services like [Zenodo](https://zenodo.org/) or journals that serve data provide some insurance against this but unfortunately the standards are not strict. "
      ]
    },
    {
      "cell_type": "markdown",
      "metadata": {
        "id": "Bt6gDmQJhXr7"
      },
      "source": [
        "You can retrieve the data yourself from [this website](http://service.scedc.caltech.edu/eq-catalogs/poly.php). Think about what setting up data like this means for reproducibility. Did the author comply to reproducibility standards?__ Make sure the number of entries in your final dataset is similar to that of the authors. I got 70798, instead of 77000. 10% off, which I deem close enough. You should get something similar. Use the map in the paper to determine the region of interest. Call the file earthquakes_\\<firstinitialLastname\\>.csv and upload it to your github repository. Read it your file, instead of mine as instructed below. If you are getting weird results compare to what I got, go back and check how the files differ."
      ]
    },
    {
      "cell_type": "markdown",
      "metadata": {
        "id": "eCiLW1AuhXr7"
      },
      "source": [
        "# Data Ingestion"
      ]
    },
    {
      "cell_type": "markdown",
      "metadata": {
        "id": "FH0X7d9_hXr8"
      },
      "source": [
        "## read in data"
      ]
    },
    {
      "cell_type": "markdown",
      "metadata": {
        "id": "XbMPVaK-hXr9"
      },
      "source": [
        "I saved the data in a file called \"earthquakes.csv\", where ```csv``` stands for \"comma separated file\". [This file format](https://www.howtogeek.com/348960/what-is-a-csv-file-and-how-do-i-open-it/) requires different entries in a row to be separated by commas alone (no space) and for commas to be used in quote if they are not intended to separate entries. \n",
        "\n",
        "```\n",
        "a,b,c\n",
        "d,e,f\n",
        "g,\"h,2\",i\n",
        "```\n",
        "The data is uploaded on the  github homework repository but to read it in you will need to get the link to the *raw file*: the link to the file earthquakes.csv which is in my GitHub repository https://github.com/fedhere/MLPNS2021/tree/main/HW2_NHRT takes you to an ```html``` page that includes the content of the file, but you want to isolate the content of the file itself: the _raw file_. Pay attention to this: from the next time I will not give you the exact link, I will just point you to the file and you will have to find the link to the raw data from there. (remember to use the \"raw\" link)\n",
        "\n",
        "The data can be read effectively using the _pandas_ python package as ```pandas.read_csv(<file name or URL>)```. \n",
        "\n",
        "However, I did not format the data correctly, according to the csv extension requirement. This happens all the time. Look at the file and use the pandas documentation to figure out how to read it with ```pd.read_csv()```"
      ]
    },
    {
      "cell_type": "code",
      "metadata": {
        "ExecuteTime": {
          "end_time": "2019-09-09T01:40:02.638703Z",
          "start_time": "2019-09-09T01:40:02.454643Z"
        },
        "id": "hOEZafxahXr9"
      },
      "source": [
        "import pandas as pd\n",
        "import numpy as np\n",
        "import matplotlib.pyplot as plt"
      ],
      "execution_count": 2,
      "outputs": []
    },
    {
      "cell_type": "code",
      "metadata": {
        "id": "3tQR-IHdtfoy"
      },
      "source": [
        "eqdata = pd.read_csv('https://github.com/fedhere/DSPS_FBianco/blob/master/HW3/earthquakes.csv?raw=true', sep = \" \")"
      ],
      "execution_count": 3,
      "outputs": []
    },
    {
      "cell_type": "markdown",
      "metadata": {
        "id": "r0IW9m4vhXr_"
      },
      "source": [
        "running the following lines of code should give you the same result as mine if you used the file I provided (467 students), and qualitatively  similar if you are using your own data (667 students)"
      ]
    },
    {
      "cell_type": "code",
      "metadata": {
        "ExecuteTime": {
          "end_time": "2019-09-09T01:40:02.643428Z",
          "start_time": "2019-09-09T01:40:02.640847Z"
        },
        "id": "uphAqv5ZhXsA",
        "colab": {
          "base_uri": "https://localhost:8080/"
        },
        "outputId": "b8cf4b62-4065-411a-b348-a5f6d842a0bd"
      },
      "source": [
        "eqdata.shape"
      ],
      "execution_count": 4,
      "outputs": [
        {
          "output_type": "execute_result",
          "data": {
            "text/plain": [
              "(70798, 34)"
            ]
          },
          "metadata": {},
          "execution_count": 4
        }
      ]
    },
    {
      "cell_type": "code",
      "metadata": {
        "ExecuteTime": {
          "end_time": "2019-09-09T01:40:02.661139Z",
          "start_time": "2019-09-09T01:40:02.644720Z"
        },
        "id": "9CHqm426hXsC",
        "colab": {
          "base_uri": "https://localhost:8080/",
          "height": 244
        },
        "outputId": "a742a267-acd5-4777-9f99-bae1b246c157"
      },
      "source": [
        "eqdata.head()"
      ],
      "execution_count": 5,
      "outputs": [
        {
          "output_type": "execute_result",
          "data": {
            "text/html": [
              "<div>\n",
              "<style scoped>\n",
              "    .dataframe tbody tr th:only-of-type {\n",
              "        vertical-align: middle;\n",
              "    }\n",
              "\n",
              "    .dataframe tbody tr th {\n",
              "        vertical-align: top;\n",
              "    }\n",
              "\n",
              "    .dataframe thead th {\n",
              "        text-align: right;\n",
              "    }\n",
              "</style>\n",
              "<table border=\"1\" class=\"dataframe\">\n",
              "  <thead>\n",
              "    <tr style=\"text-align: right;\">\n",
              "      <th></th>\n",
              "      <th>#YYY/MM/DD</th>\n",
              "      <th>HH:mm:SS.ss</th>\n",
              "      <th>ET</th>\n",
              "      <th>GT</th>\n",
              "      <th>MAG</th>\n",
              "      <th>Unnamed: 5</th>\n",
              "      <th>M</th>\n",
              "      <th>Unnamed: 7</th>\n",
              "      <th>Unnamed: 8</th>\n",
              "      <th>Unnamed: 9</th>\n",
              "      <th>LAT</th>\n",
              "      <th>Unnamed: 11</th>\n",
              "      <th>Unnamed: 12</th>\n",
              "      <th>Unnamed: 13</th>\n",
              "      <th>Unnamed: 14</th>\n",
              "      <th>Unnamed: 15</th>\n",
              "      <th>Unnamed: 16</th>\n",
              "      <th>LON</th>\n",
              "      <th>Unnamed: 18</th>\n",
              "      <th>Unnamed: 19</th>\n",
              "      <th>Unnamed: 20</th>\n",
              "      <th>Unnamed: 21</th>\n",
              "      <th>Unnamed: 22</th>\n",
              "      <th>DEPTH</th>\n",
              "      <th>Q</th>\n",
              "      <th>Unnamed: 25</th>\n",
              "      <th>EVID</th>\n",
              "      <th>Unnamed: 27</th>\n",
              "      <th>Unnamed: 28</th>\n",
              "      <th>Unnamed: 29</th>\n",
              "      <th>Unnamed: 30</th>\n",
              "      <th>Unnamed: 31</th>\n",
              "      <th>NPH</th>\n",
              "      <th>NGRM</th>\n",
              "    </tr>\n",
              "  </thead>\n",
              "  <tbody>\n",
              "    <tr>\n",
              "      <th>0</th>\n",
              "      <td>1984/01/01</td>\n",
              "      <td>01:30:57.52</td>\n",
              "      <td>eq</td>\n",
              "      <td>NaN</td>\n",
              "      <td>l</td>\n",
              "      <td>2.02</td>\n",
              "      <td>c</td>\n",
              "      <td>NaN</td>\n",
              "      <td>NaN</td>\n",
              "      <td>33.246</td>\n",
              "      <td>-116.433</td>\n",
              "      <td>NaN</td>\n",
              "      <td>NaN</td>\n",
              "      <td>1.6</td>\n",
              "      <td>C</td>\n",
              "      <td>NaN</td>\n",
              "      <td>NaN</td>\n",
              "      <td>NaN</td>\n",
              "      <td>28255.0</td>\n",
              "      <td>NaN</td>\n",
              "      <td>NaN</td>\n",
              "      <td>13.0</td>\n",
              "      <td>NaN</td>\n",
              "      <td>NaN</td>\n",
              "      <td>17.0</td>\n",
              "      <td>NaN</td>\n",
              "      <td>NaN</td>\n",
              "      <td>NaN</td>\n",
              "      <td>NaN</td>\n",
              "      <td>NaN</td>\n",
              "      <td>NaN</td>\n",
              "      <td>NaN</td>\n",
              "      <td>NaN</td>\n",
              "      <td>NaN</td>\n",
              "    </tr>\n",
              "    <tr>\n",
              "      <th>1</th>\n",
              "      <td>1984/01/01</td>\n",
              "      <td>05:31:34.16</td>\n",
              "      <td>eq</td>\n",
              "      <td>NaN</td>\n",
              "      <td>l</td>\n",
              "      <td>2.12</td>\n",
              "      <td>c</td>\n",
              "      <td>NaN</td>\n",
              "      <td>NaN</td>\n",
              "      <td>32.945</td>\n",
              "      <td>-116.295</td>\n",
              "      <td>NaN</td>\n",
              "      <td>NaN</td>\n",
              "      <td>5.4</td>\n",
              "      <td>C</td>\n",
              "      <td>NaN</td>\n",
              "      <td>NaN</td>\n",
              "      <td>NaN</td>\n",
              "      <td>28259.0</td>\n",
              "      <td>NaN</td>\n",
              "      <td>NaN</td>\n",
              "      <td>18.0</td>\n",
              "      <td>NaN</td>\n",
              "      <td>NaN</td>\n",
              "      <td>42.0</td>\n",
              "      <td>NaN</td>\n",
              "      <td>NaN</td>\n",
              "      <td>NaN</td>\n",
              "      <td>NaN</td>\n",
              "      <td>NaN</td>\n",
              "      <td>NaN</td>\n",
              "      <td>NaN</td>\n",
              "      <td>NaN</td>\n",
              "      <td>NaN</td>\n",
              "    </tr>\n",
              "    <tr>\n",
              "      <th>2</th>\n",
              "      <td>1984/01/01</td>\n",
              "      <td>06:59:05.14</td>\n",
              "      <td>eq</td>\n",
              "      <td>NaN</td>\n",
              "      <td>l</td>\n",
              "      <td>2.43</td>\n",
              "      <td>c</td>\n",
              "      <td>NaN</td>\n",
              "      <td>NaN</td>\n",
              "      <td>33.343</td>\n",
              "      <td>-117.628</td>\n",
              "      <td>NaN</td>\n",
              "      <td>NaN</td>\n",
              "      <td>5.6</td>\n",
              "      <td>C</td>\n",
              "      <td>NaN</td>\n",
              "      <td>NaN</td>\n",
              "      <td>NaN</td>\n",
              "      <td>28260.0</td>\n",
              "      <td>NaN</td>\n",
              "      <td>NaN</td>\n",
              "      <td>13.0</td>\n",
              "      <td>NaN</td>\n",
              "      <td>NaN</td>\n",
              "      <td>30.0</td>\n",
              "      <td>NaN</td>\n",
              "      <td>NaN</td>\n",
              "      <td>NaN</td>\n",
              "      <td>NaN</td>\n",
              "      <td>NaN</td>\n",
              "      <td>NaN</td>\n",
              "      <td>NaN</td>\n",
              "      <td>NaN</td>\n",
              "      <td>NaN</td>\n",
              "    </tr>\n",
              "    <tr>\n",
              "      <th>3</th>\n",
              "      <td>1984/01/01</td>\n",
              "      <td>11:10:25.29</td>\n",
              "      <td>eq</td>\n",
              "      <td>NaN</td>\n",
              "      <td>l</td>\n",
              "      <td>2.07</td>\n",
              "      <td>c</td>\n",
              "      <td>NaN</td>\n",
              "      <td>NaN</td>\n",
              "      <td>33.668</td>\n",
              "      <td>-116.780</td>\n",
              "      <td>NaN</td>\n",
              "      <td>13.8</td>\n",
              "      <td>C</td>\n",
              "      <td>NaN</td>\n",
              "      <td>NaN</td>\n",
              "      <td>NaN</td>\n",
              "      <td>28270.0</td>\n",
              "      <td>NaN</td>\n",
              "      <td>NaN</td>\n",
              "      <td>19.0</td>\n",
              "      <td>NaN</td>\n",
              "      <td>NaN</td>\n",
              "      <td>40.0</td>\n",
              "      <td>NaN</td>\n",
              "      <td>NaN</td>\n",
              "      <td>NaN</td>\n",
              "      <td>NaN</td>\n",
              "      <td>NaN</td>\n",
              "      <td>NaN</td>\n",
              "      <td>NaN</td>\n",
              "      <td>NaN</td>\n",
              "      <td>NaN</td>\n",
              "      <td>NaN</td>\n",
              "    </tr>\n",
              "    <tr>\n",
              "      <th>4</th>\n",
              "      <td>1984/01/01</td>\n",
              "      <td>19:38:19.79</td>\n",
              "      <td>eq</td>\n",
              "      <td>NaN</td>\n",
              "      <td>l</td>\n",
              "      <td>2.13</td>\n",
              "      <td>c</td>\n",
              "      <td>NaN</td>\n",
              "      <td>NaN</td>\n",
              "      <td>33.963</td>\n",
              "      <td>-116.290</td>\n",
              "      <td>NaN</td>\n",
              "      <td>NaN</td>\n",
              "      <td>2.7</td>\n",
              "      <td>C</td>\n",
              "      <td>NaN</td>\n",
              "      <td>NaN</td>\n",
              "      <td>NaN</td>\n",
              "      <td>28553.0</td>\n",
              "      <td>NaN</td>\n",
              "      <td>NaN</td>\n",
              "      <td>40.0</td>\n",
              "      <td>NaN</td>\n",
              "      <td>NaN</td>\n",
              "      <td>49.0</td>\n",
              "      <td>NaN</td>\n",
              "      <td>NaN</td>\n",
              "      <td>NaN</td>\n",
              "      <td>NaN</td>\n",
              "      <td>NaN</td>\n",
              "      <td>NaN</td>\n",
              "      <td>NaN</td>\n",
              "      <td>NaN</td>\n",
              "      <td>NaN</td>\n",
              "    </tr>\n",
              "  </tbody>\n",
              "</table>\n",
              "</div>"
            ],
            "text/plain": [
              "   #YYY/MM/DD  HH:mm:SS.ss  ET  GT  ... Unnamed: 30  Unnamed: 31 NPH  NGRM\n",
              "0  1984/01/01  01:30:57.52  eq NaN  ...         NaN          NaN NaN   NaN\n",
              "1  1984/01/01  05:31:34.16  eq NaN  ...         NaN          NaN NaN   NaN\n",
              "2  1984/01/01  06:59:05.14  eq NaN  ...         NaN          NaN NaN   NaN\n",
              "3  1984/01/01  11:10:25.29  eq NaN  ...         NaN          NaN NaN   NaN\n",
              "4  1984/01/01  19:38:19.79  eq NaN  ...         NaN          NaN NaN   NaN\n",
              "\n",
              "[5 rows x 34 columns]"
            ]
          },
          "metadata": {},
          "execution_count": 5
        }
      ]
    },
    {
      "cell_type": "code",
      "metadata": {
        "ExecuteTime": {
          "end_time": "2019-09-09T01:40:02.759957Z",
          "start_time": "2019-09-09T01:40:02.662327Z"
        },
        "id": "405C-Y8_hXsD",
        "colab": {
          "base_uri": "https://localhost:8080/",
          "height": 338
        },
        "outputId": "d5e66a32-6d88-404a-e4e3-bdca6bed60e6"
      },
      "source": [
        "eqdata.describe()"
      ],
      "execution_count": 6,
      "outputs": [
        {
          "output_type": "execute_result",
          "data": {
            "text/html": [
              "<div>\n",
              "<style scoped>\n",
              "    .dataframe tbody tr th:only-of-type {\n",
              "        vertical-align: middle;\n",
              "    }\n",
              "\n",
              "    .dataframe tbody tr th {\n",
              "        vertical-align: top;\n",
              "    }\n",
              "\n",
              "    .dataframe thead th {\n",
              "        text-align: right;\n",
              "    }\n",
              "</style>\n",
              "<table border=\"1\" class=\"dataframe\">\n",
              "  <thead>\n",
              "    <tr style=\"text-align: right;\">\n",
              "      <th></th>\n",
              "      <th>GT</th>\n",
              "      <th>Unnamed: 5</th>\n",
              "      <th>Unnamed: 7</th>\n",
              "      <th>Unnamed: 8</th>\n",
              "      <th>Unnamed: 9</th>\n",
              "      <th>LAT</th>\n",
              "      <th>Unnamed: 11</th>\n",
              "      <th>Unnamed: 12</th>\n",
              "      <th>Unnamed: 15</th>\n",
              "      <th>Unnamed: 16</th>\n",
              "      <th>LON</th>\n",
              "      <th>Unnamed: 18</th>\n",
              "      <th>Unnamed: 19</th>\n",
              "      <th>Unnamed: 20</th>\n",
              "      <th>Unnamed: 21</th>\n",
              "      <th>Unnamed: 22</th>\n",
              "      <th>DEPTH</th>\n",
              "      <th>Q</th>\n",
              "      <th>Unnamed: 25</th>\n",
              "      <th>EVID</th>\n",
              "      <th>Unnamed: 27</th>\n",
              "      <th>Unnamed: 28</th>\n",
              "      <th>Unnamed: 29</th>\n",
              "      <th>Unnamed: 30</th>\n",
              "      <th>Unnamed: 31</th>\n",
              "      <th>NPH</th>\n",
              "      <th>NGRM</th>\n",
              "    </tr>\n",
              "  </thead>\n",
              "  <tbody>\n",
              "    <tr>\n",
              "      <th>count</th>\n",
              "      <td>0.0</td>\n",
              "      <td>70798.000000</td>\n",
              "      <td>0.0</td>\n",
              "      <td>0.0</td>\n",
              "      <td>70798.000000</td>\n",
              "      <td>70798.00000</td>\n",
              "      <td>0.0</td>\n",
              "      <td>9648.000000</td>\n",
              "      <td>7.359000e+03</td>\n",
              "      <td>4.628900e+04</td>\n",
              "      <td>14096.000000</td>\n",
              "      <td>10889.000000</td>\n",
              "      <td>43932.000000</td>\n",
              "      <td>21302.000000</td>\n",
              "      <td>33735.000000</td>\n",
              "      <td>18080.000000</td>\n",
              "      <td>12705.000000</td>\n",
              "      <td>3387.000000</td>\n",
              "      <td>469.000000</td>\n",
              "      <td>2.000000</td>\n",
              "      <td>0.0</td>\n",
              "      <td>0.0</td>\n",
              "      <td>0.0</td>\n",
              "      <td>0.0</td>\n",
              "      <td>0.0</td>\n",
              "      <td>0.0</td>\n",
              "      <td>0.0</td>\n",
              "    </tr>\n",
              "    <tr>\n",
              "      <th>mean</th>\n",
              "      <td>NaN</td>\n",
              "      <td>2.417826</td>\n",
              "      <td>NaN</td>\n",
              "      <td>NaN</td>\n",
              "      <td>33.977749</td>\n",
              "      <td>-116.88145</td>\n",
              "      <td>NaN</td>\n",
              "      <td>13.354343</td>\n",
              "      <td>6.097558e+06</td>\n",
              "      <td>4.482677e+06</td>\n",
              "      <td>524649.772205</td>\n",
              "      <td>16307.082193</td>\n",
              "      <td>43.634321</td>\n",
              "      <td>141.903530</td>\n",
              "      <td>203.562443</td>\n",
              "      <td>78.426383</td>\n",
              "      <td>55.085714</td>\n",
              "      <td>43.415412</td>\n",
              "      <td>14.746269</td>\n",
              "      <td>7.000000</td>\n",
              "      <td>NaN</td>\n",
              "      <td>NaN</td>\n",
              "      <td>NaN</td>\n",
              "      <td>NaN</td>\n",
              "      <td>NaN</td>\n",
              "      <td>NaN</td>\n",
              "      <td>NaN</td>\n",
              "    </tr>\n",
              "    <tr>\n",
              "      <th>std</th>\n",
              "      <td>NaN</td>\n",
              "      <td>0.407683</td>\n",
              "      <td>NaN</td>\n",
              "      <td>NaN</td>\n",
              "      <td>1.156586</td>\n",
              "      <td>1.07667</td>\n",
              "      <td>NaN</td>\n",
              "      <td>2.724517</td>\n",
              "      <td>4.441852e+06</td>\n",
              "      <td>3.130379e+06</td>\n",
              "      <td>281055.136911</td>\n",
              "      <td>25237.230734</td>\n",
              "      <td>121.795817</td>\n",
              "      <td>311.415589</td>\n",
              "      <td>155.337382</td>\n",
              "      <td>56.105321</td>\n",
              "      <td>30.519535</td>\n",
              "      <td>24.266088</td>\n",
              "      <td>17.013243</td>\n",
              "      <td>2.828427</td>\n",
              "      <td>NaN</td>\n",
              "      <td>NaN</td>\n",
              "      <td>NaN</td>\n",
              "      <td>NaN</td>\n",
              "      <td>NaN</td>\n",
              "      <td>NaN</td>\n",
              "      <td>NaN</td>\n",
              "    </tr>\n",
              "    <tr>\n",
              "      <th>min</th>\n",
              "      <td>NaN</td>\n",
              "      <td>2.000000</td>\n",
              "      <td>NaN</td>\n",
              "      <td>NaN</td>\n",
              "      <td>30.094830</td>\n",
              "      <td>-121.76000</td>\n",
              "      <td>NaN</td>\n",
              "      <td>10.000000</td>\n",
              "      <td>1.000432e+06</td>\n",
              "      <td>1.070000e+02</td>\n",
              "      <td>10.000000</td>\n",
              "      <td>0.000000</td>\n",
              "      <td>0.000000</td>\n",
              "      <td>0.000000</td>\n",
              "      <td>0.000000</td>\n",
              "      <td>0.000000</td>\n",
              "      <td>0.000000</td>\n",
              "      <td>0.000000</td>\n",
              "      <td>0.000000</td>\n",
              "      <td>5.000000</td>\n",
              "      <td>NaN</td>\n",
              "      <td>NaN</td>\n",
              "      <td>NaN</td>\n",
              "      <td>NaN</td>\n",
              "      <td>NaN</td>\n",
              "      <td>NaN</td>\n",
              "      <td>NaN</td>\n",
              "    </tr>\n",
              "    <tr>\n",
              "      <th>25%</th>\n",
              "      <td>NaN</td>\n",
              "      <td>2.120000</td>\n",
              "      <td>NaN</td>\n",
              "      <td>NaN</td>\n",
              "      <td>33.061000</td>\n",
              "      <td>-117.69200</td>\n",
              "      <td>NaN</td>\n",
              "      <td>11.200000</td>\n",
              "      <td>3.041641e+06</td>\n",
              "      <td>3.031237e+06</td>\n",
              "      <td>136998.250000</td>\n",
              "      <td>27.000000</td>\n",
              "      <td>18.000000</td>\n",
              "      <td>14.000000</td>\n",
              "      <td>113.000000</td>\n",
              "      <td>48.000000</td>\n",
              "      <td>33.000000</td>\n",
              "      <td>24.000000</td>\n",
              "      <td>0.000000</td>\n",
              "      <td>6.000000</td>\n",
              "      <td>NaN</td>\n",
              "      <td>NaN</td>\n",
              "      <td>NaN</td>\n",
              "      <td>NaN</td>\n",
              "      <td>NaN</td>\n",
              "      <td>NaN</td>\n",
              "      <td>NaN</td>\n",
              "    </tr>\n",
              "    <tr>\n",
              "      <th>50%</th>\n",
              "      <td>NaN</td>\n",
              "      <td>2.300000</td>\n",
              "      <td>NaN</td>\n",
              "      <td>NaN</td>\n",
              "      <td>34.056750</td>\n",
              "      <td>-116.59000</td>\n",
              "      <td>NaN</td>\n",
              "      <td>12.800000</td>\n",
              "      <td>3.229114e+06</td>\n",
              "      <td>3.110080e+06</td>\n",
              "      <td>703081.500000</td>\n",
              "      <td>57.000000</td>\n",
              "      <td>28.000000</td>\n",
              "      <td>23.000000</td>\n",
              "      <td>168.000000</td>\n",
              "      <td>70.000000</td>\n",
              "      <td>50.000000</td>\n",
              "      <td>38.000000</td>\n",
              "      <td>13.000000</td>\n",
              "      <td>7.000000</td>\n",
              "      <td>NaN</td>\n",
              "      <td>NaN</td>\n",
              "      <td>NaN</td>\n",
              "      <td>NaN</td>\n",
              "      <td>NaN</td>\n",
              "      <td>NaN</td>\n",
              "      <td>NaN</td>\n",
              "    </tr>\n",
              "    <tr>\n",
              "      <th>75%</th>\n",
              "      <td>NaN</td>\n",
              "      <td>2.590000</td>\n",
              "      <td>NaN</td>\n",
              "      <td>NaN</td>\n",
              "      <td>34.591000</td>\n",
              "      <td>-116.25100</td>\n",
              "      <td>NaN</td>\n",
              "      <td>14.900000</td>\n",
              "      <td>9.669999e+06</td>\n",
              "      <td>9.027968e+06</td>\n",
              "      <td>725926.500000</td>\n",
              "      <td>37764.000000</td>\n",
              "      <td>42.000000</td>\n",
              "      <td>137.000000</td>\n",
              "      <td>294.000000</td>\n",
              "      <td>92.000000</td>\n",
              "      <td>71.000000</td>\n",
              "      <td>61.000000</td>\n",
              "      <td>24.000000</td>\n",
              "      <td>8.000000</td>\n",
              "      <td>NaN</td>\n",
              "      <td>NaN</td>\n",
              "      <td>NaN</td>\n",
              "      <td>NaN</td>\n",
              "      <td>NaN</td>\n",
              "      <td>NaN</td>\n",
              "      <td>NaN</td>\n",
              "    </tr>\n",
              "    <tr>\n",
              "      <th>max</th>\n",
              "      <td>NaN</td>\n",
              "      <td>7.100000</td>\n",
              "      <td>NaN</td>\n",
              "      <td>NaN</td>\n",
              "      <td>37.985500</td>\n",
              "      <td>-113.71900</td>\n",
              "      <td>NaN</td>\n",
              "      <td>29.300000</td>\n",
              "      <td>3.736673e+07</td>\n",
              "      <td>9.875061e+06</td>\n",
              "      <td>754723.000000</td>\n",
              "      <td>71774.000000</td>\n",
              "      <td>3384.000000</td>\n",
              "      <td>3815.000000</td>\n",
              "      <td>1574.000000</td>\n",
              "      <td>996.000000</td>\n",
              "      <td>227.000000</td>\n",
              "      <td>145.000000</td>\n",
              "      <td>88.000000</td>\n",
              "      <td>9.000000</td>\n",
              "      <td>NaN</td>\n",
              "      <td>NaN</td>\n",
              "      <td>NaN</td>\n",
              "      <td>NaN</td>\n",
              "      <td>NaN</td>\n",
              "      <td>NaN</td>\n",
              "      <td>NaN</td>\n",
              "    </tr>\n",
              "  </tbody>\n",
              "</table>\n",
              "</div>"
            ],
            "text/plain": [
              "        GT    Unnamed: 5  Unnamed: 7  ...  Unnamed: 31  NPH  NGRM\n",
              "count  0.0  70798.000000         0.0  ...          0.0  0.0   0.0\n",
              "mean   NaN      2.417826         NaN  ...          NaN  NaN   NaN\n",
              "std    NaN      0.407683         NaN  ...          NaN  NaN   NaN\n",
              "min    NaN      2.000000         NaN  ...          NaN  NaN   NaN\n",
              "25%    NaN      2.120000         NaN  ...          NaN  NaN   NaN\n",
              "50%    NaN      2.300000         NaN  ...          NaN  NaN   NaN\n",
              "75%    NaN      2.590000         NaN  ...          NaN  NaN   NaN\n",
              "max    NaN      7.100000         NaN  ...          NaN  NaN   NaN\n",
              "\n",
              "[8 rows x 27 columns]"
            ]
          },
          "metadata": {},
          "execution_count": 6
        }
      ]
    },
    {
      "cell_type": "markdown",
      "metadata": {
        "ExecuteTime": {
          "end_time": "2019-09-08T21:24:56.161634Z",
          "start_time": "2019-09-08T21:24:56.157793Z"
        },
        "id": "08Ty-hUOhXsG"
      },
      "source": [
        "now that you have a dataframe object you can use methods of the object to modify it. Use the method ```eqdata.rename``` to change the names of the 3 columns that are the only three relevant to us: _date, time, magnitude_"
      ]
    },
    {
      "cell_type": "markdown",
      "metadata": {
        "id": "dYP53BzDhXsG"
      },
      "source": [
        "## prepare date-time column"
      ]
    },
    {
      "cell_type": "code",
      "metadata": {
        "ExecuteTime": {
          "end_time": "2019-09-09T01:40:02.791776Z",
          "start_time": "2019-09-09T01:40:02.761489Z"
        },
        "id": "WFIPxVG_hXsH"
      },
      "source": [
        "eqdata = eqdata[['#YYY/MM/DD', 'HH:mm:SS.ss', 'Unnamed: 5']].rename({'#YYY/MM/DD':'date', 'HH:mm:SS.ss':'time',\n",
        "                                                            'Unnamed: 5':'mag'}, axis=1)"
      ],
      "execution_count": 7,
      "outputs": []
    },
    {
      "cell_type": "code",
      "metadata": {
        "ExecuteTime": {
          "end_time": "2019-09-09T01:40:02.800191Z",
          "start_time": "2019-09-09T01:40:02.793424Z"
        },
        "id": "vZ-NJ-C2hXsJ",
        "colab": {
          "base_uri": "https://localhost:8080/",
          "height": 206
        },
        "outputId": "ae38f1d7-d22e-4ecb-aa23-cc4dfcf9f376"
      },
      "source": [
        "eqdata.head()"
      ],
      "execution_count": 8,
      "outputs": [
        {
          "output_type": "execute_result",
          "data": {
            "text/html": [
              "<div>\n",
              "<style scoped>\n",
              "    .dataframe tbody tr th:only-of-type {\n",
              "        vertical-align: middle;\n",
              "    }\n",
              "\n",
              "    .dataframe tbody tr th {\n",
              "        vertical-align: top;\n",
              "    }\n",
              "\n",
              "    .dataframe thead th {\n",
              "        text-align: right;\n",
              "    }\n",
              "</style>\n",
              "<table border=\"1\" class=\"dataframe\">\n",
              "  <thead>\n",
              "    <tr style=\"text-align: right;\">\n",
              "      <th></th>\n",
              "      <th>date</th>\n",
              "      <th>time</th>\n",
              "      <th>mag</th>\n",
              "    </tr>\n",
              "  </thead>\n",
              "  <tbody>\n",
              "    <tr>\n",
              "      <th>0</th>\n",
              "      <td>1984/01/01</td>\n",
              "      <td>01:30:57.52</td>\n",
              "      <td>2.02</td>\n",
              "    </tr>\n",
              "    <tr>\n",
              "      <th>1</th>\n",
              "      <td>1984/01/01</td>\n",
              "      <td>05:31:34.16</td>\n",
              "      <td>2.12</td>\n",
              "    </tr>\n",
              "    <tr>\n",
              "      <th>2</th>\n",
              "      <td>1984/01/01</td>\n",
              "      <td>06:59:05.14</td>\n",
              "      <td>2.43</td>\n",
              "    </tr>\n",
              "    <tr>\n",
              "      <th>3</th>\n",
              "      <td>1984/01/01</td>\n",
              "      <td>11:10:25.29</td>\n",
              "      <td>2.07</td>\n",
              "    </tr>\n",
              "    <tr>\n",
              "      <th>4</th>\n",
              "      <td>1984/01/01</td>\n",
              "      <td>19:38:19.79</td>\n",
              "      <td>2.13</td>\n",
              "    </tr>\n",
              "  </tbody>\n",
              "</table>\n",
              "</div>"
            ],
            "text/plain": [
              "         date         time   mag\n",
              "0  1984/01/01  01:30:57.52  2.02\n",
              "1  1984/01/01  05:31:34.16  2.12\n",
              "2  1984/01/01  06:59:05.14  2.43\n",
              "3  1984/01/01  11:10:25.29  2.07\n",
              "4  1984/01/01  19:38:19.79  2.13"
            ]
          },
          "metadata": {},
          "execution_count": 8
        }
      ]
    },
    {
      "cell_type": "code",
      "metadata": {
        "ExecuteTime": {
          "end_time": "2019-09-09T01:40:02.813328Z",
          "start_time": "2019-09-09T01:40:02.801494Z"
        },
        "id": "BQHplE_shXsL",
        "colab": {
          "base_uri": "https://localhost:8080/",
          "height": 300
        },
        "outputId": "8a73f789-fa38-484a-9157-131d79206a09"
      },
      "source": [
        "eqdata.describe()"
      ],
      "execution_count": 9,
      "outputs": [
        {
          "output_type": "execute_result",
          "data": {
            "text/html": [
              "<div>\n",
              "<style scoped>\n",
              "    .dataframe tbody tr th:only-of-type {\n",
              "        vertical-align: middle;\n",
              "    }\n",
              "\n",
              "    .dataframe tbody tr th {\n",
              "        vertical-align: top;\n",
              "    }\n",
              "\n",
              "    .dataframe thead th {\n",
              "        text-align: right;\n",
              "    }\n",
              "</style>\n",
              "<table border=\"1\" class=\"dataframe\">\n",
              "  <thead>\n",
              "    <tr style=\"text-align: right;\">\n",
              "      <th></th>\n",
              "      <th>mag</th>\n",
              "    </tr>\n",
              "  </thead>\n",
              "  <tbody>\n",
              "    <tr>\n",
              "      <th>count</th>\n",
              "      <td>70798.000000</td>\n",
              "    </tr>\n",
              "    <tr>\n",
              "      <th>mean</th>\n",
              "      <td>2.417826</td>\n",
              "    </tr>\n",
              "    <tr>\n",
              "      <th>std</th>\n",
              "      <td>0.407683</td>\n",
              "    </tr>\n",
              "    <tr>\n",
              "      <th>min</th>\n",
              "      <td>2.000000</td>\n",
              "    </tr>\n",
              "    <tr>\n",
              "      <th>25%</th>\n",
              "      <td>2.120000</td>\n",
              "    </tr>\n",
              "    <tr>\n",
              "      <th>50%</th>\n",
              "      <td>2.300000</td>\n",
              "    </tr>\n",
              "    <tr>\n",
              "      <th>75%</th>\n",
              "      <td>2.590000</td>\n",
              "    </tr>\n",
              "    <tr>\n",
              "      <th>max</th>\n",
              "      <td>7.100000</td>\n",
              "    </tr>\n",
              "  </tbody>\n",
              "</table>\n",
              "</div>"
            ],
            "text/plain": [
              "                mag\n",
              "count  70798.000000\n",
              "mean       2.417826\n",
              "std        0.407683\n",
              "min        2.000000\n",
              "25%        2.120000\n",
              "50%        2.300000\n",
              "75%        2.590000\n",
              "max        7.100000"
            ]
          },
          "metadata": {},
          "execution_count": 9
        }
      ]
    },
    {
      "cell_type": "markdown",
      "metadata": {
        "id": "EMiRblXihXsN"
      },
      "source": [
        "Now you want to combine the columns containing date and time and convert them to a \"datetime\" kind of data object. \n"
      ]
    },
    {
      "cell_type": "markdown",
      "metadata": {
        "ExecuteTime": {
          "end_time": "2019-09-08T21:26:57.438903Z",
          "start_time": "2019-09-08T21:26:57.435133Z"
        },
        "id": "ZPOv1TJihXsN"
      },
      "source": [
        "What data type are the _time_ and _date_ columns right now? What type you want them to be to conver them to datetime with ```pd.datetime()```? type 'O' means object, typically a string. "
      ]
    },
    {
      "cell_type": "code",
      "metadata": {
        "ExecuteTime": {
          "end_time": "2019-09-09T01:40:02.859962Z",
          "start_time": "2019-09-09T01:40:02.856654Z"
        },
        "id": "sqfVbxyYhXsO",
        "colab": {
          "base_uri": "https://localhost:8080/"
        },
        "outputId": "cdfb2d88-4254-4d08-fb84-04a7424664b6"
      },
      "source": [
        "eqdata.time.dtype, eqdata.date.dtype"
      ],
      "execution_count": 10,
      "outputs": [
        {
          "output_type": "execute_result",
          "data": {
            "text/plain": [
              "(dtype('O'), dtype('O'))"
            ]
          },
          "metadata": {},
          "execution_count": 10
        }
      ]
    },
    {
      "cell_type": "markdown",
      "metadata": {
        "ExecuteTime": {
          "end_time": "2019-09-08T21:28:58.082172Z",
          "start_time": "2019-09-08T21:28:58.078926Z"
        },
        "id": "O9qP9mRShXsP"
      },
      "source": [
        "to do this conversion I \n",
        "\n",
        "   1. joined date and time into a single string for each row with a [\"list comprehension\"](https://www.pythonforbeginners.com/basics/list-comprehensions-in-python) (essentially a for loop but more efficient and compact). You do not have to do it with a list comprehension, you can use just a for loop.\n",
        "\n",
        "   2. used pd.datetime() to convert the resulting new dataframe column into a dataframe column containing _datetime_ objects (see lab)\n",
        "\n",
        "   3. but this did not work because of the formatting of some dates, so I had to go back and fix 5 entries. (you are on your own to figure out this one)"
      ]
    },
    {
      "cell_type": "code",
      "metadata": {
        "ExecuteTime": {
          "end_time": "2019-09-09T01:40:12.489690Z",
          "start_time": "2019-09-09T01:40:02.914845Z"
        },
        "id": "eOUTqBDOhXsQ"
      },
      "source": [
        "# -- combine data and time: I just combined the columns instead of a loop, is correct?\n",
        "eqdata[\"datetime\"] = eqdata[\"date\"]+\" \"+eqdata[\"time\"]\n",
        "# -- replace the 60.00 to 59.99 \n",
        "eqdata[\"datetime\"] = eqdata[\"datetime\"].str.replace(\":60.00\", \":59.99\")\n",
        "# -- convert to datetime\n",
        "eqdata[\"datetime\"] = pd.to_datetime(eqdata[\"datetime\"])"
      ],
      "execution_count": 11,
      "outputs": []
    },
    {
      "cell_type": "code",
      "metadata": {
        "ExecuteTime": {
          "end_time": "2019-09-09T01:40:29.216627Z",
          "start_time": "2019-09-09T01:40:29.206374Z"
        },
        "id": "o9PeG5J5hXsU",
        "colab": {
          "base_uri": "https://localhost:8080/",
          "height": 206
        },
        "outputId": "4acdda9e-043d-49d8-82aa-282f94d83753"
      },
      "source": [
        "eqdata.head()"
      ],
      "execution_count": 12,
      "outputs": [
        {
          "output_type": "execute_result",
          "data": {
            "text/html": [
              "<div>\n",
              "<style scoped>\n",
              "    .dataframe tbody tr th:only-of-type {\n",
              "        vertical-align: middle;\n",
              "    }\n",
              "\n",
              "    .dataframe tbody tr th {\n",
              "        vertical-align: top;\n",
              "    }\n",
              "\n",
              "    .dataframe thead th {\n",
              "        text-align: right;\n",
              "    }\n",
              "</style>\n",
              "<table border=\"1\" class=\"dataframe\">\n",
              "  <thead>\n",
              "    <tr style=\"text-align: right;\">\n",
              "      <th></th>\n",
              "      <th>date</th>\n",
              "      <th>time</th>\n",
              "      <th>mag</th>\n",
              "      <th>datetime</th>\n",
              "    </tr>\n",
              "  </thead>\n",
              "  <tbody>\n",
              "    <tr>\n",
              "      <th>0</th>\n",
              "      <td>1984/01/01</td>\n",
              "      <td>01:30:57.52</td>\n",
              "      <td>2.02</td>\n",
              "      <td>1984-01-01 01:30:57.520</td>\n",
              "    </tr>\n",
              "    <tr>\n",
              "      <th>1</th>\n",
              "      <td>1984/01/01</td>\n",
              "      <td>05:31:34.16</td>\n",
              "      <td>2.12</td>\n",
              "      <td>1984-01-01 05:31:34.160</td>\n",
              "    </tr>\n",
              "    <tr>\n",
              "      <th>2</th>\n",
              "      <td>1984/01/01</td>\n",
              "      <td>06:59:05.14</td>\n",
              "      <td>2.43</td>\n",
              "      <td>1984-01-01 06:59:05.140</td>\n",
              "    </tr>\n",
              "    <tr>\n",
              "      <th>3</th>\n",
              "      <td>1984/01/01</td>\n",
              "      <td>11:10:25.29</td>\n",
              "      <td>2.07</td>\n",
              "      <td>1984-01-01 11:10:25.290</td>\n",
              "    </tr>\n",
              "    <tr>\n",
              "      <th>4</th>\n",
              "      <td>1984/01/01</td>\n",
              "      <td>19:38:19.79</td>\n",
              "      <td>2.13</td>\n",
              "      <td>1984-01-01 19:38:19.790</td>\n",
              "    </tr>\n",
              "  </tbody>\n",
              "</table>\n",
              "</div>"
            ],
            "text/plain": [
              "         date         time   mag                datetime\n",
              "0  1984/01/01  01:30:57.52  2.02 1984-01-01 01:30:57.520\n",
              "1  1984/01/01  05:31:34.16  2.12 1984-01-01 05:31:34.160\n",
              "2  1984/01/01  06:59:05.14  2.43 1984-01-01 06:59:05.140\n",
              "3  1984/01/01  11:10:25.29  2.07 1984-01-01 11:10:25.290\n",
              "4  1984/01/01  19:38:19.79  2.13 1984-01-01 19:38:19.790"
            ]
          },
          "metadata": {},
          "execution_count": 12
        }
      ]
    },
    {
      "cell_type": "markdown",
      "metadata": {
        "id": "zAmaMzQIhXsW"
      },
      "source": [
        "## select valuable data"
      ]
    },
    {
      "cell_type": "markdown",
      "metadata": {
        "id": "R3kga7VvhXsZ"
      },
      "source": [
        "Following the description in Section 2  of Corral 2018 I removed all data that did not belong to a \"stationary\" period. Third paragraph section 2 of Corral 2018. You can see the cell of code I used to do this [here](https://github.com/fedhere/DSPS/blob/master/HW3/Corral2018_selectStationary.py) at no points cost, cause it was a bit tricky, but I encourage you to try and do it yourself. If you can do it in fewer lines than I did its automatically +5 points (just turning the loop into a list comprehension does not count. That is an obvious way to decrease the number of lines of code; I did not do it simply to enhance readability.)"
      ]
    },
    {
      "cell_type": "code",
      "metadata": {
        "id": "yRSZwEG7Mtns"
      },
      "source": [
        "def testfunction(val):\n",
        "  val = pd.to_datetime(val.astype(int), format=\"%Y\") + pd.to_timedelta(round((val % 1)*365.25).astype(int), unit=\"D\")\n",
        "  return val\n"
      ],
      "execution_count": 13,
      "outputs": []
    },
    {
      "cell_type": "code",
      "metadata": {
        "id": "6PQ4poHtNBLQ"
      },
      "source": [
        "# -- stationary period\n",
        "# -- is not less lines of code, but is different :D haha it looks very elegant\n",
        "stp = [(1984, 1986.5),\n",
        "          (1990.3, 1992.1),\n",
        "          (1994.6, 1995.6),\n",
        "          (1996.1,1996.5),\n",
        "          (1997,1997.6),\n",
        "          (1997.75,1998.15),\n",
        "          (1998.25,1999.35),\n",
        "          (2000.55,2000.8),\n",
        "          (2000.9 ,2001.25),\n",
        "          (2001.6 ,2002),\n",
        "          (2002.5 ,2003)]\n",
        "\n",
        "df_intervals = pd.DataFrame(stp, columns = [\"b\", \"e\"])\n",
        "df_intervals = df_intervals[[\"b\", \"e\"]].apply(testfunction)\n",
        "# df_intervals"
      ],
      "execution_count": 14,
      "outputs": []
    },
    {
      "cell_type": "code",
      "metadata": {
        "ExecuteTime": {
          "end_time": "2019-09-09T01:40:29.237879Z",
          "start_time": "2019-09-09T01:40:29.232647Z"
        },
        "id": "qPmYVGWbhXsb",
        "colab": {
          "base_uri": "https://localhost:8080/"
        },
        "outputId": "42f68a5b-46d2-4e7f-8f6c-bd18ed17a641"
      },
      "source": [
        "print (\"the {} timestamp pairs that are the boundaries of good data periods are: \\n{}\".format(len(df_intervals),df_intervals.values))"
      ],
      "execution_count": 15,
      "outputs": [
        {
          "output_type": "stream",
          "name": "stdout",
          "text": [
            "the 11 timestamp pairs that are the boundaries of good data periods are: \n",
            "[['1984-01-01T00:00:00.000000000' '1986-07-03T00:00:00.000000000']\n",
            " ['1990-04-21T00:00:00.000000000' '1992-02-07T00:00:00.000000000']\n",
            " ['1994-08-08T00:00:00.000000000' '1995-08-08T00:00:00.000000000']\n",
            " ['1996-02-07T00:00:00.000000000' '1996-07-02T00:00:00.000000000']\n",
            " ['1997-01-01T00:00:00.000000000' '1997-08-08T00:00:00.000000000']\n",
            " ['1997-10-02T00:00:00.000000000' '1998-02-25T00:00:00.000000000']\n",
            " ['1998-04-02T00:00:00.000000000' '1999-05-09T00:00:00.000000000']\n",
            " ['2000-07-20T00:00:00.000000000' '2000-10-19T00:00:00.000000000']\n",
            " ['2000-11-25T00:00:00.000000000' '2001-04-02T00:00:00.000000000']\n",
            " ['2001-08-08T00:00:00.000000000' '2002-01-01T00:00:00.000000000']\n",
            " ['2002-07-03T00:00:00.000000000' '2003-01-01T00:00:00.000000000']]\n"
          ]
        }
      ]
    },
    {
      "cell_type": "markdown",
      "metadata": {
        "id": "-470BeBahXsd"
      },
      "source": [
        "The following cell of code shows you the array of bool values (True/False) which I create to use as an index to the input array: when used as an index, a technique called \"broadcasting\" in python, will select only elements of the original array where the index array value is True. something like \n",
        "Try:\n",
        "\n"
      ]
    },
    {
      "cell_type": "code",
      "metadata": {
        "ExecuteTime": {
          "end_time": "2019-09-09T01:40:29.244355Z",
          "start_time": "2019-09-09T01:40:29.239933Z"
        },
        "id": "9wCXH-gfhXsf",
        "colab": {
          "base_uri": "https://localhost:8080/"
        },
        "outputId": "0115b9d4-832a-47ed-ed43-35c39245eb92"
      },
      "source": [
        "a = np.array([0, 1, 2])\n",
        "a, a[[True, False, True]]"
      ],
      "execution_count": 16,
      "outputs": [
        {
          "output_type": "execute_result",
          "data": {
            "text/plain": [
              "(array([0, 1, 2]), array([0, 2]))"
            ]
          },
          "metadata": {},
          "execution_count": 16
        }
      ]
    },
    {
      "cell_type": "markdown",
      "metadata": {
        "ExecuteTime": {
          "end_time": "2019-09-09T01:05:50.836953Z",
          "start_time": "2019-09-09T01:05:50.833542Z"
        },
        "id": "jvZBr-_JhXsi"
      },
      "source": [
        "For each of the 11 valid periods I create a condition \n",
        "``` datetime >= period_start AND datetime <= period_end ``` where AND is a product of booleans: True * False = False.\n",
        "\n",
        "I want to take all chinks of data that satisfy this condition for any of the 11 chunks of time so that is a logical OR operator, or a sum of Booleans: True + False = True \n",
        "\n",
        "This is because ```True``` really corresponds to \"not 0\" and False to \"0\". So ```\"not 0\" * 0 = 0``` and ```\"not 0\" + 0 = not 0```\n",
        "    "
      ]
    },
    {
      "cell_type": "code",
      "metadata": {
        "id": "p0jP46LQQuwq"
      },
      "source": [
        "# -- create the boolean df to keep the data in the stationary intervals\n",
        "gooddates = (((eqdata[\"datetime\"] >= df_intervals[\"b\"][0]) & (eqdata[\"datetime\"] <= df_intervals[\"e\"][0]))| \\\n",
        "            ((eqdata[\"datetime\"] >= df_intervals[\"b\"][1]) & (eqdata[\"datetime\"] <= df_intervals[\"e\"][1]))| \\\n",
        "            ((eqdata[\"datetime\"] >= df_intervals[\"b\"][2]) & (eqdata[\"datetime\"] <= df_intervals[\"e\"][2]))| \\\n",
        "            ((eqdata[\"datetime\"] >= df_intervals[\"b\"][3]) & (eqdata[\"datetime\"] <= df_intervals[\"e\"][3]))| \\\n",
        "            ((eqdata[\"datetime\"] >= df_intervals[\"b\"][4]) & (eqdata[\"datetime\"] <= df_intervals[\"e\"][4]))| \\\n",
        "            ((eqdata[\"datetime\"] >= df_intervals[\"b\"][5]) & (eqdata[\"datetime\"] <= df_intervals[\"e\"][5]))| \\\n",
        "            ((eqdata[\"datetime\"] >= df_intervals[\"b\"][6]) & (eqdata[\"datetime\"] <= df_intervals[\"e\"][6]))| \\\n",
        "            ((eqdata[\"datetime\"] >= df_intervals[\"b\"][7]) & (eqdata[\"datetime\"] <= df_intervals[\"e\"][7]))| \\\n",
        "            ((eqdata[\"datetime\"] >= df_intervals[\"b\"][8]) & (eqdata[\"datetime\"] <= df_intervals[\"e\"][8]))| \\\n",
        "            ((eqdata[\"datetime\"] >= df_intervals[\"b\"][9]) & (eqdata[\"datetime\"] <= df_intervals[\"e\"][9]))| \\\n",
        "            ((eqdata[\"datetime\"] >= df_intervals[\"b\"][10]) & (eqdata[\"datetime\"] <= df_intervals[\"e\"][10])))"
      ],
      "execution_count": 66,
      "outputs": []
    },
    {
      "cell_type": "code",
      "metadata": {
        "ExecuteTime": {
          "end_time": "2019-09-09T01:40:29.265629Z",
          "start_time": "2019-09-09T01:40:29.245537Z"
        },
        "id": "JGuY1EtzhXsj"
      },
      "source": [
        "# eqdata_interval = pd.DataFrame()\n",
        "# suma = 0\n",
        "# for ii in range(len(df_intervals)):\n",
        "#   ddfdf1 = eqdata[((eqdata[\"datetime\"] >= df_intervals[\"b\"][ii]) & (eqdata[\"datetime\"] <= df_intervals[\"e\"][ii]))]\n",
        "#   suma = suma + len(ddfdf1)\n",
        "#   # print(len(ddfdf1))\n",
        "#   eqdata_interval = pd.concat((eqdata_interval, ddfdf1), axis = 0)\n",
        "# print(suma)\n",
        "# eqdata_interval.head()"
      ],
      "execution_count": 67,
      "outputs": []
    },
    {
      "cell_type": "code",
      "metadata": {
        "ExecuteTime": {
          "end_time": "2019-09-09T01:40:29.270985Z",
          "start_time": "2019-09-09T01:40:29.267738Z"
        },
        "id": "WHyQm6CqhXsl",
        "colab": {
          "base_uri": "https://localhost:8080/"
        },
        "outputId": "d3d7cfd0-7d28-4533-f86f-bacb493ae6e4"
      },
      "source": [
        "# -- I do not get the 19911 ....\n",
        "print (\"there are {} earthquakes falling in the selected stationary periods\".\n",
        "       format(gooddates.sum()))"
      ],
      "execution_count": 68,
      "outputs": [
        {
          "output_type": "stream",
          "name": "stdout",
          "text": [
            "there are 18852 earthquakes falling in the selected stationary periods\n"
          ]
        }
      ]
    },
    {
      "cell_type": "code",
      "metadata": {
        "id": "DZqekuQFn_cM"
      },
      "source": [
        "# your code here: broadcasting to create a dataframe with the good dates only\n",
        "eqGoodData = eqdata[gooddates]"
      ],
      "execution_count": 19,
      "outputs": []
    },
    {
      "cell_type": "code",
      "metadata": {
        "ExecuteTime": {
          "end_time": "2019-09-09T01:40:29.277256Z",
          "start_time": "2019-09-09T01:40:29.272901Z"
        },
        "id": "K7iYLowuhXsm",
        "colab": {
          "base_uri": "https://localhost:8080/"
        },
        "outputId": "7e8755d1-aae3-42d8-8c3e-0828add73c7d"
      },
      "source": [
        "eqGoodData.shape"
      ],
      "execution_count": 20,
      "outputs": [
        {
          "output_type": "execute_result",
          "data": {
            "text/plain": [
              "(18852, 4)"
            ]
          },
          "metadata": {},
          "execution_count": 20
        }
      ]
    },
    {
      "cell_type": "code",
      "metadata": {
        "ExecuteTime": {
          "end_time": "2019-09-09T01:40:29.287000Z",
          "start_time": "2019-09-09T01:40:29.279430Z"
        },
        "id": "aMySvYb5hXso",
        "colab": {
          "base_uri": "https://localhost:8080/",
          "height": 206
        },
        "outputId": "4640e3da-2fe4-4d85-ff40-bde299ff16f9"
      },
      "source": [
        "eqGoodData.head()"
      ],
      "execution_count": 21,
      "outputs": [
        {
          "output_type": "execute_result",
          "data": {
            "text/html": [
              "<div>\n",
              "<style scoped>\n",
              "    .dataframe tbody tr th:only-of-type {\n",
              "        vertical-align: middle;\n",
              "    }\n",
              "\n",
              "    .dataframe tbody tr th {\n",
              "        vertical-align: top;\n",
              "    }\n",
              "\n",
              "    .dataframe thead th {\n",
              "        text-align: right;\n",
              "    }\n",
              "</style>\n",
              "<table border=\"1\" class=\"dataframe\">\n",
              "  <thead>\n",
              "    <tr style=\"text-align: right;\">\n",
              "      <th></th>\n",
              "      <th>date</th>\n",
              "      <th>time</th>\n",
              "      <th>mag</th>\n",
              "      <th>datetime</th>\n",
              "    </tr>\n",
              "  </thead>\n",
              "  <tbody>\n",
              "    <tr>\n",
              "      <th>0</th>\n",
              "      <td>1984/01/01</td>\n",
              "      <td>01:30:57.52</td>\n",
              "      <td>2.02</td>\n",
              "      <td>1984-01-01 01:30:57.520</td>\n",
              "    </tr>\n",
              "    <tr>\n",
              "      <th>1</th>\n",
              "      <td>1984/01/01</td>\n",
              "      <td>05:31:34.16</td>\n",
              "      <td>2.12</td>\n",
              "      <td>1984-01-01 05:31:34.160</td>\n",
              "    </tr>\n",
              "    <tr>\n",
              "      <th>2</th>\n",
              "      <td>1984/01/01</td>\n",
              "      <td>06:59:05.14</td>\n",
              "      <td>2.43</td>\n",
              "      <td>1984-01-01 06:59:05.140</td>\n",
              "    </tr>\n",
              "    <tr>\n",
              "      <th>3</th>\n",
              "      <td>1984/01/01</td>\n",
              "      <td>11:10:25.29</td>\n",
              "      <td>2.07</td>\n",
              "      <td>1984-01-01 11:10:25.290</td>\n",
              "    </tr>\n",
              "    <tr>\n",
              "      <th>4</th>\n",
              "      <td>1984/01/01</td>\n",
              "      <td>19:38:19.79</td>\n",
              "      <td>2.13</td>\n",
              "      <td>1984-01-01 19:38:19.790</td>\n",
              "    </tr>\n",
              "  </tbody>\n",
              "</table>\n",
              "</div>"
            ],
            "text/plain": [
              "         date         time   mag                datetime\n",
              "0  1984/01/01  01:30:57.52  2.02 1984-01-01 01:30:57.520\n",
              "1  1984/01/01  05:31:34.16  2.12 1984-01-01 05:31:34.160\n",
              "2  1984/01/01  06:59:05.14  2.43 1984-01-01 06:59:05.140\n",
              "3  1984/01/01  11:10:25.29  2.07 1984-01-01 11:10:25.290\n",
              "4  1984/01/01  19:38:19.79  2.13 1984-01-01 19:38:19.790"
            ]
          },
          "metadata": {},
          "execution_count": 21
        }
      ]
    },
    {
      "cell_type": "markdown",
      "metadata": {
        "ExecuteTime": {
          "end_time": "2019-09-09T01:17:07.527314Z",
          "start_time": "2019-09-09T01:17:07.523165Z"
        },
        "id": "P3MKC5tyhXsp"
      },
      "source": [
        "Now what you really want is the _time interval between earthquakes_ for all events greater than some magnitude m, while all you have are the date and time of the events.: \n",
        "\n",
        "You can remove earthquakes smaller than magnitude 2 by, again, broadcasting. How would that look like?"
      ]
    },
    {
      "cell_type": "code",
      "metadata": {
        "ExecuteTime": {
          "end_time": "2019-09-09T01:40:29.292220Z",
          "start_time": "2019-09-09T01:40:29.288359Z"
        },
        "id": "GF-7Xw9AhXsq"
      },
      "source": [
        "# -- briadcasting to keep only mag greater than 2\n",
        "eqGoodData = eqGoodData[eqGoodData[\"mag\"] > 2]"
      ],
      "execution_count": 22,
      "outputs": []
    },
    {
      "cell_type": "code",
      "metadata": {
        "ExecuteTime": {
          "end_time": "2019-09-09T01:40:29.296885Z",
          "start_time": "2019-09-09T01:40:29.293316Z"
        },
        "id": "nTmssr_xhXst",
        "colab": {
          "base_uri": "https://localhost:8080/"
        },
        "outputId": "422a7e55-c6df-45de-ae11-76fccf73a40c"
      },
      "source": [
        "eqGoodData.shape #look like for my data it was not needed! that is because I chose M>2 when when I downloaded the data\n",
        "# -- I do have less data in this step"
      ],
      "execution_count": 23,
      "outputs": [
        {
          "output_type": "execute_result",
          "data": {
            "text/plain": [
              "(18027, 4)"
            ]
          },
          "metadata": {},
          "execution_count": 23
        }
      ]
    },
    {
      "cell_type": "markdown",
      "metadata": {
        "id": "Ah6LgDvVhXsu"
      },
      "source": [
        "You can get the time between consecutive earthquakes with the method ```diff()``` of numpy arrays (in a pandas series you can get the data as a numpy array with the attribute .values: ```seried.values```). \n"
      ]
    },
    {
      "cell_type": "code",
      "metadata": {
        "ExecuteTime": {
          "end_time": "2019-09-09T01:40:29.303435Z",
          "start_time": "2019-09-09T01:40:29.298440Z"
        },
        "id": "RCJozUPPhXsu",
        "colab": {
          "base_uri": "https://localhost:8080/",
          "height": 424
        },
        "outputId": "396c757b-3661-4b3d-c345-097346cd8567"
      },
      "source": [
        "# -- sort the datetime, so diff works correctly\n",
        "eqGoodData  = eqGoodData.sort_values(by= [\"datetime\"])\n",
        "eqGoodData[\"dts\"] = eqGoodData[\"datetime\"].diff()\n",
        "eqGoodData\n"
      ],
      "execution_count": 24,
      "outputs": [
        {
          "output_type": "execute_result",
          "data": {
            "text/html": [
              "<div>\n",
              "<style scoped>\n",
              "    .dataframe tbody tr th:only-of-type {\n",
              "        vertical-align: middle;\n",
              "    }\n",
              "\n",
              "    .dataframe tbody tr th {\n",
              "        vertical-align: top;\n",
              "    }\n",
              "\n",
              "    .dataframe thead th {\n",
              "        text-align: right;\n",
              "    }\n",
              "</style>\n",
              "<table border=\"1\" class=\"dataframe\">\n",
              "  <thead>\n",
              "    <tr style=\"text-align: right;\">\n",
              "      <th></th>\n",
              "      <th>date</th>\n",
              "      <th>time</th>\n",
              "      <th>mag</th>\n",
              "      <th>datetime</th>\n",
              "      <th>dts</th>\n",
              "    </tr>\n",
              "  </thead>\n",
              "  <tbody>\n",
              "    <tr>\n",
              "      <th>0</th>\n",
              "      <td>1984/01/01</td>\n",
              "      <td>01:30:57.52</td>\n",
              "      <td>2.02</td>\n",
              "      <td>1984-01-01 01:30:57.520</td>\n",
              "      <td>NaT</td>\n",
              "    </tr>\n",
              "    <tr>\n",
              "      <th>1</th>\n",
              "      <td>1984/01/01</td>\n",
              "      <td>05:31:34.16</td>\n",
              "      <td>2.12</td>\n",
              "      <td>1984-01-01 05:31:34.160</td>\n",
              "      <td>0 days 04:00:36.640000</td>\n",
              "    </tr>\n",
              "    <tr>\n",
              "      <th>2</th>\n",
              "      <td>1984/01/01</td>\n",
              "      <td>06:59:05.14</td>\n",
              "      <td>2.43</td>\n",
              "      <td>1984-01-01 06:59:05.140</td>\n",
              "      <td>0 days 01:27:30.980000</td>\n",
              "    </tr>\n",
              "    <tr>\n",
              "      <th>3</th>\n",
              "      <td>1984/01/01</td>\n",
              "      <td>11:10:25.29</td>\n",
              "      <td>2.07</td>\n",
              "      <td>1984-01-01 11:10:25.290</td>\n",
              "      <td>0 days 04:11:20.150000</td>\n",
              "    </tr>\n",
              "    <tr>\n",
              "      <th>4</th>\n",
              "      <td>1984/01/01</td>\n",
              "      <td>19:38:19.79</td>\n",
              "      <td>2.13</td>\n",
              "      <td>1984-01-01 19:38:19.790</td>\n",
              "      <td>0 days 08:27:54.500000</td>\n",
              "    </tr>\n",
              "    <tr>\n",
              "      <th>...</th>\n",
              "      <td>...</td>\n",
              "      <td>...</td>\n",
              "      <td>...</td>\n",
              "      <td>...</td>\n",
              "      <td>...</td>\n",
              "    </tr>\n",
              "    <tr>\n",
              "      <th>70793</th>\n",
              "      <td>2002/12/29</td>\n",
              "      <td>19:37:24.56</td>\n",
              "      <td>2.21</td>\n",
              "      <td>2002-12-29 19:37:24.560</td>\n",
              "      <td>0 days 00:00:30.140000</td>\n",
              "    </tr>\n",
              "    <tr>\n",
              "      <th>70794</th>\n",
              "      <td>2002/12/29</td>\n",
              "      <td>20:17:33.40</td>\n",
              "      <td>2.02</td>\n",
              "      <td>2002-12-29 20:17:33.400</td>\n",
              "      <td>0 days 00:40:08.840000</td>\n",
              "    </tr>\n",
              "    <tr>\n",
              "      <th>70795</th>\n",
              "      <td>2002/12/29</td>\n",
              "      <td>20:21:28.73</td>\n",
              "      <td>2.07</td>\n",
              "      <td>2002-12-29 20:21:28.730</td>\n",
              "      <td>0 days 00:03:55.330000</td>\n",
              "    </tr>\n",
              "    <tr>\n",
              "      <th>70796</th>\n",
              "      <td>2002/12/30</td>\n",
              "      <td>21:51:52.55</td>\n",
              "      <td>2.31</td>\n",
              "      <td>2002-12-30 21:51:52.550</td>\n",
              "      <td>1 days 01:30:23.820000</td>\n",
              "    </tr>\n",
              "    <tr>\n",
              "      <th>70797</th>\n",
              "      <td>2002/12/30</td>\n",
              "      <td>23:38:49.79</td>\n",
              "      <td>2.05</td>\n",
              "      <td>2002-12-30 23:38:49.790</td>\n",
              "      <td>0 days 01:46:57.240000</td>\n",
              "    </tr>\n",
              "  </tbody>\n",
              "</table>\n",
              "<p>18027 rows × 5 columns</p>\n",
              "</div>"
            ],
            "text/plain": [
              "             date         time  ...                datetime                    dts\n",
              "0      1984/01/01  01:30:57.52  ... 1984-01-01 01:30:57.520                    NaT\n",
              "1      1984/01/01  05:31:34.16  ... 1984-01-01 05:31:34.160 0 days 04:00:36.640000\n",
              "2      1984/01/01  06:59:05.14  ... 1984-01-01 06:59:05.140 0 days 01:27:30.980000\n",
              "3      1984/01/01  11:10:25.29  ... 1984-01-01 11:10:25.290 0 days 04:11:20.150000\n",
              "4      1984/01/01  19:38:19.79  ... 1984-01-01 19:38:19.790 0 days 08:27:54.500000\n",
              "...           ...          ...  ...                     ...                    ...\n",
              "70793  2002/12/29  19:37:24.56  ... 2002-12-29 19:37:24.560 0 days 00:00:30.140000\n",
              "70794  2002/12/29  20:17:33.40  ... 2002-12-29 20:17:33.400 0 days 00:40:08.840000\n",
              "70795  2002/12/29  20:21:28.73  ... 2002-12-29 20:21:28.730 0 days 00:03:55.330000\n",
              "70796  2002/12/30  21:51:52.55  ... 2002-12-30 21:51:52.550 1 days 01:30:23.820000\n",
              "70797  2002/12/30  23:38:49.79  ... 2002-12-30 23:38:49.790 0 days 01:46:57.240000\n",
              "\n",
              "[18027 rows x 5 columns]"
            ]
          },
          "metadata": {},
          "execution_count": 24
        }
      ]
    },
    {
      "cell_type": "code",
      "metadata": {
        "id": "a6f-j9ThoMUC",
        "colab": {
          "base_uri": "https://localhost:8080/"
        },
        "outputId": "76e8cff3-47a3-4463-cc76-c295f6d39e31"
      },
      "source": [
        "eqGoodData.shape"
      ],
      "execution_count": 25,
      "outputs": [
        {
          "output_type": "execute_result",
          "data": {
            "text/plain": [
              "(18027, 5)"
            ]
          },
          "metadata": {},
          "execution_count": 25
        }
      ]
    },
    {
      "cell_type": "code",
      "metadata": {
        "id": "BavypriTXcUV",
        "colab": {
          "base_uri": "https://localhost:8080/",
          "height": 206
        },
        "outputId": "ae55bb75-ffa1-41c3-c2cb-9f54115141c3"
      },
      "source": [
        "eqGoodData.head()"
      ],
      "execution_count": 26,
      "outputs": [
        {
          "output_type": "execute_result",
          "data": {
            "text/html": [
              "<div>\n",
              "<style scoped>\n",
              "    .dataframe tbody tr th:only-of-type {\n",
              "        vertical-align: middle;\n",
              "    }\n",
              "\n",
              "    .dataframe tbody tr th {\n",
              "        vertical-align: top;\n",
              "    }\n",
              "\n",
              "    .dataframe thead th {\n",
              "        text-align: right;\n",
              "    }\n",
              "</style>\n",
              "<table border=\"1\" class=\"dataframe\">\n",
              "  <thead>\n",
              "    <tr style=\"text-align: right;\">\n",
              "      <th></th>\n",
              "      <th>date</th>\n",
              "      <th>time</th>\n",
              "      <th>mag</th>\n",
              "      <th>datetime</th>\n",
              "      <th>dts</th>\n",
              "    </tr>\n",
              "  </thead>\n",
              "  <tbody>\n",
              "    <tr>\n",
              "      <th>0</th>\n",
              "      <td>1984/01/01</td>\n",
              "      <td>01:30:57.52</td>\n",
              "      <td>2.02</td>\n",
              "      <td>1984-01-01 01:30:57.520</td>\n",
              "      <td>NaT</td>\n",
              "    </tr>\n",
              "    <tr>\n",
              "      <th>1</th>\n",
              "      <td>1984/01/01</td>\n",
              "      <td>05:31:34.16</td>\n",
              "      <td>2.12</td>\n",
              "      <td>1984-01-01 05:31:34.160</td>\n",
              "      <td>0 days 04:00:36.640000</td>\n",
              "    </tr>\n",
              "    <tr>\n",
              "      <th>2</th>\n",
              "      <td>1984/01/01</td>\n",
              "      <td>06:59:05.14</td>\n",
              "      <td>2.43</td>\n",
              "      <td>1984-01-01 06:59:05.140</td>\n",
              "      <td>0 days 01:27:30.980000</td>\n",
              "    </tr>\n",
              "    <tr>\n",
              "      <th>3</th>\n",
              "      <td>1984/01/01</td>\n",
              "      <td>11:10:25.29</td>\n",
              "      <td>2.07</td>\n",
              "      <td>1984-01-01 11:10:25.290</td>\n",
              "      <td>0 days 04:11:20.150000</td>\n",
              "    </tr>\n",
              "    <tr>\n",
              "      <th>4</th>\n",
              "      <td>1984/01/01</td>\n",
              "      <td>19:38:19.79</td>\n",
              "      <td>2.13</td>\n",
              "      <td>1984-01-01 19:38:19.790</td>\n",
              "      <td>0 days 08:27:54.500000</td>\n",
              "    </tr>\n",
              "  </tbody>\n",
              "</table>\n",
              "</div>"
            ],
            "text/plain": [
              "         date         time   mag                datetime                    dts\n",
              "0  1984/01/01  01:30:57.52  2.02 1984-01-01 01:30:57.520                    NaT\n",
              "1  1984/01/01  05:31:34.16  2.12 1984-01-01 05:31:34.160 0 days 04:00:36.640000\n",
              "2  1984/01/01  06:59:05.14  2.43 1984-01-01 06:59:05.140 0 days 01:27:30.980000\n",
              "3  1984/01/01  11:10:25.29  2.07 1984-01-01 11:10:25.290 0 days 04:11:20.150000\n",
              "4  1984/01/01  19:38:19.79  2.13 1984-01-01 19:38:19.790 0 days 08:27:54.500000"
            ]
          },
          "metadata": {},
          "execution_count": 26
        }
      ]
    },
    {
      "cell_type": "code",
      "metadata": {
        "id": "pC2aJCuVXfM3",
        "colab": {
          "base_uri": "https://localhost:8080/",
          "height": 300
        },
        "outputId": "7d94f5b6-f524-4bf4-9cc1-2336269e9efc"
      },
      "source": [
        "eqGoodData.describe()"
      ],
      "execution_count": 27,
      "outputs": [
        {
          "output_type": "execute_result",
          "data": {
            "text/html": [
              "<div>\n",
              "<style scoped>\n",
              "    .dataframe tbody tr th:only-of-type {\n",
              "        vertical-align: middle;\n",
              "    }\n",
              "\n",
              "    .dataframe tbody tr th {\n",
              "        vertical-align: top;\n",
              "    }\n",
              "\n",
              "    .dataframe thead th {\n",
              "        text-align: right;\n",
              "    }\n",
              "</style>\n",
              "<table border=\"1\" class=\"dataframe\">\n",
              "  <thead>\n",
              "    <tr style=\"text-align: right;\">\n",
              "      <th></th>\n",
              "      <th>mag</th>\n",
              "      <th>dts</th>\n",
              "    </tr>\n",
              "  </thead>\n",
              "  <tbody>\n",
              "    <tr>\n",
              "      <th>count</th>\n",
              "      <td>18027.000000</td>\n",
              "      <td>18026</td>\n",
              "    </tr>\n",
              "    <tr>\n",
              "      <th>mean</th>\n",
              "      <td>2.417771</td>\n",
              "      <td>0 days 09:14:18.785768889</td>\n",
              "    </tr>\n",
              "    <tr>\n",
              "      <th>std</th>\n",
              "      <td>0.391684</td>\n",
              "      <td>13 days 01:35:39.244227378</td>\n",
              "    </tr>\n",
              "    <tr>\n",
              "      <th>min</th>\n",
              "      <td>2.010000</td>\n",
              "      <td>0 days 00:00:00.170000</td>\n",
              "    </tr>\n",
              "    <tr>\n",
              "      <th>25%</th>\n",
              "      <td>2.130000</td>\n",
              "      <td>0 days 00:47:33.815000</td>\n",
              "    </tr>\n",
              "    <tr>\n",
              "      <th>50%</th>\n",
              "      <td>2.300000</td>\n",
              "      <td>0 days 02:35:42.015000</td>\n",
              "    </tr>\n",
              "    <tr>\n",
              "      <th>75%</th>\n",
              "      <td>2.580000</td>\n",
              "      <td>0 days 06:13:20.580000</td>\n",
              "    </tr>\n",
              "    <tr>\n",
              "      <th>max</th>\n",
              "      <td>5.800000</td>\n",
              "      <td>1388 days 11:06:10.750000</td>\n",
              "    </tr>\n",
              "  </tbody>\n",
              "</table>\n",
              "</div>"
            ],
            "text/plain": [
              "                mag                         dts\n",
              "count  18027.000000                       18026\n",
              "mean       2.417771   0 days 09:14:18.785768889\n",
              "std        0.391684  13 days 01:35:39.244227378\n",
              "min        2.010000      0 days 00:00:00.170000\n",
              "25%        2.130000      0 days 00:47:33.815000\n",
              "50%        2.300000      0 days 02:35:42.015000\n",
              "75%        2.580000      0 days 06:13:20.580000\n",
              "max        5.800000   1388 days 11:06:10.750000"
            ]
          },
          "metadata": {},
          "execution_count": 27
        }
      ]
    },
    {
      "cell_type": "markdown",
      "metadata": {
        "id": "wWmOXVyKhO9W"
      },
      "source": [
        "Note that the first entry will be NaT which is Not a Time (corresponding to nan for numerical variables) or maybe a negative number (depends on your exact operations above). You should remove it"
      ]
    },
    {
      "cell_type": "code",
      "metadata": {
        "id": "zqOLrvyc0_dL",
        "colab": {
          "base_uri": "https://localhost:8080/",
          "height": 424
        },
        "outputId": "f2cc53d4-c3cd-4bcb-d246-245809366e2c"
      },
      "source": [
        "# -- keep from index 1 and above\n",
        "eqGoodData = eqGoodData.iloc[1:]\n",
        "eqGoodData"
      ],
      "execution_count": 28,
      "outputs": [
        {
          "output_type": "execute_result",
          "data": {
            "text/html": [
              "<div>\n",
              "<style scoped>\n",
              "    .dataframe tbody tr th:only-of-type {\n",
              "        vertical-align: middle;\n",
              "    }\n",
              "\n",
              "    .dataframe tbody tr th {\n",
              "        vertical-align: top;\n",
              "    }\n",
              "\n",
              "    .dataframe thead th {\n",
              "        text-align: right;\n",
              "    }\n",
              "</style>\n",
              "<table border=\"1\" class=\"dataframe\">\n",
              "  <thead>\n",
              "    <tr style=\"text-align: right;\">\n",
              "      <th></th>\n",
              "      <th>date</th>\n",
              "      <th>time</th>\n",
              "      <th>mag</th>\n",
              "      <th>datetime</th>\n",
              "      <th>dts</th>\n",
              "    </tr>\n",
              "  </thead>\n",
              "  <tbody>\n",
              "    <tr>\n",
              "      <th>1</th>\n",
              "      <td>1984/01/01</td>\n",
              "      <td>05:31:34.16</td>\n",
              "      <td>2.12</td>\n",
              "      <td>1984-01-01 05:31:34.160</td>\n",
              "      <td>0 days 04:00:36.640000</td>\n",
              "    </tr>\n",
              "    <tr>\n",
              "      <th>2</th>\n",
              "      <td>1984/01/01</td>\n",
              "      <td>06:59:05.14</td>\n",
              "      <td>2.43</td>\n",
              "      <td>1984-01-01 06:59:05.140</td>\n",
              "      <td>0 days 01:27:30.980000</td>\n",
              "    </tr>\n",
              "    <tr>\n",
              "      <th>3</th>\n",
              "      <td>1984/01/01</td>\n",
              "      <td>11:10:25.29</td>\n",
              "      <td>2.07</td>\n",
              "      <td>1984-01-01 11:10:25.290</td>\n",
              "      <td>0 days 04:11:20.150000</td>\n",
              "    </tr>\n",
              "    <tr>\n",
              "      <th>4</th>\n",
              "      <td>1984/01/01</td>\n",
              "      <td>19:38:19.79</td>\n",
              "      <td>2.13</td>\n",
              "      <td>1984-01-01 19:38:19.790</td>\n",
              "      <td>0 days 08:27:54.500000</td>\n",
              "    </tr>\n",
              "    <tr>\n",
              "      <th>5</th>\n",
              "      <td>1984/01/01</td>\n",
              "      <td>19:39:19.67</td>\n",
              "      <td>2.13</td>\n",
              "      <td>1984-01-01 19:39:19.670</td>\n",
              "      <td>0 days 00:00:59.880000</td>\n",
              "    </tr>\n",
              "    <tr>\n",
              "      <th>...</th>\n",
              "      <td>...</td>\n",
              "      <td>...</td>\n",
              "      <td>...</td>\n",
              "      <td>...</td>\n",
              "      <td>...</td>\n",
              "    </tr>\n",
              "    <tr>\n",
              "      <th>70793</th>\n",
              "      <td>2002/12/29</td>\n",
              "      <td>19:37:24.56</td>\n",
              "      <td>2.21</td>\n",
              "      <td>2002-12-29 19:37:24.560</td>\n",
              "      <td>0 days 00:00:30.140000</td>\n",
              "    </tr>\n",
              "    <tr>\n",
              "      <th>70794</th>\n",
              "      <td>2002/12/29</td>\n",
              "      <td>20:17:33.40</td>\n",
              "      <td>2.02</td>\n",
              "      <td>2002-12-29 20:17:33.400</td>\n",
              "      <td>0 days 00:40:08.840000</td>\n",
              "    </tr>\n",
              "    <tr>\n",
              "      <th>70795</th>\n",
              "      <td>2002/12/29</td>\n",
              "      <td>20:21:28.73</td>\n",
              "      <td>2.07</td>\n",
              "      <td>2002-12-29 20:21:28.730</td>\n",
              "      <td>0 days 00:03:55.330000</td>\n",
              "    </tr>\n",
              "    <tr>\n",
              "      <th>70796</th>\n",
              "      <td>2002/12/30</td>\n",
              "      <td>21:51:52.55</td>\n",
              "      <td>2.31</td>\n",
              "      <td>2002-12-30 21:51:52.550</td>\n",
              "      <td>1 days 01:30:23.820000</td>\n",
              "    </tr>\n",
              "    <tr>\n",
              "      <th>70797</th>\n",
              "      <td>2002/12/30</td>\n",
              "      <td>23:38:49.79</td>\n",
              "      <td>2.05</td>\n",
              "      <td>2002-12-30 23:38:49.790</td>\n",
              "      <td>0 days 01:46:57.240000</td>\n",
              "    </tr>\n",
              "  </tbody>\n",
              "</table>\n",
              "<p>18026 rows × 5 columns</p>\n",
              "</div>"
            ],
            "text/plain": [
              "             date         time  ...                datetime                    dts\n",
              "1      1984/01/01  05:31:34.16  ... 1984-01-01 05:31:34.160 0 days 04:00:36.640000\n",
              "2      1984/01/01  06:59:05.14  ... 1984-01-01 06:59:05.140 0 days 01:27:30.980000\n",
              "3      1984/01/01  11:10:25.29  ... 1984-01-01 11:10:25.290 0 days 04:11:20.150000\n",
              "4      1984/01/01  19:38:19.79  ... 1984-01-01 19:38:19.790 0 days 08:27:54.500000\n",
              "5      1984/01/01  19:39:19.67  ... 1984-01-01 19:39:19.670 0 days 00:00:59.880000\n",
              "...           ...          ...  ...                     ...                    ...\n",
              "70793  2002/12/29  19:37:24.56  ... 2002-12-29 19:37:24.560 0 days 00:00:30.140000\n",
              "70794  2002/12/29  20:17:33.40  ... 2002-12-29 20:17:33.400 0 days 00:40:08.840000\n",
              "70795  2002/12/29  20:21:28.73  ... 2002-12-29 20:21:28.730 0 days 00:03:55.330000\n",
              "70796  2002/12/30  21:51:52.55  ... 2002-12-30 21:51:52.550 1 days 01:30:23.820000\n",
              "70797  2002/12/30  23:38:49.79  ... 2002-12-30 23:38:49.790 0 days 01:46:57.240000\n",
              "\n",
              "[18026 rows x 5 columns]"
            ]
          },
          "metadata": {},
          "execution_count": 28
        }
      ]
    },
    {
      "cell_type": "code",
      "metadata": {
        "id": "kDvKNHD7X1M8",
        "colab": {
          "base_uri": "https://localhost:8080/",
          "height": 206
        },
        "outputId": "99a78b2d-1854-45de-de9c-5742132ca5f6"
      },
      "source": [
        "eqGoodData.head()"
      ],
      "execution_count": 29,
      "outputs": [
        {
          "output_type": "execute_result",
          "data": {
            "text/html": [
              "<div>\n",
              "<style scoped>\n",
              "    .dataframe tbody tr th:only-of-type {\n",
              "        vertical-align: middle;\n",
              "    }\n",
              "\n",
              "    .dataframe tbody tr th {\n",
              "        vertical-align: top;\n",
              "    }\n",
              "\n",
              "    .dataframe thead th {\n",
              "        text-align: right;\n",
              "    }\n",
              "</style>\n",
              "<table border=\"1\" class=\"dataframe\">\n",
              "  <thead>\n",
              "    <tr style=\"text-align: right;\">\n",
              "      <th></th>\n",
              "      <th>date</th>\n",
              "      <th>time</th>\n",
              "      <th>mag</th>\n",
              "      <th>datetime</th>\n",
              "      <th>dts</th>\n",
              "    </tr>\n",
              "  </thead>\n",
              "  <tbody>\n",
              "    <tr>\n",
              "      <th>1</th>\n",
              "      <td>1984/01/01</td>\n",
              "      <td>05:31:34.16</td>\n",
              "      <td>2.12</td>\n",
              "      <td>1984-01-01 05:31:34.160</td>\n",
              "      <td>0 days 04:00:36.640000</td>\n",
              "    </tr>\n",
              "    <tr>\n",
              "      <th>2</th>\n",
              "      <td>1984/01/01</td>\n",
              "      <td>06:59:05.14</td>\n",
              "      <td>2.43</td>\n",
              "      <td>1984-01-01 06:59:05.140</td>\n",
              "      <td>0 days 01:27:30.980000</td>\n",
              "    </tr>\n",
              "    <tr>\n",
              "      <th>3</th>\n",
              "      <td>1984/01/01</td>\n",
              "      <td>11:10:25.29</td>\n",
              "      <td>2.07</td>\n",
              "      <td>1984-01-01 11:10:25.290</td>\n",
              "      <td>0 days 04:11:20.150000</td>\n",
              "    </tr>\n",
              "    <tr>\n",
              "      <th>4</th>\n",
              "      <td>1984/01/01</td>\n",
              "      <td>19:38:19.79</td>\n",
              "      <td>2.13</td>\n",
              "      <td>1984-01-01 19:38:19.790</td>\n",
              "      <td>0 days 08:27:54.500000</td>\n",
              "    </tr>\n",
              "    <tr>\n",
              "      <th>5</th>\n",
              "      <td>1984/01/01</td>\n",
              "      <td>19:39:19.67</td>\n",
              "      <td>2.13</td>\n",
              "      <td>1984-01-01 19:39:19.670</td>\n",
              "      <td>0 days 00:00:59.880000</td>\n",
              "    </tr>\n",
              "  </tbody>\n",
              "</table>\n",
              "</div>"
            ],
            "text/plain": [
              "         date         time   mag                datetime                    dts\n",
              "1  1984/01/01  05:31:34.16  2.12 1984-01-01 05:31:34.160 0 days 04:00:36.640000\n",
              "2  1984/01/01  06:59:05.14  2.43 1984-01-01 06:59:05.140 0 days 01:27:30.980000\n",
              "3  1984/01/01  11:10:25.29  2.07 1984-01-01 11:10:25.290 0 days 04:11:20.150000\n",
              "4  1984/01/01  19:38:19.79  2.13 1984-01-01 19:38:19.790 0 days 08:27:54.500000\n",
              "5  1984/01/01  19:39:19.67  2.13 1984-01-01 19:39:19.670 0 days 00:00:59.880000"
            ]
          },
          "metadata": {},
          "execution_count": 29
        }
      ]
    },
    {
      "cell_type": "markdown",
      "metadata": {
        "id": "M2VH6Q4xhXsw"
      },
      "source": [
        "# data exploration\n",
        "At this point you should wonder if this is the final dataset that you want to use and if anything is weird or suspicious about it. Visualize the distribution. A good way to visualize distributions is a histogram which you can prodice with pl.hist() or as a method of your dataframe series as ```df[SeriesName].plot(kind=\"hist\")```. Produce a plot like the one below (label the axis! and describe it with a caption!). To get the logarithmic y axis you can se ```logy=True```, for example. in your ```df[SeriesName].plot``` call."
      ]
    },
    {
      "cell_type": "code",
      "metadata": {
        "colab": {
          "base_uri": "https://localhost:8080/",
          "height": 554
        },
        "id": "fhx_KOtgS7GA",
        "outputId": "716b9862-6233-41c1-c4d1-4b68ef94f6b2"
      },
      "source": [
        "# -- extract the values to get the time in nanoseconds\n",
        "arrr = eqGoodData[\"dts\"].values.astype(float)\n",
        "eqGoodData[\"dts1\"] = arrr\n",
        "eqGoodData"
      ],
      "execution_count": 30,
      "outputs": [
        {
          "output_type": "stream",
          "name": "stderr",
          "text": [
            "/usr/local/lib/python3.7/dist-packages/ipykernel_launcher.py:3: SettingWithCopyWarning: \n",
            "A value is trying to be set on a copy of a slice from a DataFrame.\n",
            "Try using .loc[row_indexer,col_indexer] = value instead\n",
            "\n",
            "See the caveats in the documentation: https://pandas.pydata.org/pandas-docs/stable/user_guide/indexing.html#returning-a-view-versus-a-copy\n",
            "  This is separate from the ipykernel package so we can avoid doing imports until\n"
          ]
        },
        {
          "output_type": "execute_result",
          "data": {
            "text/html": [
              "<div>\n",
              "<style scoped>\n",
              "    .dataframe tbody tr th:only-of-type {\n",
              "        vertical-align: middle;\n",
              "    }\n",
              "\n",
              "    .dataframe tbody tr th {\n",
              "        vertical-align: top;\n",
              "    }\n",
              "\n",
              "    .dataframe thead th {\n",
              "        text-align: right;\n",
              "    }\n",
              "</style>\n",
              "<table border=\"1\" class=\"dataframe\">\n",
              "  <thead>\n",
              "    <tr style=\"text-align: right;\">\n",
              "      <th></th>\n",
              "      <th>date</th>\n",
              "      <th>time</th>\n",
              "      <th>mag</th>\n",
              "      <th>datetime</th>\n",
              "      <th>dts</th>\n",
              "      <th>dts1</th>\n",
              "    </tr>\n",
              "  </thead>\n",
              "  <tbody>\n",
              "    <tr>\n",
              "      <th>1</th>\n",
              "      <td>1984/01/01</td>\n",
              "      <td>05:31:34.16</td>\n",
              "      <td>2.12</td>\n",
              "      <td>1984-01-01 05:31:34.160</td>\n",
              "      <td>0 days 04:00:36.640000</td>\n",
              "      <td>1.443664e+13</td>\n",
              "    </tr>\n",
              "    <tr>\n",
              "      <th>2</th>\n",
              "      <td>1984/01/01</td>\n",
              "      <td>06:59:05.14</td>\n",
              "      <td>2.43</td>\n",
              "      <td>1984-01-01 06:59:05.140</td>\n",
              "      <td>0 days 01:27:30.980000</td>\n",
              "      <td>5.250980e+12</td>\n",
              "    </tr>\n",
              "    <tr>\n",
              "      <th>3</th>\n",
              "      <td>1984/01/01</td>\n",
              "      <td>11:10:25.29</td>\n",
              "      <td>2.07</td>\n",
              "      <td>1984-01-01 11:10:25.290</td>\n",
              "      <td>0 days 04:11:20.150000</td>\n",
              "      <td>1.508015e+13</td>\n",
              "    </tr>\n",
              "    <tr>\n",
              "      <th>4</th>\n",
              "      <td>1984/01/01</td>\n",
              "      <td>19:38:19.79</td>\n",
              "      <td>2.13</td>\n",
              "      <td>1984-01-01 19:38:19.790</td>\n",
              "      <td>0 days 08:27:54.500000</td>\n",
              "      <td>3.047450e+13</td>\n",
              "    </tr>\n",
              "    <tr>\n",
              "      <th>5</th>\n",
              "      <td>1984/01/01</td>\n",
              "      <td>19:39:19.67</td>\n",
              "      <td>2.13</td>\n",
              "      <td>1984-01-01 19:39:19.670</td>\n",
              "      <td>0 days 00:00:59.880000</td>\n",
              "      <td>5.988000e+10</td>\n",
              "    </tr>\n",
              "    <tr>\n",
              "      <th>...</th>\n",
              "      <td>...</td>\n",
              "      <td>...</td>\n",
              "      <td>...</td>\n",
              "      <td>...</td>\n",
              "      <td>...</td>\n",
              "      <td>...</td>\n",
              "    </tr>\n",
              "    <tr>\n",
              "      <th>70793</th>\n",
              "      <td>2002/12/29</td>\n",
              "      <td>19:37:24.56</td>\n",
              "      <td>2.21</td>\n",
              "      <td>2002-12-29 19:37:24.560</td>\n",
              "      <td>0 days 00:00:30.140000</td>\n",
              "      <td>3.014000e+10</td>\n",
              "    </tr>\n",
              "    <tr>\n",
              "      <th>70794</th>\n",
              "      <td>2002/12/29</td>\n",
              "      <td>20:17:33.40</td>\n",
              "      <td>2.02</td>\n",
              "      <td>2002-12-29 20:17:33.400</td>\n",
              "      <td>0 days 00:40:08.840000</td>\n",
              "      <td>2.408840e+12</td>\n",
              "    </tr>\n",
              "    <tr>\n",
              "      <th>70795</th>\n",
              "      <td>2002/12/29</td>\n",
              "      <td>20:21:28.73</td>\n",
              "      <td>2.07</td>\n",
              "      <td>2002-12-29 20:21:28.730</td>\n",
              "      <td>0 days 00:03:55.330000</td>\n",
              "      <td>2.353300e+11</td>\n",
              "    </tr>\n",
              "    <tr>\n",
              "      <th>70796</th>\n",
              "      <td>2002/12/30</td>\n",
              "      <td>21:51:52.55</td>\n",
              "      <td>2.31</td>\n",
              "      <td>2002-12-30 21:51:52.550</td>\n",
              "      <td>1 days 01:30:23.820000</td>\n",
              "      <td>9.182382e+13</td>\n",
              "    </tr>\n",
              "    <tr>\n",
              "      <th>70797</th>\n",
              "      <td>2002/12/30</td>\n",
              "      <td>23:38:49.79</td>\n",
              "      <td>2.05</td>\n",
              "      <td>2002-12-30 23:38:49.790</td>\n",
              "      <td>0 days 01:46:57.240000</td>\n",
              "      <td>6.417240e+12</td>\n",
              "    </tr>\n",
              "  </tbody>\n",
              "</table>\n",
              "<p>18026 rows × 6 columns</p>\n",
              "</div>"
            ],
            "text/plain": [
              "             date         time  ...                    dts          dts1\n",
              "1      1984/01/01  05:31:34.16  ... 0 days 04:00:36.640000  1.443664e+13\n",
              "2      1984/01/01  06:59:05.14  ... 0 days 01:27:30.980000  5.250980e+12\n",
              "3      1984/01/01  11:10:25.29  ... 0 days 04:11:20.150000  1.508015e+13\n",
              "4      1984/01/01  19:38:19.79  ... 0 days 08:27:54.500000  3.047450e+13\n",
              "5      1984/01/01  19:39:19.67  ... 0 days 00:00:59.880000  5.988000e+10\n",
              "...           ...          ...  ...                    ...           ...\n",
              "70793  2002/12/29  19:37:24.56  ... 0 days 00:00:30.140000  3.014000e+10\n",
              "70794  2002/12/29  20:17:33.40  ... 0 days 00:40:08.840000  2.408840e+12\n",
              "70795  2002/12/29  20:21:28.73  ... 0 days 00:03:55.330000  2.353300e+11\n",
              "70796  2002/12/30  21:51:52.55  ... 1 days 01:30:23.820000  9.182382e+13\n",
              "70797  2002/12/30  23:38:49.79  ... 0 days 01:46:57.240000  6.417240e+12\n",
              "\n",
              "[18026 rows x 6 columns]"
            ]
          },
          "metadata": {},
          "execution_count": 30
        }
      ]
    },
    {
      "cell_type": "code",
      "metadata": {
        "colab": {
          "base_uri": "https://localhost:8080/",
          "height": 300
        },
        "id": "U60q2m0mSxnE",
        "outputId": "c64bdb66-d517-4747-d831-09f7403eea2a"
      },
      "source": [
        "# -- histogram of the difference in nanoseconds\n",
        "# plt.hist(arrr, log=True)\n",
        "eqGoodData[\"dts1\"].plot(kind=\"hist\", logy=True)\n",
        "pl.xlabel(\"log diff time [ns]\", fontsize = 12)\n",
        "pl.ylabel(\"log Frequency\", fontsize = 12)\n",
        "pl.plot()"
      ],
      "execution_count": 31,
      "outputs": [
        {
          "output_type": "execute_result",
          "data": {
            "text/plain": [
              "[]"
            ]
          },
          "metadata": {},
          "execution_count": 31
        },
        {
          "output_type": "stream",
          "name": "stderr",
          "text": [
            "findfont: Font family ['[\"sans-serif\"]'] not found. Falling back to DejaVu Sans.\n"
          ]
        },
        {
          "output_type": "display_data",
          "data": {
            "image/png": "[encoded data removed]",
            "text/plain": [
              "<Figure size 432x288 with 1 Axes>"
            ]
          },
          "metadata": {
            "needs_background": "light"
          }
        }
      ]
    },
    {
      "cell_type": "markdown",
      "metadata": {
        "id": "nuPhJkrozh91"
      },
      "source": [
        "The thing that worries me is that by removing some sections of the data to use only stationary periods we created some artificially large gaps: gaps of order ~month. How many nanoseconds in a month? remove all gaps that are larger than about a month and see how the distribution looks (make another histogram)."
      ]
    },
    {
      "cell_type": "code",
      "metadata": {
        "id": "0zuGOkWhzhDu",
        "colab": {
          "base_uri": "https://localhost:8080/"
        },
        "outputId": "a621f3ae-c855-40e1-9555-f037ee3a9722"
      },
      "source": [
        "# -- convert one month in nanoseconds\n",
        "min_nanosecond = 1*30*24*60*60*1e9\n",
        "# -- keep the data who's gap is smaller than nanosecond\n",
        "eqGoodData = eqGoodData[(eqGoodData[\"dts1\"] < min_nanosecond)]\n",
        "# eqGoodData[\"dts\"].dt.components\n",
        "len(eqGoodData)"
      ],
      "execution_count": 32,
      "outputs": [
        {
          "output_type": "execute_result",
          "data": {
            "text/plain": [
              "18016"
            ]
          },
          "metadata": {},
          "execution_count": 32
        }
      ]
    },
    {
      "cell_type": "code",
      "metadata": {
        "colab": {
          "base_uri": "https://localhost:8080/",
          "height": 300
        },
        "id": "lPAzN81banyo",
        "outputId": "5cf8c4c1-d71f-4e21-f5cf-48510f3bb1b6"
      },
      "source": [
        "# -- histogram of the difference in nanoseconds\n",
        "eqGoodData[\"dts1\"].plot(kind=\"hist\", logy=True)\n",
        "pl.xlabel(\"log diff time [ns]\", fontsize = 12)\n",
        "pl.ylabel(\"log Frequency\", fontsize = 12)\n",
        "pl.plot()"
      ],
      "execution_count": 33,
      "outputs": [
        {
          "output_type": "execute_result",
          "data": {
            "text/plain": [
              "[]"
            ]
          },
          "metadata": {},
          "execution_count": 33
        },
        {
          "output_type": "display_data",
          "data": {
            "image/png": "[encoded data removed]",
            "text/plain": [
              "<Figure size 432x288 with 1 Axes>"
            ]
          },
          "metadata": {
            "needs_background": "light"
          }
        }
      ]
    },
    {
      "cell_type": "markdown",
      "metadata": {
        "id": "gn-HuVevYOo7"
      },
      "source": [
        "# data analysis"
      ]
    },
    {
      "cell_type": "markdown",
      "metadata": {
        "id": "Q2xYwKRB2sx9"
      },
      "source": [
        "### important: the paper does not do it but I want you to formally choose a threshold before you do this test. Choose a p-value (=$\\alpha$ thresold: call your variable ```alpha```) of 3-$\\sigma$."
      ]
    },
    {
      "cell_type": "markdown",
      "metadata": {
        "id": "pt5MAQEZhXsz"
      },
      "source": [
        "Follow the instructions (algorithm) in **Section 3 paragraph 3** and compare your results with the results in table 1 with a threshold  of = 0.01 and 0.001\n",
        "\n",
        "Do it for all 5 magnitude thresholds as indicated in the paper (and in Table 1).\n",
        "\n",
        "Note that the x axis in plot Fig 1 is in _log space_. Use ```np.log10()``` to take the logarithm of the time gaps.\n",
        "\n",
        "The pseudocode for the algorithm is [here](https://github.com/fedhere/DSPS/blob/master/HW3/Corral2018_pseudocode.md).\n"
      ]
    },
    {
      "cell_type": "markdown",
      "metadata": {
        "id": "gXWK4x4FhXs1"
      },
      "source": [
        "Reproduce the paper Fig 1 and Table 1. In the Table report the size of each dataset after cleaning the value of the statistic and the p-value, as done in Corral 2018. Use the scipy function for the 2 sample KS test. (resources [here](https://colab.research.google.com/notebooks/markdown_guide.ipynb#scrollTo=70pYkR9LiOV0) to learn about the table syntax in markdown)"
      ]
    },
    {
      "cell_type": "code",
      "metadata": {
        "id": "V5Hb-Gde5qAv"
      },
      "source": [
        "mags = [2, 2.5, 3, 3.5, 4]\n",
        "mm = [0.01, 0.03, 0.001, 0.003]"
      ],
      "execution_count": 34,
      "outputs": []
    },
    {
      "cell_type": "code",
      "metadata": {
        "ExecuteTime": {
          "end_time": "2019-09-09T01:51:40.043756Z",
          "start_time": "2019-09-09T01:51:39.866325Z"
        },
        "id": "BNtqqaXphXs2",
        "colab": {
          "base_uri": "https://localhost:8080/"
        },
        "outputId": "699f7558-b82b-4993-fcdd-95de474c3d68"
      },
      "source": [
        "# your code here\n",
        "eqGoodData_copy = eqGoodData.copy()\n",
        "(eqGoodData_copy.mag >= mags[0]).sum()"
      ],
      "execution_count": 35,
      "outputs": [
        {
          "output_type": "execute_result",
          "data": {
            "text/plain": [
              "18016"
            ]
          },
          "metadata": {},
          "execution_count": 35
        }
      ]
    },
    {
      "cell_type": "code",
      "metadata": {
        "colab": {
          "base_uri": "https://localhost:8080/",
          "height": 424
        },
        "id": "9dxv3pYr6TEn",
        "outputId": "2f703920-22d8-4a86-ae4a-c5c4253fba5e"
      },
      "source": [
        "eqGoodData_mag2 = eqGoodData_copy[(eqGoodData_copy.mag >= mags[0])]\n",
        "R = 1 / eqGoodData_mag2[\"dts1\"].mean()\n",
        "eqGoodData_mag2[\"rescale\"] = eqGoodData_mag2[\"dts1\"] * R\n",
        "eqGoodData_mag2"
      ],
      "execution_count": 36,
      "outputs": [
        {
          "output_type": "execute_result",
          "data": {
            "text/html": [
              "<div>\n",
              "<style scoped>\n",
              "    .dataframe tbody tr th:only-of-type {\n",
              "        vertical-align: middle;\n",
              "    }\n",
              "\n",
              "    .dataframe tbody tr th {\n",
              "        vertical-align: top;\n",
              "    }\n",
              "\n",
              "    .dataframe thead th {\n",
              "        text-align: right;\n",
              "    }\n",
              "</style>\n",
              "<table border=\"1\" class=\"dataframe\">\n",
              "  <thead>\n",
              "    <tr style=\"text-align: right;\">\n",
              "      <th></th>\n",
              "      <th>date</th>\n",
              "      <th>time</th>\n",
              "      <th>mag</th>\n",
              "      <th>datetime</th>\n",
              "      <th>dts</th>\n",
              "      <th>dts1</th>\n",
              "      <th>rescale</th>\n",
              "    </tr>\n",
              "  </thead>\n",
              "  <tbody>\n",
              "    <tr>\n",
              "      <th>1</th>\n",
              "      <td>1984/01/01</td>\n",
              "      <td>05:31:34.16</td>\n",
              "      <td>2.12</td>\n",
              "      <td>1984-01-01 05:31:34.160</td>\n",
              "      <td>0 days 04:00:36.640000</td>\n",
              "      <td>1.443664e+13</td>\n",
              "      <td>0.888323</td>\n",
              "    </tr>\n",
              "    <tr>\n",
              "      <th>2</th>\n",
              "      <td>1984/01/01</td>\n",
              "      <td>06:59:05.14</td>\n",
              "      <td>2.43</td>\n",
              "      <td>1984-01-01 06:59:05.140</td>\n",
              "      <td>0 days 01:27:30.980000</td>\n",
              "      <td>5.250980e+12</td>\n",
              "      <td>0.323106</td>\n",
              "    </tr>\n",
              "    <tr>\n",
              "      <th>3</th>\n",
              "      <td>1984/01/01</td>\n",
              "      <td>11:10:25.29</td>\n",
              "      <td>2.07</td>\n",
              "      <td>1984-01-01 11:10:25.290</td>\n",
              "      <td>0 days 04:11:20.150000</td>\n",
              "      <td>1.508015e+13</td>\n",
              "      <td>0.927919</td>\n",
              "    </tr>\n",
              "    <tr>\n",
              "      <th>4</th>\n",
              "      <td>1984/01/01</td>\n",
              "      <td>19:38:19.79</td>\n",
              "      <td>2.13</td>\n",
              "      <td>1984-01-01 19:38:19.790</td>\n",
              "      <td>0 days 08:27:54.500000</td>\n",
              "      <td>3.047450e+13</td>\n",
              "      <td>1.875172</td>\n",
              "    </tr>\n",
              "    <tr>\n",
              "      <th>5</th>\n",
              "      <td>1984/01/01</td>\n",
              "      <td>19:39:19.67</td>\n",
              "      <td>2.13</td>\n",
              "      <td>1984-01-01 19:39:19.670</td>\n",
              "      <td>0 days 00:00:59.880000</td>\n",
              "      <td>5.988000e+10</td>\n",
              "      <td>0.003685</td>\n",
              "    </tr>\n",
              "    <tr>\n",
              "      <th>...</th>\n",
              "      <td>...</td>\n",
              "      <td>...</td>\n",
              "      <td>...</td>\n",
              "      <td>...</td>\n",
              "      <td>...</td>\n",
              "      <td>...</td>\n",
              "      <td>...</td>\n",
              "    </tr>\n",
              "    <tr>\n",
              "      <th>70793</th>\n",
              "      <td>2002/12/29</td>\n",
              "      <td>19:37:24.56</td>\n",
              "      <td>2.21</td>\n",
              "      <td>2002-12-29 19:37:24.560</td>\n",
              "      <td>0 days 00:00:30.140000</td>\n",
              "      <td>3.014000e+10</td>\n",
              "      <td>0.001855</td>\n",
              "    </tr>\n",
              "    <tr>\n",
              "      <th>70794</th>\n",
              "      <td>2002/12/29</td>\n",
              "      <td>20:17:33.40</td>\n",
              "      <td>2.02</td>\n",
              "      <td>2002-12-29 20:17:33.400</td>\n",
              "      <td>0 days 00:40:08.840000</td>\n",
              "      <td>2.408840e+12</td>\n",
              "      <td>0.148222</td>\n",
              "    </tr>\n",
              "    <tr>\n",
              "      <th>70795</th>\n",
              "      <td>2002/12/29</td>\n",
              "      <td>20:21:28.73</td>\n",
              "      <td>2.07</td>\n",
              "      <td>2002-12-29 20:21:28.730</td>\n",
              "      <td>0 days 00:03:55.330000</td>\n",
              "      <td>2.353300e+11</td>\n",
              "      <td>0.014480</td>\n",
              "    </tr>\n",
              "    <tr>\n",
              "      <th>70796</th>\n",
              "      <td>2002/12/30</td>\n",
              "      <td>21:51:52.55</td>\n",
              "      <td>2.31</td>\n",
              "      <td>2002-12-30 21:51:52.550</td>\n",
              "      <td>1 days 01:30:23.820000</td>\n",
              "      <td>9.182382e+13</td>\n",
              "      <td>5.650149</td>\n",
              "    </tr>\n",
              "    <tr>\n",
              "      <th>70797</th>\n",
              "      <td>2002/12/30</td>\n",
              "      <td>23:38:49.79</td>\n",
              "      <td>2.05</td>\n",
              "      <td>2002-12-30 23:38:49.790</td>\n",
              "      <td>0 days 01:46:57.240000</td>\n",
              "      <td>6.417240e+12</td>\n",
              "      <td>0.394869</td>\n",
              "    </tr>\n",
              "  </tbody>\n",
              "</table>\n",
              "<p>18016 rows × 7 columns</p>\n",
              "</div>"
            ],
            "text/plain": [
              "             date         time  ...          dts1   rescale\n",
              "1      1984/01/01  05:31:34.16  ...  1.443664e+13  0.888323\n",
              "2      1984/01/01  06:59:05.14  ...  5.250980e+12  0.323106\n",
              "3      1984/01/01  11:10:25.29  ...  1.508015e+13  0.927919\n",
              "4      1984/01/01  19:38:19.79  ...  3.047450e+13  1.875172\n",
              "5      1984/01/01  19:39:19.67  ...  5.988000e+10  0.003685\n",
              "...           ...          ...  ...           ...       ...\n",
              "70793  2002/12/29  19:37:24.56  ...  3.014000e+10  0.001855\n",
              "70794  2002/12/29  20:17:33.40  ...  2.408840e+12  0.148222\n",
              "70795  2002/12/29  20:21:28.73  ...  2.353300e+11  0.014480\n",
              "70796  2002/12/30  21:51:52.55  ...  9.182382e+13  5.650149\n",
              "70797  2002/12/30  23:38:49.79  ...  6.417240e+12  0.394869\n",
              "\n",
              "[18016 rows x 7 columns]"
            ]
          },
          "metadata": {},
          "execution_count": 36
        }
      ]
    },
    {
      "cell_type": "code",
      "metadata": {
        "colab": {
          "base_uri": "https://localhost:8080/",
          "height": 424
        },
        "id": "ge8Dnmtm73NM",
        "outputId": "60e64642-70c1-41fc-a2f3-bc95363b72df"
      },
      "source": [
        "eqGoodData_mag2 = eqGoodData_mag2[eqGoodData_mag2[\"rescale\"] > mm[0]]\n",
        "eqGoodData_mag2"
      ],
      "execution_count": 37,
      "outputs": [
        {
          "output_type": "execute_result",
          "data": {
            "text/html": [
              "<div>\n",
              "<style scoped>\n",
              "    .dataframe tbody tr th:only-of-type {\n",
              "        vertical-align: middle;\n",
              "    }\n",
              "\n",
              "    .dataframe tbody tr th {\n",
              "        vertical-align: top;\n",
              "    }\n",
              "\n",
              "    .dataframe thead th {\n",
              "        text-align: right;\n",
              "    }\n",
              "</style>\n",
              "<table border=\"1\" class=\"dataframe\">\n",
              "  <thead>\n",
              "    <tr style=\"text-align: right;\">\n",
              "      <th></th>\n",
              "      <th>date</th>\n",
              "      <th>time</th>\n",
              "      <th>mag</th>\n",
              "      <th>datetime</th>\n",
              "      <th>dts</th>\n",
              "      <th>dts1</th>\n",
              "      <th>rescale</th>\n",
              "    </tr>\n",
              "  </thead>\n",
              "  <tbody>\n",
              "    <tr>\n",
              "      <th>1</th>\n",
              "      <td>1984/01/01</td>\n",
              "      <td>05:31:34.16</td>\n",
              "      <td>2.12</td>\n",
              "      <td>1984-01-01 05:31:34.160</td>\n",
              "      <td>0 days 04:00:36.640000</td>\n",
              "      <td>1.443664e+13</td>\n",
              "      <td>0.888323</td>\n",
              "    </tr>\n",
              "    <tr>\n",
              "      <th>2</th>\n",
              "      <td>1984/01/01</td>\n",
              "      <td>06:59:05.14</td>\n",
              "      <td>2.43</td>\n",
              "      <td>1984-01-01 06:59:05.140</td>\n",
              "      <td>0 days 01:27:30.980000</td>\n",
              "      <td>5.250980e+12</td>\n",
              "      <td>0.323106</td>\n",
              "    </tr>\n",
              "    <tr>\n",
              "      <th>3</th>\n",
              "      <td>1984/01/01</td>\n",
              "      <td>11:10:25.29</td>\n",
              "      <td>2.07</td>\n",
              "      <td>1984-01-01 11:10:25.290</td>\n",
              "      <td>0 days 04:11:20.150000</td>\n",
              "      <td>1.508015e+13</td>\n",
              "      <td>0.927919</td>\n",
              "    </tr>\n",
              "    <tr>\n",
              "      <th>4</th>\n",
              "      <td>1984/01/01</td>\n",
              "      <td>19:38:19.79</td>\n",
              "      <td>2.13</td>\n",
              "      <td>1984-01-01 19:38:19.790</td>\n",
              "      <td>0 days 08:27:54.500000</td>\n",
              "      <td>3.047450e+13</td>\n",
              "      <td>1.875172</td>\n",
              "    </tr>\n",
              "    <tr>\n",
              "      <th>6</th>\n",
              "      <td>1984/01/01</td>\n",
              "      <td>20:19:47.21</td>\n",
              "      <td>2.02</td>\n",
              "      <td>1984-01-01 20:19:47.210</td>\n",
              "      <td>0 days 00:40:27.540000</td>\n",
              "      <td>2.427540e+12</td>\n",
              "      <td>0.149373</td>\n",
              "    </tr>\n",
              "    <tr>\n",
              "      <th>...</th>\n",
              "      <td>...</td>\n",
              "      <td>...</td>\n",
              "      <td>...</td>\n",
              "      <td>...</td>\n",
              "      <td>...</td>\n",
              "      <td>...</td>\n",
              "      <td>...</td>\n",
              "    </tr>\n",
              "    <tr>\n",
              "      <th>70791</th>\n",
              "      <td>2002/12/29</td>\n",
              "      <td>19:36:07.23</td>\n",
              "      <td>3.15</td>\n",
              "      <td>2002-12-29 19:36:07.230</td>\n",
              "      <td>0 days 16:59:59.870000</td>\n",
              "      <td>6.119987e+13</td>\n",
              "      <td>3.765781</td>\n",
              "    </tr>\n",
              "    <tr>\n",
              "      <th>70794</th>\n",
              "      <td>2002/12/29</td>\n",
              "      <td>20:17:33.40</td>\n",
              "      <td>2.02</td>\n",
              "      <td>2002-12-29 20:17:33.400</td>\n",
              "      <td>0 days 00:40:08.840000</td>\n",
              "      <td>2.408840e+12</td>\n",
              "      <td>0.148222</td>\n",
              "    </tr>\n",
              "    <tr>\n",
              "      <th>70795</th>\n",
              "      <td>2002/12/29</td>\n",
              "      <td>20:21:28.73</td>\n",
              "      <td>2.07</td>\n",
              "      <td>2002-12-29 20:21:28.730</td>\n",
              "      <td>0 days 00:03:55.330000</td>\n",
              "      <td>2.353300e+11</td>\n",
              "      <td>0.014480</td>\n",
              "    </tr>\n",
              "    <tr>\n",
              "      <th>70796</th>\n",
              "      <td>2002/12/30</td>\n",
              "      <td>21:51:52.55</td>\n",
              "      <td>2.31</td>\n",
              "      <td>2002-12-30 21:51:52.550</td>\n",
              "      <td>1 days 01:30:23.820000</td>\n",
              "      <td>9.182382e+13</td>\n",
              "      <td>5.650149</td>\n",
              "    </tr>\n",
              "    <tr>\n",
              "      <th>70797</th>\n",
              "      <td>2002/12/30</td>\n",
              "      <td>23:38:49.79</td>\n",
              "      <td>2.05</td>\n",
              "      <td>2002-12-30 23:38:49.790</td>\n",
              "      <td>0 days 01:46:57.240000</td>\n",
              "      <td>6.417240e+12</td>\n",
              "      <td>0.394869</td>\n",
              "    </tr>\n",
              "  </tbody>\n",
              "</table>\n",
              "<p>17216 rows × 7 columns</p>\n",
              "</div>"
            ],
            "text/plain": [
              "             date         time  ...          dts1   rescale\n",
              "1      1984/01/01  05:31:34.16  ...  1.443664e+13  0.888323\n",
              "2      1984/01/01  06:59:05.14  ...  5.250980e+12  0.323106\n",
              "3      1984/01/01  11:10:25.29  ...  1.508015e+13  0.927919\n",
              "4      1984/01/01  19:38:19.79  ...  3.047450e+13  1.875172\n",
              "6      1984/01/01  20:19:47.21  ...  2.427540e+12  0.149373\n",
              "...           ...          ...  ...           ...       ...\n",
              "70791  2002/12/29  19:36:07.23  ...  6.119987e+13  3.765781\n",
              "70794  2002/12/29  20:17:33.40  ...  2.408840e+12  0.148222\n",
              "70795  2002/12/29  20:21:28.73  ...  2.353300e+11  0.014480\n",
              "70796  2002/12/30  21:51:52.55  ...  9.182382e+13  5.650149\n",
              "70797  2002/12/30  23:38:49.79  ...  6.417240e+12  0.394869\n",
              "\n",
              "[17216 rows x 7 columns]"
            ]
          },
          "metadata": {},
          "execution_count": 37
        }
      ]
    },
    {
      "cell_type": "code",
      "metadata": {
        "colab": {
          "base_uri": "https://localhost:8080/",
          "height": 424
        },
        "id": "PLUYTgjp8Ibg",
        "outputId": "a612471c-46a9-4a70-b0df-147c3a62646c"
      },
      "source": [
        "from pandas.core.common import SettingWithCopyWarning\n",
        "import warnings\n",
        "warnings.simplefilter(action=\"ignore\", category=SettingWithCopyWarning)\n",
        "# eqGoodData_mag2 = eqGoodData_copy[(eqGoodData_copy.mag >= mags[0])]\n",
        "R = 1 / eqGoodData_mag2[\"rescale\"].mean()\n",
        "eqGoodData_mag2[\"rescale1\"] = eqGoodData_mag2[\"rescale\"] * R\n",
        "eqGoodData_mag2"
      ],
      "execution_count": 38,
      "outputs": [
        {
          "output_type": "execute_result",
          "data": {
            "text/html": [
              "<div>\n",
              "<style scoped>\n",
              "    .dataframe tbody tr th:only-of-type {\n",
              "        vertical-align: middle;\n",
              "    }\n",
              "\n",
              "    .dataframe tbody tr th {\n",
              "        vertical-align: top;\n",
              "    }\n",
              "\n",
              "    .dataframe thead th {\n",
              "        text-align: right;\n",
              "    }\n",
              "</style>\n",
              "<table border=\"1\" class=\"dataframe\">\n",
              "  <thead>\n",
              "    <tr style=\"text-align: right;\">\n",
              "      <th></th>\n",
              "      <th>date</th>\n",
              "      <th>time</th>\n",
              "      <th>mag</th>\n",
              "      <th>datetime</th>\n",
              "      <th>dts</th>\n",
              "      <th>dts1</th>\n",
              "      <th>rescale</th>\n",
              "      <th>rescale1</th>\n",
              "    </tr>\n",
              "  </thead>\n",
              "  <tbody>\n",
              "    <tr>\n",
              "      <th>1</th>\n",
              "      <td>1984/01/01</td>\n",
              "      <td>05:31:34.16</td>\n",
              "      <td>2.12</td>\n",
              "      <td>1984-01-01 05:31:34.160</td>\n",
              "      <td>0 days 04:00:36.640000</td>\n",
              "      <td>1.443664e+13</td>\n",
              "      <td>0.888323</td>\n",
              "      <td>0.849032</td>\n",
              "    </tr>\n",
              "    <tr>\n",
              "      <th>2</th>\n",
              "      <td>1984/01/01</td>\n",
              "      <td>06:59:05.14</td>\n",
              "      <td>2.43</td>\n",
              "      <td>1984-01-01 06:59:05.140</td>\n",
              "      <td>0 days 01:27:30.980000</td>\n",
              "      <td>5.250980e+12</td>\n",
              "      <td>0.323106</td>\n",
              "      <td>0.308815</td>\n",
              "    </tr>\n",
              "    <tr>\n",
              "      <th>3</th>\n",
              "      <td>1984/01/01</td>\n",
              "      <td>11:10:25.29</td>\n",
              "      <td>2.07</td>\n",
              "      <td>1984-01-01 11:10:25.290</td>\n",
              "      <td>0 days 04:11:20.150000</td>\n",
              "      <td>1.508015e+13</td>\n",
              "      <td>0.927919</td>\n",
              "      <td>0.886878</td>\n",
              "    </tr>\n",
              "    <tr>\n",
              "      <th>4</th>\n",
              "      <td>1984/01/01</td>\n",
              "      <td>19:38:19.79</td>\n",
              "      <td>2.13</td>\n",
              "      <td>1984-01-01 19:38:19.790</td>\n",
              "      <td>0 days 08:27:54.500000</td>\n",
              "      <td>3.047450e+13</td>\n",
              "      <td>1.875172</td>\n",
              "      <td>1.792234</td>\n",
              "    </tr>\n",
              "    <tr>\n",
              "      <th>6</th>\n",
              "      <td>1984/01/01</td>\n",
              "      <td>20:19:47.21</td>\n",
              "      <td>2.02</td>\n",
              "      <td>1984-01-01 20:19:47.210</td>\n",
              "      <td>0 days 00:40:27.540000</td>\n",
              "      <td>2.427540e+12</td>\n",
              "      <td>0.149373</td>\n",
              "      <td>0.142766</td>\n",
              "    </tr>\n",
              "    <tr>\n",
              "      <th>...</th>\n",
              "      <td>...</td>\n",
              "      <td>...</td>\n",
              "      <td>...</td>\n",
              "      <td>...</td>\n",
              "      <td>...</td>\n",
              "      <td>...</td>\n",
              "      <td>...</td>\n",
              "      <td>...</td>\n",
              "    </tr>\n",
              "    <tr>\n",
              "      <th>70791</th>\n",
              "      <td>2002/12/29</td>\n",
              "      <td>19:36:07.23</td>\n",
              "      <td>3.15</td>\n",
              "      <td>2002-12-29 19:36:07.230</td>\n",
              "      <td>0 days 16:59:59.870000</td>\n",
              "      <td>6.119987e+13</td>\n",
              "      <td>3.765781</td>\n",
              "      <td>3.599222</td>\n",
              "    </tr>\n",
              "    <tr>\n",
              "      <th>70794</th>\n",
              "      <td>2002/12/29</td>\n",
              "      <td>20:17:33.40</td>\n",
              "      <td>2.02</td>\n",
              "      <td>2002-12-29 20:17:33.400</td>\n",
              "      <td>0 days 00:40:08.840000</td>\n",
              "      <td>2.408840e+12</td>\n",
              "      <td>0.148222</td>\n",
              "      <td>0.141666</td>\n",
              "    </tr>\n",
              "    <tr>\n",
              "      <th>70795</th>\n",
              "      <td>2002/12/29</td>\n",
              "      <td>20:21:28.73</td>\n",
              "      <td>2.07</td>\n",
              "      <td>2002-12-29 20:21:28.730</td>\n",
              "      <td>0 days 00:03:55.330000</td>\n",
              "      <td>2.353300e+11</td>\n",
              "      <td>0.014480</td>\n",
              "      <td>0.013840</td>\n",
              "    </tr>\n",
              "    <tr>\n",
              "      <th>70796</th>\n",
              "      <td>2002/12/30</td>\n",
              "      <td>21:51:52.55</td>\n",
              "      <td>2.31</td>\n",
              "      <td>2002-12-30 21:51:52.550</td>\n",
              "      <td>1 days 01:30:23.820000</td>\n",
              "      <td>9.182382e+13</td>\n",
              "      <td>5.650149</td>\n",
              "      <td>5.400245</td>\n",
              "    </tr>\n",
              "    <tr>\n",
              "      <th>70797</th>\n",
              "      <td>2002/12/30</td>\n",
              "      <td>23:38:49.79</td>\n",
              "      <td>2.05</td>\n",
              "      <td>2002-12-30 23:38:49.790</td>\n",
              "      <td>0 days 01:46:57.240000</td>\n",
              "      <td>6.417240e+12</td>\n",
              "      <td>0.394869</td>\n",
              "      <td>0.377404</td>\n",
              "    </tr>\n",
              "  </tbody>\n",
              "</table>\n",
              "<p>17216 rows × 8 columns</p>\n",
              "</div>"
            ],
            "text/plain": [
              "             date         time   mag  ...          dts1   rescale  rescale1\n",
              "1      1984/01/01  05:31:34.16  2.12  ...  1.443664e+13  0.888323  0.849032\n",
              "2      1984/01/01  06:59:05.14  2.43  ...  5.250980e+12  0.323106  0.308815\n",
              "3      1984/01/01  11:10:25.29  2.07  ...  1.508015e+13  0.927919  0.886878\n",
              "4      1984/01/01  19:38:19.79  2.13  ...  3.047450e+13  1.875172  1.792234\n",
              "6      1984/01/01  20:19:47.21  2.02  ...  2.427540e+12  0.149373  0.142766\n",
              "...           ...          ...   ...  ...           ...       ...       ...\n",
              "70791  2002/12/29  19:36:07.23  3.15  ...  6.119987e+13  3.765781  3.599222\n",
              "70794  2002/12/29  20:17:33.40  2.02  ...  2.408840e+12  0.148222  0.141666\n",
              "70795  2002/12/29  20:21:28.73  2.07  ...  2.353300e+11  0.014480  0.013840\n",
              "70796  2002/12/30  21:51:52.55  2.31  ...  9.182382e+13  5.650149  5.400245\n",
              "70797  2002/12/30  23:38:49.79  2.05  ...  6.417240e+12  0.394869  0.377404\n",
              "\n",
              "[17216 rows x 8 columns]"
            ]
          },
          "metadata": {},
          "execution_count": 38
        }
      ]
    },
    {
      "cell_type": "code",
      "metadata": {
        "colab": {
          "base_uri": "https://localhost:8080/",
          "height": 424
        },
        "id": "-xkzNiPk8P6W",
        "outputId": "d067982f-5c16-43e9-e0dc-15b909bbc870"
      },
      "source": [
        "eqGoodData_mag2 = eqGoodData_mag2[eqGoodData_mag2[\"rescale1\"] > mm[0]]\n",
        "eqGoodData_mag2"
      ],
      "execution_count": 39,
      "outputs": [
        {
          "output_type": "execute_result",
          "data": {
            "text/html": [
              "<div>\n",
              "<style scoped>\n",
              "    .dataframe tbody tr th:only-of-type {\n",
              "        vertical-align: middle;\n",
              "    }\n",
              "\n",
              "    .dataframe tbody tr th {\n",
              "        vertical-align: top;\n",
              "    }\n",
              "\n",
              "    .dataframe thead th {\n",
              "        text-align: right;\n",
              "    }\n",
              "</style>\n",
              "<table border=\"1\" class=\"dataframe\">\n",
              "  <thead>\n",
              "    <tr style=\"text-align: right;\">\n",
              "      <th></th>\n",
              "      <th>date</th>\n",
              "      <th>time</th>\n",
              "      <th>mag</th>\n",
              "      <th>datetime</th>\n",
              "      <th>dts</th>\n",
              "      <th>dts1</th>\n",
              "      <th>rescale</th>\n",
              "      <th>rescale1</th>\n",
              "    </tr>\n",
              "  </thead>\n",
              "  <tbody>\n",
              "    <tr>\n",
              "      <th>1</th>\n",
              "      <td>1984/01/01</td>\n",
              "      <td>05:31:34.16</td>\n",
              "      <td>2.12</td>\n",
              "      <td>1984-01-01 05:31:34.160</td>\n",
              "      <td>0 days 04:00:36.640000</td>\n",
              "      <td>1.443664e+13</td>\n",
              "      <td>0.888323</td>\n",
              "      <td>0.849032</td>\n",
              "    </tr>\n",
              "    <tr>\n",
              "      <th>2</th>\n",
              "      <td>1984/01/01</td>\n",
              "      <td>06:59:05.14</td>\n",
              "      <td>2.43</td>\n",
              "      <td>1984-01-01 06:59:05.140</td>\n",
              "      <td>0 days 01:27:30.980000</td>\n",
              "      <td>5.250980e+12</td>\n",
              "      <td>0.323106</td>\n",
              "      <td>0.308815</td>\n",
              "    </tr>\n",
              "    <tr>\n",
              "      <th>3</th>\n",
              "      <td>1984/01/01</td>\n",
              "      <td>11:10:25.29</td>\n",
              "      <td>2.07</td>\n",
              "      <td>1984-01-01 11:10:25.290</td>\n",
              "      <td>0 days 04:11:20.150000</td>\n",
              "      <td>1.508015e+13</td>\n",
              "      <td>0.927919</td>\n",
              "      <td>0.886878</td>\n",
              "    </tr>\n",
              "    <tr>\n",
              "      <th>4</th>\n",
              "      <td>1984/01/01</td>\n",
              "      <td>19:38:19.79</td>\n",
              "      <td>2.13</td>\n",
              "      <td>1984-01-01 19:38:19.790</td>\n",
              "      <td>0 days 08:27:54.500000</td>\n",
              "      <td>3.047450e+13</td>\n",
              "      <td>1.875172</td>\n",
              "      <td>1.792234</td>\n",
              "    </tr>\n",
              "    <tr>\n",
              "      <th>6</th>\n",
              "      <td>1984/01/01</td>\n",
              "      <td>20:19:47.21</td>\n",
              "      <td>2.02</td>\n",
              "      <td>1984-01-01 20:19:47.210</td>\n",
              "      <td>0 days 00:40:27.540000</td>\n",
              "      <td>2.427540e+12</td>\n",
              "      <td>0.149373</td>\n",
              "      <td>0.142766</td>\n",
              "    </tr>\n",
              "    <tr>\n",
              "      <th>...</th>\n",
              "      <td>...</td>\n",
              "      <td>...</td>\n",
              "      <td>...</td>\n",
              "      <td>...</td>\n",
              "      <td>...</td>\n",
              "      <td>...</td>\n",
              "      <td>...</td>\n",
              "      <td>...</td>\n",
              "    </tr>\n",
              "    <tr>\n",
              "      <th>70791</th>\n",
              "      <td>2002/12/29</td>\n",
              "      <td>19:36:07.23</td>\n",
              "      <td>3.15</td>\n",
              "      <td>2002-12-29 19:36:07.230</td>\n",
              "      <td>0 days 16:59:59.870000</td>\n",
              "      <td>6.119987e+13</td>\n",
              "      <td>3.765781</td>\n",
              "      <td>3.599222</td>\n",
              "    </tr>\n",
              "    <tr>\n",
              "      <th>70794</th>\n",
              "      <td>2002/12/29</td>\n",
              "      <td>20:17:33.40</td>\n",
              "      <td>2.02</td>\n",
              "      <td>2002-12-29 20:17:33.400</td>\n",
              "      <td>0 days 00:40:08.840000</td>\n",
              "      <td>2.408840e+12</td>\n",
              "      <td>0.148222</td>\n",
              "      <td>0.141666</td>\n",
              "    </tr>\n",
              "    <tr>\n",
              "      <th>70795</th>\n",
              "      <td>2002/12/29</td>\n",
              "      <td>20:21:28.73</td>\n",
              "      <td>2.07</td>\n",
              "      <td>2002-12-29 20:21:28.730</td>\n",
              "      <td>0 days 00:03:55.330000</td>\n",
              "      <td>2.353300e+11</td>\n",
              "      <td>0.014480</td>\n",
              "      <td>0.013840</td>\n",
              "    </tr>\n",
              "    <tr>\n",
              "      <th>70796</th>\n",
              "      <td>2002/12/30</td>\n",
              "      <td>21:51:52.55</td>\n",
              "      <td>2.31</td>\n",
              "      <td>2002-12-30 21:51:52.550</td>\n",
              "      <td>1 days 01:30:23.820000</td>\n",
              "      <td>9.182382e+13</td>\n",
              "      <td>5.650149</td>\n",
              "      <td>5.400245</td>\n",
              "    </tr>\n",
              "    <tr>\n",
              "      <th>70797</th>\n",
              "      <td>2002/12/30</td>\n",
              "      <td>23:38:49.79</td>\n",
              "      <td>2.05</td>\n",
              "      <td>2002-12-30 23:38:49.790</td>\n",
              "      <td>0 days 01:46:57.240000</td>\n",
              "      <td>6.417240e+12</td>\n",
              "      <td>0.394869</td>\n",
              "      <td>0.377404</td>\n",
              "    </tr>\n",
              "  </tbody>\n",
              "</table>\n",
              "<p>17198 rows × 8 columns</p>\n",
              "</div>"
            ],
            "text/plain": [
              "             date         time   mag  ...          dts1   rescale  rescale1\n",
              "1      1984/01/01  05:31:34.16  2.12  ...  1.443664e+13  0.888323  0.849032\n",
              "2      1984/01/01  06:59:05.14  2.43  ...  5.250980e+12  0.323106  0.308815\n",
              "3      1984/01/01  11:10:25.29  2.07  ...  1.508015e+13  0.927919  0.886878\n",
              "4      1984/01/01  19:38:19.79  2.13  ...  3.047450e+13  1.875172  1.792234\n",
              "6      1984/01/01  20:19:47.21  2.02  ...  2.427540e+12  0.149373  0.142766\n",
              "...           ...          ...   ...  ...           ...       ...       ...\n",
              "70791  2002/12/29  19:36:07.23  3.15  ...  6.119987e+13  3.765781  3.599222\n",
              "70794  2002/12/29  20:17:33.40  2.02  ...  2.408840e+12  0.148222  0.141666\n",
              "70795  2002/12/29  20:21:28.73  2.07  ...  2.353300e+11  0.014480  0.013840\n",
              "70796  2002/12/30  21:51:52.55  2.31  ...  9.182382e+13  5.650149  5.400245\n",
              "70797  2002/12/30  23:38:49.79  2.05  ...  6.417240e+12  0.394869  0.377404\n",
              "\n",
              "[17198 rows x 8 columns]"
            ]
          },
          "metadata": {},
          "execution_count": 39
        }
      ]
    },
    {
      "cell_type": "code",
      "metadata": {
        "colab": {
          "base_uri": "https://localhost:8080/"
        },
        "id": "pJ1UrLq98XZi",
        "outputId": "2dba0311-e0b2-4c16-df22-89c82f0545ff"
      },
      "source": [
        "eqGoodData_mag2[\"rescale1\"].mean()"
      ],
      "execution_count": 40,
      "outputs": [
        {
          "output_type": "execute_result",
          "data": {
            "text/plain": [
              "1.0010363930181059"
            ]
          },
          "metadata": {},
          "execution_count": 40
        }
      ]
    },
    {
      "cell_type": "code",
      "metadata": {
        "colab": {
          "base_uri": "https://localhost:8080/",
          "height": 265
        },
        "id": "ALVvu6Ms8r8d",
        "outputId": "65fef3ac-4b84-4a4a-a82f-5fbb7312917c"
      },
      "source": [
        "# np.log10(eqGoodData_mag2[\"rescale1\"]).plot(kind = \"hist\")\n",
        "\n",
        "# plot the cumulative histogram\n",
        "fig, ax = plt.subplots(figsize=(8, 4))\n",
        "n, bins, patches = ax.hist(np.log10(eqGoodData_mag2[\"rescale1\"]), 50, density=True, histtype='step',\n",
        "                           cumulative=True, label='Empirical')"
      ],
      "execution_count": 41,
      "outputs": [
        {
          "output_type": "display_data",
          "data": {
            "image/png": "[encoded data removed]",
            "text/plain": [
              "<Figure size 576x288 with 1 Axes>"
            ]
          },
          "metadata": {
            "needs_background": "light"
          }
        }
      ]
    },
    {
      "cell_type": "code",
      "metadata": {
        "colab": {
          "base_uri": "https://localhost:8080/",
          "height": 545
        },
        "id": "pO8GXZe6_nnW",
        "outputId": "3e14f904-a12a-4264-eb3c-d914e95de3bb"
      },
      "source": [
        "N = []\n",
        "results = []\n",
        "\n",
        "# eqGoodData_mag = pd.DataFrame()\n",
        "for ii in [0.01, 0.001]:\n",
        "  fig, ax = plt.subplots(figsize=(8, 4))\n",
        "  for m in mags:\n",
        "    eqGoodData_copy = eqGoodData.copy()\n",
        "    # print(len(eqGoodData_copy))\n",
        "    # N.append((eqGoodData_copy.mag >= m).sum())\n",
        "    eqGoodData_mag = pd.DataFrame()\n",
        "    eqGoodData_mag = eqGoodData_copy[(eqGoodData_copy.mag >= m)]\n",
        "    # -- first\n",
        "    # -- calculate the mean of the time gap\n",
        "    R = 1 / eqGoodData_mag[\"dts1\"].mean()\n",
        "    # -- rescale the original gap\n",
        "    eqGoodData_mag[\"rescale\"] = eqGoodData_mag[\"dts1\"] * R\n",
        "    # -- keep time gaps greater than m = 0.01\n",
        "    eqGoodData_mag = eqGoodData_mag[eqGoodData_mag[\"rescale\"] >= ii]\n",
        "    # print(\"first loop m = {}: {}\".format(m, len(eqGoodData_mag)))\n",
        "    N.append(len(eqGoodData_mag))\n",
        "\n",
        "    # -- second\n",
        "    R = 1 / eqGoodData_mag[\"rescale\"].mean()\n",
        "    eqGoodData_mag[\"rescale1\"] = eqGoodData_mag[\"rescale\"] * R\n",
        "    eqGoodData_mag = eqGoodData_mag[eqGoodData_mag[\"rescale1\"] >= ii]\n",
        "\n",
        "    # print(\"second loop m = {}: {}\".format(m, len(eqGoodData_mag)))\n",
        "    N.append(len(eqGoodData_mag))\n",
        "    results.append(eqGoodData_mag[\"rescale1\"].to_numpy())\n",
        "    # N.append((eqGoodData_mag.mag >= m).sum())\n",
        "    # plot the cumulative histogram\n",
        "    \n",
        "    n, bins, patches = ax.hist(np.log10(eqGoodData_mag[\"rescale1\"]), 50, density=True, histtype='step',\n",
        "                              cumulative=True, label = \"{}, {}\".format(m, eqGoodData_mag[\"rescale1\"].mean()))\n",
        "    pl.legend(loc = \"upper left\")\n",
        "    pl.title(ii)\n",
        "    eqGoodData_mag = pd.DataFrame()"
      ],
      "execution_count": 60,
      "outputs": [
        {
          "output_type": "display_data",
          "data": {
            "image/png": "[encoded data removed]",
            "text/plain": [
              "<Figure size 576x288 with 1 Axes>"
            ]
          },
          "metadata": {
            "needs_background": "light"
          }
        },
        {
          "output_type": "display_data",
          "data": {
            "image/png": "[encoded data removed]",
            "text/plain": [
              "<Figure size 576x288 with 1 Axes>"
            ]
          },
          "metadata": {
            "needs_background": "light"
          }
        }
      ]
    },
    {
      "cell_type": "code",
      "metadata": {
        "colab": {
          "base_uri": "https://localhost:8080/"
        },
        "id": "aEypOZiR_cR3",
        "outputId": "292f095e-1c1f-400c-9876-d4b9b247ad71"
      },
      "source": [
        "N"
      ],
      "execution_count": 62,
      "outputs": [
        {
          "output_type": "execute_result",
          "data": {
            "text/plain": [
              "[17216,\n",
              " 17198,\n",
              " 5408,\n",
              " 5401,\n",
              " 1362,\n",
              " 1358,\n",
              " 392,\n",
              " 391,\n",
              " 109,\n",
              " 109,\n",
              " 17909,\n",
              " 17906,\n",
              " 5683,\n",
              " 5683,\n",
              " 1448,\n",
              " 1448,\n",
              " 423,\n",
              " 423,\n",
              " 115,\n",
              " 115]"
            ]
          },
          "metadata": {},
          "execution_count": 62
        }
      ]
    },
    {
      "cell_type": "code",
      "metadata": {
        "colab": {
          "base_uri": "https://localhost:8080/"
        },
        "id": "lDXCpS_S9zTs",
        "outputId": "df95cd8a-c3d2-49e8-8148-27d53315bf22"
      },
      "source": [
        "stats.ks_2samp(results[0], results[1])"
      ],
      "execution_count": 61,
      "outputs": [
        {
          "output_type": "execute_result",
          "data": {
            "text/plain": [
              "Ks_2sampResult(statistic=0.011965444068570724, pvalue=0.5984467455711711)"
            ]
          },
          "metadata": {},
          "execution_count": 61
        }
      ]
    },
    {
      "cell_type": "code",
      "metadata": {
        "colab": {
          "base_uri": "https://localhost:8080/"
        },
        "id": "W320cBI898aH",
        "outputId": "7a3fd823-3081-49a7-fd7a-2d500d2b2ac7"
      },
      "source": [
        "stats.ks_2samp(results[0], results[2])"
      ],
      "execution_count": 51,
      "outputs": [
        {
          "output_type": "execute_result",
          "data": {
            "text/plain": [
              "Ks_2sampResult(statistic=0.0201968890104528, pvalue=0.6835797052166797)"
            ]
          },
          "metadata": {},
          "execution_count": 51
        }
      ]
    },
    {
      "cell_type": "code",
      "metadata": {
        "colab": {
          "base_uri": "https://localhost:8080/"
        },
        "id": "SLtDDkLE9-O0",
        "outputId": "8f909478-57fb-4b2c-f82e-a69eb8d154a6"
      },
      "source": [
        "stats.ks_2samp(results[0], results[3])"
      ],
      "execution_count": 52,
      "outputs": [
        {
          "output_type": "execute_result",
          "data": {
            "text/plain": [
              "Ks_2sampResult(statistic=0.06582577109275489, pvalue=0.07280227760550426)"
            ]
          },
          "metadata": {},
          "execution_count": 52
        }
      ]
    },
    {
      "cell_type": "code",
      "metadata": {
        "colab": {
          "base_uri": "https://localhost:8080/"
        },
        "id": "EK1yUWAq9-CX",
        "outputId": "596e90fa-4f39-4dbd-cf45-ea50b61d9853"
      },
      "source": [
        "stats.ks_2samp(results[0], results[4])"
      ],
      "execution_count": 53,
      "outputs": [
        {
          "output_type": "execute_result",
          "data": {
            "text/plain": [
              "Ks_2sampResult(statistic=0.11047262803120911, pvalue=0.14213582878232112)"
            ]
          },
          "metadata": {},
          "execution_count": 53
        }
      ]
    },
    {
      "cell_type": "code",
      "metadata": {
        "colab": {
          "base_uri": "https://localhost:8080/"
        },
        "id": "sHo-QBe0-SFG",
        "outputId": "bd7a2b88-aeb4-4599-be1f-e0642c7fdfb0"
      },
      "source": [
        "stats.ks_2samp(results[1], results[2])"
      ],
      "execution_count": 54,
      "outputs": [
        {
          "output_type": "execute_result",
          "data": {
            "text/plain": [
              "Ks_2sampResult(statistic=0.011965444068570724, pvalue=0.5984467455711711)"
            ]
          },
          "metadata": {},
          "execution_count": 54
        }
      ]
    },
    {
      "cell_type": "code",
      "metadata": {
        "colab": {
          "base_uri": "https://localhost:8080/"
        },
        "id": "KUlacbz7-Tzc",
        "outputId": "9c73745b-f48f-482c-d119-f457f6522bf9"
      },
      "source": [
        "stats.ks_2samp(results[1], results[3])"
      ],
      "execution_count": 55,
      "outputs": [
        {
          "output_type": "execute_result",
          "data": {
            "text/plain": [
              "Ks_2sampResult(statistic=0.058441862854799555, pvalue=0.15887109976907143)"
            ]
          },
          "metadata": {},
          "execution_count": 55
        }
      ]
    },
    {
      "cell_type": "code",
      "metadata": {
        "colab": {
          "base_uri": "https://localhost:8080/"
        },
        "id": "3po7Jwu2-Tp9",
        "outputId": "68aee628-647b-4511-d878-4a86a5d3c067"
      },
      "source": [
        "stats.ks_2samp(results[1], results[4])"
      ],
      "execution_count": 56,
      "outputs": [
        {
          "output_type": "execute_result",
          "data": {
            "text/plain": [
              "Ks_2sampResult(statistic=0.10872604291763843, pvalue=0.1482883979287336)"
            ]
          },
          "metadata": {},
          "execution_count": 56
        }
      ]
    },
    {
      "cell_type": "code",
      "metadata": {
        "colab": {
          "base_uri": "https://localhost:8080/"
        },
        "id": "MI9kVikv-Tds",
        "outputId": "effc54d9-ae3d-42a8-d14a-a6324cfd6226"
      },
      "source": [
        "stats.ks_2samp(results[2], results[3])"
      ],
      "execution_count": 57,
      "outputs": [
        {
          "output_type": "execute_result",
          "data": {
            "text/plain": [
              "Ks_2sampResult(statistic=0.060475198595798696, pvalue=0.20670123199815182)"
            ]
          },
          "metadata": {},
          "execution_count": 57
        }
      ]
    },
    {
      "cell_type": "code",
      "metadata": {
        "colab": {
          "base_uri": "https://localhost:8080/"
        },
        "id": "QoaLt9oz-3qd",
        "outputId": "10ae3b4b-6b32-49f6-8b65-976528e3391b"
      },
      "source": [
        "stats.ks_2samp(results[2], results[4])"
      ],
      "execution_count": 58,
      "outputs": [
        {
          "output_type": "execute_result",
          "data": {
            "text/plain": [
              "Ks_2sampResult(statistic=0.11219278215400413, pvalue=0.14537814281024775)"
            ]
          },
          "metadata": {},
          "execution_count": 58
        }
      ]
    },
    {
      "cell_type": "code",
      "metadata": {
        "colab": {
          "base_uri": "https://localhost:8080/"
        },
        "id": "x6-lf-Tz-7hg",
        "outputId": "87d2a0b9-22d4-4b74-e617-94720e399f08"
      },
      "source": [
        "stats.ks_2samp(results[3], results[4])"
      ],
      "execution_count": 59,
      "outputs": [
        {
          "output_type": "execute_result",
          "data": {
            "text/plain": [
              "Ks_2sampResult(statistic=0.06797437762500293, pvalue=0.7952495835195914)"
            ]
          },
          "metadata": {},
          "execution_count": 59
        }
      ]
    },
    {
      "cell_type": "markdown",
      "metadata": {
        "id": "O0A6oyp9jSos"
      },
      "source": [
        "your table here"
      ]
    },
    {
      "cell_type": "markdown",
      "metadata": {
        "id": "6y4wb6lEZsGV"
      },
      "source": [
        "Did you find any statistical significant differences between the distributions? What does it mean? Is your result identical to Correll's 2018? Why or why not? **Discuss!**"
      ]
    },
    {
      "cell_type": "markdown",
      "metadata": {
        "id": "8bQwtZi4Z0pi"
      },
      "source": [
        "### \"extra credits\"\n",
        "\n",
        "**How could you _force_ a significant result?**\n",
        "Organize your result for different magnitude threshold in a numpy array (it should be a 5x5 array) for both cutoffs (0.01 and 0.001). Each of these arrays should contain the p-value for the pair of distributions i,j in cell \\[i\\]\\[j\\] and \\[j\\]\\[i\\]. Use ```imshow``` to visualize this 2D data. FIrst visualize the matrix itself as done below."
      ]
    },
    {
      "cell_type": "code",
      "metadata": {
        "ExecuteTime": {
          "end_time": "2019-09-09T02:02:18.672458Z",
          "start_time": "2019-09-09T02:02:18.553137Z"
        },
        "id": "mqQSdpVEhXs5",
        "colab": {
          "base_uri": "https://localhost:8080/",
          "height": 245
        },
        "outputId": "071c0364-91f2-4f8a-cf48-b048830e0eb0"
      },
      "source": [
        "# your code here\n",
        "        \n",
        "pl.imshow((ks_001));\n",
        "pl.axis('off')\n",
        "cb = pl.colorbar()\n",
        "cb.ax.set_ylabel(r'$p$-value')\n",
        "pl.title(\"KS test results\");\n",
        "#add a caption"
      ],
      "execution_count": null,
      "outputs": [
        {
          "output_type": "error",
          "ename": "NameError",
          "evalue": "ignored",
          "traceback": [
            "\u001b[0;31m---------------------------------------------------------------------------\u001b[0m",
            "\u001b[0;31mNameError\u001b[0m                                 Traceback (most recent call last)",
            "\u001b[0;32m<ipython-input-36-a2c29d33d7b2>\u001b[0m in \u001b[0;36m<module>\u001b[0;34m()\u001b[0m\n\u001b[1;32m      1\u001b[0m \u001b[0;31m# your code here\u001b[0m\u001b[0;34m\u001b[0m\u001b[0;34m\u001b[0m\u001b[0;34m\u001b[0m\u001b[0m\n\u001b[1;32m      2\u001b[0m \u001b[0;34m\u001b[0m\u001b[0m\n\u001b[0;32m----> 3\u001b[0;31m \u001b[0mpl\u001b[0m\u001b[0;34m.\u001b[0m\u001b[0mimshow\u001b[0m\u001b[0;34m(\u001b[0m\u001b[0;34m(\u001b[0m\u001b[0mks_001\u001b[0m\u001b[0;34m)\u001b[0m\u001b[0;34m)\u001b[0m\u001b[0;34m;\u001b[0m\u001b[0;34m\u001b[0m\u001b[0;34m\u001b[0m\u001b[0m\n\u001b[0m\u001b[1;32m      4\u001b[0m \u001b[0mpl\u001b[0m\u001b[0;34m.\u001b[0m\u001b[0maxis\u001b[0m\u001b[0;34m(\u001b[0m\u001b[0;34m'off'\u001b[0m\u001b[0;34m)\u001b[0m\u001b[0;34m\u001b[0m\u001b[0;34m\u001b[0m\u001b[0m\n\u001b[1;32m      5\u001b[0m \u001b[0mcb\u001b[0m \u001b[0;34m=\u001b[0m \u001b[0mpl\u001b[0m\u001b[0;34m.\u001b[0m\u001b[0mcolorbar\u001b[0m\u001b[0;34m(\u001b[0m\u001b[0;34m)\u001b[0m\u001b[0;34m\u001b[0m\u001b[0;34m\u001b[0m\u001b[0m\n",
            "\u001b[0;31mNameError\u001b[0m: name 'ks_001' is not defined"
          ]
        }
      ]
    },
    {
      "cell_type": "markdown",
      "metadata": {
        "id": "tSJmSMCmmA3w"
      },
      "source": [
        "\n",
        "Now visualize the result as a matrix where the cells are white if the results is not statistically significant and red otherwise. \n",
        "After doing it fot the set alpha threshold, lower your alpha threshold so that at least one pair of distribution has a statistically significant difference. **Warning!! this is an _unethical and horrifying practice_! Once you chose your significance threshold you are never allowed to change it! Why? Discuss**"
      ]
    },
    {
      "cell_type": "markdown",
      "metadata": {
        "id": "txEYubwCcIXP"
      },
      "source": [
        "Redoing it for threshold 0001"
      ]
    }
  ]
}