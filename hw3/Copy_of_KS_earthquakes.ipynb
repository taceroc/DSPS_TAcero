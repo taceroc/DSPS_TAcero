{
  "nbformat": 4,
  "nbformat_minor": 0,
  "metadata": {
    "kernelspec": {
      "display_name": "Python 3",
      "language": "python",
      "name": "python3"
    },
    "language_info": {
      "codemirror_mode": {
        "name": "ipython",
        "version": 3
      },
      "file_extension": ".py",
      "mimetype": "text/x-python",
      "name": "python",
      "nbconvert_exporter": "python",
      "pygments_lexer": "ipython3",
      "version": "3.7.3"
    },
    "latex_envs": {
      "LaTeX_envs_menu_present": true,
      "autoclose": false,
      "autocomplete": true,
      "bibliofile": "biblio.bib",
      "cite_by": "apalike",
      "current_citInitial": 1,
      "eqLabelWithNumbers": true,
      "eqNumInitial": 1,
      "hotkeys": {
        "equation": "Ctrl-E",
        "itemize": "Ctrl-I"
      },
      "labels_anchors": false,
      "latex_user_defs": false,
      "report_style_numbering": false,
      "user_envs_cfg": false
    },
    "nbTranslate": {
      "displayLangs": [
        "*"
      ],
      "hotkey": "alt-t",
      "langInMainMenu": true,
      "sourceLang": "en",
      "targetLang": "fr",
      "useGoogleTranslate": true
    },
    "toc": {
      "base_numbering": 1,
      "nav_menu": {},
      "number_sections": true,
      "sideBar": true,
      "skip_h1_title": false,
      "title_cell": "Table of Contents",
      "title_sidebar": "Contents",
      "toc_cell": false,
      "toc_position": {},
      "toc_section_display": true,
      "toc_window_display": false
    },
    "colab": {
      "name": "Copy of KS_earthquakes.ipynb",
      "provenance": [],
      "collapsed_sections": [],
      "include_colab_link": true
    }
  },
  "cells": [
    {
      "cell_type": "markdown",
      "metadata": {
        "id": "view-in-github",
        "colab_type": "text"
      },
      "source": [
        "<a href=\"https://colab.research.google.com/github/taceroc/DSPS_TAcero/blob/main/hw3/Copy_of_KS_earthquakes.ipynb\" target=\"_parent\"><img src=\"https://colab.research.google.com/assets/colab-badge.svg\" alt=\"Open In Colab\"/></a>"
      ]
    },
    {
      "cell_type": "markdown",
      "metadata": {
        "id": "Uk3iBT7phXry"
      },
      "source": [
        "Created by FedericaBBianco @fedhere for DSPS/MLNPS\n",
        "# Kolmogorov Smirnoff test, application to earthquake data"
      ]
    },
    {
      "cell_type": "code",
      "metadata": {
        "ExecuteTime": {
          "end_time": "2019-09-09T01:40:01.895798Z",
          "start_time": "2019-09-09T01:40:01.890474Z"
        },
        "id": "LS78mdVthXrz",
        "colab": {
          "base_uri": "https://localhost:8080/"
        },
        "outputId": "c2624ab3-4467-4089-83e4-ba78ccfd93c5"
      },
      "source": [
        "#all the imports I needed\n",
        "from __future__ import print_function, division\n",
        "import pandas as pd\n",
        "from pandas.core.common import SettingWithCopyWarning\n",
        "import warnings\n",
        "warnings.simplefilter(action=\"ignore\", category=SettingWithCopyWarning)\n",
        "import pylab as pl\n",
        "import scipy as sp\n",
        "from scipy import stats\n",
        "%pylab inline\n",
        "# pl.style.use(\"https://raw.githubusercontent.com/fedhere/DSPS/master/fbb.mplstyle\")"
      ],
      "execution_count": 1,
      "outputs": [
        {
          "output_type": "stream",
          "name": "stdout",
          "text": [
            "Populating the interactive namespace from numpy and matplotlib\n"
          ]
        }
      ]
    },
    {
      "cell_type": "markdown",
      "metadata": {
        "id": "SvIJHRyuhXr2"
      },
      "source": [
        "This homework asks you to reproduce the work in [Corral 2018](https://arxiv.org/pdf/0910.0055.pdf) which is well described, but not \"reproducible\". \n",
        "Corral 2018 uses a K-S test to show that at different magnitude scales the time gaps between earthquakes follows the same distribution. If true, this indicates that there is a consistent scaling law. \n",
        "\n",
        "The argument is a little convoluted, but it is a somewhat innovative use of the test. Corall compares the time gap between earthquakes  greater than a certain magnitude threshold with the time gaps between earthquakes above a different threshold, and finds no differences.\n",
        "\n",
        "Remind yourself exactly what the K-S test is about :\n",
        "\n",
        "    1 What is the test's Null Hypothsis that the K-S test tests?\n",
        "    \n",
        "    \n"
      ]
    },
    {
      "cell_type": "markdown",
      "metadata": {
        "id": "y8DJjYrthXr3"
      },
      "source": [
        "The data that you have came from the same distribution\n",
        "\n",
        "\n"
      ]
    },
    {
      "cell_type": "markdown",
      "metadata": {
        "id": "V8T9XH7nhXr3"
      },
      "source": [
        "    2 What is the \"statistic\" or \"pivotal quantity\" that the test uses?\n",
        "    \n"
      ]
    },
    {
      "cell_type": "markdown",
      "metadata": {
        "ExecuteTime": {
          "end_time": "2019-09-08T21:14:09.757045Z",
          "start_time": "2019-09-08T21:14:09.753882Z"
        },
        "id": "jSSktfhAhXr4"
      },
      "source": [
        "Maximum difference or distance between the cumulative distributions:\n",
        "\\begin{equation}\n",
        "    D = max|F_2(x_2)-F_1(x_1)|\n",
        "\\end{equation}\n",
        "\n",
        "where F$_2$ and F$_1$ are the cumulative distributions and x$_2$ and x$_1$ are the data or the two samples.\n"
      ]
    },
    {
      "cell_type": "markdown",
      "metadata": {
        "ExecuteTime": {
          "end_time": "2019-09-08T21:14:43.709157Z",
          "start_time": "2019-09-08T21:14:43.704734Z"
        },
        "id": "IYoQgG1BhXr4"
      },
      "source": [
        "    3 What does the probability distribution of this statistic depend on? \n",
        "    \n",
        "   \n"
      ]
    },
    {
      "cell_type": "markdown",
      "metadata": {
        "id": "ak74uTIrhXr5"
      },
      "source": [
        "On the number of data points and the distance between the cumulative distributions.\n",
        "\n",
        "\n",
        "    "
      ]
    },
    {
      "cell_type": "markdown",
      "metadata": {
        "id": "M-h5uhgfhXr6"
      },
      "source": [
        "# Data Retrival"
      ]
    },
    {
      "cell_type": "markdown",
      "metadata": {
        "id": "7TW_8XaNhXr6"
      },
      "source": [
        "The first reason why the paper is not techincally _reproducible_ is that, while a link is provided to retrieve the data, the link is dead. This happens often. Services like [Zenodo](https://zenodo.org/) or journals that serve data provide some insurance against this but unfortunately the standards are not strict. "
      ]
    },
    {
      "cell_type": "markdown",
      "metadata": {
        "id": "Bt6gDmQJhXr7"
      },
      "source": [
        "You can retrieve the data yourself from [this website](http://service.scedc.caltech.edu/eq-catalogs/poly.php). Think about what setting up data like this means for reproducibility. Did the author comply to reproducibility standards?__ Make sure the number of entries in your final dataset is similar to that of the authors. I got 70798, instead of 77000. 10% off, which I deem close enough. You should get something similar. Use the map in the paper to determine the region of interest. Call the file earthquakes_\\<firstinitialLastname\\>.csv and upload it to your github repository. Read it your file, instead of mine as instructed below. If you are getting weird results compare to what I got, go back and check how the files differ."
      ]
    },
    {
      "cell_type": "markdown",
      "metadata": {
        "id": "eCiLW1AuhXr7"
      },
      "source": [
        "# Data Ingestion"
      ]
    },
    {
      "cell_type": "markdown",
      "metadata": {
        "id": "FH0X7d9_hXr8"
      },
      "source": [
        "## read in data"
      ]
    },
    {
      "cell_type": "markdown",
      "metadata": {
        "id": "XbMPVaK-hXr9"
      },
      "source": [
        "I saved the data in a file called \"earthquakes.csv\", where ```csv``` stands for \"comma separated file\". [This file format](https://www.howtogeek.com/348960/what-is-a-csv-file-and-how-do-i-open-it/) requires different entries in a row to be separated by commas alone (no space) and for commas to be used in quote if they are not intended to separate entries. \n",
        "\n",
        "```\n",
        "a,b,c\n",
        "d,e,f\n",
        "g,\"h,2\",i\n",
        "```\n",
        "The data is uploaded on the  github homework repository but to read it in you will need to get the link to the *raw file*: the link to the file earthquakes.csv which is in my GitHub repository https://github.com/fedhere/MLPNS2021/tree/main/HW2_NHRT takes you to an ```html``` page that includes the content of the file, but you want to isolate the content of the file itself: the _raw file_. Pay attention to this: from the next time I will not give you the exact link, I will just point you to the file and you will have to find the link to the raw data from there. (remember to use the \"raw\" link)\n",
        "\n",
        "The data can be read effectively using the _pandas_ python package as ```pandas.read_csv(<file name or URL>)```. \n",
        "\n",
        "However, I did not format the data correctly, according to the csv extension requirement. This happens all the time. Look at the file and use the pandas documentation to figure out how to read it with ```pd.read_csv()```"
      ]
    },
    {
      "cell_type": "code",
      "metadata": {
        "ExecuteTime": {
          "end_time": "2019-09-09T01:40:02.638703Z",
          "start_time": "2019-09-09T01:40:02.454643Z"
        },
        "id": "hOEZafxahXr9"
      },
      "source": [
        "import pandas as pd\n",
        "import numpy as np\n",
        "import matplotlib.pyplot as plt"
      ],
      "execution_count": 2,
      "outputs": []
    },
    {
      "cell_type": "code",
      "metadata": {
        "id": "3tQR-IHdtfoy"
      },
      "source": [
        "eqdata = pd.read_csv('https://github.com/fedhere/DSPS_FBianco/blob/master/HW3/earthquakes.csv?raw=true', sep = \" \")\n",
        "\n",
        "eqdata = pd.read_csv('https://raw.githubusercontent.com/taceroc/DSPS_TAcero/main/hw3/test1.csv', sep = \" \")"
      ],
      "execution_count": 3,
      "outputs": []
    },
    {
      "cell_type": "markdown",
      "metadata": {
        "id": "r0IW9m4vhXr_"
      },
      "source": [
        "running the following lines of code should give you the same result as mine if you used the file I provided (467 students), and qualitatively  similar if you are using your own data (667 students)"
      ]
    },
    {
      "cell_type": "code",
      "metadata": {
        "ExecuteTime": {
          "end_time": "2019-09-09T01:40:02.643428Z",
          "start_time": "2019-09-09T01:40:02.640847Z"
        },
        "id": "uphAqv5ZhXsA",
        "colab": {
          "base_uri": "https://localhost:8080/"
        },
        "outputId": "a8454e08-c59b-430c-927a-5be80e75f1c0"
      },
      "source": [
        "eqdata.shape"
      ],
      "execution_count": 4,
      "outputs": [
        {
          "output_type": "execute_result",
          "data": {
            "text/plain": [
              "(77949, 34)"
            ]
          },
          "metadata": {},
          "execution_count": 4
        }
      ]
    },
    {
      "cell_type": "code",
      "metadata": {
        "ExecuteTime": {
          "end_time": "2019-09-09T01:40:02.661139Z",
          "start_time": "2019-09-09T01:40:02.644720Z"
        },
        "id": "9CHqm426hXsC",
        "colab": {
          "base_uri": "https://localhost:8080/",
          "height": 244
        },
        "outputId": "01b651bc-b5ac-48a2-ff41-782d5a587e95"
      },
      "source": [
        "eqdata.head()"
      ],
      "execution_count": 5,
      "outputs": [
        {
          "output_type": "execute_result",
          "data": {
            "text/html": [
              "<div>\n",
              "<style scoped>\n",
              "    .dataframe tbody tr th:only-of-type {\n",
              "        vertical-align: middle;\n",
              "    }\n",
              "\n",
              "    .dataframe tbody tr th {\n",
              "        vertical-align: top;\n",
              "    }\n",
              "\n",
              "    .dataframe thead th {\n",
              "        text-align: right;\n",
              "    }\n",
              "</style>\n",
              "<table border=\"1\" class=\"dataframe\">\n",
              "  <thead>\n",
              "    <tr style=\"text-align: right;\">\n",
              "      <th></th>\n",
              "      <th>#YYY/MM/DD</th>\n",
              "      <th>HH:mm:SS.ss</th>\n",
              "      <th>ET</th>\n",
              "      <th>GT</th>\n",
              "      <th>MAG</th>\n",
              "      <th>Unnamed: 5</th>\n",
              "      <th>M</th>\n",
              "      <th>Unnamed: 7</th>\n",
              "      <th>Unnamed: 8</th>\n",
              "      <th>Unnamed: 9</th>\n",
              "      <th>LAT</th>\n",
              "      <th>Unnamed: 11</th>\n",
              "      <th>Unnamed: 12</th>\n",
              "      <th>Unnamed: 13</th>\n",
              "      <th>Unnamed: 14</th>\n",
              "      <th>Unnamed: 15</th>\n",
              "      <th>Unnamed: 16</th>\n",
              "      <th>LON</th>\n",
              "      <th>Unnamed: 18</th>\n",
              "      <th>Unnamed: 19</th>\n",
              "      <th>Unnamed: 20</th>\n",
              "      <th>Unnamed: 21</th>\n",
              "      <th>Unnamed: 22</th>\n",
              "      <th>DEPTH</th>\n",
              "      <th>Q</th>\n",
              "      <th>Unnamed: 25</th>\n",
              "      <th>EVID</th>\n",
              "      <th>Unnamed: 27</th>\n",
              "      <th>Unnamed: 28</th>\n",
              "      <th>Unnamed: 29</th>\n",
              "      <th>Unnamed: 30</th>\n",
              "      <th>Unnamed: 31</th>\n",
              "      <th>NPH</th>\n",
              "      <th>NGRM</th>\n",
              "    </tr>\n",
              "  </thead>\n",
              "  <tbody>\n",
              "    <tr>\n",
              "      <th>0</th>\n",
              "      <td>1984/01/01</td>\n",
              "      <td>01:30:57.52</td>\n",
              "      <td>eq</td>\n",
              "      <td>NaN</td>\n",
              "      <td>l</td>\n",
              "      <td>2.02</td>\n",
              "      <td>c</td>\n",
              "      <td>NaN</td>\n",
              "      <td>NaN</td>\n",
              "      <td>33.246</td>\n",
              "      <td>-116.433</td>\n",
              "      <td>NaN</td>\n",
              "      <td>NaN</td>\n",
              "      <td>1.6</td>\n",
              "      <td>C</td>\n",
              "      <td>NaN</td>\n",
              "      <td>NaN</td>\n",
              "      <td>NaN</td>\n",
              "      <td>28255.0</td>\n",
              "      <td>NaN</td>\n",
              "      <td>NaN</td>\n",
              "      <td>13.0</td>\n",
              "      <td>NaN</td>\n",
              "      <td>NaN</td>\n",
              "      <td>17.0</td>\n",
              "      <td>NaN</td>\n",
              "      <td>NaN</td>\n",
              "      <td>NaN</td>\n",
              "      <td>NaN</td>\n",
              "      <td>NaN</td>\n",
              "      <td>NaN</td>\n",
              "      <td>NaN</td>\n",
              "      <td>NaN</td>\n",
              "      <td>NaN</td>\n",
              "    </tr>\n",
              "    <tr>\n",
              "      <th>1</th>\n",
              "      <td>1984/01/01</td>\n",
              "      <td>05:31:34.16</td>\n",
              "      <td>eq</td>\n",
              "      <td>NaN</td>\n",
              "      <td>l</td>\n",
              "      <td>2.12</td>\n",
              "      <td>c</td>\n",
              "      <td>NaN</td>\n",
              "      <td>NaN</td>\n",
              "      <td>32.945</td>\n",
              "      <td>-116.295</td>\n",
              "      <td>NaN</td>\n",
              "      <td>NaN</td>\n",
              "      <td>5.4</td>\n",
              "      <td>C</td>\n",
              "      <td>NaN</td>\n",
              "      <td>NaN</td>\n",
              "      <td>NaN</td>\n",
              "      <td>28259.0</td>\n",
              "      <td>NaN</td>\n",
              "      <td>NaN</td>\n",
              "      <td>18.0</td>\n",
              "      <td>NaN</td>\n",
              "      <td>NaN</td>\n",
              "      <td>42.0</td>\n",
              "      <td>NaN</td>\n",
              "      <td>NaN</td>\n",
              "      <td>NaN</td>\n",
              "      <td>NaN</td>\n",
              "      <td>NaN</td>\n",
              "      <td>NaN</td>\n",
              "      <td>NaN</td>\n",
              "      <td>NaN</td>\n",
              "      <td>NaN</td>\n",
              "    </tr>\n",
              "    <tr>\n",
              "      <th>2</th>\n",
              "      <td>1984/01/01</td>\n",
              "      <td>06:59:05.14</td>\n",
              "      <td>eq</td>\n",
              "      <td>NaN</td>\n",
              "      <td>l</td>\n",
              "      <td>2.43</td>\n",
              "      <td>c</td>\n",
              "      <td>NaN</td>\n",
              "      <td>NaN</td>\n",
              "      <td>33.343</td>\n",
              "      <td>-117.628</td>\n",
              "      <td>NaN</td>\n",
              "      <td>NaN</td>\n",
              "      <td>5.6</td>\n",
              "      <td>C</td>\n",
              "      <td>NaN</td>\n",
              "      <td>NaN</td>\n",
              "      <td>NaN</td>\n",
              "      <td>28260.0</td>\n",
              "      <td>NaN</td>\n",
              "      <td>NaN</td>\n",
              "      <td>13.0</td>\n",
              "      <td>NaN</td>\n",
              "      <td>NaN</td>\n",
              "      <td>30.0</td>\n",
              "      <td>NaN</td>\n",
              "      <td>NaN</td>\n",
              "      <td>NaN</td>\n",
              "      <td>NaN</td>\n",
              "      <td>NaN</td>\n",
              "      <td>NaN</td>\n",
              "      <td>NaN</td>\n",
              "      <td>NaN</td>\n",
              "      <td>NaN</td>\n",
              "    </tr>\n",
              "    <tr>\n",
              "      <th>3</th>\n",
              "      <td>1984/01/01</td>\n",
              "      <td>11:10:25.29</td>\n",
              "      <td>eq</td>\n",
              "      <td>NaN</td>\n",
              "      <td>l</td>\n",
              "      <td>2.07</td>\n",
              "      <td>c</td>\n",
              "      <td>NaN</td>\n",
              "      <td>NaN</td>\n",
              "      <td>33.668</td>\n",
              "      <td>-116.780</td>\n",
              "      <td>NaN</td>\n",
              "      <td>13.8</td>\n",
              "      <td>C</td>\n",
              "      <td>NaN</td>\n",
              "      <td>NaN</td>\n",
              "      <td>NaN</td>\n",
              "      <td>28270.0</td>\n",
              "      <td>NaN</td>\n",
              "      <td>NaN</td>\n",
              "      <td>19.0</td>\n",
              "      <td>NaN</td>\n",
              "      <td>NaN</td>\n",
              "      <td>40.0</td>\n",
              "      <td>NaN</td>\n",
              "      <td>NaN</td>\n",
              "      <td>NaN</td>\n",
              "      <td>NaN</td>\n",
              "      <td>NaN</td>\n",
              "      <td>NaN</td>\n",
              "      <td>NaN</td>\n",
              "      <td>NaN</td>\n",
              "      <td>NaN</td>\n",
              "      <td>NaN</td>\n",
              "    </tr>\n",
              "    <tr>\n",
              "      <th>4</th>\n",
              "      <td>1984/01/01</td>\n",
              "      <td>13:50:47.62</td>\n",
              "      <td>eq</td>\n",
              "      <td>NaN</td>\n",
              "      <td>l</td>\n",
              "      <td>2.25</td>\n",
              "      <td>c</td>\n",
              "      <td>NaN</td>\n",
              "      <td>NaN</td>\n",
              "      <td>35.944</td>\n",
              "      <td>-118.322</td>\n",
              "      <td>NaN</td>\n",
              "      <td>-1.4</td>\n",
              "      <td>C</td>\n",
              "      <td>NaN</td>\n",
              "      <td>NaN</td>\n",
              "      <td>NaN</td>\n",
              "      <td>28546.0</td>\n",
              "      <td>NaN</td>\n",
              "      <td>NaN</td>\n",
              "      <td>29.0</td>\n",
              "      <td>NaN</td>\n",
              "      <td>NaN</td>\n",
              "      <td>56.0</td>\n",
              "      <td>NaN</td>\n",
              "      <td>NaN</td>\n",
              "      <td>NaN</td>\n",
              "      <td>NaN</td>\n",
              "      <td>NaN</td>\n",
              "      <td>NaN</td>\n",
              "      <td>NaN</td>\n",
              "      <td>NaN</td>\n",
              "      <td>NaN</td>\n",
              "      <td>NaN</td>\n",
              "    </tr>\n",
              "  </tbody>\n",
              "</table>\n",
              "</div>"
            ],
            "text/plain": [
              "   #YYY/MM/DD  HH:mm:SS.ss  ET  GT  ... Unnamed: 30  Unnamed: 31 NPH  NGRM\n",
              "0  1984/01/01  01:30:57.52  eq NaN  ...         NaN          NaN NaN   NaN\n",
              "1  1984/01/01  05:31:34.16  eq NaN  ...         NaN          NaN NaN   NaN\n",
              "2  1984/01/01  06:59:05.14  eq NaN  ...         NaN          NaN NaN   NaN\n",
              "3  1984/01/01  11:10:25.29  eq NaN  ...         NaN          NaN NaN   NaN\n",
              "4  1984/01/01  13:50:47.62  eq NaN  ...         NaN          NaN NaN   NaN\n",
              "\n",
              "[5 rows x 34 columns]"
            ]
          },
          "metadata": {},
          "execution_count": 5
        }
      ]
    },
    {
      "cell_type": "code",
      "metadata": {
        "ExecuteTime": {
          "end_time": "2019-09-09T01:40:02.759957Z",
          "start_time": "2019-09-09T01:40:02.662327Z"
        },
        "id": "405C-Y8_hXsD",
        "colab": {
          "base_uri": "https://localhost:8080/",
          "height": 338
        },
        "outputId": "6814d396-c75d-4dc5-a6e9-984388ca0c49"
      },
      "source": [
        "eqdata.describe()"
      ],
      "execution_count": 6,
      "outputs": [
        {
          "output_type": "execute_result",
          "data": {
            "text/html": [
              "<div>\n",
              "<style scoped>\n",
              "    .dataframe tbody tr th:only-of-type {\n",
              "        vertical-align: middle;\n",
              "    }\n",
              "\n",
              "    .dataframe tbody tr th {\n",
              "        vertical-align: top;\n",
              "    }\n",
              "\n",
              "    .dataframe thead th {\n",
              "        text-align: right;\n",
              "    }\n",
              "</style>\n",
              "<table border=\"1\" class=\"dataframe\">\n",
              "  <thead>\n",
              "    <tr style=\"text-align: right;\">\n",
              "      <th></th>\n",
              "      <th>GT</th>\n",
              "      <th>Unnamed: 5</th>\n",
              "      <th>Unnamed: 7</th>\n",
              "      <th>Unnamed: 8</th>\n",
              "      <th>Unnamed: 9</th>\n",
              "      <th>LAT</th>\n",
              "      <th>Unnamed: 11</th>\n",
              "      <th>Unnamed: 12</th>\n",
              "      <th>Unnamed: 15</th>\n",
              "      <th>Unnamed: 16</th>\n",
              "      <th>LON</th>\n",
              "      <th>Unnamed: 18</th>\n",
              "      <th>Unnamed: 19</th>\n",
              "      <th>Unnamed: 20</th>\n",
              "      <th>Unnamed: 21</th>\n",
              "      <th>Unnamed: 22</th>\n",
              "      <th>DEPTH</th>\n",
              "      <th>Q</th>\n",
              "      <th>Unnamed: 25</th>\n",
              "      <th>EVID</th>\n",
              "      <th>Unnamed: 27</th>\n",
              "      <th>Unnamed: 28</th>\n",
              "      <th>Unnamed: 29</th>\n",
              "      <th>Unnamed: 30</th>\n",
              "      <th>Unnamed: 31</th>\n",
              "      <th>NPH</th>\n",
              "      <th>NGRM</th>\n",
              "    </tr>\n",
              "  </thead>\n",
              "  <tbody>\n",
              "    <tr>\n",
              "      <th>count</th>\n",
              "      <td>0.0</td>\n",
              "      <td>77949.000000</td>\n",
              "      <td>0.0</td>\n",
              "      <td>0.0</td>\n",
              "      <td>77949.000000</td>\n",
              "      <td>77949.000000</td>\n",
              "      <td>0.0</td>\n",
              "      <td>16800.000000</td>\n",
              "      <td>1.407400e+04</td>\n",
              "      <td>4.648000e+04</td>\n",
              "      <td>14381.000000</td>\n",
              "      <td>17417.000000</td>\n",
              "      <td>44498.000000</td>\n",
              "      <td>26555.000000</td>\n",
              "      <td>35169.000000</td>\n",
              "      <td>18372.000000</td>\n",
              "      <td>12836.000000</td>\n",
              "      <td>3395.000000</td>\n",
              "      <td>469.000000</td>\n",
              "      <td>2.000000</td>\n",
              "      <td>0.0</td>\n",
              "      <td>0.0</td>\n",
              "      <td>0.0</td>\n",
              "      <td>0.0</td>\n",
              "      <td>0.0</td>\n",
              "      <td>0.0</td>\n",
              "      <td>0.0</td>\n",
              "    </tr>\n",
              "    <tr>\n",
              "      <th>mean</th>\n",
              "      <td>NaN</td>\n",
              "      <td>2.423608</td>\n",
              "      <td>NaN</td>\n",
              "      <td>NaN</td>\n",
              "      <td>34.043190</td>\n",
              "      <td>-116.879303</td>\n",
              "      <td>NaN</td>\n",
              "      <td>7.339887</td>\n",
              "      <td>5.450181e+06</td>\n",
              "      <td>4.466325e+06</td>\n",
              "      <td>514799.719074</td>\n",
              "      <td>10208.627777</td>\n",
              "      <td>48.958335</td>\n",
              "      <td>160.713048</td>\n",
              "      <td>198.543007</td>\n",
              "      <td>78.400065</td>\n",
              "      <td>55.153475</td>\n",
              "      <td>43.406480</td>\n",
              "      <td>14.746269</td>\n",
              "      <td>7.000000</td>\n",
              "      <td>NaN</td>\n",
              "      <td>NaN</td>\n",
              "      <td>NaN</td>\n",
              "      <td>NaN</td>\n",
              "      <td>NaN</td>\n",
              "      <td>NaN</td>\n",
              "      <td>NaN</td>\n",
              "    </tr>\n",
              "    <tr>\n",
              "      <th>std</th>\n",
              "      <td>NaN</td>\n",
              "      <td>0.411665</td>\n",
              "      <td>NaN</td>\n",
              "      <td>NaN</td>\n",
              "      <td>1.142905</td>\n",
              "      <td>1.052391</td>\n",
              "      <td>NaN</td>\n",
              "      <td>7.291708</td>\n",
              "      <td>3.797720e+06</td>\n",
              "      <td>3.134346e+06</td>\n",
              "      <td>286708.978620</td>\n",
              "      <td>21452.849348</td>\n",
              "      <td>151.047802</td>\n",
              "      <td>288.594671</td>\n",
              "      <td>154.291693</td>\n",
              "      <td>55.951437</td>\n",
              "      <td>30.451419</td>\n",
              "      <td>24.256201</td>\n",
              "      <td>17.013243</td>\n",
              "      <td>2.828427</td>\n",
              "      <td>NaN</td>\n",
              "      <td>NaN</td>\n",
              "      <td>NaN</td>\n",
              "      <td>NaN</td>\n",
              "      <td>NaN</td>\n",
              "      <td>NaN</td>\n",
              "      <td>NaN</td>\n",
              "    </tr>\n",
              "    <tr>\n",
              "      <th>min</th>\n",
              "      <td>NaN</td>\n",
              "      <td>2.000000</td>\n",
              "      <td>NaN</td>\n",
              "      <td>NaN</td>\n",
              "      <td>30.094830</td>\n",
              "      <td>-121.760000</td>\n",
              "      <td>NaN</td>\n",
              "      <td>-2.100000</td>\n",
              "      <td>1.000432e+06</td>\n",
              "      <td>1.070000e+02</td>\n",
              "      <td>10.000000</td>\n",
              "      <td>0.000000</td>\n",
              "      <td>0.000000</td>\n",
              "      <td>0.000000</td>\n",
              "      <td>0.000000</td>\n",
              "      <td>0.000000</td>\n",
              "      <td>0.000000</td>\n",
              "      <td>0.000000</td>\n",
              "      <td>0.000000</td>\n",
              "      <td>5.000000</td>\n",
              "      <td>NaN</td>\n",
              "      <td>NaN</td>\n",
              "      <td>NaN</td>\n",
              "      <td>NaN</td>\n",
              "      <td>NaN</td>\n",
              "      <td>NaN</td>\n",
              "      <td>NaN</td>\n",
              "    </tr>\n",
              "    <tr>\n",
              "      <th>25%</th>\n",
              "      <td>NaN</td>\n",
              "      <td>2.130000</td>\n",
              "      <td>NaN</td>\n",
              "      <td>NaN</td>\n",
              "      <td>33.189000</td>\n",
              "      <td>-117.656000</td>\n",
              "      <td>NaN</td>\n",
              "      <td>-0.600000</td>\n",
              "      <td>3.042985e+06</td>\n",
              "      <td>3.025842e+06</td>\n",
              "      <td>135209.000000</td>\n",
              "      <td>24.000000</td>\n",
              "      <td>18.000000</td>\n",
              "      <td>15.000000</td>\n",
              "      <td>108.000000</td>\n",
              "      <td>48.000000</td>\n",
              "      <td>33.000000</td>\n",
              "      <td>24.000000</td>\n",
              "      <td>0.000000</td>\n",
              "      <td>6.000000</td>\n",
              "      <td>NaN</td>\n",
              "      <td>NaN</td>\n",
              "      <td>NaN</td>\n",
              "      <td>NaN</td>\n",
              "      <td>NaN</td>\n",
              "      <td>NaN</td>\n",
              "      <td>NaN</td>\n",
              "    </tr>\n",
              "    <tr>\n",
              "      <th>50%</th>\n",
              "      <td>NaN</td>\n",
              "      <td>2.310000</td>\n",
              "      <td>NaN</td>\n",
              "      <td>NaN</td>\n",
              "      <td>34.121000</td>\n",
              "      <td>-116.587000</td>\n",
              "      <td>NaN</td>\n",
              "      <td>10.600000</td>\n",
              "      <td>3.158806e+06</td>\n",
              "      <td>3.109072e+06</td>\n",
              "      <td>702623.000000</td>\n",
              "      <td>41.000000</td>\n",
              "      <td>28.000000</td>\n",
              "      <td>32.000000</td>\n",
              "      <td>163.000000</td>\n",
              "      <td>70.000000</td>\n",
              "      <td>50.000000</td>\n",
              "      <td>38.000000</td>\n",
              "      <td>13.000000</td>\n",
              "      <td>7.000000</td>\n",
              "      <td>NaN</td>\n",
              "      <td>NaN</td>\n",
              "      <td>NaN</td>\n",
              "      <td>NaN</td>\n",
              "      <td>NaN</td>\n",
              "      <td>NaN</td>\n",
              "      <td>NaN</td>\n",
              "    </tr>\n",
              "    <tr>\n",
              "      <th>75%</th>\n",
              "      <td>NaN</td>\n",
              "      <td>2.600000</td>\n",
              "      <td>NaN</td>\n",
              "      <td>NaN</td>\n",
              "      <td>34.617000</td>\n",
              "      <td>-116.273000</td>\n",
              "      <td>NaN</td>\n",
              "      <td>13.300000</td>\n",
              "      <td>9.110962e+06</td>\n",
              "      <td>9.026059e+06</td>\n",
              "      <td>725410.000000</td>\n",
              "      <td>89.000000</td>\n",
              "      <td>42.000000</td>\n",
              "      <td>208.000000</td>\n",
              "      <td>289.000000</td>\n",
              "      <td>92.000000</td>\n",
              "      <td>71.000000</td>\n",
              "      <td>61.000000</td>\n",
              "      <td>24.000000</td>\n",
              "      <td>8.000000</td>\n",
              "      <td>NaN</td>\n",
              "      <td>NaN</td>\n",
              "      <td>NaN</td>\n",
              "      <td>NaN</td>\n",
              "      <td>NaN</td>\n",
              "      <td>NaN</td>\n",
              "      <td>NaN</td>\n",
              "    </tr>\n",
              "    <tr>\n",
              "      <th>max</th>\n",
              "      <td>NaN</td>\n",
              "      <td>7.300000</td>\n",
              "      <td>NaN</td>\n",
              "      <td>NaN</td>\n",
              "      <td>37.985500</td>\n",
              "      <td>-113.719000</td>\n",
              "      <td>NaN</td>\n",
              "      <td>29.300000</td>\n",
              "      <td>3.736673e+07</td>\n",
              "      <td>9.875061e+06</td>\n",
              "      <td>754723.000000</td>\n",
              "      <td>71774.000000</td>\n",
              "      <td>3582.000000</td>\n",
              "      <td>3815.000000</td>\n",
              "      <td>1574.000000</td>\n",
              "      <td>996.000000</td>\n",
              "      <td>227.000000</td>\n",
              "      <td>145.000000</td>\n",
              "      <td>88.000000</td>\n",
              "      <td>9.000000</td>\n",
              "      <td>NaN</td>\n",
              "      <td>NaN</td>\n",
              "      <td>NaN</td>\n",
              "      <td>NaN</td>\n",
              "      <td>NaN</td>\n",
              "      <td>NaN</td>\n",
              "      <td>NaN</td>\n",
              "    </tr>\n",
              "  </tbody>\n",
              "</table>\n",
              "</div>"
            ],
            "text/plain": [
              "        GT    Unnamed: 5  Unnamed: 7  ...  Unnamed: 31  NPH  NGRM\n",
              "count  0.0  77949.000000         0.0  ...          0.0  0.0   0.0\n",
              "mean   NaN      2.423608         NaN  ...          NaN  NaN   NaN\n",
              "std    NaN      0.411665         NaN  ...          NaN  NaN   NaN\n",
              "min    NaN      2.000000         NaN  ...          NaN  NaN   NaN\n",
              "25%    NaN      2.130000         NaN  ...          NaN  NaN   NaN\n",
              "50%    NaN      2.310000         NaN  ...          NaN  NaN   NaN\n",
              "75%    NaN      2.600000         NaN  ...          NaN  NaN   NaN\n",
              "max    NaN      7.300000         NaN  ...          NaN  NaN   NaN\n",
              "\n",
              "[8 rows x 27 columns]"
            ]
          },
          "metadata": {},
          "execution_count": 6
        }
      ]
    },
    {
      "cell_type": "markdown",
      "metadata": {
        "ExecuteTime": {
          "end_time": "2019-09-08T21:24:56.161634Z",
          "start_time": "2019-09-08T21:24:56.157793Z"
        },
        "id": "08Ty-hUOhXsG"
      },
      "source": [
        "now that you have a dataframe object you can use methods of the object to modify it. Use the method ```eqdata.rename``` to change the names of the 3 columns that are the only three relevant to us: _date, time, magnitude_"
      ]
    },
    {
      "cell_type": "markdown",
      "metadata": {
        "id": "dYP53BzDhXsG"
      },
      "source": [
        "## prepare date-time column"
      ]
    },
    {
      "cell_type": "code",
      "metadata": {
        "ExecuteTime": {
          "end_time": "2019-09-09T01:40:02.791776Z",
          "start_time": "2019-09-09T01:40:02.761489Z"
        },
        "id": "WFIPxVG_hXsH"
      },
      "source": [
        "eqdata = eqdata[['#YYY/MM/DD', 'HH:mm:SS.ss', 'Unnamed: 5']].rename({'#YYY/MM/DD':'date', 'HH:mm:SS.ss':'time',\n",
        "                                                            'Unnamed: 5':'mag'}, axis=1)"
      ],
      "execution_count": 7,
      "outputs": []
    },
    {
      "cell_type": "code",
      "metadata": {
        "ExecuteTime": {
          "end_time": "2019-09-09T01:40:02.800191Z",
          "start_time": "2019-09-09T01:40:02.793424Z"
        },
        "id": "vZ-NJ-C2hXsJ",
        "colab": {
          "base_uri": "https://localhost:8080/",
          "height": 206
        },
        "outputId": "88254fd9-727f-47cd-c0ec-3c56add4f471"
      },
      "source": [
        "eqdata.head()"
      ],
      "execution_count": 8,
      "outputs": [
        {
          "output_type": "execute_result",
          "data": {
            "text/html": [
              "<div>\n",
              "<style scoped>\n",
              "    .dataframe tbody tr th:only-of-type {\n",
              "        vertical-align: middle;\n",
              "    }\n",
              "\n",
              "    .dataframe tbody tr th {\n",
              "        vertical-align: top;\n",
              "    }\n",
              "\n",
              "    .dataframe thead th {\n",
              "        text-align: right;\n",
              "    }\n",
              "</style>\n",
              "<table border=\"1\" class=\"dataframe\">\n",
              "  <thead>\n",
              "    <tr style=\"text-align: right;\">\n",
              "      <th></th>\n",
              "      <th>date</th>\n",
              "      <th>time</th>\n",
              "      <th>mag</th>\n",
              "    </tr>\n",
              "  </thead>\n",
              "  <tbody>\n",
              "    <tr>\n",
              "      <th>0</th>\n",
              "      <td>1984/01/01</td>\n",
              "      <td>01:30:57.52</td>\n",
              "      <td>2.02</td>\n",
              "    </tr>\n",
              "    <tr>\n",
              "      <th>1</th>\n",
              "      <td>1984/01/01</td>\n",
              "      <td>05:31:34.16</td>\n",
              "      <td>2.12</td>\n",
              "    </tr>\n",
              "    <tr>\n",
              "      <th>2</th>\n",
              "      <td>1984/01/01</td>\n",
              "      <td>06:59:05.14</td>\n",
              "      <td>2.43</td>\n",
              "    </tr>\n",
              "    <tr>\n",
              "      <th>3</th>\n",
              "      <td>1984/01/01</td>\n",
              "      <td>11:10:25.29</td>\n",
              "      <td>2.07</td>\n",
              "    </tr>\n",
              "    <tr>\n",
              "      <th>4</th>\n",
              "      <td>1984/01/01</td>\n",
              "      <td>13:50:47.62</td>\n",
              "      <td>2.25</td>\n",
              "    </tr>\n",
              "  </tbody>\n",
              "</table>\n",
              "</div>"
            ],
            "text/plain": [
              "         date         time   mag\n",
              "0  1984/01/01  01:30:57.52  2.02\n",
              "1  1984/01/01  05:31:34.16  2.12\n",
              "2  1984/01/01  06:59:05.14  2.43\n",
              "3  1984/01/01  11:10:25.29  2.07\n",
              "4  1984/01/01  13:50:47.62  2.25"
            ]
          },
          "metadata": {},
          "execution_count": 8
        }
      ]
    },
    {
      "cell_type": "code",
      "metadata": {
        "ExecuteTime": {
          "end_time": "2019-09-09T01:40:02.813328Z",
          "start_time": "2019-09-09T01:40:02.801494Z"
        },
        "id": "BQHplE_shXsL",
        "colab": {
          "base_uri": "https://localhost:8080/",
          "height": 300
        },
        "outputId": "0ac855d6-7a0b-4db4-dc5c-f65046cd6c2f"
      },
      "source": [
        "eqdata.describe()"
      ],
      "execution_count": 9,
      "outputs": [
        {
          "output_type": "execute_result",
          "data": {
            "text/html": [
              "<div>\n",
              "<style scoped>\n",
              "    .dataframe tbody tr th:only-of-type {\n",
              "        vertical-align: middle;\n",
              "    }\n",
              "\n",
              "    .dataframe tbody tr th {\n",
              "        vertical-align: top;\n",
              "    }\n",
              "\n",
              "    .dataframe thead th {\n",
              "        text-align: right;\n",
              "    }\n",
              "</style>\n",
              "<table border=\"1\" class=\"dataframe\">\n",
              "  <thead>\n",
              "    <tr style=\"text-align: right;\">\n",
              "      <th></th>\n",
              "      <th>mag</th>\n",
              "    </tr>\n",
              "  </thead>\n",
              "  <tbody>\n",
              "    <tr>\n",
              "      <th>count</th>\n",
              "      <td>77949.000000</td>\n",
              "    </tr>\n",
              "    <tr>\n",
              "      <th>mean</th>\n",
              "      <td>2.423608</td>\n",
              "    </tr>\n",
              "    <tr>\n",
              "      <th>std</th>\n",
              "      <td>0.411665</td>\n",
              "    </tr>\n",
              "    <tr>\n",
              "      <th>min</th>\n",
              "      <td>2.000000</td>\n",
              "    </tr>\n",
              "    <tr>\n",
              "      <th>25%</th>\n",
              "      <td>2.130000</td>\n",
              "    </tr>\n",
              "    <tr>\n",
              "      <th>50%</th>\n",
              "      <td>2.310000</td>\n",
              "    </tr>\n",
              "    <tr>\n",
              "      <th>75%</th>\n",
              "      <td>2.600000</td>\n",
              "    </tr>\n",
              "    <tr>\n",
              "      <th>max</th>\n",
              "      <td>7.300000</td>\n",
              "    </tr>\n",
              "  </tbody>\n",
              "</table>\n",
              "</div>"
            ],
            "text/plain": [
              "                mag\n",
              "count  77949.000000\n",
              "mean       2.423608\n",
              "std        0.411665\n",
              "min        2.000000\n",
              "25%        2.130000\n",
              "50%        2.310000\n",
              "75%        2.600000\n",
              "max        7.300000"
            ]
          },
          "metadata": {},
          "execution_count": 9
        }
      ]
    },
    {
      "cell_type": "markdown",
      "metadata": {
        "id": "EMiRblXihXsN"
      },
      "source": [
        "Now you want to combine the columns containing date and time and convert them to a \"datetime\" kind of data object. \n"
      ]
    },
    {
      "cell_type": "markdown",
      "metadata": {
        "ExecuteTime": {
          "end_time": "2019-09-08T21:26:57.438903Z",
          "start_time": "2019-09-08T21:26:57.435133Z"
        },
        "id": "ZPOv1TJihXsN"
      },
      "source": [
        "What data type are the _time_ and _date_ columns right now? What type you want them to be to conver them to datetime with ```pd.datetime()```? type 'O' means object, typically a string. "
      ]
    },
    {
      "cell_type": "code",
      "metadata": {
        "ExecuteTime": {
          "end_time": "2019-09-09T01:40:02.859962Z",
          "start_time": "2019-09-09T01:40:02.856654Z"
        },
        "id": "sqfVbxyYhXsO",
        "colab": {
          "base_uri": "https://localhost:8080/"
        },
        "outputId": "7f0378d2-3686-4eca-ff25-9442d3dc1517"
      },
      "source": [
        "eqdata.time.dtype, eqdata.date.dtype"
      ],
      "execution_count": 10,
      "outputs": [
        {
          "output_type": "execute_result",
          "data": {
            "text/plain": [
              "(dtype('O'), dtype('O'))"
            ]
          },
          "metadata": {},
          "execution_count": 10
        }
      ]
    },
    {
      "cell_type": "markdown",
      "metadata": {
        "ExecuteTime": {
          "end_time": "2019-09-08T21:28:58.082172Z",
          "start_time": "2019-09-08T21:28:58.078926Z"
        },
        "id": "O9qP9mRShXsP"
      },
      "source": [
        "to do this conversion I \n",
        "\n",
        "   1. joined date and time into a single string for each row with a [\"list comprehension\"](https://www.pythonforbeginners.com/basics/list-comprehensions-in-python) (essentially a for loop but more efficient and compact). You do not have to do it with a list comprehension, you can use just a for loop.\n",
        "\n",
        "   2. used pd.datetime() to convert the resulting new dataframe column into a dataframe column containing _datetime_ objects (see lab)\n",
        "\n",
        "   3. but this did not work because of the formatting of some dates, so I had to go back and fix 5 entries. (you are on your own to figure out this one)"
      ]
    },
    {
      "cell_type": "code",
      "metadata": {
        "ExecuteTime": {
          "end_time": "2019-09-09T01:40:12.489690Z",
          "start_time": "2019-09-09T01:40:02.914845Z"
        },
        "id": "eOUTqBDOhXsQ"
      },
      "source": [
        "# -- combine data and time: I just combined the columns instead of a loop, is correct?\n",
        "eqdata[\"datetime\"] = eqdata[\"date\"]+\" \"+eqdata[\"time\"]\n",
        "# -- replace the 60.00 to 59.99 \n",
        "eqdata[\"datetime\"] = eqdata[\"datetime\"].str.replace(\":60.00\", \":59.99\")\n",
        "eqdata[\"datetime\"] = eqdata[\"datetime\"].str.replace(\":60.99\", \":59.99\")\n",
        "# -- convert to datetime\n",
        "eqdata[\"datetime\"] = pd.to_datetime(eqdata[\"datetime\"])"
      ],
      "execution_count": 11,
      "outputs": []
    },
    {
      "cell_type": "code",
      "metadata": {
        "ExecuteTime": {
          "end_time": "2019-09-09T01:40:29.216627Z",
          "start_time": "2019-09-09T01:40:29.206374Z"
        },
        "id": "o9PeG5J5hXsU",
        "colab": {
          "base_uri": "https://localhost:8080/",
          "height": 206
        },
        "outputId": "e3ffb1d0-f446-4e50-a3fa-75a65f6be6d5"
      },
      "source": [
        "eqdata.head()"
      ],
      "execution_count": 12,
      "outputs": [
        {
          "output_type": "execute_result",
          "data": {
            "text/html": [
              "<div>\n",
              "<style scoped>\n",
              "    .dataframe tbody tr th:only-of-type {\n",
              "        vertical-align: middle;\n",
              "    }\n",
              "\n",
              "    .dataframe tbody tr th {\n",
              "        vertical-align: top;\n",
              "    }\n",
              "\n",
              "    .dataframe thead th {\n",
              "        text-align: right;\n",
              "    }\n",
              "</style>\n",
              "<table border=\"1\" class=\"dataframe\">\n",
              "  <thead>\n",
              "    <tr style=\"text-align: right;\">\n",
              "      <th></th>\n",
              "      <th>date</th>\n",
              "      <th>time</th>\n",
              "      <th>mag</th>\n",
              "      <th>datetime</th>\n",
              "    </tr>\n",
              "  </thead>\n",
              "  <tbody>\n",
              "    <tr>\n",
              "      <th>0</th>\n",
              "      <td>1984/01/01</td>\n",
              "      <td>01:30:57.52</td>\n",
              "      <td>2.02</td>\n",
              "      <td>1984-01-01 01:30:57.520</td>\n",
              "    </tr>\n",
              "    <tr>\n",
              "      <th>1</th>\n",
              "      <td>1984/01/01</td>\n",
              "      <td>05:31:34.16</td>\n",
              "      <td>2.12</td>\n",
              "      <td>1984-01-01 05:31:34.160</td>\n",
              "    </tr>\n",
              "    <tr>\n",
              "      <th>2</th>\n",
              "      <td>1984/01/01</td>\n",
              "      <td>06:59:05.14</td>\n",
              "      <td>2.43</td>\n",
              "      <td>1984-01-01 06:59:05.140</td>\n",
              "    </tr>\n",
              "    <tr>\n",
              "      <th>3</th>\n",
              "      <td>1984/01/01</td>\n",
              "      <td>11:10:25.29</td>\n",
              "      <td>2.07</td>\n",
              "      <td>1984-01-01 11:10:25.290</td>\n",
              "    </tr>\n",
              "    <tr>\n",
              "      <th>4</th>\n",
              "      <td>1984/01/01</td>\n",
              "      <td>13:50:47.62</td>\n",
              "      <td>2.25</td>\n",
              "      <td>1984-01-01 13:50:47.620</td>\n",
              "    </tr>\n",
              "  </tbody>\n",
              "</table>\n",
              "</div>"
            ],
            "text/plain": [
              "         date         time   mag                datetime\n",
              "0  1984/01/01  01:30:57.52  2.02 1984-01-01 01:30:57.520\n",
              "1  1984/01/01  05:31:34.16  2.12 1984-01-01 05:31:34.160\n",
              "2  1984/01/01  06:59:05.14  2.43 1984-01-01 06:59:05.140\n",
              "3  1984/01/01  11:10:25.29  2.07 1984-01-01 11:10:25.290\n",
              "4  1984/01/01  13:50:47.62  2.25 1984-01-01 13:50:47.620"
            ]
          },
          "metadata": {},
          "execution_count": 12
        }
      ]
    },
    {
      "cell_type": "markdown",
      "metadata": {
        "id": "zAmaMzQIhXsW"
      },
      "source": [
        "## select valuable data"
      ]
    },
    {
      "cell_type": "markdown",
      "metadata": {
        "id": "R3kga7VvhXsZ"
      },
      "source": [
        "Following the description in Section 2  of Corral 2018 I removed all data that did not belong to a \"stationary\" period. Third paragraph section 2 of Corral 2018. You can see the cell of code I used to do this [here](https://github.com/fedhere/DSPS/blob/master/HW3/Corral2018_selectStationary.py) at no points cost, cause it was a bit tricky, but I encourage you to try and do it yourself. If you can do it in fewer lines than I did its automatically +5 points (just turning the loop into a list comprehension does not count. That is an obvious way to decrease the number of lines of code; I did not do it simply to enhance readability.)"
      ]
    },
    {
      "cell_type": "code",
      "metadata": {
        "id": "yRSZwEG7Mtns"
      },
      "source": [
        "def testfunction(val):\n",
        "  val = pd.to_datetime(val.astype(int), format=\"%Y\") + pd.to_timedelta(round((val % 1)*365.25).astype(int), unit=\"D\")\n",
        "  return val\n"
      ],
      "execution_count": 13,
      "outputs": []
    },
    {
      "cell_type": "code",
      "metadata": {
        "id": "6PQ4poHtNBLQ"
      },
      "source": [
        "# -- stationary period\n",
        "# -- is not less lines of code, but is different :D haha it looks very elegant\n",
        "stp = [(1984, 1986.5),\n",
        "          (1990.3, 1992.1),\n",
        "          (1994.6, 1995.6),\n",
        "          (1996.1,1996.5),\n",
        "          (1997,1997.6),\n",
        "          (1997.75,1998.15),\n",
        "          (1998.25,1999.35),\n",
        "          (2000.55,2000.8),\n",
        "          (2000.9 ,2001.25),\n",
        "          (2001.6 ,2002),\n",
        "          (2002.5 ,2003)]\n",
        "\n",
        "df_intervals = pd.DataFrame(stp, columns = [\"b\", \"e\"])\n",
        "df_intervals = df_intervals[[\"b\", \"e\"]].apply(testfunction)\n",
        "# df_intervals"
      ],
      "execution_count": 14,
      "outputs": []
    },
    {
      "cell_type": "code",
      "metadata": {
        "ExecuteTime": {
          "end_time": "2019-09-09T01:40:29.237879Z",
          "start_time": "2019-09-09T01:40:29.232647Z"
        },
        "id": "qPmYVGWbhXsb",
        "colab": {
          "base_uri": "https://localhost:8080/"
        },
        "outputId": "3521d8fe-791c-4a5c-a0fe-a8520b141876"
      },
      "source": [
        "print (\"the {} timestamp pairs that are the boundaries of good data periods are: \\n{}\".format(len(df_intervals),df_intervals.values))"
      ],
      "execution_count": 15,
      "outputs": [
        {
          "output_type": "stream",
          "name": "stdout",
          "text": [
            "the 11 timestamp pairs that are the boundaries of good data periods are: \n",
            "[['1984-01-01T00:00:00.000000000' '1986-07-03T00:00:00.000000000']\n",
            " ['1990-04-21T00:00:00.000000000' '1992-02-07T00:00:00.000000000']\n",
            " ['1994-08-08T00:00:00.000000000' '1995-08-08T00:00:00.000000000']\n",
            " ['1996-02-07T00:00:00.000000000' '1996-07-02T00:00:00.000000000']\n",
            " ['1997-01-01T00:00:00.000000000' '1997-08-08T00:00:00.000000000']\n",
            " ['1997-10-02T00:00:00.000000000' '1998-02-25T00:00:00.000000000']\n",
            " ['1998-04-02T00:00:00.000000000' '1999-05-09T00:00:00.000000000']\n",
            " ['2000-07-20T00:00:00.000000000' '2000-10-19T00:00:00.000000000']\n",
            " ['2000-11-25T00:00:00.000000000' '2001-04-02T00:00:00.000000000']\n",
            " ['2001-08-08T00:00:00.000000000' '2002-01-01T00:00:00.000000000']\n",
            " ['2002-07-03T00:00:00.000000000' '2003-01-01T00:00:00.000000000']]\n"
          ]
        }
      ]
    },
    {
      "cell_type": "markdown",
      "metadata": {
        "id": "-470BeBahXsd"
      },
      "source": [
        "The following cell of code shows you the array of bool values (True/False) which I create to use as an index to the input array: when used as an index, a technique called \"broadcasting\" in python, will select only elements of the original array where the index array value is True. something like \n",
        "Try:\n",
        "\n"
      ]
    },
    {
      "cell_type": "code",
      "metadata": {
        "ExecuteTime": {
          "end_time": "2019-09-09T01:40:29.244355Z",
          "start_time": "2019-09-09T01:40:29.239933Z"
        },
        "id": "9wCXH-gfhXsf",
        "colab": {
          "base_uri": "https://localhost:8080/"
        },
        "outputId": "9980c905-df68-4f3b-dec9-8704e62d23f1"
      },
      "source": [
        "a = np.array([0, 1, 2])\n",
        "a, a[[True, False, True]]"
      ],
      "execution_count": 16,
      "outputs": [
        {
          "output_type": "execute_result",
          "data": {
            "text/plain": [
              "(array([0, 1, 2]), array([0, 2]))"
            ]
          },
          "metadata": {},
          "execution_count": 16
        }
      ]
    },
    {
      "cell_type": "markdown",
      "metadata": {
        "ExecuteTime": {
          "end_time": "2019-09-09T01:05:50.836953Z",
          "start_time": "2019-09-09T01:05:50.833542Z"
        },
        "id": "jvZBr-_JhXsi"
      },
      "source": [
        "For each of the 11 valid periods I create a condition \n",
        "``` datetime >= period_start AND datetime <= period_end ``` where AND is a product of booleans: True * False = False.\n",
        "\n",
        "I want to take all chinks of data that satisfy this condition for any of the 11 chunks of time so that is a logical OR operator, or a sum of Booleans: True + False = True \n",
        "\n",
        "This is because ```True``` really corresponds to \"not 0\" and False to \"0\". So ```\"not 0\" * 0 = 0``` and ```\"not 0\" + 0 = not 0```\n",
        "    "
      ]
    },
    {
      "cell_type": "code",
      "metadata": {
        "id": "p0jP46LQQuwq"
      },
      "source": [
        "# -- create the boolean df to keep the data in the stationary intervals\n",
        "gooddates = (((eqdata[\"datetime\"] >= df_intervals[\"b\"][0]) & (eqdata[\"datetime\"] <= df_intervals[\"e\"][0]))| \\\n",
        "            ((eqdata[\"datetime\"] >= df_intervals[\"b\"][1]) & (eqdata[\"datetime\"] <= df_intervals[\"e\"][1]))| \\\n",
        "            ((eqdata[\"datetime\"] >= df_intervals[\"b\"][2]) & (eqdata[\"datetime\"] <= df_intervals[\"e\"][2]))| \\\n",
        "            ((eqdata[\"datetime\"] >= df_intervals[\"b\"][3]) & (eqdata[\"datetime\"] <= df_intervals[\"e\"][3]))| \\\n",
        "            ((eqdata[\"datetime\"] >= df_intervals[\"b\"][4]) & (eqdata[\"datetime\"] <= df_intervals[\"e\"][4]))| \\\n",
        "            ((eqdata[\"datetime\"] >= df_intervals[\"b\"][5]) & (eqdata[\"datetime\"] <= df_intervals[\"e\"][5]))| \\\n",
        "            ((eqdata[\"datetime\"] >= df_intervals[\"b\"][6]) & (eqdata[\"datetime\"] <= df_intervals[\"e\"][6]))| \\\n",
        "            ((eqdata[\"datetime\"] >= df_intervals[\"b\"][7]) & (eqdata[\"datetime\"] <= df_intervals[\"e\"][7]))| \\\n",
        "            ((eqdata[\"datetime\"] >= df_intervals[\"b\"][8]) & (eqdata[\"datetime\"] <= df_intervals[\"e\"][8]))| \\\n",
        "            ((eqdata[\"datetime\"] >= df_intervals[\"b\"][9]) & (eqdata[\"datetime\"] <= df_intervals[\"e\"][9]))| \\\n",
        "            ((eqdata[\"datetime\"] >= df_intervals[\"b\"][10]) & (eqdata[\"datetime\"] <= df_intervals[\"e\"][10])))"
      ],
      "execution_count": 17,
      "outputs": []
    },
    {
      "cell_type": "code",
      "metadata": {
        "ExecuteTime": {
          "end_time": "2019-09-09T01:40:29.265629Z",
          "start_time": "2019-09-09T01:40:29.245537Z"
        },
        "id": "JGuY1EtzhXsj"
      },
      "source": [
        "# eqdata_interval = pd.DataFrame()\n",
        "# suma = 0\n",
        "# for ii in range(len(df_intervals)):\n",
        "#   ddfdf1 = eqdata[((eqdata[\"datetime\"] >= df_intervals[\"b\"][ii]) & (eqdata[\"datetime\"] <= df_intervals[\"e\"][ii]))]\n",
        "#   suma = suma + len(ddfdf1)\n",
        "#   # print(len(ddfdf1))\n",
        "#   eqdata_interval = pd.concat((eqdata_interval, ddfdf1), axis = 0)\n",
        "# print(suma)\n",
        "# eqdata_interval.head()"
      ],
      "execution_count": 18,
      "outputs": []
    },
    {
      "cell_type": "code",
      "metadata": {
        "ExecuteTime": {
          "end_time": "2019-09-09T01:40:29.270985Z",
          "start_time": "2019-09-09T01:40:29.267738Z"
        },
        "id": "WHyQm6CqhXsl",
        "colab": {
          "base_uri": "https://localhost:8080/"
        },
        "outputId": "a6c587be-720b-4a1e-bdfb-588465c3760b"
      },
      "source": [
        "# -- I do not get the 19911 ....\n",
        "print (\"there are {} earthquakes falling in the selected stationary periods\".\n",
        "       format(gooddates.sum()))"
      ],
      "execution_count": 19,
      "outputs": [
        {
          "output_type": "stream",
          "name": "stdout",
          "text": [
            "there are 19854 earthquakes falling in the selected stationary periods\n"
          ]
        }
      ]
    },
    {
      "cell_type": "code",
      "metadata": {
        "id": "DZqekuQFn_cM"
      },
      "source": [
        "# your code here: broadcasting to create a dataframe with the good dates only\n",
        "eqGoodData = eqdata[gooddates]"
      ],
      "execution_count": 20,
      "outputs": []
    },
    {
      "cell_type": "code",
      "metadata": {
        "ExecuteTime": {
          "end_time": "2019-09-09T01:40:29.277256Z",
          "start_time": "2019-09-09T01:40:29.272901Z"
        },
        "id": "K7iYLowuhXsm",
        "colab": {
          "base_uri": "https://localhost:8080/"
        },
        "outputId": "cd21c3d0-0013-4783-92d9-fb1e3744a37b"
      },
      "source": [
        "eqGoodData.shape"
      ],
      "execution_count": 21,
      "outputs": [
        {
          "output_type": "execute_result",
          "data": {
            "text/plain": [
              "(19854, 4)"
            ]
          },
          "metadata": {},
          "execution_count": 21
        }
      ]
    },
    {
      "cell_type": "code",
      "metadata": {
        "ExecuteTime": {
          "end_time": "2019-09-09T01:40:29.287000Z",
          "start_time": "2019-09-09T01:40:29.279430Z"
        },
        "id": "aMySvYb5hXso",
        "colab": {
          "base_uri": "https://localhost:8080/",
          "height": 206
        },
        "outputId": "95ce0503-6f9b-4712-828d-3203b8c4b94b"
      },
      "source": [
        "eqGoodData.head()"
      ],
      "execution_count": 22,
      "outputs": [
        {
          "output_type": "execute_result",
          "data": {
            "text/html": [
              "<div>\n",
              "<style scoped>\n",
              "    .dataframe tbody tr th:only-of-type {\n",
              "        vertical-align: middle;\n",
              "    }\n",
              "\n",
              "    .dataframe tbody tr th {\n",
              "        vertical-align: top;\n",
              "    }\n",
              "\n",
              "    .dataframe thead th {\n",
              "        text-align: right;\n",
              "    }\n",
              "</style>\n",
              "<table border=\"1\" class=\"dataframe\">\n",
              "  <thead>\n",
              "    <tr style=\"text-align: right;\">\n",
              "      <th></th>\n",
              "      <th>date</th>\n",
              "      <th>time</th>\n",
              "      <th>mag</th>\n",
              "      <th>datetime</th>\n",
              "    </tr>\n",
              "  </thead>\n",
              "  <tbody>\n",
              "    <tr>\n",
              "      <th>0</th>\n",
              "      <td>1984/01/01</td>\n",
              "      <td>01:30:57.52</td>\n",
              "      <td>2.02</td>\n",
              "      <td>1984-01-01 01:30:57.520</td>\n",
              "    </tr>\n",
              "    <tr>\n",
              "      <th>1</th>\n",
              "      <td>1984/01/01</td>\n",
              "      <td>05:31:34.16</td>\n",
              "      <td>2.12</td>\n",
              "      <td>1984-01-01 05:31:34.160</td>\n",
              "    </tr>\n",
              "    <tr>\n",
              "      <th>2</th>\n",
              "      <td>1984/01/01</td>\n",
              "      <td>06:59:05.14</td>\n",
              "      <td>2.43</td>\n",
              "      <td>1984-01-01 06:59:05.140</td>\n",
              "    </tr>\n",
              "    <tr>\n",
              "      <th>3</th>\n",
              "      <td>1984/01/01</td>\n",
              "      <td>11:10:25.29</td>\n",
              "      <td>2.07</td>\n",
              "      <td>1984-01-01 11:10:25.290</td>\n",
              "    </tr>\n",
              "    <tr>\n",
              "      <th>4</th>\n",
              "      <td>1984/01/01</td>\n",
              "      <td>13:50:47.62</td>\n",
              "      <td>2.25</td>\n",
              "      <td>1984-01-01 13:50:47.620</td>\n",
              "    </tr>\n",
              "  </tbody>\n",
              "</table>\n",
              "</div>"
            ],
            "text/plain": [
              "         date         time   mag                datetime\n",
              "0  1984/01/01  01:30:57.52  2.02 1984-01-01 01:30:57.520\n",
              "1  1984/01/01  05:31:34.16  2.12 1984-01-01 05:31:34.160\n",
              "2  1984/01/01  06:59:05.14  2.43 1984-01-01 06:59:05.140\n",
              "3  1984/01/01  11:10:25.29  2.07 1984-01-01 11:10:25.290\n",
              "4  1984/01/01  13:50:47.62  2.25 1984-01-01 13:50:47.620"
            ]
          },
          "metadata": {},
          "execution_count": 22
        }
      ]
    },
    {
      "cell_type": "markdown",
      "metadata": {
        "ExecuteTime": {
          "end_time": "2019-09-09T01:17:07.527314Z",
          "start_time": "2019-09-09T01:17:07.523165Z"
        },
        "id": "P3MKC5tyhXsp"
      },
      "source": [
        "Now what you really want is the _time interval between earthquakes_ for all events greater than some magnitude m, while all you have are the date and time of the events.: \n",
        "\n",
        "You can remove earthquakes smaller than magnitude 2 by, again, broadcasting. How would that look like?"
      ]
    },
    {
      "cell_type": "code",
      "metadata": {
        "ExecuteTime": {
          "end_time": "2019-09-09T01:40:29.292220Z",
          "start_time": "2019-09-09T01:40:29.288359Z"
        },
        "id": "GF-7Xw9AhXsq"
      },
      "source": [
        "# -- briadcasting to keep only mag greater than 2\n",
        "eqGoodData = eqGoodData[eqGoodData[\"mag\"] > 2]"
      ],
      "execution_count": 23,
      "outputs": []
    },
    {
      "cell_type": "code",
      "metadata": {
        "ExecuteTime": {
          "end_time": "2019-09-09T01:40:29.296885Z",
          "start_time": "2019-09-09T01:40:29.293316Z"
        },
        "id": "nTmssr_xhXst",
        "colab": {
          "base_uri": "https://localhost:8080/"
        },
        "outputId": "b7ed51e0-b3ba-4dbc-ec94-9432b34b9d05"
      },
      "source": [
        "eqGoodData.shape #look like for my data it was not needed! that is because I chose M>2 when when I downloaded the data\n",
        "# -- I do have less data in this step"
      ],
      "execution_count": 24,
      "outputs": [
        {
          "output_type": "execute_result",
          "data": {
            "text/plain": [
              "(18993, 4)"
            ]
          },
          "metadata": {},
          "execution_count": 24
        }
      ]
    },
    {
      "cell_type": "markdown",
      "metadata": {
        "id": "Ah6LgDvVhXsu"
      },
      "source": [
        "You can get the time between consecutive earthquakes with the method ```diff()``` of numpy arrays (in a pandas series you can get the data as a numpy array with the attribute .values: ```seried.values```). \n"
      ]
    },
    {
      "cell_type": "code",
      "metadata": {
        "ExecuteTime": {
          "end_time": "2019-09-09T01:40:29.303435Z",
          "start_time": "2019-09-09T01:40:29.298440Z"
        },
        "id": "RCJozUPPhXsu",
        "colab": {
          "base_uri": "https://localhost:8080/",
          "height": 424
        },
        "outputId": "3c713a86-ddaa-4367-e7a0-41745f5c88fa"
      },
      "source": [
        "# -- sort the datetime, so diff works correctly\n",
        "eqGoodData  = eqGoodData.sort_values(by= [\"datetime\"])\n",
        "eqGoodData[\"dts\"] = eqGoodData[\"datetime\"].diff()\n",
        "eqGoodData\n"
      ],
      "execution_count": 25,
      "outputs": [
        {
          "output_type": "execute_result",
          "data": {
            "text/html": [
              "<div>\n",
              "<style scoped>\n",
              "    .dataframe tbody tr th:only-of-type {\n",
              "        vertical-align: middle;\n",
              "    }\n",
              "\n",
              "    .dataframe tbody tr th {\n",
              "        vertical-align: top;\n",
              "    }\n",
              "\n",
              "    .dataframe thead th {\n",
              "        text-align: right;\n",
              "    }\n",
              "</style>\n",
              "<table border=\"1\" class=\"dataframe\">\n",
              "  <thead>\n",
              "    <tr style=\"text-align: right;\">\n",
              "      <th></th>\n",
              "      <th>date</th>\n",
              "      <th>time</th>\n",
              "      <th>mag</th>\n",
              "      <th>datetime</th>\n",
              "      <th>dts</th>\n",
              "    </tr>\n",
              "  </thead>\n",
              "  <tbody>\n",
              "    <tr>\n",
              "      <th>0</th>\n",
              "      <td>1984/01/01</td>\n",
              "      <td>01:30:57.52</td>\n",
              "      <td>2.02</td>\n",
              "      <td>1984-01-01 01:30:57.520</td>\n",
              "      <td>NaT</td>\n",
              "    </tr>\n",
              "    <tr>\n",
              "      <th>1</th>\n",
              "      <td>1984/01/01</td>\n",
              "      <td>05:31:34.16</td>\n",
              "      <td>2.12</td>\n",
              "      <td>1984-01-01 05:31:34.160</td>\n",
              "      <td>0 days 04:00:36.640000</td>\n",
              "    </tr>\n",
              "    <tr>\n",
              "      <th>2</th>\n",
              "      <td>1984/01/01</td>\n",
              "      <td>06:59:05.14</td>\n",
              "      <td>2.43</td>\n",
              "      <td>1984-01-01 06:59:05.140</td>\n",
              "      <td>0 days 01:27:30.980000</td>\n",
              "    </tr>\n",
              "    <tr>\n",
              "      <th>3</th>\n",
              "      <td>1984/01/01</td>\n",
              "      <td>11:10:25.29</td>\n",
              "      <td>2.07</td>\n",
              "      <td>1984-01-01 11:10:25.290</td>\n",
              "      <td>0 days 04:11:20.150000</td>\n",
              "    </tr>\n",
              "    <tr>\n",
              "      <th>4</th>\n",
              "      <td>1984/01/01</td>\n",
              "      <td>13:50:47.62</td>\n",
              "      <td>2.25</td>\n",
              "      <td>1984-01-01 13:50:47.620</td>\n",
              "      <td>0 days 02:40:22.330000</td>\n",
              "    </tr>\n",
              "    <tr>\n",
              "      <th>...</th>\n",
              "      <td>...</td>\n",
              "      <td>...</td>\n",
              "      <td>...</td>\n",
              "      <td>...</td>\n",
              "      <td>...</td>\n",
              "    </tr>\n",
              "    <tr>\n",
              "      <th>77944</th>\n",
              "      <td>2002/12/29</td>\n",
              "      <td>19:37:24.56</td>\n",
              "      <td>2.21</td>\n",
              "      <td>2002-12-29 19:37:24.560</td>\n",
              "      <td>0 days 00:00:30.140000</td>\n",
              "    </tr>\n",
              "    <tr>\n",
              "      <th>77945</th>\n",
              "      <td>2002/12/29</td>\n",
              "      <td>20:17:33.40</td>\n",
              "      <td>2.02</td>\n",
              "      <td>2002-12-29 20:17:33.400</td>\n",
              "      <td>0 days 00:40:08.840000</td>\n",
              "    </tr>\n",
              "    <tr>\n",
              "      <th>77946</th>\n",
              "      <td>2002/12/29</td>\n",
              "      <td>20:21:28.73</td>\n",
              "      <td>2.07</td>\n",
              "      <td>2002-12-29 20:21:28.730</td>\n",
              "      <td>0 days 00:03:55.330000</td>\n",
              "    </tr>\n",
              "    <tr>\n",
              "      <th>77947</th>\n",
              "      <td>2002/12/30</td>\n",
              "      <td>21:51:52.55</td>\n",
              "      <td>2.31</td>\n",
              "      <td>2002-12-30 21:51:52.550</td>\n",
              "      <td>1 days 01:30:23.820000</td>\n",
              "    </tr>\n",
              "    <tr>\n",
              "      <th>77948</th>\n",
              "      <td>2002/12/30</td>\n",
              "      <td>23:38:49.79</td>\n",
              "      <td>2.05</td>\n",
              "      <td>2002-12-30 23:38:49.790</td>\n",
              "      <td>0 days 01:46:57.240000</td>\n",
              "    </tr>\n",
              "  </tbody>\n",
              "</table>\n",
              "<p>18993 rows × 5 columns</p>\n",
              "</div>"
            ],
            "text/plain": [
              "             date         time  ...                datetime                    dts\n",
              "0      1984/01/01  01:30:57.52  ... 1984-01-01 01:30:57.520                    NaT\n",
              "1      1984/01/01  05:31:34.16  ... 1984-01-01 05:31:34.160 0 days 04:00:36.640000\n",
              "2      1984/01/01  06:59:05.14  ... 1984-01-01 06:59:05.140 0 days 01:27:30.980000\n",
              "3      1984/01/01  11:10:25.29  ... 1984-01-01 11:10:25.290 0 days 04:11:20.150000\n",
              "4      1984/01/01  13:50:47.62  ... 1984-01-01 13:50:47.620 0 days 02:40:22.330000\n",
              "...           ...          ...  ...                     ...                    ...\n",
              "77944  2002/12/29  19:37:24.56  ... 2002-12-29 19:37:24.560 0 days 00:00:30.140000\n",
              "77945  2002/12/29  20:17:33.40  ... 2002-12-29 20:17:33.400 0 days 00:40:08.840000\n",
              "77946  2002/12/29  20:21:28.73  ... 2002-12-29 20:21:28.730 0 days 00:03:55.330000\n",
              "77947  2002/12/30  21:51:52.55  ... 2002-12-30 21:51:52.550 1 days 01:30:23.820000\n",
              "77948  2002/12/30  23:38:49.79  ... 2002-12-30 23:38:49.790 0 days 01:46:57.240000\n",
              "\n",
              "[18993 rows x 5 columns]"
            ]
          },
          "metadata": {},
          "execution_count": 25
        }
      ]
    },
    {
      "cell_type": "code",
      "metadata": {
        "id": "a6f-j9ThoMUC",
        "colab": {
          "base_uri": "https://localhost:8080/"
        },
        "outputId": "7f327970-558d-47b2-aa8f-624bfa4acfd9"
      },
      "source": [
        "eqGoodData.shape"
      ],
      "execution_count": 26,
      "outputs": [
        {
          "output_type": "execute_result",
          "data": {
            "text/plain": [
              "(18993, 5)"
            ]
          },
          "metadata": {},
          "execution_count": 26
        }
      ]
    },
    {
      "cell_type": "code",
      "metadata": {
        "id": "BavypriTXcUV",
        "colab": {
          "base_uri": "https://localhost:8080/",
          "height": 206
        },
        "outputId": "627677cc-64e7-4232-9a63-2c8899422a03"
      },
      "source": [
        "eqGoodData.head()"
      ],
      "execution_count": 27,
      "outputs": [
        {
          "output_type": "execute_result",
          "data": {
            "text/html": [
              "<div>\n",
              "<style scoped>\n",
              "    .dataframe tbody tr th:only-of-type {\n",
              "        vertical-align: middle;\n",
              "    }\n",
              "\n",
              "    .dataframe tbody tr th {\n",
              "        vertical-align: top;\n",
              "    }\n",
              "\n",
              "    .dataframe thead th {\n",
              "        text-align: right;\n",
              "    }\n",
              "</style>\n",
              "<table border=\"1\" class=\"dataframe\">\n",
              "  <thead>\n",
              "    <tr style=\"text-align: right;\">\n",
              "      <th></th>\n",
              "      <th>date</th>\n",
              "      <th>time</th>\n",
              "      <th>mag</th>\n",
              "      <th>datetime</th>\n",
              "      <th>dts</th>\n",
              "    </tr>\n",
              "  </thead>\n",
              "  <tbody>\n",
              "    <tr>\n",
              "      <th>0</th>\n",
              "      <td>1984/01/01</td>\n",
              "      <td>01:30:57.52</td>\n",
              "      <td>2.02</td>\n",
              "      <td>1984-01-01 01:30:57.520</td>\n",
              "      <td>NaT</td>\n",
              "    </tr>\n",
              "    <tr>\n",
              "      <th>1</th>\n",
              "      <td>1984/01/01</td>\n",
              "      <td>05:31:34.16</td>\n",
              "      <td>2.12</td>\n",
              "      <td>1984-01-01 05:31:34.160</td>\n",
              "      <td>0 days 04:00:36.640000</td>\n",
              "    </tr>\n",
              "    <tr>\n",
              "      <th>2</th>\n",
              "      <td>1984/01/01</td>\n",
              "      <td>06:59:05.14</td>\n",
              "      <td>2.43</td>\n",
              "      <td>1984-01-01 06:59:05.140</td>\n",
              "      <td>0 days 01:27:30.980000</td>\n",
              "    </tr>\n",
              "    <tr>\n",
              "      <th>3</th>\n",
              "      <td>1984/01/01</td>\n",
              "      <td>11:10:25.29</td>\n",
              "      <td>2.07</td>\n",
              "      <td>1984-01-01 11:10:25.290</td>\n",
              "      <td>0 days 04:11:20.150000</td>\n",
              "    </tr>\n",
              "    <tr>\n",
              "      <th>4</th>\n",
              "      <td>1984/01/01</td>\n",
              "      <td>13:50:47.62</td>\n",
              "      <td>2.25</td>\n",
              "      <td>1984-01-01 13:50:47.620</td>\n",
              "      <td>0 days 02:40:22.330000</td>\n",
              "    </tr>\n",
              "  </tbody>\n",
              "</table>\n",
              "</div>"
            ],
            "text/plain": [
              "         date         time   mag                datetime                    dts\n",
              "0  1984/01/01  01:30:57.52  2.02 1984-01-01 01:30:57.520                    NaT\n",
              "1  1984/01/01  05:31:34.16  2.12 1984-01-01 05:31:34.160 0 days 04:00:36.640000\n",
              "2  1984/01/01  06:59:05.14  2.43 1984-01-01 06:59:05.140 0 days 01:27:30.980000\n",
              "3  1984/01/01  11:10:25.29  2.07 1984-01-01 11:10:25.290 0 days 04:11:20.150000\n",
              "4  1984/01/01  13:50:47.62  2.25 1984-01-01 13:50:47.620 0 days 02:40:22.330000"
            ]
          },
          "metadata": {},
          "execution_count": 27
        }
      ]
    },
    {
      "cell_type": "code",
      "metadata": {
        "id": "pC2aJCuVXfM3",
        "colab": {
          "base_uri": "https://localhost:8080/",
          "height": 300
        },
        "outputId": "401186c2-06d5-42bf-e929-f88281f1de8a"
      },
      "source": [
        "eqGoodData.describe()"
      ],
      "execution_count": 28,
      "outputs": [
        {
          "output_type": "execute_result",
          "data": {
            "text/html": [
              "<div>\n",
              "<style scoped>\n",
              "    .dataframe tbody tr th:only-of-type {\n",
              "        vertical-align: middle;\n",
              "    }\n",
              "\n",
              "    .dataframe tbody tr th {\n",
              "        vertical-align: top;\n",
              "    }\n",
              "\n",
              "    .dataframe thead th {\n",
              "        text-align: right;\n",
              "    }\n",
              "</style>\n",
              "<table border=\"1\" class=\"dataframe\">\n",
              "  <thead>\n",
              "    <tr style=\"text-align: right;\">\n",
              "      <th></th>\n",
              "      <th>mag</th>\n",
              "      <th>dts</th>\n",
              "    </tr>\n",
              "  </thead>\n",
              "  <tbody>\n",
              "    <tr>\n",
              "      <th>count</th>\n",
              "      <td>18993.000000</td>\n",
              "      <td>18992</td>\n",
              "    </tr>\n",
              "    <tr>\n",
              "      <th>mean</th>\n",
              "      <td>2.417212</td>\n",
              "      <td>0 days 08:46:07.126804443</td>\n",
              "    </tr>\n",
              "    <tr>\n",
              "      <th>std</th>\n",
              "      <td>0.390666</td>\n",
              "      <td>12 days 17:30:54.172637534</td>\n",
              "    </tr>\n",
              "    <tr>\n",
              "      <th>min</th>\n",
              "      <td>2.010000</td>\n",
              "      <td>0 days 00:00:00.170000</td>\n",
              "    </tr>\n",
              "    <tr>\n",
              "      <th>25%</th>\n",
              "      <td>2.130000</td>\n",
              "      <td>0 days 00:45:00.125000</td>\n",
              "    </tr>\n",
              "    <tr>\n",
              "      <th>50%</th>\n",
              "      <td>2.300000</td>\n",
              "      <td>0 days 02:26:47.850000</td>\n",
              "    </tr>\n",
              "    <tr>\n",
              "      <th>75%</th>\n",
              "      <td>2.580000</td>\n",
              "      <td>0 days 05:53:45.880000</td>\n",
              "    </tr>\n",
              "    <tr>\n",
              "      <th>max</th>\n",
              "      <td>5.800000</td>\n",
              "      <td>1388 days 11:06:10.750000</td>\n",
              "    </tr>\n",
              "  </tbody>\n",
              "</table>\n",
              "</div>"
            ],
            "text/plain": [
              "                mag                         dts\n",
              "count  18993.000000                       18992\n",
              "mean       2.417212   0 days 08:46:07.126804443\n",
              "std        0.390666  12 days 17:30:54.172637534\n",
              "min        2.010000      0 days 00:00:00.170000\n",
              "25%        2.130000      0 days 00:45:00.125000\n",
              "50%        2.300000      0 days 02:26:47.850000\n",
              "75%        2.580000      0 days 05:53:45.880000\n",
              "max        5.800000   1388 days 11:06:10.750000"
            ]
          },
          "metadata": {},
          "execution_count": 28
        }
      ]
    },
    {
      "cell_type": "markdown",
      "metadata": {
        "id": "wWmOXVyKhO9W"
      },
      "source": [
        "Note that the first entry will be NaT which is Not a Time (corresponding to nan for numerical variables) or maybe a negative number (depends on your exact operations above). You should remove it"
      ]
    },
    {
      "cell_type": "code",
      "metadata": {
        "id": "zqOLrvyc0_dL",
        "colab": {
          "base_uri": "https://localhost:8080/",
          "height": 424
        },
        "outputId": "df2f27dd-ae7e-41d8-ecc4-15b1c3a22b04"
      },
      "source": [
        "# -- keep from index 1 and above\n",
        "eqGoodData = eqGoodData.iloc[1:]\n",
        "eqGoodData"
      ],
      "execution_count": 29,
      "outputs": [
        {
          "output_type": "execute_result",
          "data": {
            "text/html": [
              "<div>\n",
              "<style scoped>\n",
              "    .dataframe tbody tr th:only-of-type {\n",
              "        vertical-align: middle;\n",
              "    }\n",
              "\n",
              "    .dataframe tbody tr th {\n",
              "        vertical-align: top;\n",
              "    }\n",
              "\n",
              "    .dataframe thead th {\n",
              "        text-align: right;\n",
              "    }\n",
              "</style>\n",
              "<table border=\"1\" class=\"dataframe\">\n",
              "  <thead>\n",
              "    <tr style=\"text-align: right;\">\n",
              "      <th></th>\n",
              "      <th>date</th>\n",
              "      <th>time</th>\n",
              "      <th>mag</th>\n",
              "      <th>datetime</th>\n",
              "      <th>dts</th>\n",
              "    </tr>\n",
              "  </thead>\n",
              "  <tbody>\n",
              "    <tr>\n",
              "      <th>1</th>\n",
              "      <td>1984/01/01</td>\n",
              "      <td>05:31:34.16</td>\n",
              "      <td>2.12</td>\n",
              "      <td>1984-01-01 05:31:34.160</td>\n",
              "      <td>0 days 04:00:36.640000</td>\n",
              "    </tr>\n",
              "    <tr>\n",
              "      <th>2</th>\n",
              "      <td>1984/01/01</td>\n",
              "      <td>06:59:05.14</td>\n",
              "      <td>2.43</td>\n",
              "      <td>1984-01-01 06:59:05.140</td>\n",
              "      <td>0 days 01:27:30.980000</td>\n",
              "    </tr>\n",
              "    <tr>\n",
              "      <th>3</th>\n",
              "      <td>1984/01/01</td>\n",
              "      <td>11:10:25.29</td>\n",
              "      <td>2.07</td>\n",
              "      <td>1984-01-01 11:10:25.290</td>\n",
              "      <td>0 days 04:11:20.150000</td>\n",
              "    </tr>\n",
              "    <tr>\n",
              "      <th>4</th>\n",
              "      <td>1984/01/01</td>\n",
              "      <td>13:50:47.62</td>\n",
              "      <td>2.25</td>\n",
              "      <td>1984-01-01 13:50:47.620</td>\n",
              "      <td>0 days 02:40:22.330000</td>\n",
              "    </tr>\n",
              "    <tr>\n",
              "      <th>5</th>\n",
              "      <td>1984/01/01</td>\n",
              "      <td>19:38:19.79</td>\n",
              "      <td>2.13</td>\n",
              "      <td>1984-01-01 19:38:19.790</td>\n",
              "      <td>0 days 05:47:32.170000</td>\n",
              "    </tr>\n",
              "    <tr>\n",
              "      <th>...</th>\n",
              "      <td>...</td>\n",
              "      <td>...</td>\n",
              "      <td>...</td>\n",
              "      <td>...</td>\n",
              "      <td>...</td>\n",
              "    </tr>\n",
              "    <tr>\n",
              "      <th>77944</th>\n",
              "      <td>2002/12/29</td>\n",
              "      <td>19:37:24.56</td>\n",
              "      <td>2.21</td>\n",
              "      <td>2002-12-29 19:37:24.560</td>\n",
              "      <td>0 days 00:00:30.140000</td>\n",
              "    </tr>\n",
              "    <tr>\n",
              "      <th>77945</th>\n",
              "      <td>2002/12/29</td>\n",
              "      <td>20:17:33.40</td>\n",
              "      <td>2.02</td>\n",
              "      <td>2002-12-29 20:17:33.400</td>\n",
              "      <td>0 days 00:40:08.840000</td>\n",
              "    </tr>\n",
              "    <tr>\n",
              "      <th>77946</th>\n",
              "      <td>2002/12/29</td>\n",
              "      <td>20:21:28.73</td>\n",
              "      <td>2.07</td>\n",
              "      <td>2002-12-29 20:21:28.730</td>\n",
              "      <td>0 days 00:03:55.330000</td>\n",
              "    </tr>\n",
              "    <tr>\n",
              "      <th>77947</th>\n",
              "      <td>2002/12/30</td>\n",
              "      <td>21:51:52.55</td>\n",
              "      <td>2.31</td>\n",
              "      <td>2002-12-30 21:51:52.550</td>\n",
              "      <td>1 days 01:30:23.820000</td>\n",
              "    </tr>\n",
              "    <tr>\n",
              "      <th>77948</th>\n",
              "      <td>2002/12/30</td>\n",
              "      <td>23:38:49.79</td>\n",
              "      <td>2.05</td>\n",
              "      <td>2002-12-30 23:38:49.790</td>\n",
              "      <td>0 days 01:46:57.240000</td>\n",
              "    </tr>\n",
              "  </tbody>\n",
              "</table>\n",
              "<p>18992 rows × 5 columns</p>\n",
              "</div>"
            ],
            "text/plain": [
              "             date         time  ...                datetime                    dts\n",
              "1      1984/01/01  05:31:34.16  ... 1984-01-01 05:31:34.160 0 days 04:00:36.640000\n",
              "2      1984/01/01  06:59:05.14  ... 1984-01-01 06:59:05.140 0 days 01:27:30.980000\n",
              "3      1984/01/01  11:10:25.29  ... 1984-01-01 11:10:25.290 0 days 04:11:20.150000\n",
              "4      1984/01/01  13:50:47.62  ... 1984-01-01 13:50:47.620 0 days 02:40:22.330000\n",
              "5      1984/01/01  19:38:19.79  ... 1984-01-01 19:38:19.790 0 days 05:47:32.170000\n",
              "...           ...          ...  ...                     ...                    ...\n",
              "77944  2002/12/29  19:37:24.56  ... 2002-12-29 19:37:24.560 0 days 00:00:30.140000\n",
              "77945  2002/12/29  20:17:33.40  ... 2002-12-29 20:17:33.400 0 days 00:40:08.840000\n",
              "77946  2002/12/29  20:21:28.73  ... 2002-12-29 20:21:28.730 0 days 00:03:55.330000\n",
              "77947  2002/12/30  21:51:52.55  ... 2002-12-30 21:51:52.550 1 days 01:30:23.820000\n",
              "77948  2002/12/30  23:38:49.79  ... 2002-12-30 23:38:49.790 0 days 01:46:57.240000\n",
              "\n",
              "[18992 rows x 5 columns]"
            ]
          },
          "metadata": {},
          "execution_count": 29
        }
      ]
    },
    {
      "cell_type": "code",
      "metadata": {
        "id": "kDvKNHD7X1M8",
        "colab": {
          "base_uri": "https://localhost:8080/",
          "height": 206
        },
        "outputId": "34d3a956-cda4-4779-efeb-923eaf85922f"
      },
      "source": [
        "eqGoodData.head()"
      ],
      "execution_count": 30,
      "outputs": [
        {
          "output_type": "execute_result",
          "data": {
            "text/html": [
              "<div>\n",
              "<style scoped>\n",
              "    .dataframe tbody tr th:only-of-type {\n",
              "        vertical-align: middle;\n",
              "    }\n",
              "\n",
              "    .dataframe tbody tr th {\n",
              "        vertical-align: top;\n",
              "    }\n",
              "\n",
              "    .dataframe thead th {\n",
              "        text-align: right;\n",
              "    }\n",
              "</style>\n",
              "<table border=\"1\" class=\"dataframe\">\n",
              "  <thead>\n",
              "    <tr style=\"text-align: right;\">\n",
              "      <th></th>\n",
              "      <th>date</th>\n",
              "      <th>time</th>\n",
              "      <th>mag</th>\n",
              "      <th>datetime</th>\n",
              "      <th>dts</th>\n",
              "    </tr>\n",
              "  </thead>\n",
              "  <tbody>\n",
              "    <tr>\n",
              "      <th>1</th>\n",
              "      <td>1984/01/01</td>\n",
              "      <td>05:31:34.16</td>\n",
              "      <td>2.12</td>\n",
              "      <td>1984-01-01 05:31:34.160</td>\n",
              "      <td>0 days 04:00:36.640000</td>\n",
              "    </tr>\n",
              "    <tr>\n",
              "      <th>2</th>\n",
              "      <td>1984/01/01</td>\n",
              "      <td>06:59:05.14</td>\n",
              "      <td>2.43</td>\n",
              "      <td>1984-01-01 06:59:05.140</td>\n",
              "      <td>0 days 01:27:30.980000</td>\n",
              "    </tr>\n",
              "    <tr>\n",
              "      <th>3</th>\n",
              "      <td>1984/01/01</td>\n",
              "      <td>11:10:25.29</td>\n",
              "      <td>2.07</td>\n",
              "      <td>1984-01-01 11:10:25.290</td>\n",
              "      <td>0 days 04:11:20.150000</td>\n",
              "    </tr>\n",
              "    <tr>\n",
              "      <th>4</th>\n",
              "      <td>1984/01/01</td>\n",
              "      <td>13:50:47.62</td>\n",
              "      <td>2.25</td>\n",
              "      <td>1984-01-01 13:50:47.620</td>\n",
              "      <td>0 days 02:40:22.330000</td>\n",
              "    </tr>\n",
              "    <tr>\n",
              "      <th>5</th>\n",
              "      <td>1984/01/01</td>\n",
              "      <td>19:38:19.79</td>\n",
              "      <td>2.13</td>\n",
              "      <td>1984-01-01 19:38:19.790</td>\n",
              "      <td>0 days 05:47:32.170000</td>\n",
              "    </tr>\n",
              "  </tbody>\n",
              "</table>\n",
              "</div>"
            ],
            "text/plain": [
              "         date         time   mag                datetime                    dts\n",
              "1  1984/01/01  05:31:34.16  2.12 1984-01-01 05:31:34.160 0 days 04:00:36.640000\n",
              "2  1984/01/01  06:59:05.14  2.43 1984-01-01 06:59:05.140 0 days 01:27:30.980000\n",
              "3  1984/01/01  11:10:25.29  2.07 1984-01-01 11:10:25.290 0 days 04:11:20.150000\n",
              "4  1984/01/01  13:50:47.62  2.25 1984-01-01 13:50:47.620 0 days 02:40:22.330000\n",
              "5  1984/01/01  19:38:19.79  2.13 1984-01-01 19:38:19.790 0 days 05:47:32.170000"
            ]
          },
          "metadata": {},
          "execution_count": 30
        }
      ]
    },
    {
      "cell_type": "markdown",
      "metadata": {
        "id": "M2VH6Q4xhXsw"
      },
      "source": [
        "# data exploration\n",
        "At this point you should wonder if this is the final dataset that you want to use and if anything is weird or suspicious about it. Visualize the distribution. A good way to visualize distributions is a histogram which you can prodice with pl.hist() or as a method of your dataframe series as ```df[SeriesName].plot(kind=\"hist\")```. Produce a plot like the one below (label the axis! and describe it with a caption!). To get the logarithmic y axis you can se ```logy=True```, for example. in your ```df[SeriesName].plot``` call."
      ]
    },
    {
      "cell_type": "code",
      "metadata": {
        "colab": {
          "base_uri": "https://localhost:8080/",
          "height": 424
        },
        "id": "fhx_KOtgS7GA",
        "outputId": "78ed1a98-47c5-4d6d-9b7d-9e1938b69834"
      },
      "source": [
        "# -- extract the values to get the time in nanoseconds\n",
        "arrr = eqGoodData[\"dts\"].values.astype(float)\n",
        "eqGoodData[\"dts1\"] = arrr\n",
        "eqGoodData"
      ],
      "execution_count": 31,
      "outputs": [
        {
          "output_type": "execute_result",
          "data": {
            "text/html": [
              "<div>\n",
              "<style scoped>\n",
              "    .dataframe tbody tr th:only-of-type {\n",
              "        vertical-align: middle;\n",
              "    }\n",
              "\n",
              "    .dataframe tbody tr th {\n",
              "        vertical-align: top;\n",
              "    }\n",
              "\n",
              "    .dataframe thead th {\n",
              "        text-align: right;\n",
              "    }\n",
              "</style>\n",
              "<table border=\"1\" class=\"dataframe\">\n",
              "  <thead>\n",
              "    <tr style=\"text-align: right;\">\n",
              "      <th></th>\n",
              "      <th>date</th>\n",
              "      <th>time</th>\n",
              "      <th>mag</th>\n",
              "      <th>datetime</th>\n",
              "      <th>dts</th>\n",
              "      <th>dts1</th>\n",
              "    </tr>\n",
              "  </thead>\n",
              "  <tbody>\n",
              "    <tr>\n",
              "      <th>1</th>\n",
              "      <td>1984/01/01</td>\n",
              "      <td>05:31:34.16</td>\n",
              "      <td>2.12</td>\n",
              "      <td>1984-01-01 05:31:34.160</td>\n",
              "      <td>0 days 04:00:36.640000</td>\n",
              "      <td>1.443664e+13</td>\n",
              "    </tr>\n",
              "    <tr>\n",
              "      <th>2</th>\n",
              "      <td>1984/01/01</td>\n",
              "      <td>06:59:05.14</td>\n",
              "      <td>2.43</td>\n",
              "      <td>1984-01-01 06:59:05.140</td>\n",
              "      <td>0 days 01:27:30.980000</td>\n",
              "      <td>5.250980e+12</td>\n",
              "    </tr>\n",
              "    <tr>\n",
              "      <th>3</th>\n",
              "      <td>1984/01/01</td>\n",
              "      <td>11:10:25.29</td>\n",
              "      <td>2.07</td>\n",
              "      <td>1984-01-01 11:10:25.290</td>\n",
              "      <td>0 days 04:11:20.150000</td>\n",
              "      <td>1.508015e+13</td>\n",
              "    </tr>\n",
              "    <tr>\n",
              "      <th>4</th>\n",
              "      <td>1984/01/01</td>\n",
              "      <td>13:50:47.62</td>\n",
              "      <td>2.25</td>\n",
              "      <td>1984-01-01 13:50:47.620</td>\n",
              "      <td>0 days 02:40:22.330000</td>\n",
              "      <td>9.622330e+12</td>\n",
              "    </tr>\n",
              "    <tr>\n",
              "      <th>5</th>\n",
              "      <td>1984/01/01</td>\n",
              "      <td>19:38:19.79</td>\n",
              "      <td>2.13</td>\n",
              "      <td>1984-01-01 19:38:19.790</td>\n",
              "      <td>0 days 05:47:32.170000</td>\n",
              "      <td>2.085217e+13</td>\n",
              "    </tr>\n",
              "    <tr>\n",
              "      <th>...</th>\n",
              "      <td>...</td>\n",
              "      <td>...</td>\n",
              "      <td>...</td>\n",
              "      <td>...</td>\n",
              "      <td>...</td>\n",
              "      <td>...</td>\n",
              "    </tr>\n",
              "    <tr>\n",
              "      <th>77944</th>\n",
              "      <td>2002/12/29</td>\n",
              "      <td>19:37:24.56</td>\n",
              "      <td>2.21</td>\n",
              "      <td>2002-12-29 19:37:24.560</td>\n",
              "      <td>0 days 00:00:30.140000</td>\n",
              "      <td>3.014000e+10</td>\n",
              "    </tr>\n",
              "    <tr>\n",
              "      <th>77945</th>\n",
              "      <td>2002/12/29</td>\n",
              "      <td>20:17:33.40</td>\n",
              "      <td>2.02</td>\n",
              "      <td>2002-12-29 20:17:33.400</td>\n",
              "      <td>0 days 00:40:08.840000</td>\n",
              "      <td>2.408840e+12</td>\n",
              "    </tr>\n",
              "    <tr>\n",
              "      <th>77946</th>\n",
              "      <td>2002/12/29</td>\n",
              "      <td>20:21:28.73</td>\n",
              "      <td>2.07</td>\n",
              "      <td>2002-12-29 20:21:28.730</td>\n",
              "      <td>0 days 00:03:55.330000</td>\n",
              "      <td>2.353300e+11</td>\n",
              "    </tr>\n",
              "    <tr>\n",
              "      <th>77947</th>\n",
              "      <td>2002/12/30</td>\n",
              "      <td>21:51:52.55</td>\n",
              "      <td>2.31</td>\n",
              "      <td>2002-12-30 21:51:52.550</td>\n",
              "      <td>1 days 01:30:23.820000</td>\n",
              "      <td>9.182382e+13</td>\n",
              "    </tr>\n",
              "    <tr>\n",
              "      <th>77948</th>\n",
              "      <td>2002/12/30</td>\n",
              "      <td>23:38:49.79</td>\n",
              "      <td>2.05</td>\n",
              "      <td>2002-12-30 23:38:49.790</td>\n",
              "      <td>0 days 01:46:57.240000</td>\n",
              "      <td>6.417240e+12</td>\n",
              "    </tr>\n",
              "  </tbody>\n",
              "</table>\n",
              "<p>18992 rows × 6 columns</p>\n",
              "</div>"
            ],
            "text/plain": [
              "             date         time  ...                    dts          dts1\n",
              "1      1984/01/01  05:31:34.16  ... 0 days 04:00:36.640000  1.443664e+13\n",
              "2      1984/01/01  06:59:05.14  ... 0 days 01:27:30.980000  5.250980e+12\n",
              "3      1984/01/01  11:10:25.29  ... 0 days 04:11:20.150000  1.508015e+13\n",
              "4      1984/01/01  13:50:47.62  ... 0 days 02:40:22.330000  9.622330e+12\n",
              "5      1984/01/01  19:38:19.79  ... 0 days 05:47:32.170000  2.085217e+13\n",
              "...           ...          ...  ...                    ...           ...\n",
              "77944  2002/12/29  19:37:24.56  ... 0 days 00:00:30.140000  3.014000e+10\n",
              "77945  2002/12/29  20:17:33.40  ... 0 days 00:40:08.840000  2.408840e+12\n",
              "77946  2002/12/29  20:21:28.73  ... 0 days 00:03:55.330000  2.353300e+11\n",
              "77947  2002/12/30  21:51:52.55  ... 1 days 01:30:23.820000  9.182382e+13\n",
              "77948  2002/12/30  23:38:49.79  ... 0 days 01:46:57.240000  6.417240e+12\n",
              "\n",
              "[18992 rows x 6 columns]"
            ]
          },
          "metadata": {},
          "execution_count": 31
        }
      ]
    },
    {
      "cell_type": "code",
      "metadata": {
        "colab": {
          "base_uri": "https://localhost:8080/",
          "height": 300
        },
        "id": "U60q2m0mSxnE",
        "outputId": "e2de8902-a369-4a37-eb3d-59ec0c8a891c"
      },
      "source": [
        "# -- histogram of the difference in nanoseconds\n",
        "# plt.hist(arrr, log=True)\n",
        "eqGoodData[\"dts1\"].plot(kind=\"hist\", logy=True)\n",
        "pl.xlabel(\"log diff time [ns]\", fontsize = 12)\n",
        "pl.ylabel(\"log Frequency\", fontsize = 12)\n",
        "pl.plot()"
      ],
      "execution_count": 32,
      "outputs": [
        {
          "output_type": "execute_result",
          "data": {
            "text/plain": [
              "[]"
            ]
          },
          "metadata": {},
          "execution_count": 32
        },
        {
          "output_type": "display_data",
          "data": {
            "image/png": "[encoded data removed]",
            "text/plain": [
              "<Figure size 432x288 with 1 Axes>"
            ]
          },
          "metadata": {
            "needs_background": "light"
          }
        }
      ]
    },
    {
      "cell_type": "markdown",
      "metadata": {
        "id": "nuPhJkrozh91"
      },
      "source": [
        "The thing that worries me is that by removing some sections of the data to use only stationary periods we created some artificially large gaps: gaps of order ~month. How many nanoseconds in a month? remove all gaps that are larger than about a month and see how the distribution looks (make another histogram)."
      ]
    },
    {
      "cell_type": "code",
      "metadata": {
        "id": "0zuGOkWhzhDu",
        "colab": {
          "base_uri": "https://localhost:8080/"
        },
        "outputId": "54216eb9-0c83-4850-9d40-5bae2bd1696c"
      },
      "source": [
        "# -- convert one month in nanoseconds\n",
        "min_nanosecond = 1*30*24*60*60*1e9\n",
        "# -- keep the data who's gap is smaller than nanosecond\n",
        "eqGoodData = eqGoodData[(eqGoodData[\"dts1\"] < min_nanosecond)]\n",
        "# eqGoodData[\"dts\"].dt.components\n",
        "len(eqGoodData)"
      ],
      "execution_count": 33,
      "outputs": [
        {
          "output_type": "execute_result",
          "data": {
            "text/plain": [
              "18982"
            ]
          },
          "metadata": {},
          "execution_count": 33
        }
      ]
    },
    {
      "cell_type": "code",
      "metadata": {
        "colab": {
          "base_uri": "https://localhost:8080/",
          "height": 300
        },
        "id": "lPAzN81banyo",
        "outputId": "d39086de-04c0-4406-e47e-2e0e3ba84c8a"
      },
      "source": [
        "# -- histogram of the difference in nanoseconds\n",
        "eqGoodData[\"dts1\"].plot(kind=\"hist\", logy=True)\n",
        "pl.xlabel(\"log diff time [ns]\", fontsize = 12)\n",
        "pl.ylabel(\"log Frequency\", fontsize = 12)\n",
        "pl.plot()"
      ],
      "execution_count": 34,
      "outputs": [
        {
          "output_type": "execute_result",
          "data": {
            "text/plain": [
              "[]"
            ]
          },
          "metadata": {},
          "execution_count": 34
        },
        {
          "output_type": "display_data",
          "data": {
            "image/png": "[encoded data removed]",
            "text/plain": [
              "<Figure size 432x288 with 1 Axes>"
            ]
          },
          "metadata": {
            "needs_background": "light"
          }
        }
      ]
    },
    {
      "cell_type": "markdown",
      "metadata": {
        "id": "gn-HuVevYOo7"
      },
      "source": [
        "# data analysis"
      ]
    },
    {
      "cell_type": "markdown",
      "metadata": {
        "id": "Q2xYwKRB2sx9"
      },
      "source": [
        "### important: the paper does not do it but I want you to formally choose a threshold before you do this test. Choose a p-value (=$\\alpha$ thresold: call your variable ```alpha```) of 3-$\\sigma$."
      ]
    },
    {
      "cell_type": "markdown",
      "metadata": {
        "id": "pt5MAQEZhXsz"
      },
      "source": [
        "Follow the instructions (algorithm) in **Section 3 paragraph 3** and compare your results with the results in table 1 with a threshold  of = 0.01 and 0.001\n",
        "\n",
        "Do it for all 5 magnitude thresholds as indicated in the paper (and in Table 1).\n",
        "\n",
        "Note that the x axis in plot Fig 1 is in _log space_. Use ```np.log10()``` to take the logarithm of the time gaps.\n",
        "\n",
        "The pseudocode for the algorithm is [here](https://github.com/fedhere/DSPS/blob/master/HW3/Corral2018_pseudocode.md).\n"
      ]
    },
    {
      "cell_type": "markdown",
      "metadata": {
        "id": "gXWK4x4FhXs1"
      },
      "source": [
        "Reproduce the paper Fig 1 and Table 1. In the Table report the size of each dataset after cleaning the value of the statistic and the p-value, as done in Corral 2018. Use the scipy function for the 2 sample KS test. (resources [here](https://colab.research.google.com/notebooks/markdown_guide.ipynb#scrollTo=70pYkR9LiOV0) to learn about the table syntax in markdown)"
      ]
    },
    {
      "cell_type": "code",
      "metadata": {
        "id": "V5Hb-Gde5qAv"
      },
      "source": [
        "mags = [2, 2.5, 3, 3.5, 4]\n",
        "mm = [0.01, 0.03, 0.001, 0.003]"
      ],
      "execution_count": 35,
      "outputs": []
    },
    {
      "cell_type": "code",
      "metadata": {
        "colab": {
          "base_uri": "https://localhost:8080/",
          "height": 573
        },
        "id": "pO8GXZe6_nnW",
        "outputId": "9a8794fb-c218-4886-b704-4c9b4801f41a"
      },
      "source": [
        "N = []\n",
        "results = []\n",
        "\n",
        "# eqGoodData_mag = pd.DataFrame()\n",
        "for ii in [0.01, 0.001]:\n",
        "  fig, ax = plt.subplots(figsize=(8, 4))\n",
        "  for m in mags:\n",
        "    eqGoodData_copy = eqGoodData.copy()\n",
        "    # print(len(eqGoodData_copy))\n",
        "    # N.append((eqGoodData_copy.mag >= m).sum())\n",
        "    eqGoodData_mag = pd.DataFrame()\n",
        "    eqGoodData_mag = eqGoodData_copy[(eqGoodData_copy.mag >= m)]\n",
        "    # -- first\n",
        "    # -- calculate the mean of the time gap\n",
        "    R = 1 / eqGoodData_mag[\"dts1\"].mean()\n",
        "    # -- rescale the original gap\n",
        "    eqGoodData_mag[\"rescale\"] = eqGoodData_mag[\"dts1\"] * R\n",
        "    # -- keep time gaps greater than m = 0.01\n",
        "    eqGoodData_mag = eqGoodData_mag[eqGoodData_mag[\"rescale\"] >= ii]\n",
        "    # print(\"first loop m = {}: {}\".format(m, len(eqGoodData_mag)))\n",
        "    N.append(len(eqGoodData_mag))\n",
        "\n",
        "    # -- second\n",
        "    R = 1 / eqGoodData_mag[\"rescale\"].mean()\n",
        "    eqGoodData_mag[\"rescale1\"] = eqGoodData_mag[\"rescale\"] * R\n",
        "    eqGoodData_mag = eqGoodData_mag[eqGoodData_mag[\"rescale1\"] >= ii]\n",
        "\n",
        "    # print(\"second loop m = {}: {}\".format(m, len(eqGoodData_mag)))\n",
        "    N.append(len(eqGoodData_mag))\n",
        "    results.append(eqGoodData_mag[\"rescale1\"].to_numpy())\n",
        "    # N.append((eqGoodData_mag.mag >= m).sum())\n",
        "    # plot the cumulative histogram\n",
        "    \n",
        "    n, bins, patches = ax.hist(np.log10(eqGoodData_mag[\"rescale1\"]), 50, density=True, histtype='step',\n",
        "                              cumulative=True, label = 'M $\\geq$ {}, $\\mu$ = {:.5f}'.format(m, eqGoodData_mag[\"rescale1\"].mean()))\n",
        "    pl.legend(loc = \"upper left\")\n",
        "    pl.title(\"m = {}\".format(ii))\n",
        "    pl.xlabel(\"log rescale gap\")\n",
        "    pl.ylabel(\"Cumulative distribution\")\n",
        "    eqGoodData_mag = pd.DataFrame()"
      ],
      "execution_count": 36,
      "outputs": [
        {
          "output_type": "display_data",
          "data": {
            "image/png": "[encoded data removed]",
            "text/plain": [
              "<Figure size 576x288 with 1 Axes>"
            ]
          },
          "metadata": {
            "needs_background": "light"
          }
        },
        {
          "output_type": "display_data",
          "data": {
            "image/png": "[encoded data removed]",
            "text/plain": [
              "<Figure size 576x288 with 1 Axes>"
            ]
          },
          "metadata": {
            "needs_background": "light"
          }
        }
      ]
    },
    {
      "cell_type": "code",
      "metadata": {
        "id": "aEypOZiR_cR3"
      },
      "source": [
        "# N"
      ],
      "execution_count": 37,
      "outputs": []
    },
    {
      "cell_type": "code",
      "metadata": {
        "id": "DoF0M6gzpU4I"
      },
      "source": [
        "p01 = np.zeros((5,5))\n",
        "ks01 = np.zeros((5,5))\n",
        "for i in range(5):\n",
        "  for j in range(5):\n",
        "    ks01[i][j] = stats.ks_2samp(results[i], results[j])[0]\n",
        "    p01[i][j] = stats.ks_2samp(results[i], results[j])[1]\n",
        "\n",
        "p001 = np.zeros((5,5))\n",
        "ks001 = np.zeros((5,5))\n",
        "for ii in [5,6,7,8,9]:\n",
        "  for jj in [5,6,7,8,9]:\n",
        "    p001[ii-5][jj-5] = stats.ks_2samp(results[ii], results[jj])[1]\n",
        "    ks001[ii-5][jj-5] = stats.ks_2samp(results[ii], results[jj])[0]"
      ],
      "execution_count": 38,
      "outputs": []
    },
    {
      "cell_type": "code",
      "metadata": {
        "colab": {
          "base_uri": "https://localhost:8080/"
        },
        "id": "cMZWzlgDpoUt",
        "outputId": "7135b65d-f56a-421f-af23-6203d135a61c"
      },
      "source": [
        "ks001"
      ],
      "execution_count": 39,
      "outputs": [
        {
          "output_type": "execute_result",
          "data": {
            "text/plain": [
              "array([[-0.        ,  0.01877892,  0.02939364,  0.06813397,  0.1000576 ],\n",
              "       [ 0.01877892,  0.        ,  0.01763802,  0.05491589,  0.09344766],\n",
              "       [ 0.02939364,  0.01763802,  0.        ,  0.05542058,  0.09825179],\n",
              "       [ 0.06813397,  0.05491589,  0.05542058,  0.        ,  0.08077647],\n",
              "       [ 0.1000576 ,  0.09344766,  0.09825179,  0.08077647,  0.        ]])"
            ]
          },
          "metadata": {},
          "execution_count": 39
        }
      ]
    },
    {
      "cell_type": "markdown",
      "metadata": {
        "id": "x0pYVR2UY1YD"
      },
      "source": [
        "m = 0.01     | N    |M $\\geq$ 2.0|M $\\geq$ 2.5|M $\\geq$ 3.0|M $\\geq$ 3.5|M $\\geq$ 4.0|  \n",
        "-------------|------|------------|------------|------------|------------|------------|\n",
        "M $\\geq$ 2.0 | 18122|   -        | 46.2%      | 69.6%      | 8.3%       |22.5%       |\n",
        "M $\\geq$ 2.5 | 5670 | 0.013      |   -        | 100%       | 17.9%      |26.1%       |\n",
        "M $\\geq$ 3.0 | 1439 | 0.019      | 0.014      |   -        | 19.6%      |21.8%       |\n",
        "M $\\geq$ 3.5 | 405  | 0.063      | 0.056      | 0.060      |   -        |85.8%       |\n",
        "M $\\geq$ 4.0 | 109  | 0.100      | 0.096      | 0.103      | 0.063      |    -       |\n",
        "\n",
        "m = 0.001     | N    |M $\\geq$ 2.0|M $\\geq$ 2.5|M $\\geq$ 3.0|M $\\geq$ 3.5|M $\\geq$ 4.0|  \n",
        "-------------|------|------------|------------|------------|------------|------------|\n",
        "M $\\geq$ 2.0 | 18870|   -        | 8.2%       | 17.3%      | 3.7%       |20.3%       |\n",
        "M $\\geq$ 2.5 | 5968 | 0.019      |   -        | 100%       | 16.3%      |26.1%       |\n",
        "M $\\geq$ 3.0 | 1532 | 0.029      | 0.018      |   -        | 23.5%      |23.6%       |\n",
        "M $\\geq$ 3.5 | 439  | 0.068      | 0.055      | 0.055      |   -        |55.9%       |\n",
        "M $\\geq$ 4.0 | 115  | 0.100      | 0.093      | 0.098      | 0.081      |    -       |\n"
      ]
    },
    {
      "cell_type": "markdown",
      "metadata": {
        "id": "6y4wb6lEZsGV"
      },
      "source": [
        "Did you find any statistical significant differences between the distributions? What does it mean? Is your result identical to Correll's 2018? Why or why not? **Discuss!**"
      ]
    },
    {
      "cell_type": "markdown",
      "metadata": {
        "id": "sp6Mm6nck2X-"
      },
      "source": [
        "For a threshold of 3$\\sigma$ $\\rightarrow$ p-value $\\alpha$ = 0.003, none of the p-values is less than $\\alpha$ then is NOT possible to reject the null hypothesis, that both samples came from the same distribution. The values of the KS statistic show that all values are inside the 3$\\sigma$ standard deviations. This conclusion applies for both m = 0.01 and m = 0.001"
      ]
    },
    {
      "cell_type": "markdown",
      "metadata": {
        "id": "8bQwtZi4Z0pi"
      },
      "source": [
        "### \"extra credits\"\n",
        "\n",
        "**How could you _force_ a significant result?**\n",
        "Organize your result for different magnitude threshold in a numpy array (it should be a 5x5 array) for both cutoffs (0.01 and 0.001). Each of these arrays should contain the p-value for the pair of distributions i,j in cell \\[i\\]\\[j\\] and \\[j\\]\\[i\\]. Use ```imshow``` to visualize this 2D data. FIrst visualize the matrix itself as done below."
      ]
    },
    {
      "cell_type": "code",
      "metadata": {
        "id": "jQcejA1CtiJD",
        "colab": {
          "base_uri": "https://localhost:8080/"
        },
        "outputId": "8caa8593-acb3-4675-d2e3-4dd7d78493e9"
      },
      "source": [
        "p01"
      ],
      "execution_count": 40,
      "outputs": [
        {
          "output_type": "execute_result",
          "data": {
            "text/plain": [
              "array([[1.        , 0.46209743, 0.696401  , 0.08259518, 0.22478834],\n",
              "       [0.46209743, 1.        , 1.        , 0.17940786, 0.26075184],\n",
              "       [0.696401  , 1.        , 1.        , 0.1958448 , 0.21816436],\n",
              "       [0.08259518, 0.17940786, 0.1958448 , 1.        , 0.85808845],\n",
              "       [0.22478834, 0.26075184, 0.21816436, 0.85808845, 1.        ]])"
            ]
          },
          "metadata": {},
          "execution_count": 40
        }
      ]
    },
    {
      "cell_type": "code",
      "metadata": {
        "ExecuteTime": {
          "end_time": "2019-09-09T02:02:18.672458Z",
          "start_time": "2019-09-09T02:02:18.553137Z"
        },
        "id": "mqQSdpVEhXs5",
        "colab": {
          "base_uri": "https://localhost:8080/",
          "height": 264
        },
        "outputId": "a161271c-6110-4ef2-a2e6-e7da142b82c3"
      },
      "source": [
        "# your code here\n",
        "        \n",
        "pl.imshow((p01));\n",
        "pl.axis('off')\n",
        "cb = pl.colorbar()\n",
        "cb.ax.set_ylabel(r'$p$-value')\n",
        "pl.title(\"KS test results for m = 0.01\");\n",
        "#add a caption"
      ],
      "execution_count": 41,
      "outputs": [
        {
          "output_type": "display_data",
          "data": {
            "image/png": "[encoded data removed]",
            "text/plain": [
              "<Figure size 432x288 with 2 Axes>"
            ]
          },
          "metadata": {
            "needs_background": "light"
          }
        }
      ]
    },
    {
      "cell_type": "code",
      "metadata": {
        "colab": {
          "base_uri": "https://localhost:8080/",
          "height": 282
        },
        "id": "6Z8gVAAzroal",
        "outputId": "0da40d20-a85a-48a6-93b7-a0a9217d7158"
      },
      "source": [
        "# from matplotlib import colors\n",
        "# cooll = ['red','white']\n",
        "# cmap = colors.ListedColormap(cooll)\n",
        "# bounds=[1,2,3,4]#0493b1#f66ca5\n",
        "# norm = colors.BoundaryNorm(bounds, cmap.N)\n",
        "\n",
        "pl.imshow((p01 < 0.003), cmap= \"Reds\", vmin = 0, vmax = 1)\n",
        "pl.colorbar()\n",
        "pl.title(r\"KS test for m = 0.01 and $\\alpha$ = 0.003\")\n",
        "pl.show()"
      ],
      "execution_count": 42,
      "outputs": [
        {
          "output_type": "display_data",
          "data": {
            "image/png": "[encoded data removed]",
            "text/plain": [
              "<Figure size 432x288 with 2 Axes>"
            ]
          },
          "metadata": {
            "needs_background": "light"
          }
        }
      ]
    },
    {
      "cell_type": "code",
      "metadata": {
        "colab": {
          "base_uri": "https://localhost:8080/",
          "height": 282
        },
        "id": "nPWjmq5ztVBY",
        "outputId": "c6987782-3d6d-42f4-8bcc-e060817739b6"
      },
      "source": [
        "pl.imshow((p01 < 0.0826), cmap= \"Reds\", vmin = 0, vmax = 1)\n",
        "pl.colorbar()\n",
        "pl.title(r\"KS test for m = 0.01 and $\\alpha$ = 0.0826\")\n",
        "pl.show()"
      ],
      "execution_count": 43,
      "outputs": [
        {
          "output_type": "display_data",
          "data": {
            "image/png": "[encoded data removed]",
            "text/plain": [
              "<Figure size 432x288 with 2 Axes>"
            ]
          },
          "metadata": {
            "needs_background": "light"
          }
        }
      ]
    },
    {
      "cell_type": "markdown",
      "metadata": {
        "id": "tSJmSMCmmA3w"
      },
      "source": [
        "\n",
        "Now visualize the result as a matrix where the cells are white if the results is not statistically significant and red otherwise. \n",
        "After doing it fot the set alpha threshold, lower your alpha threshold so that at least one pair of distribution has a statistically significant difference. **Warning!! this is an _unethical and horrifying practice_! Once you chose your significance threshold you are never allowed to change it! Why? Discuss**"
      ]
    },
    {
      "cell_type": "markdown",
      "metadata": {
        "id": "txEYubwCcIXP"
      },
      "source": [
        "Redoing it for threshold 0001"
      ]
    },
    {
      "cell_type": "code",
      "metadata": {
        "colab": {
          "base_uri": "https://localhost:8080/",
          "height": 264
        },
        "id": "bLre-D6apP0Z",
        "outputId": "ab0d3355-ece1-4804-a018-d3a780c5baa5"
      },
      "source": [
        "pl.imshow((p001));\n",
        "pl.axis('off')\n",
        "cb = pl.colorbar()\n",
        "cb.ax.set_ylabel(r'$p$-value')\n",
        "pl.title(\"KS test results for m = 0.001\");\n",
        "#add a caption"
      ],
      "execution_count": 44,
      "outputs": [
        {
          "output_type": "display_data",
          "data": {
            "image/png": "[encoded data removed]",
            "text/plain": [
              "<Figure size 432x288 with 2 Axes>"
            ]
          },
          "metadata": {
            "needs_background": "light"
          }
        }
      ]
    },
    {
      "cell_type": "code",
      "metadata": {
        "id": "iMgyVPqOuEoT",
        "colab": {
          "base_uri": "https://localhost:8080/",
          "height": 282
        },
        "outputId": "066d266b-448f-4fa4-b40f-0f85b0ac85d4"
      },
      "source": [
        "pl.imshow((p001 < 0.038), cmap= \"Reds\", vmin = 0, vmax = 1)\n",
        "pl.colorbar()\n",
        "pl.title(r\"KS test for m = 0.001 and $\\alpha$ = 0.038\")\n",
        "pl.show()"
      ],
      "execution_count": 45,
      "outputs": [
        {
          "output_type": "display_data",
          "data": {
            "image/png": "[encoded data removed]",
            "text/plain": [
              "<Figure size 432x288 with 2 Axes>"
            ]
          },
          "metadata": {
            "needs_background": "light"
          }
        }
      ]
    },
    {
      "cell_type": "code",
      "metadata": {
        "id": "Ys_1DPBIuGYz"
      },
      "source": [
        ""
      ],
      "execution_count": 45,
      "outputs": []
    }
  ]
}